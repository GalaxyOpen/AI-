{
 "cells": [
  {
   "cell_type": "markdown",
   "metadata": {},
   "source": [
    "ReLU 함수 : 입력값이 0보다 클 때는 해당 입력값을 그대로 출력, 0 이하일 때는 0을 출력\n",
    "이러한 특성으로 간단하면서도 효율적으로 신경망에서 비선형성을 도입"
   ]
  },
  {
   "cell_type": "code",
   "execution_count": null,
   "metadata": {},
   "outputs": [],
   "source": [
    "# ReLU \n",
    "\n",
    "import numpy as np\n",
    "import matplotlib.pyplot as plt\n",
    "\n",
    "# 함수 정의\n",
    "def relu(x):\n",
    "    return np.maximum(0, x)\n",
    "\n",
    "# 예시 데이터 생성\n",
    "x = np.linspace(-10, 10, 100)\n",
    "y = relu(x)\n",
    "\n",
    "# 활성화 함수의 결과를 시각화\n",
    "plt.plot(x, y)\n",
    "plt.title(\"ReLU Activation Function\")\n",
    "plt.xlabel(\"Input\")\n",
    "plt.ylabel(\"Output\")\n",
    "plt.grid(True)\n",
    "plt.show()\n"
   ]
  },
  {
   "cell_type": "markdown",
   "metadata": {},
   "source": [
    "시그모이드 함수 : 입력값을 0과 1 사이의 값으로 압축합\n",
    "주로 이진 분류 문제에서 출력층의 활성화 함수로 사용\n",
    "but 입력값의 절대값이 클 때 기울기가 매우 작아져서 그라디언트 소실 문제 발생 문제 있음"
   ]
  },
  {
   "cell_type": "code",
   "execution_count": null,
   "metadata": {},
   "outputs": [],
   "source": [
    "# 시그모이드 \n",
    "\n",
    "import numpy as np\n",
    "import matplotlib.pyplot as plt\n",
    "\n",
    "# 함수 정의\n",
    "def sigmoid(x):\n",
    "    return 1 / (1 + np.exp(-x))\n",
    "\n",
    "# 예시 데이터 생성\n",
    "x = np.linspace(-10, 10, 100)\n",
    "\n",
    "# 예시 데이터에 대해 시그모이드와 탄젠트 함수 적용\n",
    "y_sigmoid = sigmoid(x)\n",
    "\n",
    "\n",
    "# 활성화 함수의 결과 시각화\n",
    "plt.figure(figsize=(14, 6))\n",
    "\n",
    "# 시그모이드 함수 그래프\n",
    "plt.subplot(1, 2, 1)\n",
    "plt.plot(x, y_sigmoid, label='Sigmoid')\n",
    "plt.title(\"Sigmoid Activation Function\")\n",
    "plt.xlabel(\"Input\")\n",
    "plt.ylabel(\"Output\")\n",
    "plt.grid(True)\n",
    "plt.legend()\n",
    "\n",
    "\n",
    "plt.tight_layout()\n",
    "plt.show()"
   ]
  },
  {
   "cell_type": "markdown",
   "metadata": {},
   "source": [
    "탄젠트 함수 : 출력 범위 -1에서 1 사이, 시그모이드 함수보다 출력 범위가 넓음. \n",
    "이 때문에 평균이 0에 가까워지는 효과가 있어 학습 초기 단계에서 더 빠른 수렴 가능"
   ]
  },
  {
   "cell_type": "code",
   "execution_count": null,
   "metadata": {},
   "outputs": [],
   "source": [
    "# 탄젠트\n",
    "\n",
    "import numpy as np\n",
    "import matplotlib.pyplot as plt\n",
    "\n",
    "# 함수 정의\n",
    "def tanh(x):\n",
    "    return np.tanh(x)\n",
    "\n",
    "# 예시 데이터 생성\n",
    "x = np.linspace(-10, 10, 100)\n",
    "\n",
    "y_tanh = tanh(x)\n",
    "\n",
    "# 활성화 함수의 결과 시각화\n",
    "plt.figure(figsize=(14, 6))\n",
    "\n",
    "# 탄젠트 함수 그래프\n",
    "plt.subplot(1, 2, 2)\n",
    "plt.plot(x, y_tanh, label='Tanh')\n",
    "plt.title(\"Tanh Activation Function\")\n",
    "plt.xlabel(\"Input\")\n",
    "plt.ylabel(\"Output\")\n",
    "plt.grid(True)\n",
    "plt.legend()\n",
    "\n",
    "plt.tight_layout()\n",
    "plt.show()\n"
   ]
  }
 ],
 "metadata": {
  "kernelspec": {
   "display_name": "base",
   "language": "python",
   "name": "python3"
  },
  "language_info": {
   "codemirror_mode": {
    "name": "ipython",
    "version": 3
   },
   "file_extension": ".py",
   "mimetype": "text/x-python",
   "name": "python",
   "nbconvert_exporter": "python",
   "pygments_lexer": "ipython3",
   "version": "3.11.5"
  }
 },
 "nbformat": 4,
 "nbformat_minor": 2
}
