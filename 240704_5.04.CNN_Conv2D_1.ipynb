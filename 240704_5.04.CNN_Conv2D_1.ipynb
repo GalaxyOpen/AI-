{
  "cells": [
    {
      "cell_type": "code",
      "execution_count": 1,
      "metadata": {
        "id": "uwV4-j49xDts"
      },
      "outputs": [],
      "source": [
        "num_classes = 10\n",
        "# input image dimensions\n",
        "img_rows, img_cols = 28, 28"
      ]
    },
    {
      "cell_type": "code",
      "execution_count": null,
      "metadata": {
        "id": "nENTnQwMxDtu"
      },
      "outputs": [],
      "source": [
        "from tensorflow import keras\n",
        "from tensorflow.keras.datasets import mnist"
      ]
    },
    {
      "cell_type": "code",
      "execution_count": null,
      "metadata": {
        "id": "Q0ysuKnyxDtu"
      },
      "outputs": [],
      "source": [
        "(x_train, y_train), (x_test, y_test) = mnist.load_data()"
      ]
    },
    {
      "cell_type": "code",
      "execution_count": null,
      "metadata": {
        "colab": {
          "base_uri": "https://localhost:8080/"
        },
        "id": "BsKzo09wxDtv",
        "outputId": "be404b1a-7046-48ba-b7f3-822a7d444f6b"
      },
      "outputs": [
        {
          "output_type": "execute_result",
          "data": {
            "text/plain": [
              "(60000, 28, 28)"
            ]
          },
          "metadata": {},
          "execution_count": 5
        }
      ],
      "source": [
        "x_train.shape"
      ]
    },
    {
      "cell_type": "code",
      "execution_count": null,
      "metadata": {
        "colab": {
          "base_uri": "https://localhost:8080/"
        },
        "id": "jLpTr58ExDtw",
        "outputId": "581f6945-1675-419a-da69-dc89356d4618"
      },
      "outputs": [
        {
          "output_type": "execute_result",
          "data": {
            "text/plain": [
              "60000"
            ]
          },
          "metadata": {},
          "execution_count": 6
        }
      ],
      "source": [
        "x_train.shape[0]"
      ]
    },
    {
      "cell_type": "markdown",
      "metadata": {
        "id": "7h495AP7xDtw"
      },
      "source": [
        "input data에 존재하는 이미지의 shape 변경 <br> (28x28) => (28x28x1)<br>"
      ]
    },
    {
      "cell_type": "code",
      "execution_count": null,
      "metadata": {
        "id": "7yiVs5U3xDtw"
      },
      "outputs": [],
      "source": [
        "x_train = x_train.reshape(x_train.shape[0], img_rows, img_cols, 1)\n",
        "x_test = x_test.reshape(x_test.shape[0], img_rows, img_cols, 1)\n",
        "input_shape = (img_rows, img_cols, 1)"
      ]
    },
    {
      "cell_type": "code",
      "execution_count": null,
      "metadata": {
        "id": "ZaxgBIiXxDtx",
        "outputId": "40a8bdc8-40e0-49dc-866a-91f88f2c373c"
      },
      "outputs": [
        {
          "name": "stdout",
          "output_type": "stream",
          "text": [
            "x_train shape: (60000, 28, 28, 1)\n",
            "60000 train samples\n",
            "10000 test samples\n"
          ]
        }
      ],
      "source": [
        "print('x_train shape:', x_train.shape)\n",
        "print(x_train.shape[0], 'train samples')\n",
        "print(x_test.shape[0], 'test samples')"
      ]
    },
    {
      "cell_type": "code",
      "execution_count": null,
      "metadata": {
        "id": "GXih70ZfxDtx",
        "outputId": "beb64bf1-4040-4596-cee7-8bbfbcaa09c8"
      },
      "outputs": [
        {
          "data": {
            "text/plain": [
              "(28, 28, 1)"
            ]
          },
          "execution_count": 8,
          "metadata": {},
          "output_type": "execute_result"
        }
      ],
      "source": [
        "x_train[0].shape"
      ]
    },
    {
      "cell_type": "code",
      "execution_count": null,
      "metadata": {
        "id": "OVqhKG-DxDty"
      },
      "outputs": [],
      "source": [
        "x_train = x_train.astype('float32')/255 # 0 ~ 1 사이의 값으로 normalization\n",
        "x_test = x_test.astype('float32')/255"
      ]
    },
    {
      "cell_type": "code",
      "execution_count": null,
      "metadata": {
        "colab": {
          "base_uri": "https://localhost:8080/"
        },
        "id": "HQphf6EWxDty",
        "outputId": "574b8fe0-7c81-4ea0-84ac-b4083e12f12c"
      },
      "outputs": [
        {
          "output_type": "execute_result",
          "data": {
            "text/plain": [
              "5"
            ]
          },
          "metadata": {},
          "execution_count": 10
        }
      ],
      "source": [
        "y_train[0]"
      ]
    },
    {
      "cell_type": "code",
      "source": [
        "from tensorflow.keras.utils import to_categorical\n",
        "y_train_one_hot = to_categorical(y_train)\n",
        "y_test_one_hot = to_categorical(y_test)\n"
      ],
      "metadata": {
        "id": "a4xfLDhK1sAt"
      },
      "execution_count": null,
      "outputs": []
    },
    {
      "cell_type": "code",
      "execution_count": null,
      "metadata": {
        "colab": {
          "base_uri": "https://localhost:8080/"
        },
        "id": "zEZKajQUxDtz",
        "outputId": "91570dc9-1d79-4e6c-83fb-5092eef97b5e"
      },
      "outputs": [
        {
          "output_type": "stream",
          "name": "stdout",
          "text": [
            "5\n"
          ]
        },
        {
          "output_type": "execute_result",
          "data": {
            "text/plain": [
              "array([0., 0., 0., 0., 0., 1., 0., 0., 0., 0.], dtype=float32)"
            ]
          },
          "metadata": {},
          "execution_count": 35
        }
      ],
      "source": [
        "print(y_train[0])\n",
        "y_train_one_hot[0]"
      ]
    },
    {
      "cell_type": "code",
      "execution_count": null,
      "metadata": {
        "id": "vg76yhbuxDty"
      },
      "outputs": [],
      "source": [
        "from tensorflow.keras.utils import to_categorical\n",
        "y_train_one_hot = to_categorical(y_train)\n",
        "y_test_one_hot = to_categorical(y_test)"
      ]
    },
    {
      "cell_type": "code",
      "execution_count": null,
      "metadata": {
        "id": "CVtnS6FtxDtz"
      },
      "outputs": [],
      "source": [
        "from tensorflow.keras.models import Sequential\n",
        "from tensorflow.keras.layers import Conv2D, MaxPooling2D, Dense, Flatten\n",
        "# 2D 필터의 움직임이 2D(가로 세로)"
      ]
    },
    {
      "cell_type": "code",
      "execution_count": null,
      "metadata": {
        "id": "b-OmoCwUxDtz"
      },
      "outputs": [],
      "source": [
        "model = Sequential()"
      ]
    },
    {
      "cell_type": "code",
      "execution_count": null,
      "metadata": {
        "id": "WFrc4RjRxDtz"
      },
      "outputs": [],
      "source": [
        "model.add(Conv2D(32, kernel_size=(3, 3),\n",
        "                 activation='relu',\n",
        "                 input_shape=input_shape))\n",
        "# strides=(1, 1)"
      ]
    },
    {
      "cell_type": "markdown",
      "metadata": {
        "id": "5p4a2XwTxDt0"
      },
      "source": [
        "Conv2D :  https://keras.io/layers/convolutional/  \n",
        "          https://www.tensorflow.org/api_docs/python/tf/keras/layers/Conv2D\n",
        "<br> 참고"
      ]
    },
    {
      "cell_type": "code",
      "execution_count": null,
      "metadata": {
        "id": "LgHpwD1yxDt0"
      },
      "outputs": [],
      "source": [
        "model.add(MaxPooling2D(pool_size=(2, 2)))\n",
        "# strides의 기본값 => pool_size"
      ]
    },
    {
      "cell_type": "markdown",
      "metadata": {
        "id": "8uL0cJMmxDt0"
      },
      "source": [
        "2x2 크기의 filter를 사용해서 Max pooling 수행"
      ]
    },
    {
      "cell_type": "code",
      "execution_count": null,
      "metadata": {
        "id": "M3EGmgQfxDt0"
      },
      "outputs": [],
      "source": [
        "model.add(Flatten())"
      ]
    },
    {
      "cell_type": "markdown",
      "metadata": {
        "id": "dSq-ztzrxDt1"
      },
      "source": [
        "Flatten(): 3차원 형태의 데이터를 1차원 형태로 변경"
      ]
    },
    {
      "cell_type": "code",
      "execution_count": null,
      "metadata": {
        "id": "7airhByZxDt1"
      },
      "outputs": [],
      "source": [
        "model.add(Dense(128, activation='relu'))"
      ]
    },
    {
      "cell_type": "code",
      "execution_count": null,
      "metadata": {
        "id": "TWU-SAZcxDt1"
      },
      "outputs": [],
      "source": [
        "model.add(Dense(num_classes, activation = 'softmax'))"
      ]
    },
    {
      "cell_type": "code",
      "execution_count": null,
      "metadata": {
        "colab": {
          "base_uri": "https://localhost:8080/"
        },
        "id": "jgU1G4CFxDt1",
        "outputId": "68f19235-0ecd-4f9b-933b-fa1ed6c4989a"
      },
      "outputs": [
        {
          "output_type": "stream",
          "name": "stdout",
          "text": [
            "Model: \"sequential\"\n",
            "_________________________________________________________________\n",
            " Layer (type)                Output Shape              Param #   \n",
            "=================================================================\n",
            " conv2d (Conv2D)             (None, 26, 26, 32)        320       \n",
            "                                                                 \n",
            " max_pooling2d (MaxPooling2  (None, 13, 13, 32)        0         \n",
            " D)                                                              \n",
            "                                                                 \n",
            " flatten (Flatten)           (None, 5408)              0         \n",
            "                                                                 \n",
            " dense (Dense)               (None, 128)               692352    \n",
            "                                                                 \n",
            " dense_1 (Dense)             (None, 10)                1290      \n",
            "                                                                 \n",
            "=================================================================\n",
            "Total params: 693962 (2.65 MB)\n",
            "Trainable params: 693962 (2.65 MB)\n",
            "Non-trainable params: 0 (0.00 Byte)\n",
            "_________________________________________________________________\n"
          ]
        }
      ],
      "source": [
        "model.summary()"
      ]
    },
    {
      "cell_type": "code",
      "execution_count": null,
      "metadata": {
        "id": "oUwjiwuGxDt1"
      },
      "outputs": [],
      "source": [
        "from tensorflow.keras import optimizers\n",
        "model.compile(optimizer=optimizers.RMSprop(learning_rate=0.001),\n",
        "               loss='categorical_crossentropy',\n",
        "               metrics=['accuracy'])"
      ]
    },
    {
      "cell_type": "code",
      "execution_count": null,
      "metadata": {
        "colab": {
          "base_uri": "https://localhost:8080/"
        },
        "id": "9uwIQ3IbxDt1",
        "outputId": "5f92be0a-9227-49fc-85db-597c3a90fb21"
      },
      "outputs": [
        {
          "output_type": "stream",
          "name": "stdout",
          "text": [
            "Epoch 1/10\n",
            "375/375 [==============================] - 22s 58ms/step - loss: 2.8711 - accuracy: 0.9087 - val_loss: 0.0959 - val_accuracy: 0.9732\n",
            "Epoch 2/10\n",
            "375/375 [==============================] - 20s 52ms/step - loss: 0.0710 - accuracy: 0.9800 - val_loss: 0.0881 - val_accuracy: 0.9760\n",
            "Epoch 3/10\n",
            "375/375 [==============================] - 22s 58ms/step - loss: 0.0357 - accuracy: 0.9896 - val_loss: 0.1016 - val_accuracy: 0.9784\n",
            "Epoch 4/10\n",
            "375/375 [==============================] - 22s 58ms/step - loss: 0.0197 - accuracy: 0.9939 - val_loss: 0.1239 - val_accuracy: 0.9728\n",
            "Epoch 5/10\n",
            "375/375 [==============================] - 21s 56ms/step - loss: 0.0131 - accuracy: 0.9959 - val_loss: 0.1049 - val_accuracy: 0.9816\n",
            "Epoch 6/10\n",
            "375/375 [==============================] - 20s 54ms/step - loss: 0.0077 - accuracy: 0.9973 - val_loss: 0.1153 - val_accuracy: 0.9824\n",
            "Epoch 7/10\n",
            "375/375 [==============================] - 21s 55ms/step - loss: 0.0067 - accuracy: 0.9980 - val_loss: 0.1154 - val_accuracy: 0.9807\n",
            "Epoch 8/10\n",
            "375/375 [==============================] - 20s 52ms/step - loss: 0.0055 - accuracy: 0.9984 - val_loss: 0.1167 - val_accuracy: 0.9829\n",
            "Epoch 9/10\n",
            "375/375 [==============================] - 21s 55ms/step - loss: 0.0040 - accuracy: 0.9989 - val_loss: 0.1229 - val_accuracy: 0.9828\n",
            "Epoch 10/10\n",
            "375/375 [==============================] - 23s 60ms/step - loss: 0.0032 - accuracy: 0.9989 - val_loss: 0.1356 - val_accuracy: 0.9814\n"
          ]
        }
      ],
      "source": [
        "history = model.fit(x_train, y_train_one_hot, epochs=10, batch_size=128, validation_split=0.2)"
      ]
    },
    {
      "cell_type": "code",
      "execution_count": null,
      "metadata": {
        "colab": {
          "base_uri": "https://localhost:8080/",
          "height": 453
        },
        "id": "2q2nfB0GxDt2",
        "outputId": "31a0b466-b2b0-4417-b96f-110ca78cfd82"
      },
      "outputs": [
        {
          "output_type": "display_data",
          "data": {
            "text/plain": [
              "<Figure size 640x480 with 1 Axes>"
            ],
            "image/png": "[encoded data removed]"
          },
          "metadata": {}
        }
      ],
      "source": [
        "import matplotlib.pyplot as plt\n",
        "plt.plot(history.history['loss'])\n",
        "plt.plot(history.history['val_loss'])\n",
        "plt.xlabel('epoch')\n",
        "plt.ylabel('loss')\n",
        "plt.legend(['train','val'])\n",
        "plt.show()"
      ]
    },
    {
      "cell_type": "code",
      "execution_count": null,
      "metadata": {
        "colab": {
          "base_uri": "https://localhost:8080/",
          "height": 449
        },
        "id": "_4u3b75AxDt2",
        "outputId": "5ae42ab2-6a48-43cb-eec0-796c268f5dfe"
      },
      "outputs": [
        {
          "output_type": "display_data",
          "data": {
            "text/plain": [
              "<Figure size 640x480 with 1 Axes>"
            ],
            "image/png": "[encoded data removed]"
          },
          "metadata": {}
        }
      ],
      "source": [
        "plt.plot(history.history['accuracy'])\n",
        "plt.plot(history.history['val_accuracy'])\n",
        "plt.xlabel('epoch')\n",
        "plt.ylabel('accuracy')\n",
        "plt.legend(['train','val'])\n",
        "plt.show()"
      ]
    },
    {
      "cell_type": "code",
      "execution_count": null,
      "metadata": {
        "colab": {
          "base_uri": "https://localhost:8080/"
        },
        "id": "ksDdhh6CxDt2",
        "outputId": "ba19ed07-d547-4885-a2be-a40bd1a29ae9"
      },
      "outputs": [
        {
          "output_type": "stream",
          "name": "stdout",
          "text": [
            "313/313 [==============================] - 4s 11ms/step - loss: 0.1287 - accuracy: 0.9815\n",
            "test_acc: 0.9815000295639038\n"
          ]
        }
      ],
      "source": [
        "test_loss, test_acc = model.evaluate(x_test, y_test_one_hot)\n",
        "print('test_acc:', test_acc)"
      ]
    },
    {
      "cell_type": "code",
      "execution_count": null,
      "metadata": {
        "colab": {
          "base_uri": "https://localhost:8080/",
          "height": 430
        },
        "id": "XSillhBrxDt3",
        "outputId": "1b3d2084-81af-40ac-c7c5-32bf86fe21f5"
      },
      "outputs": [
        {
          "output_type": "display_data",
          "data": {
            "text/plain": [
              "<Figure size 640x480 with 1 Axes>"
            ],
            "image/png": "[encoded data removed]"
          },
          "metadata": {}
        }
      ],
      "source": [
        "plt.imshow(x_test[0], cmap='gray')\n",
        "plt.show()"
      ]
    },
    {
      "cell_type": "code",
      "execution_count": null,
      "metadata": {
        "colab": {
          "base_uri": "https://localhost:8080/"
        },
        "id": "XflZEpeGxDt3",
        "outputId": "bb9bcd97-f41a-45c5-ecac-f8cedd45c28a"
      },
      "outputs": [
        {
          "output_type": "stream",
          "name": "stdout",
          "text": [
            "1/1 [==============================] - 0s 93ms/step\n"
          ]
        }
      ],
      "source": [
        "import numpy as np\n",
        "np.set_printoptions(suppress=True, precision=10)\n",
        "prediction = model.predict(x_test[0:1]) # 첫번째 이미지 in the test dataset"
      ]
    },
    {
      "cell_type": "code",
      "execution_count": null,
      "metadata": {
        "colab": {
          "base_uri": "https://localhost:8080/"
        },
        "id": "e4R9SDn3xDt3",
        "outputId": "228e7906-0b11-4bea-ee4f-bc2146b683fe"
      },
      "outputs": [
        {
          "output_type": "execute_result",
          "data": {
            "text/plain": [
              "array([[0., 0., 0., 0., 0., 0., 0., 1., 0., 0.]], dtype=float32)"
            ]
          },
          "metadata": {},
          "execution_count": 28
        }
      ],
      "source": [
        "prediction"
      ]
    },
    {
      "cell_type": "code",
      "execution_count": null,
      "metadata": {
        "colab": {
          "base_uri": "https://localhost:8080/"
        },
        "id": "RN58XUwdxDt4",
        "outputId": "f5764eed-802d-4f35-8d0f-65a969eebae9"
      },
      "outputs": [
        {
          "output_type": "execute_result",
          "data": {
            "text/plain": [
              "7"
            ]
          },
          "metadata": {},
          "execution_count": 29
        }
      ],
      "source": [
        "y_test[0]"
      ]
    },
    {
      "cell_type": "code",
      "execution_count": null,
      "metadata": {
        "id": "ml-oMZpZxDt4"
      },
      "outputs": [],
      "source": [
        "labels = [0, 1, 2, 3, 4, 5, 6, 7, 8, 9]"
      ]
    },
    {
      "cell_type": "code",
      "execution_count": null,
      "metadata": {
        "colab": {
          "base_uri": "https://localhost:8080/"
        },
        "id": "RpKuY3O9xDt4",
        "outputId": "3b2335cf-1231-4302-d997-c38779a5d188"
      },
      "outputs": [
        {
          "output_type": "stream",
          "name": "stdout",
          "text": [
            "7\n"
          ]
        }
      ],
      "source": [
        "print(labels[np.argmax(prediction)])"
      ]
    },
    {
      "cell_type": "code",
      "execution_count": null,
      "metadata": {
        "id": "Uc3Rgdp6xDt5"
      },
      "outputs": [],
      "source": []
    }
  ],
  "metadata": {
    "kernelspec": {
      "display_name": "Python 3 (ipykernel)",
      "language": "python",
      "name": "python3"
    },
    "language_info": {
      "codemirror_mode": {
        "name": "ipython",
        "version": 3
      },
      "file_extension": ".py",
      "mimetype": "text/x-python",
      "name": "python",
      "nbconvert_exporter": "python",
      "pygments_lexer": "ipython3",
      "version": "3.8.5"
    },
    "colab": {
      "provenance": []
    }
  },
  "nbformat": 4,
  "nbformat_minor": 0
}