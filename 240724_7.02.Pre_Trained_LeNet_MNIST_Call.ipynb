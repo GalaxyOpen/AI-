{
  "nbformat": 4,
  "nbformat_minor": 0,
  "metadata": {
    "colab": {
      "provenance": []
    },
    "kernelspec": {
      "name": "python3",
      "display_name": "Python 3"
    },
    "language_info": {
      "name": "python"
    }
  },
  "cells": [
    {
      "cell_type": "code",
      "source": [
        "from tensorflow.keras.applications import ResNet50\n",
        "from tensorflow.keras.layers import Dense, Flatten\n",
        "from tensorflow.keras.models import Model\n",
        "from tensorflow.keras.datasets import mnist\n",
        "from tensorflow.keras.utils import to_categorical\n",
        "import numpy as np"
      ],
      "metadata": {
        "id": "kuifpisQi3HT"
      },
      "execution_count": null,
      "outputs": []
    },
    {
      "cell_type": "code",
      "source": [
        "# MNIST 데이터 로드 및 전처리\n",
        "(x_train, y_train), (x_test, y_test) = mnist.load_data()\n",
        "x_train = np.stack([x_train]*3, axis=-1)\n",
        "x_test = np.stack([x_test]*3, axis=-1)\n",
        "x_train = x_train.astype('float32') / 255.0\n",
        "x_test = x_test.astype('float32') / 255.0\n",
        "y_train = to_categorical(y_train, 10)\n",
        "y_test = to_categorical(y_test, 10)\n"
      ],
      "metadata": {
        "id": "cXRP7cB2i4p1"
      },
      "execution_count": null,
      "outputs": []
    },
    {
      "cell_type": "code",
      "source": [
        "# 이미지 크기 조정\n",
        "x_train = np.array([np.resize(img, (32, 32, 3)) for img in x_train])\n",
        "x_test = np.array([np.resize(img, (32, 32, 3)) for img in x_test])\n"
      ],
      "metadata": {
        "id": "FrvaILyOjP-0"
      },
      "execution_count": null,
      "outputs": []
    },
    {
      "cell_type": "code",
      "source": [
        "# 사전 학습된 모델 로드\n",
        "base_model = ResNet50(weights='imagenet', include_top=False, input_shape=(32, 32, 3))"
      ],
      "metadata": {
        "id": "b-ZYymXCi6fJ"
      },
      "execution_count": null,
      "outputs": []
    },
    {
      "cell_type": "code",
      "source": [
        "# 모델 커스터마이징\n",
        "x = Flatten()(base_model.output)\n",
        "x = Dense(10, activation='softmax')(x)\n",
        "model = Model(inputs=base_model.input, outputs=x)\n"
      ],
      "metadata": {
        "id": "hqW0ln9ri_pf"
      },
      "execution_count": null,
      "outputs": []
    },
    {
      "cell_type": "code",
      "execution_count": null,
      "metadata": {
        "colab": {
          "base_uri": "https://localhost:8080/"
        },
        "id": "RYSywMYhizuH",
        "outputId": "989fc7bd-d559-4e29-b255-3508b1f1d343"
      },
      "outputs": [
        {
          "output_type": "stream",
          "name": "stdout",
          "text": [
            "1875/1875 [==============================] - 4588s 2s/step - loss: 0.6245 - accuracy: 0.8679 - val_loss: 0.3409 - val_accuracy: 0.9264\n"
          ]
        },
        {
          "output_type": "execute_result",
          "data": {
            "text/plain": [
              "<keras.src.callbacks.History at 0x7cf7920543a0>"
            ]
          },
          "metadata": {},
          "execution_count": 10
        }
      ],
      "source": [
        "# 모델 컴파일 및 훈련\n",
        "model.compile(optimizer='adam', loss='categorical_crossentropy', metrics=['accuracy'])\n",
        "model.fit(x_train, y_train, batch_size=32, epochs=1, validation_data=(x_test, y_test))\n"
      ]
    },
    {
      "cell_type": "code",
      "source": [
        "score = model.evaluate(x_test, y_test, verbose=1)\n",
        "print(\"\\nTest loss:\", score[0])\n",
        "print('Test accuracy:', score[1])\n",
        "\n",
        "# cf\n",
        "# 313/313 [==============================] - 1s 3ms/step - loss: 0.0627 - accuracy: 0.9804\n",
        "# [0.06266114115715027, 0.980400025844574]"
      ],
      "metadata": {
        "colab": {
          "base_uri": "https://localhost:8080/"
        },
        "id": "EZhgbPMI9Ktz",
        "outputId": "c2627d9d-798a-453b-e863-913eba9b0a70"
      },
      "execution_count": null,
      "outputs": [
        {
          "output_type": "stream",
          "name": "stdout",
          "text": [
            "313/313 [==============================] - 50s 159ms/step - loss: 0.3409 - accuracy: 0.9264\n",
            "\n",
            "Test loss: 0.3408912420272827\n",
            "Test accuracy: 0.9264000058174133\n"
          ]
        }
      ]
    },
    {
      "cell_type": "code",
      "source": [],
      "metadata": {
        "id": "o7myRq8x_Kx1"
      },
      "execution_count": null,
      "outputs": []
    },
    {
      "cell_type": "code",
      "source": [
        "# 새로운 입력데이터(다운로드 받은 이미지)를 통해 예측 수행"
      ],
      "metadata": {
        "id": "vkl2DfQH_Kr9"
      },
      "execution_count": null,
      "outputs": []
    },
    {
      "cell_type": "code",
      "source": [
        "from tensorflow.keras.preprocessing import image\n",
        "import numpy as np\n",
        "\n",
        "def predict_new_image(img_path):\n",
        "    # 사이즈 조정 (모델 훈련 인풋에 맞춤)\n",
        "    img = image.load_img(img_path, target_size=(32, 32))  # Color image, adjust target size\n",
        "    # numpy 배열로 변환.\n",
        "    img_tensor = image.img_to_array(img)\n",
        "    # 정규화(0-1)\n",
        "    img_tensor = img_tensor.astype('float32') / 255.0\n",
        "    # Add a batch dimension\n",
        "    img_tensor = np.expand_dims(img_tensor, axis=0)\n",
        "\n",
        "    # 모델을 이용, 입력이미지의 숫자 예측\n",
        "    prediction = model.predict(img_tensor)\n",
        "    # 예측된(가장 높은 확률을 가진 클래스) 숫자반환\n",
        "    # digit = np.argmax(prediction)\n",
        "    digit = prediction\n",
        "    formatted_prediction = np.round(prediction, decimals=3)\n",
        "\n",
        "    return formatted_prediction"
      ],
      "metadata": {
        "id": "cAsMbUNl9zJW"
      },
      "execution_count": null,
      "outputs": []
    },
    {
      "cell_type": "code",
      "source": [
        "#  이미지 파일 경로 ... 4\n",
        "img_path ='/content/4.PNG'\n",
        "predicted_digit = predict_new_image(img_path)\n",
        "print(f'Predicted digit: {predicted_digit}')"
      ],
      "metadata": {
        "colab": {
          "base_uri": "https://localhost:8080/"
        },
        "id": "bMXYuAlE90Dt",
        "outputId": "c97036f4-66a4-4cfa-f153-866e19e5d192"
      },
      "execution_count": null,
      "outputs": [
        {
          "output_type": "stream",
          "name": "stdout",
          "text": [
            "1/1 [==============================] - 0s 57ms/step\n",
            "Predicted digit: [[0.    0.002 0.996 0.    0.    0.    0.    0.001 0.    0.   ]]\n"
          ]
        }
      ]
    },
    {
      "cell_type": "code",
      "source": [
        "#  이미지 파일 경로 ... 5\n",
        "img_path ='/content/5.PNG'\n",
        "predicted_digit = predict_new_image(img_path)\n",
        "print(f'Predicted digit: {predicted_digit}')"
      ],
      "metadata": {
        "colab": {
          "base_uri": "https://localhost:8080/"
        },
        "id": "T7dqm5Og-oLK",
        "outputId": "0c3a2d5c-dd24-4c43-ca4e-01b6476ffc10"
      },
      "execution_count": null,
      "outputs": [
        {
          "output_type": "stream",
          "name": "stdout",
          "text": [
            "1/1 [==============================] - 0s 76ms/step\n",
            "Predicted digit: [[0.    0.002 0.995 0.001 0.    0.    0.001 0.    0.    0.   ]]\n"
          ]
        }
      ]
    },
    {
      "cell_type": "code",
      "source": [
        "#  이미지 파일 경로 ... 1\n",
        "img_path ='/content/1_1.JPG'\n",
        "predicted_digit = predict_new_image(img_path)\n",
        "print(f'Predicted digit: {predicted_digit}')"
      ],
      "metadata": {
        "colab": {
          "base_uri": "https://localhost:8080/"
        },
        "id": "OAMAUave-6pW",
        "outputId": "30a6881e-895e-4bc0-ebcd-5ad676230fa6"
      },
      "execution_count": null,
      "outputs": [
        {
          "output_type": "stream",
          "name": "stdout",
          "text": [
            "1/1 [==============================] - 0s 56ms/step\n",
            "Predicted digit: [[0.    0.003 0.994 0.001 0.    0.    0.001 0.    0.    0.   ]]\n"
          ]
        }
      ]
    }
  ]
}