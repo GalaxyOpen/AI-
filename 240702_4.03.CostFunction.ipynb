{
  "nbformat": 4,
  "nbformat_minor": 0,
  "metadata": {
    "colab": {
      "provenance": []
    },
    "kernelspec": {
      "name": "python3",
      "display_name": "Python 3"
    },
    "language_info": {
      "name": "python"
    }
  },
  "cells": [
    {
      "cell_type": "markdown",
      "source": [
        "비용함수 - 회귀"
      ],
      "metadata": {
        "id": "pW9ral0gifyL"
      }
    },
    {
      "cell_type": "code",
      "execution_count": null,
      "metadata": {
        "id": "TGRqdFpXfGvL"
      },
      "outputs": [],
      "source": [
        "# 손실 함수 테스트\n",
        "import numpy as np\n",
        "\n",
        "# 예측값과 실제값\n",
        "y_true = np.array([1.0, 2.0, 3.0])\n",
        "y_pred = np.array([1.1, 1.9, 3.1])\n",
        "\n"
      ]
    },
    {
      "cell_type": "code",
      "source": [
        "# 평균 제곱 오차 (Mean Squared Error)\n",
        "def mean_squared_error(y_true, y_pred):\n",
        "    return np.mean((y_true - y_pred) ** 2)\n",
        "\n",
        "mse = mean_squared_error(y_true, y_pred)\n",
        "mse"
      ],
      "metadata": {
        "colab": {
          "base_uri": "https://localhost:8080/"
        },
        "id": "CQ-UiHQrfRXF",
        "outputId": "191883f5-745f-49ef-e801-738df534e935"
      },
      "execution_count": null,
      "outputs": [
        {
          "output_type": "execute_result",
          "data": {
            "text/plain": [
              "0.010000000000000018"
            ]
          },
          "metadata": {},
          "execution_count": 3
        }
      ]
    },
    {
      "cell_type": "code",
      "source": [
        "# 평균 절대 오차 (Mean Absolute Error)\n",
        "def mean_absolute_error(y_true, y_pred):\n",
        "    return np.mean(np.abs(y_true - y_pred))\n",
        "\n",
        "mae = mean_absolute_error(y_true, y_pred)\n",
        "mae"
      ],
      "metadata": {
        "colab": {
          "base_uri": "https://localhost:8080/"
        },
        "id": "SDVGTrqQfV_Q",
        "outputId": "8fe1402b-e74c-4a8c-8ece-cd9c61371b30"
      },
      "execution_count": null,
      "outputs": [
        {
          "output_type": "execute_result",
          "data": {
            "text/plain": [
              "0.10000000000000009"
            ]
          },
          "metadata": {},
          "execution_count": 4
        }
      ]
    },
    {
      "cell_type": "code",
      "source": [
        "# 허브(Huber) 손실\n",
        "def huber_loss(y_true, y_pred, delta=1.0):\n",
        "    error = y_true - y_pred\n",
        "    is_small_error = np.abs(error) <= delta\n",
        "    squared_loss = 0.5 * error**2\n",
        "    linear_loss = delta * (np.abs(error) - 0.5 * delta)\n",
        "    return np.where(is_small_error, squared_loss, linear_loss)\n",
        "\n",
        "huber = huber_loss(y_true, y_pred, delta=1.0)\n",
        "huber"
      ],
      "metadata": {
        "colab": {
          "base_uri": "https://localhost:8080/"
        },
        "id": "bfd0dmzBfbGH",
        "outputId": "6f7c799f-bb29-48f0-d743-226d04706151"
      },
      "execution_count": null,
      "outputs": [
        {
          "output_type": "execute_result",
          "data": {
            "text/plain": [
              "array([0.005, 0.005, 0.005])"
            ]
          },
          "metadata": {},
          "execution_count": 5
        }
      ]
    },
    {
      "cell_type": "code",
      "source": [
        "# 로그 코사인 유사도 (Log-Cosh Loss)\n",
        "def log_cosh_loss(y_true, y_pred):\n",
        "    return np.mean(np.log(np.cosh(y_pred - y_true)))\n",
        "\n",
        "log_cosh = log_cosh_loss(y_true, y_pred)\n",
        "log_cosh\n"
      ],
      "metadata": {
        "colab": {
          "base_uri": "https://localhost:8080/"
        },
        "id": "oq23T0bKfiPH",
        "outputId": "50770f91-e792-489d-b0f6-aba698eef51f"
      },
      "execution_count": null,
      "outputs": [
        {
          "output_type": "execute_result",
          "data": {
            "text/plain": [
              "0.004991688821646436"
            ]
          },
          "metadata": {},
          "execution_count": 6
        }
      ]
    },
    {
      "cell_type": "code",
      "source": [
        "(mse, mae, huber, log_cosh)"
      ],
      "metadata": {
        "colab": {
          "base_uri": "https://localhost:8080/"
        },
        "id": "YR3SsD7OfoFC",
        "outputId": "128df27c-c7fe-40eb-a1a1-63c5ba024965"
      },
      "execution_count": null,
      "outputs": [
        {
          "output_type": "execute_result",
          "data": {
            "text/plain": [
              "(0.010000000000000018,\n",
              " 0.10000000000000009,\n",
              " array([0.005, 0.005, 0.005]),\n",
              " 0.004991688821646436)"
            ]
          },
          "metadata": {},
          "execution_count": 7
        }
      ]
    },
    {
      "cell_type": "markdown",
      "source": [
        "비용함수 - 분류"
      ],
      "metadata": {
        "id": "SnTWcjtnkjnp"
      }
    },
    {
      "cell_type": "code",
      "source": [
        "from sklearn.metrics import log_loss, hinge_loss\n",
        "import numpy as np\n",
        "\n",
        "# 예시 데이터: 실제 레이블과 예측 확률\n",
        "y_true = np.array([1, 0, 1, 1, 0])\n",
        "y_pred_probs = np.array([0.9, 0.1, 0.8, 0.65, 0.3]) # 이진 분류의 예측 확률\n",
        "y_pred = np.array([1, 0, 1, 1, 0]) # 정답\n"
      ],
      "metadata": {
        "id": "GcXi4goHkjvm"
      },
      "execution_count": null,
      "outputs": []
    },
    {
      "cell_type": "code",
      "source": [
        "# 교차 엔트로피 손실\n",
        "cross_entropy_loss = log_loss(y_true, y_pred_probs)\n",
        "cross_entropy_loss\n"
      ],
      "metadata": {
        "colab": {
          "base_uri": "https://localhost:8080/"
        },
        "id": "SUKtagQ5ktZR",
        "outputId": "fb0f7f1b-4843-4f0a-d1e5-12ee224b16e9"
      },
      "execution_count": null,
      "outputs": [
        {
          "output_type": "execute_result",
          "data": {
            "text/plain": [
              "0.24426448853220978"
            ]
          },
          "metadata": {},
          "execution_count": 10
        }
      ]
    },
    {
      "cell_type": "code",
      "source": [
        "# 힌지 손실\n",
        "hinge_loss_value = hinge_loss(y_true, 2*y_pred-1)  # hinge_loss는 -1과 1의 레이블을 기대합니다.\n",
        "hinge_loss_value\n"
      ],
      "metadata": {
        "colab": {
          "base_uri": "https://localhost:8080/"
        },
        "id": "vuUki1PRkynp",
        "outputId": "23fa390c-8a84-4796-bcfb-f807edc85c43"
      },
      "execution_count": null,
      "outputs": [
        {
          "output_type": "execute_result",
          "data": {
            "text/plain": [
              "0.0"
            ]
          },
          "metadata": {},
          "execution_count": 11
        }
      ]
    },
    {
      "cell_type": "code",
      "source": [
        "(cross_entropy_loss, hinge_loss_value)"
      ],
      "metadata": {
        "colab": {
          "base_uri": "https://localhost:8080/"
        },
        "id": "aZsKns3Zk1bw",
        "outputId": "21e2c656-f274-4780-b78a-cca71afe5c30"
      },
      "execution_count": null,
      "outputs": [
        {
          "output_type": "execute_result",
          "data": {
            "text/plain": [
              "(0.24426448853220978, 0.0)"
            ]
          },
          "metadata": {},
          "execution_count": 12
        }
      ]
    }
  ]
}