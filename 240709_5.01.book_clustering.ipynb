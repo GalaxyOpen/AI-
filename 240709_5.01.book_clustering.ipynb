{
  "nbformat": 4,
  "nbformat_minor": 0,
  "metadata": {
    "colab": {
      "provenance": []
    },
    "kernelspec": {
      "name": "python3",
      "display_name": "Python 3"
    },
    "language_info": {
      "name": "python"
    }
  },
  "cells": [
    {
      "cell_type": "code",
      "execution_count": null,
      "metadata": {
        "id": "5EJcLm3HZPUn"
      },
      "outputs": [],
      "source": [
        "# 필요한 패키지 불러오지\n",
        "import pandas as pd\n",
        "import numpy as np\n",
        "import matplotlib.pyplot as plt\n",
        "import seaborn as sns"
      ]
    },
    {
      "cell_type": "code",
      "source": [
        "df_1 = pd.read_csv('/content/book.csv', encoding='euc-kr')\n",
        "\n",
        "# df_1.head()"
      ],
      "metadata": {
        "id": "4vvaLUSXaQER"
      },
      "execution_count": null,
      "outputs": []
    },
    {
      "cell_type": "code",
      "source": [
        "df_1.tail()"
      ],
      "metadata": {
        "id": "gd3aV8noalpq"
      },
      "execution_count": null,
      "outputs": []
    },
    {
      "cell_type": "code",
      "source": [
        "df_1 = df_1.dropna(subset=['Title'])\n",
        "df_1 = df_1[df_1['Title'].str.strip() != '']\n",
        "\n",
        "df_2 = df_1.dropna(subset=['Publisher'])\n",
        "df_2 = df_2[df_2['Publisher'].str.strip() != '']\n"
      ],
      "metadata": {
        "id": "p1XIt2FAavk9"
      },
      "execution_count": null,
      "outputs": []
    },
    {
      "cell_type": "code",
      "source": [
        "print(df['Price'].dtypes)"
      ],
      "metadata": {
        "colab": {
          "base_uri": "https://localhost:8080/"
        },
        "id": "pGvyUjY_iOMz",
        "outputId": "f98b10a2-12eb-4b93-8390-44e8a461d7f4"
      },
      "execution_count": null,
      "outputs": [
        {
          "output_type": "stream",
          "name": "stdout",
          "text": [
            "float64\n"
          ]
        }
      ]
    },
    {
      "cell_type": "code",
      "source": [
        "# 한국어 타이틀 레코드만 가져옴\n",
        "df = df_2[df_1['Title'].str.contains('[가-힣]', regex=True)]\n",
        "# 한국어 [가-힣]\n",
        "# 영어[A-Za-z]\n",
        "# 일본어 [ぁ-んァ-ン]\n"
      ],
      "metadata": {
        "colab": {
          "base_uri": "https://localhost:8080/"
        },
        "id": "sCu5psNtbeQz",
        "outputId": "430f78e3-3ed7-4c85-e22f-13fb06dae30a"
      },
      "execution_count": null,
      "outputs": [
        {
          "output_type": "stream",
          "name": "stderr",
          "text": [
            "<ipython-input-5-2359c6cfc5ca>:2: UserWarning: Boolean Series key will be reindexed to match DataFrame index.\n",
            "  df = df_2[df_1['Title'].str.contains('[가-힣]', regex=True)]\n"
          ]
        }
      ]
    },
    {
      "cell_type": "code",
      "source": [
        "# price  object => 수치형\n",
        "df['Price'] = pd.to_numeric(df['Price'].str.replace('[^\\d.]', ''), errors='coerce')\n",
        "\n",
        "# 'Pdate' 컬럼을 날짜 타입으로 변환 (한국어 날짜 형식에 맞춤)\n",
        "df['Pdate'] = pd.to_datetime(df['Pdate'], format='%Y년 %m월 %d일', errors='coerce')\n"
      ],
      "metadata": {
        "id": "mhbUTwTgboXH"
      },
      "execution_count": null,
      "outputs": []
    },
    {
      "cell_type": "code",
      "source": [
        "# 클러스터링을 위한 패키지\n",
        "from sklearn.feature_extraction.text import TfidfVectorizer\n",
        "from sklearn.cluster import KMeans\n"
      ],
      "metadata": {
        "id": "oSdf38iTb0_n"
      },
      "execution_count": null,
      "outputs": []
    },
    {
      "cell_type": "code",
      "source": [
        "# 벡터화\n",
        "df['t_p'] = df['Publisher'] + \"_\" + df['Title']\n",
        "\n",
        "tfidf_vectorizer = TfidfVectorizer(max_features=100) # 전체 단어 집합에서 TF-IDF 값이 가장 높은 상위 n개의 단어만을 선택하여 특성 벡터를 생성\n",
        "X_tfidf = tfidf_vectorizer.fit_transform(df['t_p'])"
      ],
      "metadata": {
        "colab": {
          "base_uri": "https://localhost:8080/"
        },
        "id": "e07LwnredPMA",
        "outputId": "97eb0371-103c-454e-add8-98338baf09ff"
      },
      "execution_count": null,
      "outputs": [
        {
          "output_type": "stream",
          "name": "stderr",
          "text": [
            "<ipython-input-8-c3b4e2e40ed2>:2: SettingWithCopyWarning: \n",
            "A value is trying to be set on a copy of a slice from a DataFrame.\n",
            "Try using .loc[row_indexer,col_indexer] = value instead\n",
            "\n",
            "See the caveats in the documentation: https://pandas.pydata.org/pandas-docs/stable/user_guide/indexing.html#returning-a-view-versus-a-copy\n",
            "  df['t_p'] = df['Publisher'] + \"_\" + df['Title']\n"
          ]
        }
      ]
    },
    {
      "cell_type": "code",
      "source": [
        "# 클러스터링 수행\n",
        "kmeans = KMeans(n_clusters=10, random_state=42)\n",
        "kmeans.fit(X_tfidf)"
      ],
      "metadata": {
        "colab": {
          "base_uri": "https://localhost:8080/",
          "height": 131
        },
        "id": "e4RiY1-oeprm",
        "outputId": "76c91847-9b9c-4a3f-b0bf-b057476f4cde"
      },
      "execution_count": null,
      "outputs": [
        {
          "output_type": "stream",
          "name": "stderr",
          "text": [
            "/usr/local/lib/python3.10/dist-packages/sklearn/cluster/_kmeans.py:870: FutureWarning: The default value of `n_init` will change from 10 to 'auto' in 1.4. Set the value of `n_init` explicitly to suppress the warning\n",
            "  warnings.warn(\n"
          ]
        },
        {
          "output_type": "execute_result",
          "data": {
            "text/plain": [
              "KMeans(n_clusters=10, random_state=42)"
            ],
            "text/html": [
              "<style>#sk-container-id-1 {color: black;background-color: white;}#sk-container-id-1 pre{padding: 0;}#sk-container-id-1 div.sk-toggleable {background-color: white;}#sk-container-id-1 label.sk-toggleable__label {cursor: pointer;display: block;width: 100%;margin-bottom: 0;padding: 0.3em;box-sizing: border-box;text-align: center;}#sk-container-id-1 label.sk-toggleable__label-arrow:before {content: \"▸\";float: left;margin-right: 0.25em;color: #696969;}#sk-container-id-1 label.sk-toggleable__label-arrow:hover:before {color: black;}#sk-container-id-1 div.sk-estimator:hover label.sk-toggleable__label-arrow:before {color: black;}#sk-container-id-1 div.sk-toggleable__content {max-height: 0;max-width: 0;overflow: hidden;text-align: left;background-color: #f0f8ff;}#sk-container-id-1 div.sk-toggleable__content pre {margin: 0.2em;color: black;border-radius: 0.25em;background-color: #f0f8ff;}#sk-container-id-1 input.sk-toggleable__control:checked~div.sk-toggleable__content {max-height: 200px;max-width: 100%;overflow: auto;}#sk-container-id-1 input.sk-toggleable__control:checked~label.sk-toggleable__label-arrow:before {content: \"▾\";}#sk-container-id-1 div.sk-estimator input.sk-toggleable__control:checked~label.sk-toggleable__label {background-color: #d4ebff;}#sk-container-id-1 div.sk-label input.sk-toggleable__control:checked~label.sk-toggleable__label {background-color: #d4ebff;}#sk-container-id-1 input.sk-hidden--visually {border: 0;clip: rect(1px 1px 1px 1px);clip: rect(1px, 1px, 1px, 1px);height: 1px;margin: -1px;overflow: hidden;padding: 0;position: absolute;width: 1px;}#sk-container-id-1 div.sk-estimator {font-family: monospace;background-color: #f0f8ff;border: 1px dotted black;border-radius: 0.25em;box-sizing: border-box;margin-bottom: 0.5em;}#sk-container-id-1 div.sk-estimator:hover {background-color: #d4ebff;}#sk-container-id-1 div.sk-parallel-item::after {content: \"\";width: 100%;border-bottom: 1px solid gray;flex-grow: 1;}#sk-container-id-1 div.sk-label:hover label.sk-toggleable__label {background-color: #d4ebff;}#sk-container-id-1 div.sk-serial::before {content: \"\";position: absolute;border-left: 1px solid gray;box-sizing: border-box;top: 0;bottom: 0;left: 50%;z-index: 0;}#sk-container-id-1 div.sk-serial {display: flex;flex-direction: column;align-items: center;background-color: white;padding-right: 0.2em;padding-left: 0.2em;position: relative;}#sk-container-id-1 div.sk-item {position: relative;z-index: 1;}#sk-container-id-1 div.sk-parallel {display: flex;align-items: stretch;justify-content: center;background-color: white;position: relative;}#sk-container-id-1 div.sk-item::before, #sk-container-id-1 div.sk-parallel-item::before {content: \"\";position: absolute;border-left: 1px solid gray;box-sizing: border-box;top: 0;bottom: 0;left: 50%;z-index: -1;}#sk-container-id-1 div.sk-parallel-item {display: flex;flex-direction: column;z-index: 1;position: relative;background-color: white;}#sk-container-id-1 div.sk-parallel-item:first-child::after {align-self: flex-end;width: 50%;}#sk-container-id-1 div.sk-parallel-item:last-child::after {align-self: flex-start;width: 50%;}#sk-container-id-1 div.sk-parallel-item:only-child::after {width: 0;}#sk-container-id-1 div.sk-dashed-wrapped {border: 1px dashed gray;margin: 0 0.4em 0.5em 0.4em;box-sizing: border-box;padding-bottom: 0.4em;background-color: white;}#sk-container-id-1 div.sk-label label {font-family: monospace;font-weight: bold;display: inline-block;line-height: 1.2em;}#sk-container-id-1 div.sk-label-container {text-align: center;}#sk-container-id-1 div.sk-container {/* jupyter's `normalize.less` sets `[hidden] { display: none; }` but bootstrap.min.css set `[hidden] { display: none !important; }` so we also need the `!important` here to be able to override the default hidden behavior on the sphinx rendered scikit-learn.org. See: https://github.com/scikit-learn/scikit-learn/issues/21755 */display: inline-block !important;position: relative;}#sk-container-id-1 div.sk-text-repr-fallback {display: none;}</style><div id=\"sk-container-id-1\" class=\"sk-top-container\"><div class=\"sk-text-repr-fallback\"><pre>KMeans(n_clusters=10, random_state=42)</pre><b>In a Jupyter environment, please rerun this cell to show the HTML representation or trust the notebook. <br />On GitHub, the HTML representation is unable to render, please try loading this page with nbviewer.org.</b></div><div class=\"sk-container\" hidden><div class=\"sk-item\"><div class=\"sk-estimator sk-toggleable\"><input class=\"sk-toggleable__control sk-hidden--visually\" id=\"sk-estimator-id-1\" type=\"checkbox\" checked><label for=\"sk-estimator-id-1\" class=\"sk-toggleable__label sk-toggleable__label-arrow\">KMeans</label><div class=\"sk-toggleable__content\"><pre>KMeans(n_clusters=10, random_state=42)</pre></div></div></div></div></div>"
            ]
          },
          "metadata": {},
          "execution_count": 10
        }
      ]
    },
    {
      "cell_type": "code",
      "source": [
        "# 결과 할당\n",
        "df['Cluster']=kmeans.labels_"
      ],
      "metadata": {
        "colab": {
          "base_uri": "https://localhost:8080/"
        },
        "id": "YEJWVjgGe6Sh",
        "outputId": "45d6752a-eeb7-40cb-de4e-f7e737fb8ea8"
      },
      "execution_count": null,
      "outputs": [
        {
          "output_type": "stream",
          "name": "stderr",
          "text": [
            "<ipython-input-11-60510dac6cfb>:2: SettingWithCopyWarning: \n",
            "A value is trying to be set on a copy of a slice from a DataFrame.\n",
            "Try using .loc[row_indexer,col_indexer] = value instead\n",
            "\n",
            "See the caveats in the documentation: https://pandas.pydata.org/pandas-docs/stable/user_guide/indexing.html#returning-a-view-versus-a-copy\n",
            "  df['Cluster']=kmeans.labels_\n"
          ]
        }
      ]
    },
    {
      "cell_type": "code",
      "source": [
        "# 클러스터 별로 데이터 확인\n",
        "for cluster in range(10): # 클러스터의 수에 따라 범위 조정\n",
        "    print(f\"Cluster {cluster}:\")\n",
        "    print(df[df['Cluster'] == cluster]['Title'].head(), '\\n') # 각 클러스터에 속한 책 제목 예시 출력"
      ],
      "metadata": {
        "colab": {
          "base_uri": "https://localhost:8080/"
        },
        "id": "cW6TqhcVfKXt",
        "outputId": "1fd0c84e-77f2-4cf6-cb00-fe5034d11999"
      },
      "execution_count": null,
      "outputs": [
        {
          "output_type": "stream",
          "name": "stdout",
          "text": [
            "Cluster 0:\n",
            "12         강철왕국 프로이센\n",
            "25           이화림 회고록\n",
            "66      쓰레기에 관한 모든 것\n",
            "90    고전 기하학과 현대 기하학\n",
            "91       실전형 MES 방법론\n",
            "Name: Title, dtype: object \n",
            "\n",
            "Cluster 1:\n",
            "476         런웨이의 연인 1\n",
            "484        드러그 & 드롭 1\n",
            "1761    바람의 검심 완전판 10\n",
            "1762    바람의 검심 완전판 11\n",
            "1763    바람의 검심 완전판 12\n",
            "Name: Title, dtype: object \n",
            "\n",
            "Cluster 2:\n",
            "1041    [대여] 마이페이스 상사와 위장결혼 (개정판) 084화\n",
            "1048        [대여] [연재] 바람의 나라 SE 4부 65화\n",
            "1053              [대여] [컬러 연재] 도화선 18화\n",
            "1055    [대여] 레이디로즈는 평민이 되고 싶어 03권 (완결)\n",
            "1058         [대여] [컬러 연재] 로스트 프린세스 63화\n",
            "Name: Title, dtype: object \n",
            "\n",
            "Cluster 3:\n",
            "24       로마인 이야기 1-15권 세트\n",
            "351      맛있는 햄버거의 무서운 이야기\n",
            "575        진순신의 삼국지 이야기 1\n",
            "576        진순신의 삼국지 이야기 2\n",
            "882    말랑하고 쫀득한 세계사 이야기 1\n",
            "Name: Title, dtype: object \n",
            "\n",
            "Cluster 4:\n",
            "1692     수학도둑 1\n",
            "1851    수학도둑 39\n",
            "1867    수학도둑 50\n",
            "1868    수학도둑 41\n",
            "1904    수학도둑 36\n",
            "Name: Title, dtype: object \n",
            "\n",
            "Cluster 5:\n",
            "922       여자의 시간\n",
            "994       여자의 시간\n",
            "1143    여고생의 치맛단\n",
            "1203       마음 깨침\n",
            "1319    여고생의 치맛단\n",
            "Name: Title, dtype: object \n",
            "\n",
            "Cluster 6:\n",
            "1679       Brown of Calaveras (영어로 세계문학읽기 961)\n",
            "1685    The Eternity of Forms (영어로 세계문학읽기 965)\n",
            "1696             The Nest Egg (영어로 세계문학읽기 967)\n",
            "1703          The Triple Play (영어로 세계문학읽기 968)\n",
            "1712             Counterparts (영어로 세계문학읽기 969)\n",
            "Name: Title, dtype: object \n",
            "\n",
            "Cluster 7:\n",
            "2727       레이다 시스템 공학\n",
            "2728           상하수도공학\n",
            "2731     인간발달 (조복희 외)\n",
            "2732             하천제방\n",
            "2733    토질역학 : 이론과 응용\n",
            "Name: Title, dtype: object \n",
            "\n",
            "Cluster 8:\n",
            "192            건축견적이야기 세트 \n",
            "558    천재소독비 세트 1-28(외전포한)\n",
            "866             이문열 삼국지 세트\n",
            "878         음식으로 병을 고친다 세트\n",
            "938             이문열 삼국지 세트\n",
            "Name: Title, dtype: object \n",
            "\n",
            "Cluster 9:\n",
            "218     주류 창업을 위한 주류면허 길라잡이\n",
            "369      20대를 위한 취업에 성공하는 법\n",
            "1423    개와 고양이를 위한 반려동물 영양학\n",
            "1498     일하는 사람들을 위한 쏙쏙 노동법\n",
            "1677           초등학생을 위한 e지식\n",
            "Name: Title, dtype: object \n",
            "\n"
          ]
        }
      ]
    },
    {
      "cell_type": "code",
      "source": [
        "# 클러스터 결과 시각화\n",
        "# T-SNE  차원 축소 방법 사용\n",
        "# 고차원의 TF-IDF 벡터를 2차원으로 매핑한 후 클러스터링 결과를 시각화\n",
        "from sklearn.manifold import TSNE\n",
        "tsne = TSNE(n_components=2, random_state=42)\n",
        "X_tsne = tsne.fit_transform(X_tfidf.toarray())\n",
        "plt.scatter(X_tsne[:, 0], X_tsne[:, 1], c=kmeans.labels_)\n",
        "plt.show()"
      ],
      "metadata": {
        "id": "PTyd3QzWjYDA"
      },
      "execution_count": null,
      "outputs": []
    },
    {
      "cell_type": "markdown",
      "source": [
        "Word2Vec 모델"
      ],
      "metadata": {
        "id": "Tq8X7FVm9bXG"
      }
    },
    {
      "cell_type": "code",
      "source": [
        "df['t_p'] = df['Title']\n",
        "# df['t_p'] = df['Publisher'] + \"_\" + df['Title']"
      ],
      "metadata": {
        "colab": {
          "base_uri": "https://localhost:8080/"
        },
        "id": "tSqfEf7m8_tj",
        "outputId": "cca0d0fb-9d6d-4cf7-893f-f4e2981a7e54"
      },
      "execution_count": null,
      "outputs": [
        {
          "output_type": "stream",
          "name": "stderr",
          "text": [
            "<ipython-input-20-3113282234a8>:1: SettingWithCopyWarning: \n",
            "A value is trying to be set on a copy of a slice from a DataFrame.\n",
            "Try using .loc[row_indexer,col_indexer] = value instead\n",
            "\n",
            "See the caveats in the documentation: https://pandas.pydata.org/pandas-docs/stable/user_guide/indexing.html#returning-a-view-versus-a-copy\n",
            "  df['t_p'] = df['Title']\n"
          ]
        }
      ]
    },
    {
      "cell_type": "code",
      "source": [
        "from gensim.models import Word2Vec\n",
        "from sklearn.cluster import KMeans\n",
        "\n",
        "# 텍스트 전처리\n",
        "\n",
        "# 문서를 단어 리스트로 변환\n",
        "documents = [text.split() for text in df['t_p']]\n"
      ],
      "metadata": {
        "id": "qqNr-2xr9L74"
      },
      "execution_count": null,
      "outputs": []
    },
    {
      "cell_type": "code",
      "source": [
        "documents[0]"
      ],
      "metadata": {
        "colab": {
          "base_uri": "https://localhost:8080/"
        },
        "id": "mOkVjKlY9g3P",
        "outputId": "53fd75a8-55d5-47dd-f76c-64812d304ca5"
      },
      "execution_count": null,
      "outputs": [
        {
          "output_type": "execute_result",
          "data": {
            "text/plain": [
              "['강철왕국', '프로이센']"
            ]
          },
          "metadata": {},
          "execution_count": 22
        }
      ]
    },
    {
      "cell_type": "code",
      "source": [
        "# Word2Vec: 단어의 벡터 변환 모델 중 하나, 비슷한 의미를 가진 단어들이 벡터 공간에서 서로 가까이 위치하도록 학습\n",
        "model = Word2Vec(sentences=documents, vector_size=100, window=5, min_count=1, workers=4)\n",
        "\n",
        "# sentences=documents: 학습에 사용될 데이터(문서) 리스트 포맷(각 문서 내 단어들을 리스트)\n",
        "# vector_size=100: 생성될 단어 벡터 차원 수\n",
        "# window=5: 단어 예측을 위해 고려하는 주변 단어의 범위. 5:타겟 단어의 앞뒤로 5개의 단어를 컨텍스트로 사용\n",
        "# min_count=1: 학습에 포함될 최소 단어 빈도수\n",
        "# workers=4: 스레드의 수(병렬 처리)\n",
        "\n",
        "\n",
        "#  문서 벡터 생성(<- 단어 벡터 평균)\n",
        "def document_vector(word2vec_model, doc):\n",
        "    vector_size = word2vec_model.vector_size   # 단어 벡터 차원 수\n",
        "\n",
        "    doc_vector = np.zeros(vector_size) # 문서 벡터(초기값 0) 문서 내 각 단어의 벡터를 더함\n",
        "    num_words = 0\n",
        "    for word in doc:\n",
        "        try:\n",
        "            doc_vector += word2vec_model.wv[word]\n",
        "            num_words += 1\n",
        "        except KeyError: # 문서 내 단어의 수\n",
        "            continue\n",
        "    if num_words == 0:\n",
        "        return np.zeros(vector_size)\n",
        "    else:\n",
        "        return doc_vector / num_words  # 각 단어 벡터를 더해서 구해진 doc_vector를 num_words로 나누어 평균 계산 (단어 벡터 평균)\n",
        "                                       # 클러스터링의 input 으로 사용\n",
        "\n",
        "# 각 문서 벡터 생성\n",
        "doc_vectors = np.array([document_vector(model, doc) for doc in documents])\n"
      ],
      "metadata": {
        "id": "Leq4zTeA9n64"
      },
      "execution_count": null,
      "outputs": []
    },
    {
      "cell_type": "code",
      "source": [
        "vector = model.wv['강철왕국']\n",
        "vector"
      ],
      "metadata": {
        "colab": {
          "base_uri": "https://localhost:8080/"
        },
        "id": "5bulVBBGEe5p",
        "outputId": "5da59b1d-804a-4c0f-d075-73762951a480"
      },
      "execution_count": null,
      "outputs": [
        {
          "output_type": "execute_result",
          "data": {
            "text/plain": [
              "array([-1.7443757e-03,  7.6518459e-03,  6.1961268e-03,  8.6477762e-03,\n",
              "        2.0360427e-03, -1.6407197e-03,  6.1720056e-03,  1.0568601e-03,\n",
              "        9.2386699e-04, -5.4063117e-03,  8.4783528e-03,  5.6946860e-03,\n",
              "       -3.5455541e-03,  9.6020871e-04,  5.0485968e-03, -9.8427869e-03,\n",
              "        3.9142175e-03,  5.3081615e-03, -9.3773589e-05, -4.2427210e-03,\n",
              "        9.2965122e-03,  5.9067504e-03,  9.8650772e-03, -8.3465502e-03,\n",
              "        5.9848502e-03, -7.9352045e-03,  3.8676881e-03, -9.1035636e-03,\n",
              "       -7.5577712e-03,  4.0470224e-04, -3.4220216e-03,  5.7825893e-03,\n",
              "        9.4705420e-03,  2.9901199e-03,  7.3269992e-03,  5.4056444e-03,\n",
              "       -8.2684141e-03,  1.4069189e-03, -2.5677308e-03, -9.9521279e-03,\n",
              "        9.0282839e-03, -3.5276860e-03, -6.0148751e-03, -6.1616250e-03,\n",
              "        8.6651342e-03, -7.6915142e-03,  9.0629951e-04, -8.9489883e-03,\n",
              "        2.3820850e-03, -1.0413794e-03, -9.8278858e-03,  8.2722371e-03,\n",
              "       -5.6711566e-03,  8.2409205e-03,  6.2419251e-03, -7.7138552e-03,\n",
              "        5.0360430e-03, -4.3149740e-03, -8.0667939e-03,  3.8597386e-03,\n",
              "       -1.8638549e-03,  2.5268504e-03, -8.6529693e-03, -9.7008729e-03,\n",
              "       -9.5211584e-03,  4.7637331e-03, -5.6344038e-03, -9.5096566e-03,\n",
              "       -3.0620317e-03, -8.8425074e-03,  8.4615517e-03, -1.3748269e-03,\n",
              "       -4.9908650e-03, -4.6462477e-03, -5.1668618e-04,  3.1083485e-03,\n",
              "       -6.0461895e-03, -1.5800521e-03,  1.0152627e-03, -8.0418820e-03,\n",
              "        1.7641304e-03, -5.3524063e-03, -6.6228271e-03, -1.7917646e-03,\n",
              "       -8.3817225e-03, -8.9895399e-03,  1.8273256e-03,  3.6405382e-04,\n",
              "        8.5520605e-03, -9.9641327e-03,  1.1122543e-03, -9.6285902e-03,\n",
              "       -1.7037047e-03,  7.1715233e-03,  1.1252754e-04,  5.7471106e-03,\n",
              "       -5.6340415e-03, -4.7117304e-03, -8.8357935e-03, -8.7654982e-03],\n",
              "      dtype=float32)"
            ]
          },
          "metadata": {},
          "execution_count": 28
        }
      ]
    },
    {
      "cell_type": "markdown",
      "source": [],
      "metadata": {
        "id": "axcfvM0deVkw"
      }
    },
    {
      "cell_type": "code",
      "source": [
        "# K-평균 클러스터링 모델 생성 및 학습\n",
        "kmeans = KMeans(n_clusters=5, random_state=42)\n",
        "kmeans.fit(doc_vectors)\n",
        "\n",
        "# 클러스터 할당 결과\n",
        "df['Cluster'] = kmeans.labels_\n"
      ],
      "metadata": {
        "colab": {
          "base_uri": "https://localhost:8080/"
        },
        "id": "phauAe0R9tID",
        "outputId": "2931557b-49d1-4d05-eb7a-4a0c6eaee63c"
      },
      "execution_count": null,
      "outputs": [
        {
          "output_type": "stream",
          "name": "stderr",
          "text": [
            "/usr/local/lib/python3.10/dist-packages/sklearn/cluster/_kmeans.py:870: FutureWarning: The default value of `n_init` will change from 10 to 'auto' in 1.4. Set the value of `n_init` explicitly to suppress the warning\n",
            "  warnings.warn(\n",
            "<ipython-input-24-63018587f320>:6: SettingWithCopyWarning: \n",
            "A value is trying to be set on a copy of a slice from a DataFrame.\n",
            "Try using .loc[row_indexer,col_indexer] = value instead\n",
            "\n",
            "See the caveats in the documentation: https://pandas.pydata.org/pandas-docs/stable/user_guide/indexing.html#returning-a-view-versus-a-copy\n",
            "  df['Cluster'] = kmeans.labels_\n"
          ]
        }
      ]
    },
    {
      "cell_type": "code",
      "source": [
        "# 클러스터 별로 데이터 확인\n",
        "for cluster in range(5): # 클러스터의 수에 따라 범위 조정\n",
        "    print(f\"Cluster {cluster}:\")\n",
        "    print(df[df['Cluster'] == cluster]['Title'].head(), '\\n') # 각 클러스터에 속한 책 제목 예시 출력"
      ],
      "metadata": {
        "colab": {
          "base_uri": "https://localhost:8080/"
        },
        "id": "TgBfCl_l90M_",
        "outputId": "5d572023-76b6-40fc-8d8b-c4d71a39982a"
      },
      "execution_count": null,
      "outputs": [
        {
          "output_type": "stream",
          "name": "stdout",
          "text": [
            "Cluster 0:\n",
            "12         강철왕국 프로이센\n",
            "25           이화림 회고록\n",
            "66      쓰레기에 관한 모든 것\n",
            "90    고전 기하학과 현대 기하학\n",
            "91       실전형 MES 방법론\n",
            "Name: Title, dtype: object \n",
            "\n",
            "Cluster 1:\n",
            "458       SAS 서바이벌 가이드\n",
            "1711         쿠키런 한자런 7\n",
            "1733      쿠키런 개그 과학 상식\n",
            "1743         쿠키런 한자런 8\n",
            "1837    쿠키런 신대륙에서 찾아라!\n",
            "Name: Title, dtype: object \n",
            "\n",
            "Cluster 2:\n",
            "218     주류 창업을 위한 주류면허 길라잡이\n",
            "344         생각하는 아이 기다리는 엄마\n",
            "351        맛있는 햄버거의 무서운 이야기\n",
            "369      20대를 위한 취업에 성공하는 법\n",
            "370    내 인생을 풍요롭게 만드는 한편의 시\n",
            "Name: Title, dtype: object \n",
            "\n",
            "Cluster 3:\n",
            "1719     쿠키런 서바이벌 대작전 7\n",
            "1738     쿠키런 서바이벌 대작전 2\n",
            "1739     쿠키런 서바이벌 대작전 1\n",
            "1740     쿠키런 서바이벌 대작전 3\n",
            "1768    쿠키런 서바이벌 대작전 16\n",
            "Name: Title, dtype: object \n",
            "\n",
            "Cluster 4:\n",
            "24     로마인 이야기 1-15권 세트\n",
            "93           건축견적이야기 2 \n",
            "94           건축견적이야기 3 \n",
            "192         건축견적이야기 세트 \n",
            "357           예수님의 사람 2\n",
            "Name: Title, dtype: object \n",
            "\n"
          ]
        }
      ]
    },
    {
      "cell_type": "code",
      "source": [
        "from tensorflow.keras.preprocessing.text import Tokenizer\n",
        "from tensorflow.keras.preprocessing.sequence import pad_sequences\n",
        "\n",
        "# 텍스트 토큰화 및 시퀀스 변환\n",
        "tokenizer = Tokenizer()\n",
        "# Tokenizer 객체를 사용하여 텍스트를 토큰화, 각 토큰(단어)에 고유한 정수 인덱스 할당\n",
        "tokenizer.fit_on_texts(df['Title'])\n",
        "X_seq = tokenizer.texts_to_sequences(df['Title'])"
      ],
      "metadata": {
        "id": "cYFPlfyYoF7R"
      },
      "execution_count": null,
      "outputs": []
    },
    {
      "cell_type": "code",
      "source": [
        "################# FastText  #################\n",
        "from gensim.models import FastText\n",
        "\n",
        "# 예제 문장들\n",
        "sentences = [['cat', 'say', 'meow'], ['dog', 'say', 'woof']]\n",
        "\n",
        "# FastText 모델 훈련\n",
        "model = FastText(sentences, vector_size=100, window=5, min_count=1, workers=4)\n",
        "\n",
        "# 'cat' 단어의 벡터 조회\n",
        "print(model.wv['cat'])"
      ],
      "metadata": {
        "id": "E_NomLNpIQtN",
        "colab": {
          "base_uri": "https://localhost:8080/"
        },
        "outputId": "abc42c9c-90e4-433d-8928-2e549f33ea70"
      },
      "execution_count": null,
      "outputs": [
        {
          "output_type": "stream",
          "name": "stdout",
          "text": [
            "[-3.08066304e-03 -7.90226390e-04 -2.73370859e-03  1.61904667e-03\n",
            " -1.66713522e-04  6.28919399e-04  9.15853481e-04  3.49709508e-03\n",
            "  1.62937783e-03  4.91646770e-03  2.77808547e-04 -1.39591098e-03\n",
            " -3.55925737e-03  1.01852708e-03  5.35819272e-04  1.28516625e-03\n",
            "  4.77675669e-04  1.46795274e-03 -4.46858292e-04 -1.06995976e-04\n",
            " -2.04688148e-03  2.61852262e-03 -7.45429657e-04  2.08033761e-03\n",
            " -1.13760144e-03 -3.43189389e-03 -3.78587609e-03 -7.24313839e-04\n",
            " -1.30828656e-03  1.19137007e-03  7.66331214e-04  4.83161490e-03\n",
            "  9.78983124e-04  3.17783700e-03  2.34751962e-03 -2.66464660e-03\n",
            " -1.32662349e-03 -4.01243247e-04  3.82719038e-04 -2.54542427e-03\n",
            " -2.49923527e-04 -4.83285869e-03 -4.70269052e-03  2.44425796e-03\n",
            " -4.80298093e-03 -3.20287934e-03  2.02403011e-04  2.88115279e-03\n",
            " -2.96206702e-03 -1.78865588e-03 -4.56541049e-04 -2.65269354e-03\n",
            "  3.16352444e-03 -9.34481970e-04 -3.65442189e-04  1.79229118e-03\n",
            " -1.84320379e-03  1.56961230e-03  2.01237039e-03 -4.33722837e-03\n",
            "  1.29108585e-03  4.41135562e-05 -1.54511980e-03  1.42991520e-03\n",
            "  3.91684799e-03  1.86810992e-03  1.28851936e-03  1.47255068e-03\n",
            "  1.52600638e-03  2.01442256e-03 -2.21019099e-03 -1.19947258e-03\n",
            " -1.54909748e-03 -2.66259559e-03 -8.84268549e-04  1.28122861e-03\n",
            " -3.32115963e-03  2.92413449e-03  1.71751331e-03  9.34065029e-04\n",
            " -2.77088629e-03 -3.86025087e-04 -4.45989659e-03  8.36411127e-05\n",
            " -1.05842564e-03 -1.51744846e-03  2.64484296e-03 -3.03491647e-03\n",
            " -1.82430691e-03 -4.02166182e-03 -1.06877682e-03  3.43296007e-04\n",
            "  4.41254629e-03  2.34988821e-03 -3.45943612e-03 -3.61376139e-03\n",
            "  9.23084212e-04  1.62369444e-03  3.56420246e-03  2.85208062e-03]\n"
          ]
        }
      ]
    },
    {
      "cell_type": "code",
      "source": [
        "################# FastText  #################\n",
        "from gensim.models import FastText\n",
        "from sklearn.cluster import KMeans\n",
        "import pandas as pd\n",
        "import numpy as np\n",
        "\n",
        "# FastText 모델 학습 (로컬 데이터에서)\n",
        "# sentences = [title.split() for title in df['Title']]\n",
        "sentences = [title.split() for title in df['Title']]\n",
        "fasttext_model = FastText(X_seq, vector_size=64, window=5, min_count=1)\n",
        "\n",
        "# 책 제목 -> 벡터화\n",
        "def vectorize_w_fasttext(text):\n",
        "    words = text.split()\n",
        "    word_vectors = [fasttext_model.wv[word] for word in words if word in fasttext_model.wv]\n",
        "    if len(word_vectors) == 0:\n",
        "        return np.zeros(fasttext_model.vector_size)\n",
        "    return np.mean(word_vectors, axis=0)\n",
        "\n",
        "# 제목 벡터화\n",
        "title_vectors = np.array([vectorize_w_fasttext(title) for title in df['Title']])\n",
        "\n"
      ],
      "metadata": {
        "id": "sL_mN7CEJ4YA"
      },
      "execution_count": null,
      "outputs": []
    },
    {
      "cell_type": "code",
      "source": [
        "# 유사한 단어\n",
        "model.wv.most_similar('영어')"
      ],
      "metadata": {
        "colab": {
          "base_uri": "https://localhost:8080/"
        },
        "id": "9nWW_jDum9bK",
        "outputId": "f93462d6-d60f-4b6e-864f-0fd843bc28db"
      },
      "execution_count": null,
      "outputs": [
        {
          "output_type": "execute_result",
          "data": {
            "text/plain": [
              "[('say', 0.20480839908123016),\n",
              " ('dog', -0.023522047325968742),\n",
              " ('cat', -0.1022270917892456),\n",
              " ('meow', -0.15924866497516632),\n",
              " ('woof', -0.2406514286994934)]"
            ]
          },
          "metadata": {},
          "execution_count": 28
        }
      ]
    },
    {
      "cell_type": "code",
      "source": [
        "# 두 단어간 유사도 확인\n",
        "model.wv.similarity('수학', '영어')"
      ],
      "metadata": {
        "colab": {
          "base_uri": "https://localhost:8080/"
        },
        "id": "xK9Q75upnNqB",
        "outputId": "c2c438d4-f656-471c-ab0f-e35694dae90d"
      },
      "execution_count": null,
      "outputs": [
        {
          "output_type": "execute_result",
          "data": {
            "text/plain": [
              "0.26143593"
            ]
          },
          "metadata": {},
          "execution_count": 29
        }
      ]
    },
    {
      "cell_type": "code",
      "source": [
        "# K-평균 클러스터링 모델 생성 및 학습\n",
        "kmeans = KMeans(n_clusters=10, random_state=42)\n",
        "kmeans.fit(title_vectors)\n",
        "\n",
        "# 클러스터 할당 결과\n",
        "df['Cluster'] = kmeans.labels_"
      ],
      "metadata": {
        "colab": {
          "base_uri": "https://localhost:8080/"
        },
        "id": "CzUNlIsDIkqF",
        "outputId": "2257320e-33fa-4c0e-fa41-8fe55868a3f0"
      },
      "execution_count": null,
      "outputs": [
        {
          "output_type": "stream",
          "name": "stderr",
          "text": [
            "/usr/local/lib/python3.10/dist-packages/sklearn/cluster/_kmeans.py:870: FutureWarning: The default value of `n_init` will change from 10 to 'auto' in 1.4. Set the value of `n_init` explicitly to suppress the warning\n",
            "  warnings.warn(\n",
            "<ipython-input-30-b863022140d7>:6: SettingWithCopyWarning: \n",
            "A value is trying to be set on a copy of a slice from a DataFrame.\n",
            "Try using .loc[row_indexer,col_indexer] = value instead\n",
            "\n",
            "See the caveats in the documentation: https://pandas.pydata.org/pandas-docs/stable/user_guide/indexing.html#returning-a-view-versus-a-copy\n",
            "  df['Cluster'] = kmeans.labels_\n"
          ]
        }
      ]
    },
    {
      "cell_type": "code",
      "source": [
        "# 클러스터 별로 데이터 확인\n",
        "for cluster in range(10): # 클러스터의 수에 따라 범위 조정\n",
        "    print(f\"Cluster {cluster}:\")\n",
        "    print(df[df['Cluster'] == cluster]['Title'].head(), '\\n') # 각 클러스터에 속한 책 제목 예시 출력\n"
      ],
      "metadata": {
        "colab": {
          "base_uri": "https://localhost:8080/"
        },
        "id": "pYQULHLbKFb7",
        "outputId": "59cf1abf-75b2-4b30-c9a0-64160125fc77"
      },
      "execution_count": null,
      "outputs": [
        {
          "output_type": "stream",
          "name": "stdout",
          "text": [
            "Cluster 0:\n",
            "12           강철왕국 프로이센\n",
            "24    로마인 이야기 1-15권 세트\n",
            "25             이화림 회고록\n",
            "66        쓰레기에 관한 모든 것\n",
            "90      고전 기하학과 현대 기하학\n",
            "Name: Title, dtype: object \n",
            "\n",
            "Cluster 1:\n",
            "357         예수님의 사람 2\n",
            "409    묻고 답하는 한국사카페 1\n",
            "422           밤의 양들 2\n",
            "457            이리 와 2\n",
            "461          엉터리 릴리 4\n",
            "Name: Title, dtype: object \n",
            "\n",
            "Cluster 2:\n",
            "541    RURE 루어 23\n",
            "545    RURE 루어 15\n",
            "547         마기 27\n",
            "550         마기 27\n",
            "551    RURE 루어 17\n",
            "Name: Title, dtype: object \n",
            "\n",
            "Cluster 3:\n",
            "1527          식객 18\n",
            "1802           궁 26\n",
            "1882    위기탈출 넘버원 10\n",
            "1902      드래곤빌리지 26\n",
            "1903      드래곤빌리지 20\n",
            "Name: Title, dtype: object \n",
            "\n",
            "Cluster 4:\n",
            "1753    드래곤빌리지 학습도감 11 : 애견천국\n",
            "1756    드래곤빌리지 학습도감 12 : 딱정포스\n",
            "1763            바람의 검심 완전판 12\n",
            "1765            바람의 검심 완전판 13\n",
            "1768          쿠키런 서바이벌 대작전 16\n",
            "Name: Title, dtype: object \n",
            "\n",
            "Cluster 5:\n",
            "371           나, 지금 죽어도 좋아 2\n",
            "372          빌 클린턴의 마이 라이프 2\n",
            "408    요리스타 청 1 천재 요리 소녀의 등장\n",
            "520          반쪽 달이 떠오르는 하늘 1\n",
            "536                  여왕의 꽃 9\n",
            "Name: Title, dtype: object \n",
            "\n",
            "Cluster 6:\n",
            "869     2020 건축시공\n",
            "941     2020 건축시공\n",
            "1187         조드 1\n",
            "1363         조드 1\n",
            "1403     미드나이터스 1\n",
            "Name: Title, dtype: object \n",
            "\n",
            "Cluster 7:\n",
            "93     건축견적이야기 2 \n",
            "94     건축견적이야기 3 \n",
            "426         핫라인 2\n",
            "442    두근두근 중국어 1\n",
            "467          마기 3\n",
            "Name: Title, dtype: object \n",
            "\n",
            "Cluster 8:\n",
            "1990    드래곤빌리지 11\n",
            "3739        식객 21\n",
            "3742        식객 19\n",
            "3743        식객 15\n",
            "3746        식객 12\n",
            "Name: Title, dtype: object \n",
            "\n",
            "Cluster 9:\n",
            "278                 스피킹 매트릭스 30초 영어 말하기\n",
            "369                  20대를 위한 취업에 성공하는 법\n",
            "373                    30대가 아버지에게 길을 묻다\n",
            "427                    499살 외계인, 지구에 오다\n",
            "439    新 2018 EBS 드론 무인멀티콥터 필기 한권으로 끝내기\n",
            "Name: Title, dtype: object \n",
            "\n"
          ]
        }
      ]
    },
    {
      "cell_type": "code",
      "source": [],
      "metadata": {
        "id": "Afd-KQHbKerY"
      },
      "execution_count": null,
      "outputs": []
    }
  ]
}