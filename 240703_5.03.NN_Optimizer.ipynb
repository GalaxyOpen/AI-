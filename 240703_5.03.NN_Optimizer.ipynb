{
  "nbformat": 4,
  "nbformat_minor": 0,
  "metadata": {
    "colab": {
      "provenance": []
    },
    "kernelspec": {
      "name": "python3",
      "display_name": "Python 3"
    },
    "language_info": {
      "name": "python"
    }
  },
  "cells": [
    {
      "cell_type": "code",
      "execution_count": null,
      "metadata": {
        "id": "hyyUC8IZr9DX"
      },
      "outputs": [],
      "source": [
        "import torch\n",
        "import torch.nn as nn\n",
        "import torch.optim as optim\n",
        "\n",
        "# 신경망 정의\n",
        "class SimpleNN(nn.Module):\n",
        "    def __init__(self):\n",
        "        super(SimpleNN, self).__init__()\n",
        "        self.layer1 = nn.Linear(10, 5)  # 입력층에서 은닉층\n",
        "        self.relu = nn.ReLU()           # 활성화 함수\n",
        "        self.layer2 = nn.Linear(5, 1)   # 은닉층에서 출력층\n",
        "        self.sigmoid = nn.Sigmoid()     # 이진 분류를 위한 활성화 함수\n",
        "\n",
        "    def forward(self, x):\n",
        "        x = self.layer1(x)\n",
        "        x = self.relu(x)\n",
        "        x = self.layer2(x)\n",
        "        x = self.sigmoid(x)\n",
        "        return x\n"
      ]
    },
    {
      "cell_type": "code",
      "source": [
        "# 손실 함수 및 옵티마이저 설정\n",
        "\n",
        "model = SimpleNN()\n",
        "criterion = nn.BCELoss()  # 이진 교차 엔트로피 손실\n",
        "optimizer = optim.SGD(model.parameters(), lr=0.01)  # SGD 옵티마이저\n"
      ],
      "metadata": {
        "id": "TieXo0ABsDkN"
      },
      "execution_count": null,
      "outputs": []
    },
    {
      "cell_type": "code",
      "source": [
        "# 훈련 데이터 준비\n",
        "\n",
        "# 임의의 데이터 생성\n",
        "inputs = torch.randn(100, 10)  # 100개의 샘플, 각각 10개의 특성\n",
        "targets = torch.rand(100, 1).round()  # 이진 타겟\n"
      ],
      "metadata": {
        "id": "zcQ5_kdbsTGK"
      },
      "execution_count": null,
      "outputs": []
    },
    {
      "cell_type": "code",
      "source": [
        "# 훈련 루프\n",
        "\n",
        "num_epochs = 100\n",
        "for epoch in range(num_epochs):\n",
        "    # 경사 초기화\n",
        "    optimizer.zero_grad()\n",
        "\n",
        "    # 순전파\n",
        "    outputs = model(inputs)\n",
        "\n",
        "    # 손실 계산\n",
        "    loss = criterion(outputs, targets)\n",
        "\n",
        "    # 역전파\n",
        "    loss.backward()\n",
        "\n",
        "    # 가중치 업데이트\n",
        "    optimizer.step()\n",
        "\n",
        "    # 로그 출력\n",
        "    if (epoch + 1) % 10 == 0:\n",
        "        print(f'Epoch [{epoch + 1}/{num_epochs}], Loss: {loss.item():.4f}')\n"
      ],
      "metadata": {
        "colab": {
          "base_uri": "https://localhost:8080/"
        },
        "id": "UcX5cZWmsTDH",
        "outputId": "5be26ebf-c54d-4235-92be-2ca0fe1efa0a"
      },
      "execution_count": null,
      "outputs": [
        {
          "output_type": "stream",
          "name": "stdout",
          "text": [
            "Epoch [10/100], Loss: 0.7028\n",
            "Epoch [20/100], Loss: 0.7017\n",
            "Epoch [30/100], Loss: 0.7006\n",
            "Epoch [40/100], Loss: 0.6995\n",
            "Epoch [50/100], Loss: 0.6984\n",
            "Epoch [60/100], Loss: 0.6974\n",
            "Epoch [70/100], Loss: 0.6964\n",
            "Epoch [80/100], Loss: 0.6954\n",
            "Epoch [90/100], Loss: 0.6944\n",
            "Epoch [100/100], Loss: 0.6935\n"
          ]
        }
      ]
    },
    {
      "cell_type": "code",
      "source": [],
      "metadata": {
        "id": "D3E9oQFCsTAD"
      },
      "execution_count": null,
      "outputs": []
    },
    {
      "cell_type": "code",
      "source": [
        "import torch\n",
        "import torch.nn as nn\n",
        "import torch.optim as optim\n",
        "\n",
        "# 모델 정의\n",
        "class SimpleNN(nn.Module):\n",
        "    def __init__(self):\n",
        "        super(SimpleNN, self).__init__()\n",
        "        self.layer1 = nn.Linear(10, 5)\n",
        "        self.relu = nn.ReLU()\n",
        "        self.layer2 = nn.Linear(5, 1)\n",
        "        self.sigmoid = nn.Sigmoid()\n",
        "\n",
        "    def forward(self, x):\n",
        "        x = self.layer1(x)\n",
        "        x = self.relu(x)\n",
        "        x = self.layer2(x)\n",
        "        x = self.sigmoid(x)\n",
        "        return x\n",
        "\n",
        "# 모델 초기화\n",
        "model = SimpleNN()\n",
        "criterion = nn.BCELoss()\n",
        "optimizer = optim.SGD(model.parameters(), lr=0.01)\n",
        "\n",
        "# 데이터 생성\n",
        "inputs = torch.randn(100, 10)\n",
        "targets = torch.rand(100, 1).round()\n",
        "\n",
        "# 훈련 루프\n",
        "num_epochs = 100\n",
        "for epoch in range(num_epochs):\n",
        "    optimizer.zero_grad()   # 그래디언트를 0으로 초기화\n",
        "    outputs = model(inputs)  # 모델에 입력을 주어 출력을 얻음\n",
        "    loss = criterion(outputs, targets)  # 손실 계산\n",
        "    loss.backward()  # 손실에 대한 그래디언트 계산\n",
        "    optimizer.step()  # 가중치 업데이트\n",
        "\n",
        "    if (epoch+1) % 10 == 0:\n",
        "        print(f'Epoch [{epoch+1}/{num_epochs}], Loss: {loss.item():.4f}')\n"
      ],
      "metadata": {
        "colab": {
          "base_uri": "https://localhost:8080/"
        },
        "id": "ULOA5c4Dsk4l",
        "outputId": "e5c84b54-b598-4ccc-96ea-cbdde46f607f"
      },
      "execution_count": null,
      "outputs": [
        {
          "output_type": "stream",
          "name": "stdout",
          "text": [
            "Epoch [10/100], Loss: 0.7389\n",
            "Epoch [20/100], Loss: 0.7360\n",
            "Epoch [30/100], Loss: 0.7333\n",
            "Epoch [40/100], Loss: 0.7308\n",
            "Epoch [50/100], Loss: 0.7284\n",
            "Epoch [60/100], Loss: 0.7262\n",
            "Epoch [70/100], Loss: 0.7240\n",
            "Epoch [80/100], Loss: 0.7220\n",
            "Epoch [90/100], Loss: 0.7201\n",
            "Epoch [100/100], Loss: 0.7183\n"
          ]
        }
      ]
    }
  ]
}