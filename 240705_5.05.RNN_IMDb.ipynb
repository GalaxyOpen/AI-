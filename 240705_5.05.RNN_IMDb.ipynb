{
  "cells": [
    {
      "cell_type": "code",
      "execution_count": 1,
      "metadata": {
        "colab": {
          "base_uri": "https://localhost:8080/"
        },
        "id": "-0Ngk71X1j2E",
        "outputId": "f3c57ac8-a7c0-499b-f634-c47b587a0f54"
      },
      "outputs": [
        {
          "output_type": "stream",
          "name": "stdout",
          "text": [
            "Downloading data from https://storage.googleapis.com/tensorflow/tf-keras-datasets/imdb.npz\n",
            "17464789/17464789 [==============================] - 0s 0us/step\n"
          ]
        }
      ],
      "source": [
        "import tensorflow as tf\n",
        "from tensorflow.keras.datasets import imdb\n",
        "max_features = 10000\n",
        "(x_train, y_train), (x_test, y_test) = imdb.load_data(num_words=max_features)"
      ]
    },
    {
      "cell_type": "code",
      "execution_count": 2,
      "metadata": {
        "id": "ZMKftJYA1j2F"
      },
      "outputs": [],
      "source": [
        "from tensorflow.keras.preprocessing import sequence\n",
        "max_len = 200\n",
        "x_train = sequence.pad_sequences(x_train, maxlen=max_len)\n",
        "x_test = sequence.pad_sequences(x_test, maxlen=max_len)"
      ]
    },
    {
      "cell_type": "code",
      "execution_count": 3,
      "metadata": {
        "colab": {
          "base_uri": "https://localhost:8080/"
        },
        "id": "8d7djyic1j2G",
        "outputId": "50514c08-def6-4f2c-899d-1145eab047c0"
      },
      "outputs": [
        {
          "output_type": "execute_result",
          "data": {
            "text/plain": [
              "(25000, 200)"
            ]
          },
          "metadata": {},
          "execution_count": 3
        }
      ],
      "source": [
        "x_train.shape"
      ]
    },
    {
      "cell_type": "code",
      "execution_count": 4,
      "metadata": {
        "colab": {
          "base_uri": "https://localhost:8080/"
        },
        "id": "HfkOS9Cn1j2H",
        "outputId": "8cfcc853-a521-4c8f-8fa3-e353d99b38eb"
      },
      "outputs": [
        {
          "output_type": "execute_result",
          "data": {
            "text/plain": [
              "(25000,)"
            ]
          },
          "metadata": {},
          "execution_count": 4
        }
      ],
      "source": [
        "y_test.shape"
      ]
    },
    {
      "cell_type": "code",
      "execution_count": 5,
      "metadata": {
        "colab": {
          "base_uri": "https://localhost:8080/"
        },
        "id": "rZr3XKIY1j2H",
        "outputId": "7ded82e4-76fc-4e41-ce30-94628fa62de5"
      },
      "outputs": [
        {
          "output_type": "execute_result",
          "data": {
            "text/plain": [
              "(25000,)"
            ]
          },
          "metadata": {},
          "execution_count": 5
        }
      ],
      "source": [
        "y_train.shape"
      ]
    },
    {
      "cell_type": "code",
      "execution_count": 6,
      "metadata": {
        "colab": {
          "base_uri": "https://localhost:8080/"
        },
        "id": "2iiBwwfY1j2H",
        "outputId": "664148eb-7428-4eaa-cf6f-50f87adc5895"
      },
      "outputs": [
        {
          "output_type": "execute_result",
          "data": {
            "text/plain": [
              "array([0, 1, 1, 0, 1, 1, 1, 0, 0, 1])"
            ]
          },
          "metadata": {},
          "execution_count": 6
        }
      ],
      "source": [
        "y_test[:10]"
      ]
    },
    {
      "cell_type": "code",
      "execution_count": 7,
      "metadata": {
        "id": "sGS1yZnf1j2I"
      },
      "outputs": [],
      "source": [
        "from tensorflow.keras.utils import to_categorical\n",
        "y_train_one_hot = to_categorical(y_train)\n",
        "y_test_one_hot = to_categorical(y_test)"
      ]
    },
    {
      "cell_type": "code",
      "execution_count": 8,
      "metadata": {
        "colab": {
          "base_uri": "https://localhost:8080/"
        },
        "id": "nlGc6KQ51j2I",
        "outputId": "cb43a138-ec5d-4370-dbfa-600d579650c5"
      },
      "outputs": [
        {
          "output_type": "execute_result",
          "data": {
            "text/plain": [
              "(25000, 2)"
            ]
          },
          "metadata": {},
          "execution_count": 8
        }
      ],
      "source": [
        "y_test_one_hot.shape"
      ]
    },
    {
      "cell_type": "code",
      "execution_count": 9,
      "metadata": {
        "colab": {
          "base_uri": "https://localhost:8080/"
        },
        "id": "cHiomaJY1j2I",
        "outputId": "768b8d26-3356-4870-aa72-0ee717f6d639"
      },
      "outputs": [
        {
          "output_type": "execute_result",
          "data": {
            "text/plain": [
              "array([0., 1.], dtype=float32)"
            ]
          },
          "metadata": {},
          "execution_count": 9
        }
      ],
      "source": [
        "y_test_one_hot[1]"
      ]
    },
    {
      "cell_type": "code",
      "execution_count": 10,
      "metadata": {
        "id": "1nX0i3Kl1j2J"
      },
      "outputs": [],
      "source": [
        "from tensorflow.keras import layers\n",
        "from tensorflow.keras import models"
      ]
    },
    {
      "cell_type": "code",
      "execution_count": 11,
      "metadata": {
        "colab": {
          "base_uri": "https://localhost:8080/"
        },
        "id": "YCBck6831j2J",
        "outputId": "d388e03a-0aec-4afb-bf02-883f74a9ec10"
      },
      "outputs": [
        {
          "output_type": "stream",
          "name": "stdout",
          "text": [
            "Model: \"sequential\"\n",
            "_________________________________________________________________\n",
            " Layer (type)                Output Shape              Param #   \n",
            "=================================================================\n",
            " embedding (Embedding)       (None, 200, 64)           640000    \n",
            "                                                                 \n",
            " simple_rnn (SimpleRNN)      (None, 32)                3104      \n",
            "                                                                 \n",
            " dense (Dense)               (None, 16)                528       \n",
            "                                                                 \n",
            " dense_1 (Dense)             (None, 2)                 34        \n",
            "                                                                 \n",
            "=================================================================\n",
            "Total params: 643666 (2.46 MB)\n",
            "Trainable params: 643666 (2.46 MB)\n",
            "Non-trainable params: 0 (0.00 Byte)\n",
            "_________________________________________________________________\n"
          ]
        }
      ],
      "source": [
        "model = models.Sequential()\n",
        "# model.add(layers.Embedding(max_features, 64))\n",
        "model.add(layers.Embedding(max_features, 64, input_length=max_len))\n",
        "model.add(layers.SimpleRNN(32, activation='tanh', return_sequences=False))\n",
        "# of parameters = 64*32+32*32+32 = 3104\n",
        "model.add(layers.Dense(16, activation='tanh'))\n",
        "model.add(layers.Dense(2, activation = 'softmax'))\n",
        "model.summary()"
      ]
    },
    {
      "cell_type": "code",
      "execution_count": 12,
      "metadata": {
        "id": "J0urr6vz1j2K"
      },
      "outputs": [],
      "source": [
        "from tensorflow.keras.optimizers import RMSprop\n",
        "model.compile(optimizer=RMSprop(learning_rate=0.0005), loss='binary_crossentropy', metrics=['accuracy'])"
      ]
    },
    {
      "cell_type": "code",
      "execution_count": 13,
      "metadata": {
        "colab": {
          "base_uri": "https://localhost:8080/"
        },
        "id": "F6ZNwP6U1j2K",
        "outputId": "6f44d7d5-0e95-40b0-9c7c-6f6e74ad0ac7"
      },
      "outputs": [
        {
          "output_type": "stream",
          "name": "stdout",
          "text": [
            "Epoch 1/10\n",
            "176/176 [==============================] - 13s 69ms/step - loss: 0.5838 - accuracy: 0.6767 - val_loss: 0.4170 - val_accuracy: 0.8176\n",
            "Epoch 2/10\n",
            "176/176 [==============================] - 12s 67ms/step - loss: 0.3489 - accuracy: 0.8565 - val_loss: 0.3791 - val_accuracy: 0.8368\n",
            "Epoch 3/10\n",
            "176/176 [==============================] - 12s 69ms/step - loss: 0.2646 - accuracy: 0.8963 - val_loss: 0.3148 - val_accuracy: 0.8664\n",
            "Epoch 4/10\n",
            "176/176 [==============================] - 13s 74ms/step - loss: 0.2021 - accuracy: 0.9248 - val_loss: 0.3165 - val_accuracy: 0.8796\n",
            "Epoch 5/10\n",
            "176/176 [==============================] - 12s 67ms/step - loss: 0.1542 - accuracy: 0.9439 - val_loss: 0.3611 - val_accuracy: 0.8752\n",
            "Epoch 6/10\n",
            "176/176 [==============================] - 12s 67ms/step - loss: 0.1050 - accuracy: 0.9642 - val_loss: 0.4179 - val_accuracy: 0.8664\n",
            "Epoch 7/10\n",
            "176/176 [==============================] - 12s 67ms/step - loss: 0.0671 - accuracy: 0.9787 - val_loss: 0.4392 - val_accuracy: 0.8436\n",
            "Epoch 8/10\n",
            "176/176 [==============================] - 12s 67ms/step - loss: 0.0384 - accuracy: 0.9886 - val_loss: 0.4758 - val_accuracy: 0.8560\n",
            "Epoch 9/10\n",
            "176/176 [==============================] - 12s 67ms/step - loss: 0.0239 - accuracy: 0.9937 - val_loss: 0.5389 - val_accuracy: 0.8612\n",
            "Epoch 10/10\n",
            "176/176 [==============================] - 12s 67ms/step - loss: 0.0147 - accuracy: 0.9963 - val_loss: 0.5988 - val_accuracy: 0.8648\n"
          ]
        }
      ],
      "source": [
        "history=model.fit(x_train, y_train_one_hot, epochs=10,\n",
        "                  batch_size=128, validation_split=0.1)"
      ]
    },
    {
      "cell_type": "code",
      "execution_count": 14,
      "metadata": {
        "colab": {
          "base_uri": "https://localhost:8080/",
          "height": 449
        },
        "id": "mOXDVlUp1j2K",
        "outputId": "04d31e2c-d62c-47dd-d61e-026d73f264fa"
      },
      "outputs": [
        {
          "output_type": "display_data",
          "data": {
            "text/plain": [
              "<Figure size 640x480 with 1 Axes>"
            ],
            "image/png": "[encoded data removed]"
          },
          "metadata": {}
        }
      ],
      "source": [
        "import matplotlib.pyplot as plt\n",
        "plt.plot(history.history['loss'])\n",
        "plt.plot(history.history['val_loss'])\n",
        "plt.xlabel('epoch')\n",
        "plt.ylabel('loss')\n",
        "plt.legend(['train', 'val'])\n",
        "plt.show()"
      ]
    },
    {
      "cell_type": "code",
      "execution_count": 15,
      "metadata": {
        "colab": {
          "base_uri": "https://localhost:8080/"
        },
        "id": "Gg4soylm1j2L",
        "outputId": "7e940a34-0371-4b0f-ecd7-f37172d1046c"
      },
      "outputs": [
        {
          "output_type": "stream",
          "name": "stdout",
          "text": [
            "782/782 [==============================] - 9s 12ms/step - loss: 0.6483 - accuracy: 0.8532\n"
          ]
        }
      ],
      "source": [
        "test_loss, test_acc = model.evaluate(x_test,y_test_one_hot)"
      ]
    },
    {
      "cell_type": "code",
      "execution_count": 16,
      "metadata": {
        "colab": {
          "base_uri": "https://localhost:8080/"
        },
        "id": "1PliyYZn1j2L",
        "outputId": "fd724b00-f45a-471d-8b30-e58a0fcfce83"
      },
      "outputs": [
        {
          "output_type": "stream",
          "name": "stdout",
          "text": [
            "test_acc: 0.85316002368927\n"
          ]
        }
      ],
      "source": [
        "print('test_acc:', test_acc)"
      ]
    },
    {
      "cell_type": "code",
      "execution_count": 17,
      "metadata": {
        "colab": {
          "base_uri": "https://localhost:8080/"
        },
        "id": "GkZEPUZJ1j2L",
        "outputId": "656d9c89-6c0b-420d-f7de-f03ce405251a"
      },
      "outputs": [
        {
          "output_type": "stream",
          "name": "stdout",
          "text": [
            "782/782 [==============================] - 8s 10ms/step\n"
          ]
        }
      ],
      "source": [
        "preds = model.predict(x_test)"
      ]
    },
    {
      "cell_type": "code",
      "execution_count": 18,
      "metadata": {
        "id": "SScPl7wR1j2L"
      },
      "outputs": [],
      "source": [
        "import numpy as np\n",
        "labels=[0,1]\n",
        "preds1 = [labels[np.argmax(probs)] for probs in preds]"
      ]
    },
    {
      "cell_type": "code",
      "execution_count": 19,
      "metadata": {
        "colab": {
          "base_uri": "https://localhost:8080/"
        },
        "id": "jqQc5sV51j2L",
        "outputId": "8cc39ad1-3ed4-4684-edda-ee9826e774e1"
      },
      "outputs": [
        {
          "output_type": "execute_result",
          "data": {
            "text/plain": [
              "0"
            ]
          },
          "metadata": {},
          "execution_count": 19
        }
      ],
      "source": [
        "preds1[0]"
      ]
    },
    {
      "cell_type": "code",
      "execution_count": 20,
      "metadata": {
        "colab": {
          "base_uri": "https://localhost:8080/"
        },
        "id": "U1XeczM_1j2M",
        "outputId": "55fba6df-d147-4898-b610-710cba7aaf9a"
      },
      "outputs": [
        {
          "output_type": "execute_result",
          "data": {
            "text/plain": [
              "array([[10410,  2090],\n",
              "       [ 1581, 10919]])"
            ]
          },
          "metadata": {},
          "execution_count": 20
        }
      ],
      "source": [
        "from sklearn.metrics import confusion_matrix\n",
        "confusion_matrix(y_test, preds1)"
      ]
    },
    {
      "cell_type": "code",
      "execution_count": 21,
      "metadata": {
        "id": "hpectNn01j2M"
      },
      "outputs": [],
      "source": [
        "from sklearn.metrics import classification_report"
      ]
    },
    {
      "cell_type": "code",
      "execution_count": 22,
      "metadata": {
        "colab": {
          "base_uri": "https://localhost:8080/"
        },
        "id": "q9c8mh3q1j2M",
        "outputId": "78bb1442-5634-4118-978d-3b76d4c0d9b1"
      },
      "outputs": [
        {
          "output_type": "stream",
          "name": "stdout",
          "text": [
            "              precision    recall  f1-score   support\n",
            "\n",
            "           0       0.87      0.83      0.85     12500\n",
            "           1       0.84      0.87      0.86     12500\n",
            "\n",
            "    accuracy                           0.85     25000\n",
            "   macro avg       0.85      0.85      0.85     25000\n",
            "weighted avg       0.85      0.85      0.85     25000\n",
            "\n"
          ]
        }
      ],
      "source": [
        "print(classification_report(y_test, preds1))"
      ]
    },
    {
      "cell_type": "code",
      "execution_count": null,
      "metadata": {
        "id": "4LHII9UE1j2M"
      },
      "outputs": [],
      "source": []
    }
  ],
  "metadata": {
    "kernelspec": {
      "display_name": "Python 3 (ipykernel)",
      "language": "python",
      "name": "python3"
    },
    "language_info": {
      "codemirror_mode": {
        "name": "ipython",
        "version": 3
      },
      "file_extension": ".py",
      "mimetype": "text/x-python",
      "name": "python",
      "nbconvert_exporter": "python",
      "pygments_lexer": "ipython3",
      "version": "3.8.5"
    },
    "colab": {
      "provenance": []
    }
  },
  "nbformat": 4,
  "nbformat_minor": 0
}