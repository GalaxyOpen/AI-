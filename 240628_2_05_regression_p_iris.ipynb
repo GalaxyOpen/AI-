{
  "nbformat": 4,
  "nbformat_minor": 0,
  "metadata": {
    "colab": {
      "provenance": []
    },
    "kernelspec": {
      "name": "python3",
      "display_name": "Python 3"
    },
    "language_info": {
      "name": "python"
    }
  },
  "cells": [
    {
      "cell_type": "markdown",
      "source": [
        "아이리스(Iris) 데이터셋의 첫 세 가지 변수, 꽃받침의 길이(sepal length), 꽃받침의 너비(sepal width), 그리고 꽃잎의 길이(petal length)를 사용 <br>\n",
        "꽃잎의 너비(petal width)를 예측하는 다중 선형 회귀 모델 개발"
      ],
      "metadata": {
        "id": "iDV43uaUEt6L"
      }
    },
    {
      "cell_type": "code",
      "execution_count": 10,
      "metadata": {
        "id": "H9w4zM0HCDNb"
      },
      "outputs": [],
      "source": [
        "from sklearn import datasets\n",
        "from sklearn.linear_model import LinearRegression\n",
        "from sklearn.model_selection import train_test_split\n",
        "from sklearn.metrics import mean_squared_error, r2_score\n",
        "import matplotlib.pyplot as plt"
      ]
    },
    {
      "cell_type": "code",
      "source": [
        "# Load the iris dataset\n",
        "iris = datasets.load_iris()\n",
        "X = iris.data[:, :3]  # we only take the first three features.\n",
        "y = iris.data[:, 3]   # target is the petal width"
      ],
      "metadata": {
        "id": "S2i9NNz6CpjE"
      },
      "execution_count": 4,
      "outputs": []
    },
    {
      "cell_type": "code",
      "source": [
        "# Split the data into training/testing sets\n",
        "X_train, X_test, y_train, y_test = train_test_split(X, y, test_size=0.2, random_state=0)"
      ],
      "metadata": {
        "id": "K9g6_5hrCscL"
      },
      "execution_count": 5,
      "outputs": []
    }
  ]
}