{
 "cells": [
  {
   "cell_type": "markdown",
   "id": "98527dae",
   "metadata": {},
   "source": [
    "# 0. 라이브러리 및 데이터 불러오기\n",
    "\n",
    "* pip install tensorflow"
   ]
  },
  {
   "cell_type": "code",
   "execution_count": 1,
   "id": "30e65db3",
   "metadata": {},
   "outputs": [],
   "source": [
    "import numpy as np\n",
    "import pandas as pd\n",
    "import seaborn as sns\n",
    "\n",
    "import matplotlib as mpl\n",
    "import matplotlib.pyplot as plt\n",
    "import matplotlib_inline.backend_inline\n",
    "\n",
    "import sklearn\n",
    "from sklearn.model_selection import train_test_split\n",
    "from sklearn.preprocessing import MinMaxScaler\n",
    "from sklearn.ensemble import RandomForestClassifier\n",
    "from sklearn import metrics\n",
    "from sklearn.datasets import load_breast_cancer\n",
    "from sklearn.datasets import load_digits\n",
    "\n",
    "import tensorflow\n",
    "from tensorflow.keras.utils import to_categorical\n",
    "from tensorflow.keras.models import Sequential\n",
    "from tensorflow.keras.layers import Dense\n",
    "\n",
    "import random"
   ]
  },
  {
   "cell_type": "code",
   "execution_count": 2,
   "id": "d54b1e49",
   "metadata": {},
   "outputs": [
    {
     "name": "stdout",
     "output_type": "stream",
     "text": [
      "library version check\n",
      "numpy:  1.23.5\n",
      "pandas:  1.5.1\n",
      "seaborn:  0.12.1\n",
      "matplotlib:  3.6.2\n",
      "sklearn:  1.1.3\n",
      "tensorflow:  2.10.0\n"
     ]
    }
   ],
   "source": [
    "print(\"library version check\")\n",
    "print(\"numpy: \", np.__version__)\n",
    "print(\"pandas: \", pd.__version__)\n",
    "print(\"seaborn: \", sns.__version__)\n",
    "print(\"matplotlib: \", mpl.__version__)\n",
    "print(\"sklearn: \", sklearn.__version__)\n",
    "print(\"tensorflow: \", tensorflow.__version__)"
   ]
  },
  {
   "cell_type": "code",
   "execution_count": 3,
   "id": "ed31c0bb",
   "metadata": {},
   "outputs": [],
   "source": [
    "matplotlib_inline.backend_inline.set_matplotlib_formats(\"png2x\")\n",
    "mpl.style.use(\"default\")\n",
    "mpl.rcParams.update({\"figure.constrained_layout.use\": True})\n",
    "\n",
    "sns.set_context(\"paper\") \n",
    "sns.set_palette(\"Set2\") \n",
    "sns.set_style(\"whitegrid\") \n",
    "\n",
    "plt.rc(\"font\", family = \"Malgun Gothic\")\n",
    "plt.rcParams[\"axes.unicode_minus\"] = False"
   ]
  },
  {
   "cell_type": "markdown",
   "id": "523b353d",
   "metadata": {},
   "source": [
    "# 1. 단층신경망"
   ]
  },
  {
   "cell_type": "code",
   "execution_count": 4,
   "id": "0695a310",
   "metadata": {},
   "outputs": [],
   "source": [
    "random.seed(42)\n",
    "\n",
    "# 입력노드 수 = feature 수\n",
    "input_node = 4\n",
    "# 출력노드 수\n",
    "output_node = 3\n",
    "\n",
    "#모델\n",
    "model = Sequential()\n",
    "model.add(Dense(output_node, \n",
    "                activation = \"softmax\",\n",
    "                input_shape = (input_node,) \n",
    "               ))"
   ]
  },
  {
   "cell_type": "markdown",
   "id": "d1c693e7",
   "metadata": {},
   "source": [
    "$$\n",
    "\\mathbf{w} = \\left[\n",
    "\\begin{matrix}\n",
    "    w_{1,1} & w_{1,2} & w_{1,3} & w_{1,4} \\\\\n",
    "    w_{2,1} & w_{2,2} & w_{2,3} & w_{2,4} \\\\\n",
    "    w_{3,1} & w_{3,2} & w_{3,3} & w_{3,4} \\\\\n",
    "\\end{matrix}\n",
    "\\right], \\quad\n",
    "\\mathbf{x} = \n",
    "\\left[\n",
    "\\begin{matrix}\n",
    "    x_1 \\\\\n",
    "    x_2 \\\\ \n",
    "    x_3 \\\\\n",
    "    x_4\n",
    "\\end{matrix}\n",
    "\\right],\\quad\n",
    "\\mathbf{b} = \\left[\n",
    "\\begin{matrix}\n",
    "    b_1 \\\\\n",
    "    b_2 \\\\ \n",
    "    b_3\n",
    "\\end{matrix}\n",
    "\\right]\n",
    "$$\n",
    "\n",
    "\n",
    "$$\n",
    "\\mathbf{u} = \\mathbf{w}\\mathbf{x}+\\mathbf{b} = \\left[\n",
    "\\begin{matrix}\n",
    "    w_{1,1} & w_{1,2} & w_{1,3} & w_{1,4} \\\\\n",
    "    w_{2,1} & w_{2,2} & w_{2,3} & w_{2,4} \\\\\n",
    "    w_{3,1} & w_{3,2} & w_{3,3} & w_{3,4} \\\\\n",
    "\\end{matrix}\n",
    "\\right]\n",
    "\\left[\n",
    "\\begin{matrix}\n",
    "    x_1 \\\\\n",
    "    x_2 \\\\ \n",
    "    x_3 \\\\\n",
    "    x_4\n",
    "\\end{matrix}\n",
    "\\right]\n",
    "+ \\left[\n",
    "\\begin{matrix}\n",
    "    b_1 \\\\\n",
    "    b_2 \\\\ \n",
    "    b_3\n",
    "\\end{matrix}\n",
    "\\right]\n",
    "$$\n",
    "\n",
    "$$\n",
    "\\mathbf{z} = f(\\mathbf{u})\n",
    "$$\n",
    "\n",
    "이 경우는 다중분류이므로 출력층의 활성함수(activattion function)는 softmax이다. 즉, \n",
    "\n",
    "$$\n",
    "f(u_i) = \\frac{exp(u_i)}{\\sum_{j=1}^Kexp(u_j)}.\n",
    "$$\n",
    "\n",
    "여기서, $K$는 클래스의 수이다."
   ]
  },
  {
   "cell_type": "code",
   "execution_count": 5,
   "id": "07194817",
   "metadata": {},
   "outputs": [
    {
     "data": {
      "text/plain": [
       "[array([[ 0.66323733,  0.30112958, -0.26161683],\n",
       "        [ 0.8332188 , -0.781279  ,  0.28206468],\n",
       "        [ 0.8711965 , -0.61490726,  0.0440492 ],\n",
       "        [ 0.24211967, -0.7658045 , -0.09932661]], dtype=float32),\n",
       " array([0., 0., 0.], dtype=float32)]"
      ]
     },
     "execution_count": 5,
     "metadata": {},
     "output_type": "execute_result"
    }
   ],
   "source": [
    "model.get_weights()"
   ]
  },
  {
   "cell_type": "code",
   "execution_count": 6,
   "id": "ec750c42",
   "metadata": {},
   "outputs": [
    {
     "data": {
      "text/plain": [
       "array([[ 0.66323733,  0.30112958, -0.26161683],\n",
       "       [ 0.8332188 , -0.781279  ,  0.28206468],\n",
       "       [ 0.8711965 , -0.61490726,  0.0440492 ],\n",
       "       [ 0.24211967, -0.7658045 , -0.09932661]], dtype=float32)"
      ]
     },
     "execution_count": 6,
     "metadata": {},
     "output_type": "execute_result"
    }
   ],
   "source": [
    "w = model.get_weights()[0]\n",
    "b = model.get_weights()[1]\n",
    "w"
   ]
  },
  {
   "cell_type": "code",
   "execution_count": 7,
   "id": "60edc519",
   "metadata": {},
   "outputs": [
    {
     "data": {
      "text/plain": [
       "array([[ 0.66323733,  0.8332188 ,  0.8711965 ,  0.24211967],\n",
       "       [ 0.30112958, -0.781279  , -0.61490726, -0.7658045 ],\n",
       "       [-0.26161683,  0.28206468,  0.0440492 , -0.09932661]],\n",
       "      dtype=float32)"
      ]
     },
     "execution_count": 7,
     "metadata": {},
     "output_type": "execute_result"
    }
   ],
   "source": [
    "w.T"
   ]
  },
  {
   "cell_type": "code",
   "execution_count": 8,
   "id": "90be4206",
   "metadata": {},
   "outputs": [
    {
     "data": {
      "text/plain": [
       "(4,)"
      ]
     },
     "execution_count": 8,
     "metadata": {},
     "output_type": "execute_result"
    }
   ],
   "source": [
    "data = np.array([5.1, 3.5, 1.4, 0.2])\n",
    "data.shape"
   ]
  },
  {
   "cell_type": "code",
   "execution_count": 9,
   "id": "faa708b9",
   "metadata": {},
   "outputs": [
    {
     "data": {
      "text/plain": [
       "array([[5.1, 3.5, 1.4, 0.2]])"
      ]
     },
     "execution_count": 9,
     "metadata": {},
     "output_type": "execute_result"
    }
   ],
   "source": [
    "np.reshape(data, (1,4))"
   ]
  },
  {
   "cell_type": "code",
   "execution_count": 10,
   "id": "b6b8c8fb",
   "metadata": {},
   "outputs": [
    {
     "name": "stdout",
     "output_type": "stream",
     "text": [
      "1/1 [==============================] - 0s 234ms/step\n"
     ]
    },
    {
     "data": {
      "text/plain": [
       "array([[9.995623e-01, 5.656841e-05, 3.810694e-04]], dtype=float32)"
      ]
     },
     "execution_count": 10,
     "metadata": {},
     "output_type": "execute_result"
    }
   ],
   "source": [
    "model.predict(np.reshape(data, (1,4)))"
   ]
  },
  {
   "cell_type": "code",
   "execution_count": 11,
   "id": "3e952973",
   "metadata": {},
   "outputs": [
    {
     "data": {
      "text/plain": [
       "array([ 7.56687529, -2.21274682, -0.30521588])"
      ]
     },
     "execution_count": 11,
     "metadata": {},
     "output_type": "execute_result"
    }
   ],
   "source": [
    "np.matmul(data, w)\n",
    "\n",
    "#같은 결과\n",
    "#np.matmul(w.T, data)"
   ]
  },
  {
   "cell_type": "markdown",
   "id": "46efc66a",
   "metadata": {},
   "source": [
    "$$\n",
    "\\mathbf{u} = \\mathbf{w}\\mathbf{x}+\\mathbf{b} = \\left[\n",
    "\\begin{matrix}\n",
    "    w_{1,1} & w_{1,2} & w_{1,3} & w_{1,4} \\\\\n",
    "    w_{2,1} & w_{2,2} & w_{2,3} & w_{2,4} \\\\\n",
    "    w_{3,1} & w_{3,2} & w_{3,3} & w_{3,4} \\\\\n",
    "\\end{matrix}\n",
    "\\right]\n",
    "\\left[\n",
    "\\begin{matrix}\n",
    "    x_1 \\\\\n",
    "    x_2 \\\\ \n",
    "    x_3 \\\\\n",
    "    x_4\n",
    "\\end{matrix}\n",
    "\\right]\n",
    "+ \\left[\n",
    "\\begin{matrix}\n",
    "    b_1 \\\\\n",
    "    b_2 \\\\ \n",
    "    b_3\n",
    "\\end{matrix}\n",
    "\\right]\n",
    "$$\n",
    "\n",
    "$$\n",
    "\\mathbf{z} = f(\\mathbf{u}), \n",
    "$$\n",
    "\n",
    "이 경우는 다중분류이므로 출력층의 활성함수(activattion function)는 softmax이다. 즉, \n",
    "\n",
    "$$\n",
    "f(u_i) = \\frac{exp(u_i)}{\\sum_{j=1}^Kexp(u_j)}.\n",
    "$$\n",
    "\n",
    "여기서, $K$는 클래스의 수이다."
   ]
  },
  {
   "cell_type": "code",
   "execution_count": 12,
   "id": "ddcb3a56",
   "metadata": {},
   "outputs": [
    {
     "data": {
      "text/plain": [
       "array([ 7.56687529, -2.21274682, -0.30521588])"
      ]
     },
     "execution_count": 12,
     "metadata": {},
     "output_type": "execute_result"
    }
   ],
   "source": [
    "u = np.matmul(w.T, data) + b\n",
    "u"
   ]
  },
  {
   "cell_type": "code",
   "execution_count": 13,
   "id": "e885f76a",
   "metadata": {},
   "outputs": [],
   "source": [
    "def softmax(t):\n",
    "    return np.exp(t)/np.sum(np.exp(t))"
   ]
  },
  {
   "cell_type": "code",
   "execution_count": 15,
   "id": "b767c382",
   "metadata": {},
   "outputs": [
    {
     "name": "stdout",
     "output_type": "stream",
     "text": [
      "1/1 [==============================] - 0s 61ms/step\n"
     ]
    },
    {
     "data": {
      "text/plain": [
       "array([[9.995623e-01, 5.656841e-05, 3.810694e-04]], dtype=float32)"
      ]
     },
     "execution_count": 15,
     "metadata": {},
     "output_type": "execute_result"
    }
   ],
   "source": [
    "model.predict(np.reshape(data, (1,4)))"
   ]
  },
  {
   "cell_type": "code",
   "execution_count": 14,
   "id": "f6a84106",
   "metadata": {},
   "outputs": [
    {
     "data": {
      "text/plain": [
       "array([9.99562362e-01, 5.65684108e-05, 3.81069453e-04])"
      ]
     },
     "execution_count": 14,
     "metadata": {},
     "output_type": "execute_result"
    }
   ],
   "source": [
    "softmax(u)"
   ]
  },
  {
   "cell_type": "markdown",
   "id": "6dd7d372",
   "metadata": {},
   "source": [
    "**초기 가중치 문제**\n",
    "* 가중치 초기화 방법을 따로 설정해 주지 않으면 일정 구간 내에서 랜덤하게 찍는 random_uniform으로 정해짐\n",
    "* 이 방식은 오차 역전파(back propagation) 과정에서 미분한 gradient가 지나치게 커지거나(exploding gradient) 소실되는(vanishing gradient) 문제가 발생할 수 있음\n",
    "* 따라서, 어떻게 가중치를 초기화할 것인가에 대한 지속적인 연구가 진행되고 있음\n",
    "\n",
    "* lecun_uniform, lecun_normal: 98년도에 얀 르쿤(CNN 제안)이 제기한 방법\n",
    "* glorot_uniform, glorot_normal\n",
    "* he_uniform, he_normal: ResNet으로도 유명한 마이크로소프트(현재는 Facebook)의 Kaiming He가 2015년에 제안"
   ]
  },
  {
   "cell_type": "code",
   "execution_count": null,
   "id": "b0674ec6",
   "metadata": {},
   "outputs": [],
   "source": []
  }
 ],
 "metadata": {
  "hide_input": false,
  "kernelspec": {
   "display_name": "Python 3 (ipykernel)",
   "language": "python",
   "name": "python3"
  },
  "language_info": {
   "codemirror_mode": {
    "name": "ipython",
    "version": 3
   },
   "file_extension": ".py",
   "mimetype": "text/x-python",
   "name": "python",
   "nbconvert_exporter": "python",
   "pygments_lexer": "ipython3",
   "version": "3.8.15"
  },
  "toc": {
   "base_numbering": 1,
   "nav_menu": {},
   "number_sections": true,
   "sideBar": true,
   "skip_h1_title": false,
   "title_cell": "Table of Contents",
   "title_sidebar": "Contents",
   "toc_cell": false,
   "toc_position": {},
   "toc_section_display": true,
   "toc_window_display": false
  }
 },
 "nbformat": 4,
 "nbformat_minor": 5
}
