{
  "nbformat": 4,
  "nbformat_minor": 0,
  "metadata": {
    "colab": {
      "provenance": []
    },
    "kernelspec": {
      "name": "python3",
      "display_name": "Python 3"
    },
    "language_info": {
      "name": "python"
    }
  },
  "cells": [
    {
      "cell_type": "code",
      "source": [
        "import numpy as np\n",
        "import tensorflow as tf\n",
        "from tensorflow.keras.models import Model\n",
        "from tensorflow.keras.layers import Input, LSTM, Dense\n"
      ],
      "metadata": {
        "id": "DcQmGTA6FWuO"
      },
      "execution_count": null,
      "outputs": []
    },
    {
      "cell_type": "markdown",
      "source": [
        "모델설계"
      ],
      "metadata": {
        "id": "zRL9dR7YFe0q"
      }
    },
    {
      "cell_type": "code",
      "source": [
        "# 인코더\n",
        "encoder_inputs = Input(shape=(None, 50))\n",
        "encoder_lstm = LSTM(256, return_state=True) # LSTM 레이어 사용\n",
        "\n",
        "encoder_outputs, state_h, state_c = encoder_lstm(encoder_inputs)\n",
        "# encoder_outputs: 층의 타임 스텝에서의 출력 정보(출력 상태)\n",
        "# state_h, state_c: hidden state, cell state\n",
        "\n",
        "encoder_states = [state_h, state_c]\n",
        " # 디코더에 전달될 인코더 정보(최종 상태) state_h , state_c\n",
        "\n",
        "\n",
        "\n",
        "# 인코더\n",
        "# 입력 시퀀스 -> hidden state (고정된 크기의 컨텍스트 벡터)  변환\n",
        "# hidden state 벡터 : 입력 데이터의 전체 정보 압축 표현(일정 크기)\n",
        "# RNN, LSTM, GRU 구조 사용"
      ],
      "metadata": {
        "id": "WnYP_ICLFaHB"
      },
      "execution_count": null,
      "outputs": []
    },
    {
      "cell_type": "code",
      "source": [
        "# 디코더\n",
        "decoder_inputs = Input(shape=(None, 50))\n",
        "decoder_lstm = LSTM(256, return_sequences=True, return_state=True)\n",
        "\n",
        "decoder_outputs, _, _ = decoder_lstm(decoder_inputs, initial_state=encoder_states)\n",
        "   # 인코더로부터 전달받은 정보를 (encoder_states : [state_h, state_c])를 초기 state로 사용\n",
        "decoder_dense = Dense(50, activation='softmax')\n",
        "   # 출력 클래스(50개 ex, 다음 단어)에 대한 확률 분포 생성\n",
        "decoder_outputs = decoder_dense(decoder_outputs)"
      ],
      "metadata": {
        "id": "2OPDmzUFFeOd"
      },
      "execution_count": null,
      "outputs": []
    },
    {
      "cell_type": "code",
      "source": [
        "# 모델 컴파일\n",
        "model = Model([encoder_inputs, decoder_inputs], decoder_outputs)\n",
        "model.compile(optimizer='adam', loss='categorical_crossentropy', metrics=['accuracy'])"
      ],
      "metadata": {
        "id": "hVeOdG25Fi_o"
      },
      "execution_count": null,
      "outputs": []
    },
    {
      "cell_type": "code",
      "source": [
        "# 모델 요약\n",
        "model.summary()"
      ],
      "metadata": {
        "colab": {
          "base_uri": "https://localhost:8080/"
        },
        "id": "MwLHqeyRFlEK",
        "outputId": "b4fb04ab-9bb7-4f69-dc3c-371e36647dbd"
      },
      "execution_count": null,
      "outputs": [
        {
          "output_type": "stream",
          "name": "stdout",
          "text": [
            "Model: \"model_3\"\n",
            "__________________________________________________________________________________________________\n",
            " Layer (type)                Output Shape                 Param #   Connected to                  \n",
            "==================================================================================================\n",
            " input_5 (InputLayer)        [(None, None, 50)]           0         []                            \n",
            "                                                                                                  \n",
            " input_6 (InputLayer)        [(None, None, 50)]           0         []                            \n",
            "                                                                                                  \n",
            " lstm_2 (LSTM)               [(None, 256),                314368    ['input_5[0][0]']             \n",
            "                              (None, 256),                                                        \n",
            "                              (None, 256)]                                                        \n",
            "                                                                                                  \n",
            " lstm_3 (LSTM)               [(None, None, 256),          314368    ['input_6[0][0]',             \n",
            "                              (None, 256),                           'lstm_2[0][1]',              \n",
            "                              (None, 256)]                           'lstm_2[0][2]']              \n",
            "                                                                                                  \n",
            " dense_1 (Dense)             (None, None, 50)             12850     ['lstm_3[0][0]']              \n",
            "                                                                                                  \n",
            "==================================================================================================\n",
            "Total params: 641586 (2.45 MB)\n",
            "Trainable params: 641586 (2.45 MB)\n",
            "Non-trainable params: 0 (0.00 Byte)\n",
            "__________________________________________________________________________________________________\n"
          ]
        }
      ]
    },
    {
      "cell_type": "markdown",
      "source": [
        "모델학습"
      ],
      "metadata": {
        "id": "G9lTDp7mFtC2"
      }
    },
    {
      "cell_type": "code",
      "source": [
        "# 입력, 출력 데이터 생성 (예시 데이터)\n",
        "encoder_input_data = np.random.rand(10000, 10, 50)  # 10000개 데이터(길이 10의 시퀀스, 각 시퀀스는 50차원 벡터)\n",
        "decoder_input_data = np.random.rand(10000, 10, 50)\n",
        "decoder_target_data = np.random.rand(10000, 10, 50)\n"
      ],
      "metadata": {
        "id": "kGbMMmWEFvxl"
      },
      "execution_count": null,
      "outputs": []
    },
    {
      "cell_type": "code",
      "source": [
        "encoder_input_data[0]"
      ],
      "metadata": {
        "id": "d0coZCIuF8f9"
      },
      "execution_count": null,
      "outputs": []
    },
    {
      "cell_type": "code",
      "source": [
        "# 모델 학습\n",
        "model.fit([encoder_input_data, decoder_input_data], decoder_target_data, batch_size=64, epochs=10, validation_split=0.2)"
      ],
      "metadata": {
        "colab": {
          "base_uri": "https://localhost:8080/"
        },
        "id": "2ztfGMwFGDtU",
        "outputId": "28aaa591-574b-4782-fe78-605c74050097"
      },
      "execution_count": null,
      "outputs": [
        {
          "output_type": "stream",
          "name": "stdout",
          "text": [
            "Epoch 1/10\n",
            "125/125 [==============================] - 21s 135ms/step - loss: 118.6560 - accuracy: 0.0202 - val_loss: 120.1655 - val_accuracy: 0.0195\n",
            "Epoch 2/10\n",
            "125/125 [==============================] - 16s 129ms/step - loss: 120.2139 - accuracy: 0.0198 - val_loss: 120.0013 - val_accuracy: 0.0195\n",
            "Epoch 3/10\n",
            "125/125 [==============================] - 17s 133ms/step - loss: 119.9472 - accuracy: 0.0198 - val_loss: 120.0142 - val_accuracy: 0.0195\n",
            "Epoch 4/10\n",
            "125/125 [==============================] - 17s 134ms/step - loss: 120.0157 - accuracy: 0.0198 - val_loss: 119.9015 - val_accuracy: 0.0195\n",
            "Epoch 5/10\n",
            "125/125 [==============================] - 15s 122ms/step - loss: 119.9717 - accuracy: 0.0198 - val_loss: 120.0202 - val_accuracy: 0.0195\n",
            "Epoch 6/10\n",
            "125/125 [==============================] - 15s 117ms/step - loss: 119.8603 - accuracy: 0.0198 - val_loss: 120.1582 - val_accuracy: 0.0195\n",
            "Epoch 7/10\n",
            "125/125 [==============================] - 15s 120ms/step - loss: 119.9594 - accuracy: 0.0198 - val_loss: 119.9063 - val_accuracy: 0.0195\n",
            "Epoch 8/10\n",
            "125/125 [==============================] - 16s 131ms/step - loss: 119.9102 - accuracy: 0.0198 - val_loss: 120.0524 - val_accuracy: 0.0195\n",
            "Epoch 9/10\n",
            "125/125 [==============================] - 17s 133ms/step - loss: 119.8993 - accuracy: 0.0198 - val_loss: 120.0659 - val_accuracy: 0.0195\n",
            "Epoch 10/10\n",
            "125/125 [==============================] - 15s 121ms/step - loss: 119.9619 - accuracy: 0.0198 - val_loss: 119.9852 - val_accuracy: 0.0195\n"
          ]
        },
        {
          "output_type": "execute_result",
          "data": {
            "text/plain": [
              "<keras.src.callbacks.History at 0x7c42c9b425f0>"
            ]
          },
          "metadata": {},
          "execution_count": 8
        }
      ]
    },
    {
      "cell_type": "code",
      "source": [
        "# 모델 평가\n",
        "# 학습된 모델을 평가하기 위해 테스트 데이터를 사용\n",
        "encoder_input_test = np.random.rand(2000, 10, 50)\n",
        "decoder_input_test = np.random.rand(2000, 10, 50)\n",
        "decoder_target_test = np.random.rand(2000, 10, 50)\n",
        "\n",
        "loss, accuracy = model.evaluate([encoder_input_test, decoder_input_test], decoder_target_test)\n",
        "print(f'Test Loss: {loss}, Test Accuracy: {accuracy}')\n"
      ],
      "metadata": {
        "colab": {
          "base_uri": "https://localhost:8080/"
        },
        "id": "hT-LoWQiGGYE",
        "outputId": "9d248636-4d92-4ea8-8e9f-6479fd487e64"
      },
      "execution_count": null,
      "outputs": [
        {
          "output_type": "stream",
          "name": "stdout",
          "text": [
            "63/63 [==============================] - 2s 27ms/step - loss: 120.1078 - accuracy: 0.0220\n",
            "Test Loss: 120.10777282714844, Test Accuracy: 0.02199999988079071\n"
          ]
        }
      ]
    },
    {
      "cell_type": "markdown",
      "source": [
        "예측 수행(모델 적용)"
      ],
      "metadata": {
        "id": "nYJ-h_koINSI"
      }
    },
    {
      "cell_type": "code",
      "source": [
        "# 인코더 - 새로운 입력 시퀀스를 받아 hidden state 계산\n",
        "encoder_model = Model(encoder_inputs, encoder_states)\n",
        " # encoder_inputs: 이전에 정의된, 훈련된 모델 (변수명 model)의 입력층\n",
        " # encoder_states: hidden state, cell state (LSTM)\n",
        "\n",
        "# 원본 model에서 LSTM 등의 레이어를 통해 학습된 가중치를 새로운 모델의 구성 요소로 재사용\n",
        "# 학습 단계에서 얻은 데이터의 표현(특징)을 추론 단계에서 활용"
      ],
      "metadata": {
        "id": "aiqey9S0i5lN"
      },
      "execution_count": null,
      "outputs": []
    },
    {
      "cell_type": "code",
      "source": [
        "# 디코더 입력\n",
        "decoder_state_input_h = Input(shape=(256,))\n",
        "decoder_state_input_c = Input(shape=(256,))\n",
        "decoder_states_inputs = [decoder_state_input_h, decoder_state_input_c]"
      ],
      "metadata": {
        "id": "WfREPjqhjphz"
      },
      "execution_count": null,
      "outputs": []
    },
    {
      "cell_type": "code",
      "source": [
        "# 디코더 출력\n",
        "decoder_outputs, state_h, state_c = decoder_lstm(\n",
        "    decoder_inputs, initial_state=decoder_states_inputs)\n",
        "decoder_states = [state_h, state_c]\n",
        "decoder_outputs = decoder_dense(decoder_outputs)"
      ],
      "metadata": {
        "id": "as5o7AjhnPMt"
      },
      "execution_count": null,
      "outputs": []
    },
    {
      "cell_type": "code",
      "source": [
        "\n",
        "\n",
        "# 디코더 모델 정의\n",
        "decoder_model = Model(\n",
        "    [decoder_inputs] + decoder_states_inputs,\n",
        "    [decoder_outputs] + decoder_states)\n",
        "\n",
        "# 시퀀스 종료 토큰과 최대 디코딩 시퀀스 길이 정의\n",
        "eos_token_index = 0  # 예시로 0번 인덱스를 종료 토큰으로 사용\n",
        "max_decoder_seq_length = 10"
      ],
      "metadata": {
        "id": "LMT_wnO4GMAx"
      },
      "execution_count": null,
      "outputs": []
    },
    {
      "cell_type": "code",
      "source": [
        "\n",
        "def decode_sequence(input_seq):\n",
        "    # 인코더에서 상태 벡터 얻기\n",
        "    states_value = encoder_model.predict(input_seq)\n",
        "\n",
        "    # 디코더 입력 준비 (시퀀스 시작 토큰)\n",
        "    target_seq = np.zeros((1, 1, 50))\n",
        "\n",
        "    # 시퀀스 종료 조건\n",
        "    stop_condition = False\n",
        "    decoded_sentence = []\n",
        "\n",
        "    while not stop_condition:\n",
        "        output_tokens, h, c = decoder_model.predict(\n",
        "            [target_seq] + states_value)\n",
        "\n",
        "        # 예측된 토큰을 디코딩하여 출력 시퀀스에 추가\n",
        "        sampled_token_index = np.argmax(output_tokens[0, -1, :])\n",
        "        sampled_token = sampled_token_index  # 예시에서는 인덱스 자체를 토큰으로 사용\n",
        "\n",
        "        decoded_sentence.append(sampled_token)\n",
        "\n",
        "        # 시퀀스 종료 조건\n",
        "        if (sampled_token == eos_token_index or\n",
        "           len(decoded_sentence) > max_decoder_seq_length):\n",
        "            stop_condition = True\n",
        "\n",
        "        # 디코더 입력 업데이트 (다음 입력 토큰)\n",
        "        target_seq = np.zeros((1, 1, 50))\n",
        "        target_seq[0, 0, sampled_token] = 1.0\n",
        "\n",
        "        # 상태 업데이트\n",
        "        states_value = [h, c]\n",
        "\n",
        "    return decoded_sentence\n",
        "\n"
      ],
      "metadata": {
        "id": "yZGI_rWUpiUk"
      },
      "execution_count": null,
      "outputs": []
    },
    {
      "cell_type": "code",
      "source": [
        "# 새로운 입력 시퀀스 (예시 데이터)\n",
        "new_encoder_input = np.random.rand(1, 10, 50)\n",
        "\n",
        "\n"
      ],
      "metadata": {
        "id": "Ci9cnAM4GPVx"
      },
      "execution_count": null,
      "outputs": []
    },
    {
      "cell_type": "code",
      "source": [
        "# 예측된 출력 시퀀스\n",
        "decoded_sentence = decode_sequence(new_encoder_input)\n",
        "print('Predicted sequence:', decoded_sentence)"
      ],
      "metadata": {
        "id": "jTZJBzwxGQgk"
      },
      "execution_count": null,
      "outputs": []
    }
  ]
}