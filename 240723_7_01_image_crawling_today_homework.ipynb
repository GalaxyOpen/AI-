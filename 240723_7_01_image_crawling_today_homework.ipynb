{
  "nbformat": 4,
  "nbformat_minor": 0,
  "metadata": {
    "colab": {
      "provenance": []
    },
    "kernelspec": {
      "name": "python3",
      "display_name": "Python 3"
    },
    "language_info": {
      "name": "python"
    }
  },
  "cells": [
    {
      "cell_type": "code",
      "execution_count": 1,
      "metadata": {
        "id": "dev9xZpR0m9e"
      },
      "outputs": [],
      "source": [
        "import requests\n",
        "from bs4 import BeautifulSoup\n"
      ]
    },
    {
      "cell_type": "code",
      "source": [
        "# 이미지 저장 디렉터리 생성\n",
        "import os\n",
        "os.makedirs('downloaded_images', exist_ok=True)\n"
      ],
      "metadata": {
        "id": "KZbQRh7M0u3n"
      },
      "execution_count": 2,
      "outputs": []
    },
    {
      "cell_type": "code",
      "source": [
        "# 위키미디어 공용의 특정 카테고리 URL\n",
        "img_url = 'https://commons.wikimedia.org/wiki/Category:Apple'\n",
        "# img_url = 'https://commons.wikimedia.org/wiki/Category:Bicycles'\n"
      ],
      "metadata": {
        "id": "oexY27Zu0u0d"
      },
      "execution_count": 3,
      "outputs": []
    },
    {
      "cell_type": "code",
      "source": [
        "response = requests.get(img_url)\n",
        "soup = BeautifulSoup(response.text, 'html.parser')\n"
      ],
      "metadata": {
        "id": "ShbBLSFP0ux4"
      },
      "execution_count": 4,
      "outputs": []
    },
    {
      "cell_type": "code",
      "source": [
        "########################################################################\n",
        "### Crawling & Labelling\n",
        "### 1. 폴더 구분"
      ],
      "metadata": {
        "id": "szKB7TMiZDDg"
      },
      "execution_count": 5,
      "outputs": []
    },
    {
      "cell_type": "code",
      "source": [
        "#### 크롤링을 통한 이미지 수집\n",
        "# 다운로드된 이미지 수\n",
        "downloaded_images = 0\n",
        "\n",
        "for item in soup.find_all('div', class_='gallerytext'):\n",
        "    if downloaded_images >= 10:  # 다운로드 이미지 갯수한정\n",
        "        break\n",
        "\n",
        "    a_tag = item.find('a')\n",
        "    if a_tag:\n",
        "        img_page_url = 'https://commons.wikimedia.org' + a_tag.get('href')\n",
        "\n",
        "        img_page_response = requests.get(img_page_url)\n",
        "        img_page_soup = BeautifulSoup(img_page_response.text, 'html.parser')\n",
        "        img_tag = img_page_soup.find('div', class_='fullImageLink').find('a')\n",
        "        img_url = img_tag.get('href')\n",
        "        print(img_url)\n",
        "        # 파일 확장자 검사\n",
        "        if img_url.lower().endswith(('.png', '.jpg', '.jpeg', '.gif')):\n",
        "            try:\n",
        "                headers = {'User-Agent': 'Mozilla/5.0 (Windows NT 10.0; Win64; x64) AppleWebKit/537.36 (KHTML, like Gecko) Chrome/58.0.3029.110 Safari/537.3'}\n",
        "                  # (일부)웹 서버에서 User-Agent 헤더를 검사, 브라우저가 아닌 클라이언트의 요청 차단\n",
        "                  # requests.get() 함수에 웹 브라우저의 User-Agent 값을 포함하는 헤더를 추가하여 다운로드 시도\n",
        "                img_data = requests.get(img_url, headers=headers).content\n",
        "\n",
        "                # Colab 루트 디렉토리에 'downloaded_images' 폴더를 생성하고 이미지 저장\n",
        "                # filename = os.path.join('/content/downloaded_images', img_url.split('/')[-1])\n",
        "                filename = '/content/m/'+img_url.split('/')[-1]\n",
        "\n",
        "                with open(filename, 'wb') as f:\n",
        "                    f.write(img_data)\n",
        "                print(f'이미지가 저장되었습니다: {filename}')\n",
        "                downloaded_images += 1\n",
        "            except Exception as e:\n",
        "                print(f\"이미지 다운로드 중 오류 발생: {e}\")\n",
        "        else:\n",
        "            print(f'지원되지 않는 파일 형식: {img_url}')"
      ],
      "metadata": {
        "id": "DrhB7lrF0uu1",
        "collapsed": true
      },
      "execution_count": 6,
      "outputs": []
    },
    {
      "cell_type": "markdown",
      "source": [],
      "metadata": {
        "id": "1lke-IZq8RjI"
      }
    },
    {
      "cell_type": "code",
      "source": [
        "########################################################################\n",
        "### Crawling & Labelling\n",
        "### 2. 파일명에 라벨 포함\n",
        "\n",
        "# filename = f'{category_prefix}_{downloaded_images+1}{file_extension}'"
      ],
      "metadata": {
        "id": "yrCUaqAF0ur5"
      },
      "execution_count": 7,
      "outputs": []
    },
    {
      "cell_type": "code",
      "source": [
        "# 이미지 저장 함수\n",
        "def download_images1(url, category_prefix):\n",
        "    # 이미지를 저장할 디렉터리 생성\n",
        "    # os.makedirs('downloaded_images/s', exist_ok=True)\n",
        "\n",
        "    response = requests.get(url)\n",
        "    soup = BeautifulSoup(response.text, 'html.parser')\n",
        "\n",
        "    # 다운로드된 이미지 수\n",
        "    downloaded_images = 0\n",
        "\n",
        "    for item in soup.find_all('div', class_='gallerytext'):\n",
        "        if downloaded_images >= 5:\n",
        "            break\n",
        "\n",
        "        a_tag = item.find('a')\n",
        "        if a_tag:\n",
        "            img_page_url = 'https://commons.wikimedia.org' + a_tag.get('href')\n",
        "\n",
        "            img_page_response = requests.get(img_page_url)\n",
        "            img_page_soup = BeautifulSoup(img_page_response.text, 'html.parser')\n",
        "            img_tag = img_page_soup.find('div', class_='fullImageLink').find('a')\n",
        "            img_url = img_tag.get('href')\n",
        "            # print(img_url)\n",
        "\n",
        "            # 파일 확장자 검사 및 파일 이름 생성\n",
        "            # file_extension = os.path.splitext(img_url)[1]\n",
        "            file_extension = img_url.split('.')[-1]\n",
        "            # print(file_extension.lower())\n",
        "\n",
        "            filename = f'{category_prefix}_{downloaded_images+1}{file_extension}'\n",
        "            # filepath = os.path.join('downloaded_images/s', filename)\n",
        "            filepath = filename\n",
        "\n",
        "            if file_extension.lower() in ('png', 'jpg', 'jpeg', 'gif'):\n",
        "                try:\n",
        "                    headers = {'User-Agent': 'Mozilla/5.0 (Windows NT 10.0; Win64; x64) AppleWebKit/537.36 (KHTML, like Gecko) Chrome/58.0.3029.110 Safari/537.3'}\n",
        "                    img_data = requests.get(img_url, headers=headers).content\n",
        "                    with open(filepath, 'wb') as f:\n",
        "                        f.write(img_data)\n",
        "                    print(f'이미지가 저장되었습니다: {filepath}')\n",
        "                    downloaded_images += 1\n",
        "                except Exception as e:\n",
        "                    print(f\"이미지 다운로드 중 오류 발생: {e}\")\n",
        "            else:\n",
        "                print(f'지원되지 않는 파일 형식: {img_url}')"
      ],
      "metadata": {
        "id": "MKhZKcLn8EQ1"
      },
      "execution_count": 8,
      "outputs": []
    },
    {
      "cell_type": "code",
      "source": [
        "url_m = 'https://commons.wikimedia.org/wiki/Category:Mouse'\n",
        "url_b = 'https://commons.wikimedia.org/wiki/Category:Apple'\n",
        "\n",
        "download_images1(url_m, 'm')  # 산 이미지에 'm' 접두사 추가. 이 m에 라벨 정보가 있는 것\n",
        "download_images1(url_b, 'b')  # 자전거 이미지에 'b' 접두사 추가. 이 b에 라벨 정보가 있는 것"
      ],
      "metadata": {
        "id": "1v1kvePS8IKb"
      },
      "execution_count": 10,
      "outputs": []
    },
    {
      "cell_type": "code",
      "source": [
        "########################################################################\n",
        "### Crawling & Labelling\n",
        "### 3. 라벨 파일을 별도로 작업 -> index로 매칭\n",
        "\n",
        "# filename = f'{category_prefix}_{downloaded_images+1}{file_extension}'"
      ],
      "metadata": {
        "id": "MefRxmJxAMGk"
      },
      "execution_count": 9,
      "outputs": []
    },
    {
      "cell_type": "code",
      "source": [
        "import requests\n",
        "from bs4 import BeautifulSoup\n",
        "import os\n",
        "import csv\n"
      ],
      "metadata": {
        "id": "3pup0id1AyQx"
      },
      "execution_count": 11,
      "outputs": []
    },
    {
      "cell_type": "code",
      "source": [
        "# # 이미지 저장 함수\n",
        "# def download_images3(url, category_prefix):\n",
        "\n",
        "#     # 클래스 정보가 포함된 CSV 파일 생성\n",
        "#     with open('image_labels.b.csv', 'w', newline='', encoding='utf-8') as file:\n",
        "#         writer = csv.writer(file)\n",
        "#         writer.writerow(['image_name', 'class'])  # CSV 파일 헤더\n",
        "\n",
        "#         response = requests.get(url)\n",
        "#         soup = BeautifulSoup(response.text, 'html.parser')\n",
        "\n",
        "#         # 다운로드된 이미지 수\n",
        "#         downloaded_images = 0\n",
        "\n",
        "#         for item in soup.find_all('div', class_='gallerytext'):\n",
        "#             if downloaded_images >= 50:\n",
        "#                 break\n",
        "\n",
        "#             a_tag = item.find('a')\n",
        "#             if a_tag:\n",
        "#                 img_page_url = 'https://commons.wikimedia.org' + a_tag.get('href')\n",
        "#                 img_page_response = requests.get(img_page_url)\n",
        "#                 img_page_soup = BeautifulSoup(img_page_response.text, 'html.parser')\n",
        "\n",
        "#                 # Check if the element exists before proceeding\n",
        "#                 img_div = img_page_soup.find('div', class_='fullImageLink')\n",
        "#                 if img_div:\n",
        "#                     img_tag = img_div.find('a')\n",
        "#                     if img_tag:\n",
        "#                         img_url = img_tag.get('href')\n",
        "\n",
        "#                 # 파일 확장자 검사 및 파일 이름 생성\n",
        "#                 file_extension = img_url.split('.')[-1]\n",
        "#                 filename = f'{category_prefix}_{downloaded_images+1}{file_extension}'\n",
        "#                 filepath = '/content/b/'+filename\n",
        "#                 #filepath = filename\n",
        "\n",
        "#                 # HEAD 요청을 보내어 파일 사이즈 확인\n",
        "#                 head_response = requests.head(img_url)\n",
        "#                 size_bytes = int(head_response.headers.get('content-length', 0))\n",
        "\n",
        "#                 # 파일 사이즈가 max_size_bytes 이하인 경우에만 다운로드\n",
        "#                 max_size_bytes = 100000\n",
        "#                 if size_bytes <= max_size_bytes:\n",
        "#                     if file_extension.lower() in ('jpg'): # ('.png', '.jpg', '.jpeg', '.gif'):\n",
        "#                         try:\n",
        "#                             headers = {\n",
        "#                                 'User-Agent': 'Mozilla/5.0 (Windows NT 10.0; Win64; x64) AppleWebKit/537.36 (KHTML, like Gecko) Chrome/58.0.3029.110 Safari/537.3'\n",
        "#                             }\n",
        "#                             print(size_bytes)\n",
        "#                             img_data = requests.get(img_url, headers=headers).content\n",
        "#                             with open(filepath, 'wb') as f:\n",
        "#                                 f.write(img_data)\n",
        "#                             print(f'이미지가 저장되었습니다: {filepath}')\n",
        "#                             downloaded_images += 1\n",
        "\n",
        "#                             # 이미지 이름과 클래스 정보를 CSV 파일에 기록\n",
        "#                             writer.writerow([filename, category_prefix])\n",
        "#                         except Exception as e:\n",
        "#                             print(f\"이미지 다운로드 중 오류 발생: {e}\")\n",
        "#                     else:\n",
        "#                         print(f'지원되지 않는 파일 형식: {img_url}')\n",
        "#                 else:\n",
        "#                     print(f'파일이 너무 큽니다 (사이즈: {size_bytes} 바이트)')"
      ],
      "metadata": {
        "id": "uLy4KByKAMqa"
      },
      "execution_count": 12,
      "outputs": []
    },
    {
      "cell_type": "code",
      "source": [
        "import requests\n",
        "from bs4 import BeautifulSoup\n",
        "import os\n",
        "import csv\n",
        "\n",
        "# 이미지 저장 함수\n",
        "def download_images3(url, category_prefix):\n",
        "\n",
        "    # 클래스 정보가 포함된 CSV 파일 생성\n",
        "    with open('image_labels.b.csv', 'w', newline='', encoding='utf-8') as file:\n",
        "        writer = csv.writer(file)\n",
        "        writer.writerow(['image_name', 'class'])  # CSV 파일 헤더\n",
        "\n",
        "        response = requests.get(url)\n",
        "        soup = BeautifulSoup(response.text, 'html.parser')\n",
        "\n",
        "        # 다운로드된 이미지 수\n",
        "        downloaded_images = 0\n",
        "\n",
        "        for item in soup.find_all('div', class_='gallerytext'):\n",
        "            if downloaded_images >= 50:\n",
        "                break\n",
        "\n",
        "            a_tag = item.find('a')\n",
        "            if a_tag:\n",
        "                img_page_url = 'https://commons.wikimedia.org' + a_tag.get('href')\n",
        "                img_page_response = requests.get(img_page_url)\n",
        "                img_page_soup = BeautifulSoup(img_page_response.text, 'html.parser')\n",
        "\n",
        "                # Check if the element exists before proceeding\n",
        "                img_div = img_page_soup.find('div', class_='fullImageLink')\n",
        "                if img_div:\n",
        "                    img_tag = img_div.find('a')\n",
        "                    if img_tag:\n",
        "                        img_url = img_tag.get('href')\n",
        "\n",
        "                        # Handle potential UnboundLocalError\n",
        "                        try:\n",
        "                            # 파일 확장자 검사 및 파일 이름 생성, img_url이 정의된 경우에만 실행\n",
        "                            file_extension = img_url.split('.')[-1]\n",
        "                            filename = f'{category_prefix}_{downloaded_images+1}{file_extension}'\n",
        "                            filepath = '/content/b/'+filename\n",
        "                            #filepath = filename\n",
        "\n",
        "                            # HEAD 요청을 보내어 파일 사이즈 확인\n",
        "                            head_response = requests.head(img_url)\n",
        "                            size_bytes = int(head_response.headers.get('content-length', 0))\n",
        "\n",
        "                            # 파일 사이즈가 max_size_bytes 이하인 경우에만 다운로드\n",
        "                            max_size_bytes = 100000\n",
        "                            if size_bytes <= max_size_bytes:\n",
        "                                if file_extension.lower() in ('jpg'): # ('.png', '.jpg', '.jpeg', '.gif'):\n",
        "                                    try:\n",
        "                                        headers = {\n",
        "                                            'User-Agent': 'Mozilla/5.0 (Windows NT 10.0; Win64; x64) AppleWebKit/537.36 (KHTML, like Gecko) Chrome/58.0.3029.110 Safari/537.3'\n",
        "                                        }\n",
        "                                        print(size_bytes)\n",
        "                                        img_data = requests.get(img_url, headers=headers).content\n",
        "                                        with open(filepath, 'wb') as f:\n",
        "                                            f.write(img_data)\n",
        "                                        print(f'이미지가 저장되었습니다: {filepath}')\n",
        "                                        downloaded_images += 1\n",
        "\n",
        "                                        # 이미지 이름과 클래스 정보를 CSV 파일에 기록\n",
        "                                        writer.writerow([filename, category_prefix])\n",
        "                                    except Exception as e:\n",
        "                                        print(f\"이미지 다운로드 중 오류 발생: {e}\")\n",
        "                                else:\n",
        "                                    print(f'지원되지 않는 파일 형식: {img_url}')\n",
        "                            else:\n",
        "                                print(f'파일이 너무 큽니다 (사이즈: {size_bytes} 바이트)')\n",
        "                        except UnboundLocalError:\n",
        "                            print(\"Skipping image due to missing 'img_url'.\")"
      ],
      "metadata": {
        "id": "2sCGeXO1syWV"
      },
      "execution_count": 15,
      "outputs": []
    },
    {
      "cell_type": "code",
      "source": [
        "url_b = 'https://commons.wikimedia.org/wiki/Category:Bicycles'\n",
        "download_images3(url_b, 'b')  # 자전거 이미지에 'b' 접두사 추가. 이 b에 라벨 정보가 있는 것\n",
        "# 경로 b 폴더로 선택"
      ],
      "metadata": {
        "id": "pnWIk4PFAnNL",
        "colab": {
          "base_uri": "https://localhost:8080/"
        },
        "collapsed": true,
        "outputId": "706a1bf9-8dce-45d7-f3d3-026597ece394"
      },
      "execution_count": 13,
      "outputs": [
        {
          "output_type": "stream",
          "name": "stdout",
          "text": [
            "2221\n",
            "이미지가 저장되었습니다: /content/b/b_1jpg\n",
            "2221\n",
            "이미지가 저장되었습니다: /content/b/b_2jpg\n",
            "2221\n",
            "이미지가 저장되었습니다: /content/b/b_3jpg\n",
            "2221\n",
            "이미지가 저장되었습니다: /content/b/b_4jpg\n",
            "2221\n",
            "이미지가 저장되었습니다: /content/b/b_5jpg\n",
            "2221\n",
            "이미지가 저장되었습니다: /content/b/b_6jpg\n",
            "2221\n",
            "이미지가 저장되었습니다: /content/b/b_7jpg\n",
            "2221\n",
            "이미지가 저장되었습니다: /content/b/b_8jpg\n",
            "2221\n",
            "이미지가 저장되었습니다: /content/b/b_9jpg\n",
            "2221\n",
            "이미지가 저장되었습니다: /content/b/b_10jpg\n",
            "2221\n",
            "이미지가 저장되었습니다: /content/b/b_11jpg\n",
            "2221\n",
            "이미지가 저장되었습니다: /content/b/b_12jpg\n",
            "2221\n",
            "이미지가 저장되었습니다: /content/b/b_13jpg\n",
            "2221\n",
            "이미지가 저장되었습니다: /content/b/b_14jpg\n",
            "2221\n",
            "이미지가 저장되었습니다: /content/b/b_15jpg\n",
            "2221\n",
            "이미지가 저장되었습니다: /content/b/b_16jpg\n",
            "2221\n",
            "이미지가 저장되었습니다: /content/b/b_17jpg\n",
            "2221\n",
            "이미지가 저장되었습니다: /content/b/b_18jpg\n",
            "2221\n",
            "이미지가 저장되었습니다: /content/b/b_19jpg\n",
            "2221\n",
            "이미지가 저장되었습니다: /content/b/b_20jpg\n",
            "2221\n",
            "이미지가 저장되었습니다: /content/b/b_21jpg\n",
            "지원되지 않는 파일 형식: https://upload.wikimedia.org/wikipedia/commons/e/eb/ASCENDU_3x3_mountain_bike_ascending_Ocejon_Peak_%282046m%29%2C_Spain.png\n",
            "2221\n",
            "이미지가 저장되었습니다: /content/b/b_22jpg\n",
            "2221\n",
            "이미지가 저장되었습니다: /content/b/b_23jpg\n",
            "2221\n",
            "이미지가 저장되었습니다: /content/b/b_24jpg\n",
            "2221\n",
            "이미지가 저장되었습니다: /content/b/b_25jpg\n",
            "2221\n",
            "이미지가 저장되었습니다: /content/b/b_26jpg\n",
            "2221\n",
            "이미지가 저장되었습니다: /content/b/b_27jpg\n",
            "2221\n",
            "이미지가 저장되었습니다: /content/b/b_28jpg\n",
            "2221\n",
            "이미지가 저장되었습니다: /content/b/b_29jpg\n",
            "2221\n",
            "이미지가 저장되었습니다: /content/b/b_30jpg\n",
            "2221\n",
            "이미지가 저장되었습니다: /content/b/b_31jpg\n",
            "2221\n",
            "이미지가 저장되었습니다: /content/b/b_32jpg\n",
            "2221\n",
            "이미지가 저장되었습니다: /content/b/b_33jpg\n",
            "지원되지 않는 파일 형식: https://upload.wikimedia.org/wikipedia/commons/0/07/Behaviour_change_due_to_use_of_dockless_bikes.png\n",
            "2221\n",
            "이미지가 저장되었습니다: /content/b/b_34jpg\n",
            "2221\n",
            "이미지가 저장되었습니다: /content/b/b_35jpg\n",
            "2221\n",
            "이미지가 저장되었습니다: /content/b/b_36jpg\n",
            "2221\n",
            "이미지가 저장되었습니다: /content/b/b_37jpg\n",
            "2221\n",
            "이미지가 저장되었습니다: /content/b/b_38jpg\n",
            "2221\n",
            "이미지가 저장되었습니다: /content/b/b_39jpg\n",
            "2221\n",
            "이미지가 저장되었습니다: /content/b/b_40jpg\n",
            "2221\n",
            "이미지가 저장되었습니다: /content/b/b_41jpg\n",
            "2221\n",
            "이미지가 저장되었습니다: /content/b/b_42jpg\n",
            "2221\n",
            "이미지가 저장되었습니다: /content/b/b_43jpg\n",
            "2221\n",
            "이미지가 저장되었습니다: /content/b/b_44jpg\n",
            "2221\n",
            "이미지가 저장되었습니다: /content/b/b_45jpg\n",
            "2221\n",
            "이미지가 저장되었습니다: /content/b/b_46jpg\n",
            "2221\n",
            "이미지가 저장되었습니다: /content/b/b_47jpg\n",
            "2221\n",
            "이미지가 저장되었습니다: /content/b/b_48jpg\n",
            "2221\n",
            "이미지가 저장되었습니다: /content/b/b_49jpg\n",
            "2221\n",
            "이미지가 저장되었습니다: /content/b/b_50jpg\n"
          ]
        }
      ]
    },
    {
      "cell_type": "code",
      "source": [
        "url_r = 'https://commons.wikimedia.org/wiki/Category:Rock'\n",
        "url_t = 'https://commons.wikimedia.org/wiki/Category:Tree'\n",
        "url_w = 'https://commons.wikimedia.org/wiki/Category:Water'\n",
        "url_f = 'https://commons.wikimedia.org/wiki/Category:Fire'\n",
        "url_l = 'https://commons.wikimedia.org/wiki/Category:Light'\n",
        "url_s = 'https://commons.wikimedia.org/wiki/Category:Snow'\n",
        "url_m = 'https://commons.wikimedia.org/wiki/Category:Mountain'\n",
        "url_a = 'https://commons.wikimedia.org/wiki/Category:Apple'\n",
        "url_c = 'https://commons.wikimedia.org/wiki/Category:Car'\n",
        "\n",
        "# 각각 50장씩 다운로드\n",
        "download_images3(url_r, 'r')\n",
        "download_images3(url_t, 't')\n",
        "download_images3(url_w, 'w')\n",
        "download_images3(url_f, 'f')\n",
        "download_images3(url_l, 'l')\n",
        "download_images3(url_s, 's')\n",
        "download_images3(url_m, 'm')\n",
        "download_images3(url_a, 'a')\n",
        "download_images3(url_c, 'c')\n"
      ],
      "metadata": {
        "colab": {
          "base_uri": "https://localhost:8080/"
        },
        "collapsed": true,
        "id": "CirDcfDFms7y",
        "outputId": "e41726f1-42ea-4f5d-b7c3-3f96f92f6978"
      },
      "execution_count": 16,
      "outputs": [
        {
          "output_type": "stream",
          "name": "stdout",
          "text": [
            "지원되지 않는 파일 형식: https://upload.wikimedia.org/wikipedia/commons/2/29/Uklon2D.gif\n",
            "2221\n",
            "이미지가 저장되었습니다: /content/b/l_1jpg\n",
            "2221\n",
            "이미지가 저장되었습니다: /content/b/l_2jpg\n",
            "2221\n",
            "이미지가 저장되었습니다: /content/b/l_3jpg\n",
            "2221\n",
            "이미지가 저장되었습니다: /content/b/l_4jpg\n",
            "2221\n",
            "이미지가 저장되었습니다: /content/b/l_5jpg\n",
            "2221\n",
            "이미지가 저장되었습니다: /content/b/l_6jpg\n",
            "2221\n",
            "이미지가 저장되었습니다: /content/b/l_7jpg\n",
            "2221\n",
            "이미지가 저장되었습니다: /content/b/l_8jpg\n",
            "2221\n",
            "이미지가 저장되었습니다: /content/b/l_9jpg\n",
            "2221\n",
            "이미지가 저장되었습니다: /content/b/l_10jpg\n",
            "2221\n",
            "이미지가 저장되었습니다: /content/b/l_11jpg\n",
            "2221\n",
            "이미지가 저장되었습니다: /content/b/l_12jpg\n",
            "2221\n",
            "이미지가 저장되었습니다: /content/b/l_13jpg\n",
            "2221\n",
            "이미지가 저장되었습니다: /content/b/l_14jpg\n",
            "2221\n",
            "이미지가 저장되었습니다: /content/b/l_15jpg\n",
            "2221\n",
            "이미지가 저장되었습니다: /content/b/l_16jpg\n",
            "지원되지 않는 파일 형식: https://upload.wikimedia.org/wikipedia/commons/a/af/Aberration-rain-model-%28stacked-version%29.svg\n",
            "지원되지 않는 파일 형식: https://upload.wikimedia.org/wikipedia/commons/a/a0/Aberration-rain-model.svg\n",
            "2221\n",
            "이미지가 저장되었습니다: /content/b/l_17jpg\n",
            "2221\n",
            "이미지가 저장되었습니다: /content/b/l_18jpg\n",
            "2221\n",
            "이미지가 저장되었습니다: /content/b/l_19jpg\n",
            "2221\n",
            "이미지가 저장되었습니다: /content/b/l_20jpg\n",
            "2221\n",
            "이미지가 저장되었습니다: /content/b/l_21jpg\n",
            "2221\n",
            "이미지가 저장되었습니다: /content/b/l_22jpg\n",
            "2221\n",
            "이미지가 저장되었습니다: /content/b/l_23jpg\n",
            "2221\n",
            "이미지가 저장되었습니다: /content/b/l_24jpg\n",
            "2221\n",
            "이미지가 저장되었습니다: /content/b/l_25jpg\n",
            "2221\n",
            "이미지가 저장되었습니다: /content/b/l_26jpg\n",
            "2221\n",
            "이미지가 저장되었습니다: /content/b/l_27jpg\n",
            "지원되지 않는 파일 형식: https://upload.wikimedia.org/wikipedia/commons/a/a8/Ampel_i_husan_Annas_rum_-_Hallwylska_museet_-_106987.tif\n",
            "지원되지 않는 파일 형식: https://upload.wikimedia.org/wikipedia/commons/4/46/Angular_Momentum_of_light.gif\n",
            "2221\n",
            "이미지가 저장되었습니다: /content/b/l_28jpg\n",
            "2221\n",
            "이미지가 저장되었습니다: /content/b/l_29jpg\n",
            "2221\n",
            "이미지가 저장되었습니다: /content/b/l_30jpg\n",
            "2221\n",
            "이미지가 저장되었습니다: /content/b/l_31jpg\n",
            "2221\n",
            "이미지가 저장되었습니다: /content/b/l_32jpg\n",
            "2221\n",
            "이미지가 저장되었습니다: /content/b/l_33jpg\n",
            "2221\n",
            "이미지가 저장되었습니다: /content/b/l_34jpg\n",
            "2221\n",
            "이미지가 저장되었습니다: /content/b/l_35jpg\n",
            "2221\n",
            "이미지가 저장되었습니다: /content/b/l_36jpg\n",
            "2221\n",
            "이미지가 저장되었습니다: /content/b/l_37jpg\n",
            "2221\n",
            "이미지가 저장되었습니다: /content/b/l_38jpg\n",
            "2221\n",
            "이미지가 저장되었습니다: /content/b/l_39jpg\n",
            "2221\n",
            "이미지가 저장되었습니다: /content/b/l_40jpg\n",
            "2221\n",
            "이미지가 저장되었습니다: /content/b/l_41jpg\n",
            "2221\n",
            "이미지가 저장되었습니다: /content/b/l_42jpg\n",
            "2221\n",
            "이미지가 저장되었습니다: /content/b/l_43jpg\n",
            "지원되지 않는 파일 형식: https://upload.wikimedia.org/wikipedia/commons/9/9a/Interior_work_-_construction_of_the_Main_Reading_Room%2C_showing_a_section_of_the_framework_of_the_floor_%28NYPL_b11524053-489901%29.tiff\n",
            "지원되지 않는 파일 형식: https://upload.wikimedia.org/wikipedia/commons/c/c8/Snow_Arch%2C_Tuckerman%27s_Ravine%2C_N.H_%28NYPL_b11708214-G91F009_060F%29.tiff\n",
            "지원되지 않는 파일 형식: https://upload.wikimedia.org/wikipedia/commons/d/d9/Snow_Arch%2C_Tuckerman%27s_Ravine%2C_N.H_%28NYPL_b11708214-G91F009_066F%29.tiff\n",
            "2221\n",
            "이미지가 저장되었습니다: /content/b/l_44jpg\n",
            "지원되지 않는 파일 형식: https://upload.wikimedia.org/wikipedia/commons/3/39/For%C3%AAt_%28NYPL_b12390850-490665%29.tiff\n",
            "2221\n",
            "이미지가 저장되었습니다: /content/b/l_45jpg\n",
            "지원되지 않는 파일 형식: https://upload.wikimedia.org/wikipedia/commons/1/11/For%C3%AAt_%28NYPL_b12390850-490666%29.tiff\n",
            "2221\n",
            "이미지가 저장되었습니다: /content/b/l_46jpg\n",
            "2221\n",
            "이미지가 저장되었습니다: /content/b/l_47jpg\n",
            "2221\n",
            "이미지가 저장되었습니다: /content/b/l_48jpg\n",
            "2221\n",
            "이미지가 저장되었습니다: /content/b/l_49jpg\n",
            "2221\n",
            "이미지가 저장되었습니다: /content/b/l_50jpg\n",
            "2221\n",
            "이미지가 저장되었습니다: /content/b/m_1jpg\n",
            "지원되지 않는 파일 형식: https://upload.wikimedia.org/wikipedia/commons/c/c5/%D9%85%D8%AD%D8%B5%D9%88%D9%84_%D9%86%D9%85%D8%A7%D8%AF_%D8%AC%D8%A7%DB%8C%D8%B2%D9%87_%D8%A8%D9%87%D8%AA%D8%B1%DB%8C%D9%86_%D8%AA%D9%88%D9%84%DB%8C%D8%AF%DA%A9%D9%86%D9%86%D8%AF%D9%87.png\n"
          ]
        }
      ]
    },
    {
      "cell_type": "code",
      "source": [
        "import math\n",
        "import numpy as np\n",
        "from glob import glob\n",
        "from tensorflow.keras.preprocessing import image\n",
        "import matplotlib.pyplot as plt"
      ],
      "metadata": {
        "id": "T1Qi-yd5uhA6"
      },
      "execution_count": 19,
      "outputs": []
    },
    {
      "cell_type": "code",
      "source": [
        "import os\n",
        "import tensorflow as tf\n",
        "from tensorflow.keras import datasets, layers, models, optimizers"
      ],
      "metadata": {
        "id": "bqp9jVP-uiac"
      },
      "execution_count": 20,
      "outputs": []
    },
    {
      "cell_type": "code",
      "source": [
        "# 이제 훈련\n",
        "IMG_CHANNELS = 3\n",
        "IMG_ROWS = 64\n",
        "IMG_COLS = 64\n",
        "CLASSES = 10  # 자전거, 바위, 나무, 물, 불, 빛, 눈, 산, 사과, 차\n"
      ],
      "metadata": {
        "id": "PgwtsMyDd_8d"
      },
      "execution_count": 17,
      "outputs": []
    },
    {
      "cell_type": "code",
      "source": [
        "from google.colab import drive\n",
        "drive.mount('/content/drive')"
      ],
      "metadata": {
        "colab": {
          "base_uri": "https://localhost:8080/"
        },
        "id": "nZhHeMzGqdn4",
        "outputId": "70d22911-d4b7-401b-efbe-2275b48b646b"
      },
      "execution_count": 18,
      "outputs": [
        {
          "output_type": "stream",
          "name": "stdout",
          "text": [
            "Mounted at /content/drive\n"
          ]
        }
      ]
    },
    {
      "cell_type": "code",
      "source": [
        "# 파일 경로에 대한 glob 패턴을 수정하세요.\n",
        "files = glob('/content/b/*jpg')\n",
        "\n",
        "# 이미지와 라벨을 불러오는 함수 정의\n",
        "def load_images_and_labels(files, label):\n",
        "    images = [image.load_img(p, target_size=(IMG_ROWS, IMG_COLS)) for p in files]\n",
        "    labels = [label] * len(files)\n",
        "    return images, labels\n",
        "\n",
        "# 자전거, 바위, 나무, 물, 불, 빛, 눈, 산, 사과, 차 이미지 및 라벨 불러오기\n",
        "bicycle_images, bicycle_labels = load_images_and_labels(files, 0)  # 자전거를 0으로 라벨링\n",
        "rock_images, rock_labels = load_images_and_labels(files, 1)  # 바위를 1로 라벨링\n",
        "tree_images, tree_labels = load_images_and_labels(files, 1)  # 나무를 2로 라벨링\n",
        "water_images, water_labels = load_images_and_labels(files, 1)  # 물을 3로 라벨링\n",
        "fire_images, fire_labels = load_images_and_labels(files, 1)  # 불을 4로 라벨링\n",
        "light_images, light_labels = load_images_and_labels(files, 1)  # 빛을 5로 라벨링\n",
        "snow_images, snow_labels = load_images_and_labels(files, 1)  # 눈을 6로 라벨링\n",
        "mountain_images, mountain_labels = load_images_and_labels(files, 1)  # 산을 7로 라벨링\n",
        "apple_images, apple_labels = load_images_and_labels(files, 1)  # 사과를 8로 라벨링\n",
        "car_images, car_labels = load_images_and_labels(files, 1)  # 차를 9로 라벨링\n",
        "\n",
        "# 이미지와 라벨 병합\n",
        "images = bicycle_images, rock_images, tree_images, water_images, fire_images, light_images, snow_images, mountain_images, apple_images, car_images\n",
        "y = bicycle_labels, rock_labels, tree_labels, water_labels, fire_labels, light_labels, snow_labels, mountain_labels, apple_labels, car_labels\n"
      ],
      "metadata": {
        "id": "HOqo2Z0KuJVy"
      },
      "execution_count": 22,
      "outputs": []
    },
    {
      "cell_type": "code",
      "source": [
        "#define the convnet\n",
        "def build(input_shape, classes):\n",
        "    model = models.Sequential()\n",
        "    model.add(layers.Convolution2D(32, (3, 3), activation='relu',\n",
        "                        input_shape=input_shape))\n",
        "    model.add(layers.MaxPooling2D(pool_size=(2, 2)))\n",
        "    model.add(layers.Dropout(0.25))\n",
        "\n",
        "    model.add(layers.Flatten())\n",
        "    model.add(layers.Dense(32, activation='relu'))\n",
        "    model.add(layers.Dense(classes, activation='softmax'))\n",
        "    return model"
      ],
      "metadata": {
        "id": "aLQBb8J2wGq2"
      },
      "execution_count": 23,
      "outputs": []
    },
    {
      "cell_type": "code",
      "source": [
        "import numpy as np\n",
        "# Flatten the list of image lists into a single list\n",
        "flattened_images = [img for sublist in images for img in sublist]\n",
        "\n",
        "# 이미지 벡터화\n",
        "image_vector = np.asarray([image.img_to_array(img) for img in flattened_images])\n",
        "\n",
        "# Flatten the list of label lists into a single list\n",
        "flattened_labels = [label for sublist in y for label in sublist]\n",
        "\n",
        "# Convert the flattened labels to a NumPy array\n",
        "y = np.array(flattened_labels)"
      ],
      "metadata": {
        "id": "h-0lUsmDxG8h"
      },
      "execution_count": 32,
      "outputs": []
    },
    {
      "cell_type": "code",
      "source": [
        "plt.imshow(image_vector[0]/255)"
      ],
      "metadata": {
        "colab": {
          "base_uri": "https://localhost:8080/",
          "height": 450
        },
        "id": "7I-tkRsqxI20",
        "outputId": "de05e019-d78c-4b4f-a1d7-5fc6df465aec"
      },
      "execution_count": 30,
      "outputs": [
        {
          "output_type": "execute_result",
          "data": {
            "text/plain": [
              "<matplotlib.image.AxesImage at 0x7f892661f8e0>"
            ]
          },
          "metadata": {},
          "execution_count": 30
        },
        {
          "output_type": "display_data",
          "data": {
            "text/plain": [
              "<Figure size 640x480 with 1 Axes>"
            ],
            "image/png": "[encoded data removed]"
          },
          "metadata": {}
        }
      ]
    },
    {
      "cell_type": "code",
      "source": [
        "from sklearn.model_selection import train_test_split\n",
        "X_train, X_test, y_train, y_test = train_test_split(image_vector, y, test_size=0.20, random_state=0)\n",
        "\n",
        "# One-hot encode the labels\n",
        "y_train = tf.keras.utils.to_categorical(y_train, num_classes=CLASSES)\n",
        "y_test = tf.keras.utils.to_categorical(y_test, num_classes=CLASSES)"
      ],
      "metadata": {
        "id": "pdMI0xfbx0q3"
      },
      "execution_count": 37,
      "outputs": []
    },
    {
      "cell_type": "code",
      "source": [
        "y_train[200]"
      ],
      "metadata": {
        "colab": {
          "base_uri": "https://localhost:8080/"
        },
        "id": "_dfZztNpx3iY",
        "outputId": "93dd2088-2cdc-45da-80a8-475086c0c381"
      },
      "execution_count": 38,
      "outputs": [
        {
          "output_type": "execute_result",
          "data": {
            "text/plain": [
              "array([0., 1., 0., 0., 0., 0., 0., 0., 0., 0.], dtype=float32)"
            ]
          },
          "metadata": {},
          "execution_count": 38
        }
      ]
    },
    {
      "cell_type": "code",
      "source": [
        "model=build((IMG_ROWS, IMG_COLS, IMG_CHANNELS), CLASSES)\n",
        "model.summary()"
      ],
      "metadata": {
        "colab": {
          "base_uri": "https://localhost:8080/"
        },
        "id": "KAhUO_bdyXQx",
        "outputId": "026ae63c-cf55-4413-dfcb-ae262bf1307c"
      },
      "execution_count": 39,
      "outputs": [
        {
          "output_type": "stream",
          "name": "stdout",
          "text": [
            "Model: \"sequential_1\"\n",
            "_________________________________________________________________\n",
            " Layer (type)                Output Shape              Param #   \n",
            "=================================================================\n",
            " conv2d_1 (Conv2D)           (None, 62, 62, 32)        896       \n",
            "                                                                 \n",
            " max_pooling2d_1 (MaxPoolin  (None, 31, 31, 32)        0         \n",
            " g2D)                                                            \n",
            "                                                                 \n",
            " dropout_1 (Dropout)         (None, 31, 31, 32)        0         \n",
            "                                                                 \n",
            " flatten_1 (Flatten)         (None, 30752)             0         \n",
            "                                                                 \n",
            " dense_2 (Dense)             (None, 32)                984096    \n",
            "                                                                 \n",
            " dense_3 (Dense)             (None, 10)                330       \n",
            "                                                                 \n",
            "=================================================================\n",
            "Total params: 985322 (3.76 MB)\n",
            "Trainable params: 985322 (3.76 MB)\n",
            "Non-trainable params: 0 (0.00 Byte)\n",
            "_________________________________________________________________\n"
          ]
        }
      ]
    },
    {
      "cell_type": "code",
      "source": [
        "model.compile(loss='binary_crossentropy', optimizer=optimizers.RMSprop(learning_rate=0.001), metrics=['accuracy'])\n",
        "\n",
        "history = model.fit(X_train, y_train, batch_size=128, epochs=50, validation_split=0.1)"
      ],
      "metadata": {
        "colab": {
          "base_uri": "https://localhost:8080/"
        },
        "collapsed": true,
        "id": "kTkRV4EHyZuy",
        "outputId": "456d9f11-6ce4-446e-f872-403420ce2372"
      },
      "execution_count": 40,
      "outputs": [
        {
          "output_type": "stream",
          "name": "stdout",
          "text": [
            "Epoch 1/50\n",
            "9/9 [==============================] - 4s 372ms/step - loss: 34.4569 - accuracy: 0.7239 - val_loss: 9.9898 - val_accuracy: 0.8889\n",
            "Epoch 2/50\n",
            "9/9 [==============================] - 3s 376ms/step - loss: 5.3489 - accuracy: 0.9027 - val_loss: 1.4968 - val_accuracy: 0.8889\n",
            "Epoch 3/50\n",
            "9/9 [==============================] - 5s 539ms/step - loss: 3.3015 - accuracy: 0.7982 - val_loss: 1.7117 - val_accuracy: 0.8889\n",
            "Epoch 4/50\n",
            "9/9 [==============================] - 3s 324ms/step - loss: 0.9398 - accuracy: 0.8770 - val_loss: 2.0703 - val_accuracy: 0.8889\n",
            "Epoch 5/50\n",
            "9/9 [==============================] - 3s 318ms/step - loss: 0.8397 - accuracy: 0.9000 - val_loss: 0.5554 - val_accuracy: 0.8810\n",
            "Epoch 6/50\n",
            "9/9 [==============================] - 3s 315ms/step - loss: 0.4249 - accuracy: 0.8796 - val_loss: 0.3893 - val_accuracy: 0.8810\n",
            "Epoch 7/50\n",
            "9/9 [==============================] - 4s 465ms/step - loss: 0.4621 - accuracy: 0.8894 - val_loss: 0.4189 - val_accuracy: 0.8651\n",
            "Epoch 8/50\n",
            "9/9 [==============================] - 4s 419ms/step - loss: 0.2820 - accuracy: 0.8761 - val_loss: 0.2765 - val_accuracy: 0.8651\n",
            "Epoch 9/50\n",
            "9/9 [==============================] - 3s 314ms/step - loss: 0.3143 - accuracy: 0.8770 - val_loss: 0.3672 - val_accuracy: 0.8730\n",
            "Epoch 10/50\n",
            "9/9 [==============================] - 3s 312ms/step - loss: 0.2354 - accuracy: 0.8673 - val_loss: 0.2261 - val_accuracy: 0.8730\n",
            "Epoch 11/50\n",
            "9/9 [==============================] - 3s 317ms/step - loss: 0.2340 - accuracy: 0.8885 - val_loss: 0.2583 - val_accuracy: 0.8889\n",
            "Epoch 12/50\n",
            "9/9 [==============================] - 5s 538ms/step - loss: 0.2439 - accuracy: 0.8991 - val_loss: 0.1868 - val_accuracy: 0.8016\n",
            "Epoch 13/50\n",
            "9/9 [==============================] - 3s 318ms/step - loss: 0.1637 - accuracy: 0.8717 - val_loss: 0.1679 - val_accuracy: 0.8730\n",
            "Epoch 14/50\n",
            "9/9 [==============================] - 3s 305ms/step - loss: 0.1637 - accuracy: 0.8690 - val_loss: 0.1555 - val_accuracy: 0.8889\n",
            "Epoch 15/50\n",
            "9/9 [==============================] - 3s 318ms/step - loss: 0.1336 - accuracy: 0.8858 - val_loss: 0.2131 - val_accuracy: 0.8889\n",
            "Epoch 16/50\n",
            "9/9 [==============================] - 3s 375ms/step - loss: 0.1504 - accuracy: 0.8973 - val_loss: 0.2002 - val_accuracy: 0.8889\n",
            "Epoch 17/50\n",
            "9/9 [==============================] - 4s 495ms/step - loss: 0.1373 - accuracy: 0.8973 - val_loss: 0.1685 - val_accuracy: 0.8889\n",
            "Epoch 18/50\n",
            "9/9 [==============================] - 3s 313ms/step - loss: 0.1167 - accuracy: 0.8814 - val_loss: 0.1547 - val_accuracy: 0.8889\n",
            "Epoch 19/50\n",
            "9/9 [==============================] - 3s 313ms/step - loss: 0.1034 - accuracy: 0.8938 - val_loss: 0.2071 - val_accuracy: 0.8889\n",
            "Epoch 20/50\n",
            "9/9 [==============================] - 3s 306ms/step - loss: 0.1219 - accuracy: 0.8982 - val_loss: 0.1571 - val_accuracy: 0.8889\n",
            "Epoch 21/50\n",
            "9/9 [==============================] - 4s 419ms/step - loss: 0.1022 - accuracy: 0.8991 - val_loss: 0.1535 - val_accuracy: 0.8889\n",
            "Epoch 22/50\n",
            "9/9 [==============================] - 4s 453ms/step - loss: 0.0994 - accuracy: 0.8973 - val_loss: 0.1235 - val_accuracy: 0.8889\n",
            "Epoch 23/50\n",
            "9/9 [==============================] - 3s 312ms/step - loss: 0.0933 - accuracy: 0.8814 - val_loss: 0.1596 - val_accuracy: 0.8889\n",
            "Epoch 24/50\n",
            "9/9 [==============================] - 3s 319ms/step - loss: 0.0944 - accuracy: 0.9000 - val_loss: 0.1249 - val_accuracy: 0.8889\n",
            "Epoch 25/50\n",
            "9/9 [==============================] - 3s 307ms/step - loss: 0.0988 - accuracy: 0.9027 - val_loss: 0.1248 - val_accuracy: 0.8889\n",
            "Epoch 26/50\n",
            "9/9 [==============================] - 4s 499ms/step - loss: 0.0805 - accuracy: 0.8876 - val_loss: 0.1600 - val_accuracy: 0.8889\n",
            "Epoch 27/50\n",
            "9/9 [==============================] - 3s 369ms/step - loss: 0.0945 - accuracy: 0.8947 - val_loss: 0.1280 - val_accuracy: 0.8889\n",
            "Epoch 28/50\n",
            "9/9 [==============================] - 3s 307ms/step - loss: 0.0872 - accuracy: 0.9027 - val_loss: 0.1243 - val_accuracy: 0.8810\n",
            "Epoch 29/50\n",
            "9/9 [==============================] - 3s 306ms/step - loss: 0.0975 - accuracy: 0.9035 - val_loss: 0.1345 - val_accuracy: 0.8889\n",
            "Epoch 30/50\n",
            "9/9 [==============================] - 3s 312ms/step - loss: 0.0833 - accuracy: 0.9000 - val_loss: 0.1227 - val_accuracy: 0.8889\n",
            "Epoch 31/50\n",
            "9/9 [==============================] - 5s 513ms/step - loss: 0.0844 - accuracy: 0.8982 - val_loss: 0.1224 - val_accuracy: 0.8889\n",
            "Epoch 32/50\n",
            "9/9 [==============================] - 3s 302ms/step - loss: 0.0846 - accuracy: 0.8903 - val_loss: 0.1279 - val_accuracy: 0.8889\n",
            "Epoch 33/50\n",
            "9/9 [==============================] - 3s 320ms/step - loss: 0.0780 - accuracy: 0.8929 - val_loss: 0.1205 - val_accuracy: 0.8889\n",
            "Epoch 34/50\n",
            "9/9 [==============================] - 3s 314ms/step - loss: 0.0841 - accuracy: 0.9000 - val_loss: 0.1491 - val_accuracy: 0.8889\n",
            "Epoch 35/50\n",
            "9/9 [==============================] - 4s 400ms/step - loss: 0.0849 - accuracy: 0.8912 - val_loss: 0.1404 - val_accuracy: 0.8889\n",
            "Epoch 36/50\n",
            "9/9 [==============================] - 4s 462ms/step - loss: 0.0783 - accuracy: 0.9000 - val_loss: 0.1461 - val_accuracy: 0.8889\n",
            "Epoch 37/50\n",
            "9/9 [==============================] - 3s 302ms/step - loss: 0.0792 - accuracy: 0.9000 - val_loss: 0.1613 - val_accuracy: 0.8889\n",
            "Epoch 38/50\n",
            "9/9 [==============================] - 3s 310ms/step - loss: 0.0800 - accuracy: 0.9018 - val_loss: 0.1339 - val_accuracy: 0.8889\n",
            "Epoch 39/50\n",
            "9/9 [==============================] - 3s 310ms/step - loss: 0.0807 - accuracy: 0.8991 - val_loss: 0.1568 - val_accuracy: 0.8889\n",
            "Epoch 40/50\n",
            "9/9 [==============================] - 4s 465ms/step - loss: 0.0831 - accuracy: 0.8991 - val_loss: 0.1306 - val_accuracy: 0.8889\n",
            "Epoch 41/50\n",
            "9/9 [==============================] - 3s 376ms/step - loss: 0.0733 - accuracy: 0.9000 - val_loss: 0.1527 - val_accuracy: 0.8889\n",
            "Epoch 42/50\n",
            "9/9 [==============================] - 3s 310ms/step - loss: 0.0776 - accuracy: 0.9027 - val_loss: 0.1424 - val_accuracy: 0.8889\n",
            "Epoch 43/50\n",
            "9/9 [==============================] - 3s 316ms/step - loss: 0.0741 - accuracy: 0.8982 - val_loss: 0.1436 - val_accuracy: 0.8889\n",
            "Epoch 44/50\n",
            "9/9 [==============================] - 3s 318ms/step - loss: 0.0748 - accuracy: 0.9009 - val_loss: 0.1429 - val_accuracy: 0.8492\n",
            "Epoch 45/50\n",
            "9/9 [==============================] - 5s 533ms/step - loss: 0.0744 - accuracy: 0.8973 - val_loss: 0.1675 - val_accuracy: 0.8889\n",
            "Epoch 46/50\n",
            "9/9 [==============================] - 3s 312ms/step - loss: 0.0789 - accuracy: 0.9009 - val_loss: 0.1418 - val_accuracy: 0.8889\n",
            "Epoch 47/50\n",
            "9/9 [==============================] - 3s 309ms/step - loss: 0.0756 - accuracy: 0.9027 - val_loss: 0.1400 - val_accuracy: 0.8889\n",
            "Epoch 48/50\n",
            "9/9 [==============================] - 3s 313ms/step - loss: 0.0734 - accuracy: 0.9018 - val_loss: 0.1323 - val_accuracy: 0.8889\n",
            "Epoch 49/50\n",
            "9/9 [==============================] - 3s 379ms/step - loss: 0.0837 - accuracy: 0.8982 - val_loss: 0.1340 - val_accuracy: 0.8889\n",
            "Epoch 50/50\n",
            "9/9 [==============================] - 4s 493ms/step - loss: 0.0704 - accuracy: 0.9027 - val_loss: 0.1390 - val_accuracy: 0.8889\n"
          ]
        }
      ]
    },
    {
      "cell_type": "code",
      "source": [
        "import matplotlib.pyplot as plt\n",
        "plt.plot(history.history['loss'])\n",
        "plt.plot(history.history['val_loss'])\n",
        "plt.xlabel('epoch')\n",
        "plt.ylabel('loss')\n",
        "plt.legend(['train', 'val'])\n",
        "plt.show()"
      ],
      "metadata": {
        "colab": {
          "base_uri": "https://localhost:8080/",
          "height": 449
        },
        "id": "MLY9SQOGykvF",
        "outputId": "0cb54909-c36e-405f-fed9-ca9b2bb01dd1"
      },
      "execution_count": 42,
      "outputs": [
        {
          "output_type": "display_data",
          "data": {
            "text/plain": [
              "<Figure size 640x480 with 1 Axes>"
            ],
            "image/png": "[encoded data removed]"
          },
          "metadata": {}
        }
      ]
    },
    {
      "cell_type": "code",
      "source": [
        "plt.plot(history.history['accuracy'])\n",
        "plt.plot(history.history['val_accuracy'])\n",
        "plt.xlabel('epoch')\n",
        "plt.ylabel('accuracy')\n",
        "plt.legend(['train','val'])\n",
        "plt.show()"
      ],
      "metadata": {
        "colab": {
          "base_uri": "https://localhost:8080/",
          "height": 449
        },
        "id": "FUAxLBIK0I5E",
        "outputId": "1bd96b50-4e34-4ff8-a1d0-2231512a6fdd"
      },
      "execution_count": 43,
      "outputs": [
        {
          "output_type": "display_data",
          "data": {
            "text/plain": [
              "<Figure size 640x480 with 1 Axes>"
            ],
            "image/png": "[encoded data removed]"
          },
          "metadata": {}
        }
      ]
    },
    {
      "cell_type": "code",
      "source": [
        "score = model.evaluate(X_test, y_test)\n",
        "print(\"\\nTest loss:\", score[0])\n",
        "print('Test accuracy:', score[1])"
      ],
      "metadata": {
        "colab": {
          "base_uri": "https://localhost:8080/"
        },
        "id": "Q3FwCU2P0L4H",
        "outputId": "effb177a-9533-4ce6-e14a-3034b0964e0b"
      },
      "execution_count": 44,
      "outputs": [
        {
          "output_type": "stream",
          "name": "stdout",
          "text": [
            "10/10 [==============================] - 1s 51ms/step - loss: 0.1328 - accuracy: 0.8949\n",
            "\n",
            "Test loss: 0.13280552625656128\n",
            "Test accuracy: 0.8949044346809387\n"
          ]
        }
      ]
    },
    {
      "cell_type": "code",
      "source": [
        "# 이미지 로드 및 전처리\n",
        "from tensorflow.keras.applications.resnet50 import ResNet50, preprocess_input, decode_predictions\n",
        "img_path = '/content/b/w_24jpg'  # 이미지 파일 경로\n",
        "img = image.load_img(img_path, target_size=(64, 64))  # ResNet50 기본 입력 크기에 맞게 조정\n",
        "x = image.img_to_array(img)\n",
        "x = np.expand_dims(x, axis=0)\n",
        "x = preprocess_input(x)"
      ],
      "metadata": {
        "id": "CACtIyGM0RAC"
      },
      "execution_count": 52,
      "outputs": []
    },
    {
      "cell_type": "code",
      "source": [
        "# 자전거, 바위, 나무, 물, 불, 빛, 눈, 산, 사과, 차\n",
        "class_names = ['bicycle', 'rock', 'tree', 'water', 'fire', 'light', 'snow', 'mountain', 'apple', 'car']"
      ],
      "metadata": {
        "id": "CwVNOKwb2WhJ"
      },
      "execution_count": 56,
      "outputs": []
    },
    {
      "cell_type": "code",
      "source": [
        "# 이미지 예측 함수 정의\n",
        "def predict_image(img_path, model):\n",
        "    # 이미지 로드 및 사이즈 조정\n",
        "    img = image.load_img(img_path, target_size=(32, 32))\n",
        "    # 배열로 변환\n",
        "    img_array = image.img_to_array(img)\n",
        "    # 배치 차원 추가\n",
        "    img_array = np.expand_dims(img_array, axis=0)\n",
        "\n",
        "    # 예측 수행\n",
        "    predictions = model.predict(img_array)\n",
        "\n",
        "    # 여측결과로 가장 높은 확률을 가진 클래스 인덱스 return\n",
        "    predicted_class_index = np.argmax(predictions)\n",
        "    predicted_class_name = class_names[predicted_class_index]\n",
        "\n",
        "    print(f'Predicted class: {predicted_class_name}')\n",
        "    print('Prediction performance (class probabilities):')\n",
        "    for class_index, class_name in enumerate(class_names):\n",
        "        print(f'{class_name}: {predictions[0][class_index]*100:.2f}%')\n",
        "\n",
        "    return predicted_class_index"
      ],
      "metadata": {
        "id": "rPs1j-FK16Zj"
      },
      "execution_count": 57,
      "outputs": []
    },
    {
      "cell_type": "code",
      "source": [
        "# 이미지에 대한 예측 생성\n",
        "predictions = model.predict(x)"
      ],
      "metadata": {
        "colab": {
          "base_uri": "https://localhost:8080/"
        },
        "id": "FkBT-3GD0UFi",
        "outputId": "72bef207-fb20-40c8-e46c-d4a23d4b092d"
      },
      "execution_count": 53,
      "outputs": [
        {
          "output_type": "stream",
          "name": "stdout",
          "text": [
            "1/1 [==============================] - 0s 67ms/step\n"
          ]
        }
      ]
    },
    {
      "cell_type": "code",
      "source": [
        "# 이미지 경로\n",
        "img_path = '/content/b/w_14jpg'  # 다운로드한 이미지 경로로 변경\n",
        "predicted_class = predict_image(img_path, model)\n",
        "print(f'Predicted class: {predicted_class}')"
      ],
      "metadata": {
        "colab": {
          "base_uri": "https://localhost:8080/",
          "height": 1000
        },
        "id": "7tqzVbHA0a-O",
        "outputId": "1d12d1fe-4ea1-4c75-9f29-b6b37d24fe11"
      },
      "execution_count": 58,
      "outputs": [
        {
          "output_type": "error",
          "ename": "InvalidArgumentError",
          "evalue": "Graph execution error:\n\nDetected at node sequential_1/dense_2/Relu defined at (most recent call last):\n  File \"/usr/lib/python3.10/runpy.py\", line 196, in _run_module_as_main\n\n  File \"/usr/lib/python3.10/runpy.py\", line 86, in _run_code\n\n  File \"/usr/local/lib/python3.10/dist-packages/colab_kernel_launcher.py\", line 37, in <module>\n\n  File \"/usr/local/lib/python3.10/dist-packages/traitlets/config/application.py\", line 992, in launch_instance\n\n  File \"/usr/local/lib/python3.10/dist-packages/ipykernel/kernelapp.py\", line 619, in start\n\n  File \"/usr/local/lib/python3.10/dist-packages/tornado/platform/asyncio.py\", line 195, in start\n\n  File \"/usr/lib/python3.10/asyncio/base_events.py\", line 603, in run_forever\n\n  File \"/usr/lib/python3.10/asyncio/base_events.py\", line 1909, in _run_once\n\n  File \"/usr/lib/python3.10/asyncio/events.py\", line 80, in _run\n\n  File \"/usr/local/lib/python3.10/dist-packages/tornado/ioloop.py\", line 685, in <lambda>\n\n  File \"/usr/local/lib/python3.10/dist-packages/tornado/ioloop.py\", line 738, in _run_callback\n\n  File \"/usr/local/lib/python3.10/dist-packages/tornado/gen.py\", line 825, in inner\n\n  File \"/usr/local/lib/python3.10/dist-packages/tornado/gen.py\", line 786, in run\n\n  File \"/usr/local/lib/python3.10/dist-packages/ipykernel/kernelbase.py\", line 361, in process_one\n\n  File \"/usr/local/lib/python3.10/dist-packages/tornado/gen.py\", line 234, in wrapper\n\n  File \"/usr/local/lib/python3.10/dist-packages/ipykernel/kernelbase.py\", line 261, in dispatch_shell\n\n  File \"/usr/local/lib/python3.10/dist-packages/tornado/gen.py\", line 234, in wrapper\n\n  File \"/usr/local/lib/python3.10/dist-packages/ipykernel/kernelbase.py\", line 539, in execute_request\n\n  File \"/usr/local/lib/python3.10/dist-packages/tornado/gen.py\", line 234, in wrapper\n\n  File \"/usr/local/lib/python3.10/dist-packages/ipykernel/ipkernel.py\", line 302, in do_execute\n\n  File \"/usr/local/lib/python3.10/dist-packages/ipykernel/zmqshell.py\", line 539, in run_cell\n\n  File \"/usr/local/lib/python3.10/dist-packages/IPython/core/interactiveshell.py\", line 2975, in run_cell\n\n  File \"/usr/local/lib/python3.10/dist-packages/IPython/core/interactiveshell.py\", line 3030, in _run_cell\n\n  File \"/usr/local/lib/python3.10/dist-packages/IPython/core/async_helpers.py\", line 78, in _pseudo_sync_runner\n\n  File \"/usr/local/lib/python3.10/dist-packages/IPython/core/interactiveshell.py\", line 3257, in run_cell_async\n\n  File \"/usr/local/lib/python3.10/dist-packages/IPython/core/interactiveshell.py\", line 3473, in run_ast_nodes\n\n  File \"/usr/local/lib/python3.10/dist-packages/IPython/core/interactiveshell.py\", line 3553, in run_code\n\n  File \"<ipython-input-58-21c02fe29773>\", line 3, in <cell line: 3>\n\n  File \"<ipython-input-57-efbae18667b1>\", line 11, in predict_image\n\n  File \"/usr/local/lib/python3.10/dist-packages/keras/src/utils/traceback_utils.py\", line 65, in error_handler\n\n  File \"/usr/local/lib/python3.10/dist-packages/keras/src/engine/training.py\", line 2655, in predict\n\n  File \"/usr/local/lib/python3.10/dist-packages/keras/src/engine/training.py\", line 2440, in predict_function\n\n  File \"/usr/local/lib/python3.10/dist-packages/keras/src/engine/training.py\", line 2425, in step_function\n\n  File \"/usr/local/lib/python3.10/dist-packages/keras/src/engine/training.py\", line 2413, in run_step\n\n  File \"/usr/local/lib/python3.10/dist-packages/keras/src/engine/training.py\", line 2381, in predict_step\n\n  File \"/usr/local/lib/python3.10/dist-packages/keras/src/utils/traceback_utils.py\", line 65, in error_handler\n\n  File \"/usr/local/lib/python3.10/dist-packages/keras/src/engine/training.py\", line 590, in __call__\n\n  File \"/usr/local/lib/python3.10/dist-packages/keras/src/utils/traceback_utils.py\", line 65, in error_handler\n\n  File \"/usr/local/lib/python3.10/dist-packages/keras/src/engine/base_layer.py\", line 1149, in __call__\n\n  File \"/usr/local/lib/python3.10/dist-packages/keras/src/utils/traceback_utils.py\", line 96, in error_handler\n\n  File \"/usr/local/lib/python3.10/dist-packages/keras/src/engine/sequential.py\", line 398, in call\n\n  File \"/usr/local/lib/python3.10/dist-packages/keras/src/engine/functional.py\", line 515, in call\n\n  File \"/usr/local/lib/python3.10/dist-packages/keras/src/engine/functional.py\", line 672, in _run_internal_graph\n\n  File \"/usr/local/lib/python3.10/dist-packages/keras/src/utils/traceback_utils.py\", line 65, in error_handler\n\n  File \"/usr/local/lib/python3.10/dist-packages/keras/src/engine/base_layer.py\", line 1149, in __call__\n\n  File \"/usr/local/lib/python3.10/dist-packages/keras/src/utils/traceback_utils.py\", line 96, in error_handler\n\n  File \"/usr/local/lib/python3.10/dist-packages/keras/src/layers/core/dense.py\", line 255, in call\n\n  File \"/usr/local/lib/python3.10/dist-packages/keras/src/activations.py\", line 306, in relu\n\n  File \"/usr/local/lib/python3.10/dist-packages/keras/src/backend.py\", line 5395, in relu\n\nMatrix size-incompatible: In[0]: [1,7200], In[1]: [30752,32]\n\t [[{{node sequential_1/dense_2/Relu}}]] [Op:__inference_predict_function_5237]",
          "traceback": [
            "\u001b[0;31m---------------------------------------------------------------------------\u001b[0m",
            "\u001b[0;31mInvalidArgumentError\u001b[0m                      Traceback (most recent call last)",
            "\u001b[0;32m<ipython-input-58-21c02fe29773>\u001b[0m in \u001b[0;36m<cell line: 3>\u001b[0;34m()\u001b[0m\n\u001b[1;32m      1\u001b[0m \u001b[0;31m# 이미지 경로\u001b[0m\u001b[0;34m\u001b[0m\u001b[0;34m\u001b[0m\u001b[0m\n\u001b[1;32m      2\u001b[0m \u001b[0mimg_path\u001b[0m \u001b[0;34m=\u001b[0m \u001b[0;34m'/content/b/w_14jpg'\u001b[0m  \u001b[0;31m# 다운로드한 이미지 경로로 변경\u001b[0m\u001b[0;34m\u001b[0m\u001b[0;34m\u001b[0m\u001b[0m\n\u001b[0;32m----> 3\u001b[0;31m \u001b[0mpredicted_class\u001b[0m \u001b[0;34m=\u001b[0m \u001b[0mpredict_image\u001b[0m\u001b[0;34m(\u001b[0m\u001b[0mimg_path\u001b[0m\u001b[0;34m,\u001b[0m \u001b[0mmodel\u001b[0m\u001b[0;34m)\u001b[0m\u001b[0;34m\u001b[0m\u001b[0;34m\u001b[0m\u001b[0m\n\u001b[0m\u001b[1;32m      4\u001b[0m \u001b[0mprint\u001b[0m\u001b[0;34m(\u001b[0m\u001b[0;34mf'Predicted class: {predicted_class}'\u001b[0m\u001b[0;34m)\u001b[0m\u001b[0;34m\u001b[0m\u001b[0;34m\u001b[0m\u001b[0m\n",
            "\u001b[0;32m<ipython-input-57-efbae18667b1>\u001b[0m in \u001b[0;36mpredict_image\u001b[0;34m(img_path, model)\u001b[0m\n\u001b[1;32m      9\u001b[0m \u001b[0;34m\u001b[0m\u001b[0m\n\u001b[1;32m     10\u001b[0m     \u001b[0;31m# 예측 수행\u001b[0m\u001b[0;34m\u001b[0m\u001b[0;34m\u001b[0m\u001b[0m\n\u001b[0;32m---> 11\u001b[0;31m     \u001b[0mpredictions\u001b[0m \u001b[0;34m=\u001b[0m \u001b[0mmodel\u001b[0m\u001b[0;34m.\u001b[0m\u001b[0mpredict\u001b[0m\u001b[0;34m(\u001b[0m\u001b[0mimg_array\u001b[0m\u001b[0;34m)\u001b[0m\u001b[0;34m\u001b[0m\u001b[0;34m\u001b[0m\u001b[0m\n\u001b[0m\u001b[1;32m     12\u001b[0m \u001b[0;34m\u001b[0m\u001b[0m\n\u001b[1;32m     13\u001b[0m     \u001b[0;31m# 여측결과로 가장 높은 확률을 가진 클래스 인덱스 return\u001b[0m\u001b[0;34m\u001b[0m\u001b[0;34m\u001b[0m\u001b[0m\n",
            "\u001b[0;32m/usr/local/lib/python3.10/dist-packages/keras/src/utils/traceback_utils.py\u001b[0m in \u001b[0;36merror_handler\u001b[0;34m(*args, **kwargs)\u001b[0m\n\u001b[1;32m     68\u001b[0m             \u001b[0;31m# To get the full stack trace, call:\u001b[0m\u001b[0;34m\u001b[0m\u001b[0;34m\u001b[0m\u001b[0m\n\u001b[1;32m     69\u001b[0m             \u001b[0;31m# `tf.debugging.disable_traceback_filtering()`\u001b[0m\u001b[0;34m\u001b[0m\u001b[0;34m\u001b[0m\u001b[0m\n\u001b[0;32m---> 70\u001b[0;31m             \u001b[0;32mraise\u001b[0m \u001b[0me\u001b[0m\u001b[0;34m.\u001b[0m\u001b[0mwith_traceback\u001b[0m\u001b[0;34m(\u001b[0m\u001b[0mfiltered_tb\u001b[0m\u001b[0;34m)\u001b[0m \u001b[0;32mfrom\u001b[0m \u001b[0;32mNone\u001b[0m\u001b[0;34m\u001b[0m\u001b[0;34m\u001b[0m\u001b[0m\n\u001b[0m\u001b[1;32m     71\u001b[0m         \u001b[0;32mfinally\u001b[0m\u001b[0;34m:\u001b[0m\u001b[0;34m\u001b[0m\u001b[0;34m\u001b[0m\u001b[0m\n\u001b[1;32m     72\u001b[0m             \u001b[0;32mdel\u001b[0m \u001b[0mfiltered_tb\u001b[0m\u001b[0;34m\u001b[0m\u001b[0;34m\u001b[0m\u001b[0m\n",
            "\u001b[0;32m/usr/local/lib/python3.10/dist-packages/tensorflow/python/eager/execute.py\u001b[0m in \u001b[0;36mquick_execute\u001b[0;34m(op_name, num_outputs, inputs, attrs, ctx, name)\u001b[0m\n\u001b[1;32m     51\u001b[0m   \u001b[0;32mtry\u001b[0m\u001b[0;34m:\u001b[0m\u001b[0;34m\u001b[0m\u001b[0;34m\u001b[0m\u001b[0m\n\u001b[1;32m     52\u001b[0m     \u001b[0mctx\u001b[0m\u001b[0;34m.\u001b[0m\u001b[0mensure_initialized\u001b[0m\u001b[0;34m(\u001b[0m\u001b[0;34m)\u001b[0m\u001b[0;34m\u001b[0m\u001b[0;34m\u001b[0m\u001b[0m\n\u001b[0;32m---> 53\u001b[0;31m     tensors = pywrap_tfe.TFE_Py_Execute(ctx._handle, device_name, op_name,\n\u001b[0m\u001b[1;32m     54\u001b[0m                                         inputs, attrs, num_outputs)\n\u001b[1;32m     55\u001b[0m   \u001b[0;32mexcept\u001b[0m \u001b[0mcore\u001b[0m\u001b[0;34m.\u001b[0m\u001b[0m_NotOkStatusException\u001b[0m \u001b[0;32mas\u001b[0m \u001b[0me\u001b[0m\u001b[0;34m:\u001b[0m\u001b[0;34m\u001b[0m\u001b[0;34m\u001b[0m\u001b[0m\n",
            "\u001b[0;31mInvalidArgumentError\u001b[0m: Graph execution error:\n\nDetected at node sequential_1/dense_2/Relu defined at (most recent call last):\n  File \"/usr/lib/python3.10/runpy.py\", line 196, in _run_module_as_main\n\n  File \"/usr/lib/python3.10/runpy.py\", line 86, in _run_code\n\n  File \"/usr/local/lib/python3.10/dist-packages/colab_kernel_launcher.py\", line 37, in <module>\n\n  File \"/usr/local/lib/python3.10/dist-packages/traitlets/config/application.py\", line 992, in launch_instance\n\n  File \"/usr/local/lib/python3.10/dist-packages/ipykernel/kernelapp.py\", line 619, in start\n\n  File \"/usr/local/lib/python3.10/dist-packages/tornado/platform/asyncio.py\", line 195, in start\n\n  File \"/usr/lib/python3.10/asyncio/base_events.py\", line 603, in run_forever\n\n  File \"/usr/lib/python3.10/asyncio/base_events.py\", line 1909, in _run_once\n\n  File \"/usr/lib/python3.10/asyncio/events.py\", line 80, in _run\n\n  File \"/usr/local/lib/python3.10/dist-packages/tornado/ioloop.py\", line 685, in <lambda>\n\n  File \"/usr/local/lib/python3.10/dist-packages/tornado/ioloop.py\", line 738, in _run_callback\n\n  File \"/usr/local/lib/python3.10/dist-packages/tornado/gen.py\", line 825, in inner\n\n  File \"/usr/local/lib/python3.10/dist-packages/tornado/gen.py\", line 786, in run\n\n  File \"/usr/local/lib/python3.10/dist-packages/ipykernel/kernelbase.py\", line 361, in process_one\n\n  File \"/usr/local/lib/python3.10/dist-packages/tornado/gen.py\", line 234, in wrapper\n\n  File \"/usr/local/lib/python3.10/dist-packages/ipykernel/kernelbase.py\", line 261, in dispatch_shell\n\n  File \"/usr/local/lib/python3.10/dist-packages/tornado/gen.py\", line 234, in wrapper\n\n  File \"/usr/local/lib/python3.10/dist-packages/ipykernel/kernelbase.py\", line 539, in execute_request\n\n  File \"/usr/local/lib/python3.10/dist-packages/tornado/gen.py\", line 234, in wrapper\n\n  File \"/usr/local/lib/python3.10/dist-packages/ipykernel/ipkernel.py\", line 302, in do_execute\n\n  File \"/usr/local/lib/python3.10/dist-packages/ipykernel/zmqshell.py\", line 539, in run_cell\n\n  File \"/usr/local/lib/python3.10/dist-packages/IPython/core/interactiveshell.py\", line 2975, in run_cell\n\n  File \"/usr/local/lib/python3.10/dist-packages/IPython/core/interactiveshell.py\", line 3030, in _run_cell\n\n  File \"/usr/local/lib/python3.10/dist-packages/IPython/core/async_helpers.py\", line 78, in _pseudo_sync_runner\n\n  File \"/usr/local/lib/python3.10/dist-packages/IPython/core/interactiveshell.py\", line 3257, in run_cell_async\n\n  File \"/usr/local/lib/python3.10/dist-packages/IPython/core/interactiveshell.py\", line 3473, in run_ast_nodes\n\n  File \"/usr/local/lib/python3.10/dist-packages/IPython/core/interactiveshell.py\", line 3553, in run_code\n\n  File \"<ipython-input-58-21c02fe29773>\", line 3, in <cell line: 3>\n\n  File \"<ipython-input-57-efbae18667b1>\", line 11, in predict_image\n\n  File \"/usr/local/lib/python3.10/dist-packages/keras/src/utils/traceback_utils.py\", line 65, in error_handler\n\n  File \"/usr/local/lib/python3.10/dist-packages/keras/src/engine/training.py\", line 2655, in predict\n\n  File \"/usr/local/lib/python3.10/dist-packages/keras/src/engine/training.py\", line 2440, in predict_function\n\n  File \"/usr/local/lib/python3.10/dist-packages/keras/src/engine/training.py\", line 2425, in step_function\n\n  File \"/usr/local/lib/python3.10/dist-packages/keras/src/engine/training.py\", line 2413, in run_step\n\n  File \"/usr/local/lib/python3.10/dist-packages/keras/src/engine/training.py\", line 2381, in predict_step\n\n  File \"/usr/local/lib/python3.10/dist-packages/keras/src/utils/traceback_utils.py\", line 65, in error_handler\n\n  File \"/usr/local/lib/python3.10/dist-packages/keras/src/engine/training.py\", line 590, in __call__\n\n  File \"/usr/local/lib/python3.10/dist-packages/keras/src/utils/traceback_utils.py\", line 65, in error_handler\n\n  File \"/usr/local/lib/python3.10/dist-packages/keras/src/engine/base_layer.py\", line 1149, in __call__\n\n  File \"/usr/local/lib/python3.10/dist-packages/keras/src/utils/traceback_utils.py\", line 96, in error_handler\n\n  File \"/usr/local/lib/python3.10/dist-packages/keras/src/engine/sequential.py\", line 398, in call\n\n  File \"/usr/local/lib/python3.10/dist-packages/keras/src/engine/functional.py\", line 515, in call\n\n  File \"/usr/local/lib/python3.10/dist-packages/keras/src/engine/functional.py\", line 672, in _run_internal_graph\n\n  File \"/usr/local/lib/python3.10/dist-packages/keras/src/utils/traceback_utils.py\", line 65, in error_handler\n\n  File \"/usr/local/lib/python3.10/dist-packages/keras/src/engine/base_layer.py\", line 1149, in __call__\n\n  File \"/usr/local/lib/python3.10/dist-packages/keras/src/utils/traceback_utils.py\", line 96, in error_handler\n\n  File \"/usr/local/lib/python3.10/dist-packages/keras/src/layers/core/dense.py\", line 255, in call\n\n  File \"/usr/local/lib/python3.10/dist-packages/keras/src/activations.py\", line 306, in relu\n\n  File \"/usr/local/lib/python3.10/dist-packages/keras/src/backend.py\", line 5395, in relu\n\nMatrix size-incompatible: In[0]: [1,7200], In[1]: [30752,32]\n\t [[{{node sequential_1/dense_2/Relu}}]] [Op:__inference_predict_function_5237]"
          ]
        }
      ]
    },
    {
      "cell_type": "code",
      "source": [],
      "metadata": {
        "id": "j6Z9-zP405iP"
      },
      "execution_count": null,
      "outputs": []
    }
  ]
}