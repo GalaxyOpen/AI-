{
  "cells": [
    {
      "cell_type": "markdown",
      "source": [
        "<b>다중분류</b><br>\n",
        "폴더, 파일명에 라벨 포함<br>\n",
        "폴더, 파일명에서 클래스 정보 추출 <br><br>\n",
        "\n",
        "산, 바다, 자전거 구분"
      ],
      "metadata": {
        "id": "Ho3BQDs0LUZa"
      }
    },
    {
      "cell_type": "code",
      "execution_count": null,
      "metadata": {
        "id": "aixXOiopPCS0"
      },
      "outputs": [],
      "source": [
        "import os\n",
        "import tensorflow as tf\n",
        "from tensorflow.keras import datasets, layers, models, optimizers"
      ]
    },
    {
      "cell_type": "code",
      "execution_count": null,
      "metadata": {
        "id": "Pr7myloePCS1"
      },
      "outputs": [],
      "source": [
        "import math\n",
        "import numpy as np\n",
        "from glob import glob\n",
        "from tensorflow.keras.preprocessing import image\n",
        "import matplotlib.pyplot as plt"
      ]
    },
    {
      "cell_type": "code",
      "execution_count": null,
      "metadata": {
        "id": "PAVRlotePCS1"
      },
      "outputs": [],
      "source": [
        "IMG_CHANNELS = 3\n",
        "IMG_ROWS = 64\n",
        "IMG_COLS = 64\n",
        "CLASSES = 3  # 산, 바다, 자전거"
      ]
    },
    {
      "cell_type": "code",
      "source": [
        "from google.colab import drive\n",
        "drive.mount('/content/drive')"
      ],
      "metadata": {
        "id": "SjX-8yfc045U",
        "colab": {
          "base_uri": "https://localhost:8080/"
        },
        "outputId": "6bd47085-9e2e-4c51-ebd7-ffa4f0d21129"
      },
      "execution_count": null,
      "outputs": [
        {
          "output_type": "stream",
          "name": "stdout",
          "text": [
            "Mounted at /content/drive\n"
          ]
        }
      ]
    },
    {
      "cell_type": "code",
      "source": [
        "# 파일 경로\n",
        "mountain_files = glob('/content/drive/MyDrive/CNN/m.s_test/m/*jpg')\n",
        "sea_files = glob('/content/drive/MyDrive/CNN/m.s_test/s/*jpg')\n",
        "bicycle_files = glob('/content/drive/MyDrive/CNN/b_e/b/*jpg')\n"
      ],
      "metadata": {
        "id": "yZYhnwBgJJwb"
      },
      "execution_count": null,
      "outputs": []
    },
    {
      "cell_type": "code",
      "source": [
        "\n",
        "# 이미지와 라벨을 불러오는 함수 정의\n",
        "def load_images_and_labels(files, label):\n",
        "    images = [image.load_img(p, target_size=(IMG_ROWS, IMG_COLS)) for p in files]\n",
        "    labels = [label] * len(files)\n",
        "    return images, labels\n",
        "\n",
        "# 산과 바다 이미지 및 라벨 불러오기\n",
        "mountain_images, mountain_labels = load_images_and_labels(mountain_files, 0)  # 산을 0으로 라벨링\n",
        "sea_images, sea_labels = load_images_and_labels(sea_files, 1)  # 바다를 1로 라벨링\n",
        "b_images, b_labels = load_images_and_labels(bicycle_files, 2)  # 자전거를 2로 라벨링\n",
        "\n",
        "# 이미지와 라벨 병합\n",
        "images = mountain_images + sea_images + b_images\n",
        "y = mountain_labels + sea_labels + b_labels"
      ],
      "metadata": {
        "id": "aCK-HTJlsWfy"
      },
      "execution_count": null,
      "outputs": []
    },
    {
      "cell_type": "code",
      "execution_count": null,
      "metadata": {
        "id": "nB0Tuk0aPCS1"
      },
      "outputs": [],
      "source": [
        "#define the convnet\n",
        "def build(input_shape, classes):\n",
        "    model = models.Sequential()\n",
        "    model.add(layers.Convolution2D(32, (3, 3), activation='relu',\n",
        "                        input_shape=input_shape))\n",
        "    model.add(layers.MaxPooling2D(pool_size=(2, 2)))\n",
        "    model.add(layers.Dropout(0.25))\n",
        "\n",
        "    model.add(layers.Flatten())\n",
        "    model.add(layers.Dense(32, activation='relu'))\n",
        "    model.add(layers.Dense(classes, activation='softmax'))\n",
        "    return model"
      ]
    },
    {
      "cell_type": "code",
      "source": [
        "# 이미지 벡터화\n",
        "image_vector = np.asarray([image.img_to_array(img) for img in images])"
      ],
      "metadata": {
        "id": "dHmdkEJns_UQ"
      },
      "execution_count": null,
      "outputs": []
    },
    {
      "cell_type": "code",
      "source": [
        "image_vector[0]"
      ],
      "metadata": {
        "id": "ejXdFVJU7xuu"
      },
      "execution_count": null,
      "outputs": []
    },
    {
      "cell_type": "code",
      "execution_count": null,
      "metadata": {
        "colab": {
          "base_uri": "https://localhost:8080/"
        },
        "id": "MhFaL9MxPCS1",
        "outputId": "4fa834fa-ccce-48f0-8859-4754c7313069"
      },
      "outputs": [
        {
          "output_type": "execute_result",
          "data": {
            "text/plain": [
              "(374, 64, 64, 3)"
            ]
          },
          "metadata": {},
          "execution_count": 23
        }
      ],
      "source": [
        "image_vector.shape"
      ]
    },
    {
      "cell_type": "code",
      "execution_count": null,
      "metadata": {
        "colab": {
          "base_uri": "https://localhost:8080/"
        },
        "id": "M_QZ6YIyPCS1",
        "outputId": "abd8d17c-61f0-4684-9048-f8cda69fd6e7"
      },
      "outputs": [
        {
          "output_type": "execute_result",
          "data": {
            "text/plain": [
              "(64, 64, 3)"
            ]
          },
          "metadata": {},
          "execution_count": 38
        }
      ],
      "source": [
        "image_vector[0].shape"
      ]
    },
    {
      "cell_type": "code",
      "execution_count": null,
      "metadata": {
        "colab": {
          "base_uri": "https://localhost:8080/",
          "height": 450
        },
        "id": "gPuyuxFXPCS1",
        "outputId": "ee4b6b5c-dfcc-45e9-a9b5-a0203fcedbb4"
      },
      "outputs": [
        {
          "output_type": "execute_result",
          "data": {
            "text/plain": [
              "<matplotlib.image.AxesImage at 0x7d89b7830460>"
            ]
          },
          "metadata": {},
          "execution_count": 10
        },
        {
          "output_type": "display_data",
          "data": {
            "text/plain": [
              "<Figure size 640x480 with 1 Axes>"
            ],
            "image/png": "[encoded data removed]"
          },
          "metadata": {}
        }
      ],
      "source": [
        "plt.imshow(image_vector[0]/255)"
      ]
    },
    {
      "cell_type": "code",
      "execution_count": null,
      "metadata": {
        "id": "285CtWvoPCS1"
      },
      "outputs": [],
      "source": [
        "# y=[1] * 1000 + [0] * 1000"
      ]
    },
    {
      "cell_type": "code",
      "execution_count": null,
      "metadata": {
        "collapsed": true,
        "id": "LWz26A4LPCS1"
      },
      "outputs": [],
      "source": [
        "y"
      ]
    },
    {
      "cell_type": "code",
      "execution_count": null,
      "metadata": {
        "id": "kMWxOoP_PCS2"
      },
      "outputs": [],
      "source": [
        "from sklearn.model_selection import train_test_split\n",
        "X_train, X_test, y_train, y_test = train_test_split(image_vector, y, test_size=0.20, random_state=0)"
      ]
    },
    {
      "cell_type": "code",
      "execution_count": null,
      "metadata": {
        "colab": {
          "base_uri": "https://localhost:8080/"
        },
        "id": "DLA6A7UWPCS2",
        "outputId": "86469b4e-e098-4402-8ff6-286185030c43"
      },
      "outputs": [
        {
          "output_type": "execute_result",
          "data": {
            "text/plain": [
              "(16, 64, 64, 3)"
            ]
          },
          "metadata": {},
          "execution_count": 29
        }
      ],
      "source": [
        "X_train.shape"
      ]
    },
    {
      "cell_type": "code",
      "execution_count": null,
      "metadata": {
        "id": "iKa3tBY2PCS2"
      },
      "outputs": [],
      "source": [
        "X_train, X_test = X_train / 255, X_test / 255\n",
        "# convert to categorical\n",
        "# convert class vectors to binary class matrices\n",
        "y_train = tf.keras.utils.to_categorical(y_train, 3)\n",
        "y_test = tf.keras.utils.to_categorical(y_test, 3)"
      ]
    },
    {
      "cell_type": "code",
      "execution_count": null,
      "metadata": {
        "id": "G_ajx3RSPCS2"
      },
      "outputs": [],
      "source": [
        "y_train[10]"
      ]
    },
    {
      "cell_type": "code",
      "execution_count": null,
      "metadata": {
        "id": "1qcQGKAAPCS2",
        "outputId": "f011f852-12ea-4fe3-a503-a053efbc9388",
        "colab": {
          "base_uri": "https://localhost:8080/"
        }
      },
      "outputs": [
        {
          "output_type": "stream",
          "name": "stdout",
          "text": [
            "Model: \"sequential_3\"\n",
            "_________________________________________________________________\n",
            " Layer (type)                Output Shape              Param #   \n",
            "=================================================================\n",
            " conv2d_3 (Conv2D)           (None, 62, 62, 32)        896       \n",
            "                                                                 \n",
            " max_pooling2d_3 (MaxPoolin  (None, 31, 31, 32)        0         \n",
            " g2D)                                                            \n",
            "                                                                 \n",
            " dropout_3 (Dropout)         (None, 31, 31, 32)        0         \n",
            "                                                                 \n",
            " flatten_3 (Flatten)         (None, 30752)             0         \n",
            "                                                                 \n",
            " dense_6 (Dense)             (None, 32)                984096    \n",
            "                                                                 \n",
            " dense_7 (Dense)             (None, 3)                 99        \n",
            "                                                                 \n",
            "=================================================================\n",
            "Total params: 985091 (3.76 MB)\n",
            "Trainable params: 985091 (3.76 MB)\n",
            "Non-trainable params: 0 (0.00 Byte)\n",
            "_________________________________________________________________\n"
          ]
        }
      ],
      "source": [
        "model=build((IMG_ROWS, IMG_COLS, IMG_CHANNELS), CLASSES)\n",
        "model.summary()"
      ]
    },
    {
      "cell_type": "code",
      "execution_count": null,
      "metadata": {
        "id": "YnH7hmgxPCS2",
        "outputId": "df06b65f-d965-439f-e039-8bcd7cccc14b",
        "colab": {
          "base_uri": "https://localhost:8080/"
        }
      },
      "outputs": [
        {
          "output_type": "stream",
          "name": "stdout",
          "text": [
            "Epoch 1/50\n",
            "5/5 [==============================] - 2s 150ms/step - loss: 2.2453 - accuracy: 0.6923 - val_loss: 0.4621 - val_accuracy: 0.9333\n",
            "Epoch 2/50\n",
            "5/5 [==============================] - 0s 82ms/step - loss: 0.4719 - accuracy: 0.8923 - val_loss: 0.8850 - val_accuracy: 0.3333\n",
            "Epoch 3/50\n",
            "5/5 [==============================] - 0s 75ms/step - loss: 0.3718 - accuracy: 0.7769 - val_loss: 0.2427 - val_accuracy: 0.9333\n",
            "Epoch 4/50\n",
            "5/5 [==============================] - 0s 82ms/step - loss: 0.1776 - accuracy: 0.8923 - val_loss: 0.3667 - val_accuracy: 0.9333\n",
            "Epoch 5/50\n",
            "5/5 [==============================] - 0s 81ms/step - loss: 0.2304 - accuracy: 0.9077 - val_loss: 0.2104 - val_accuracy: 0.9333\n",
            "Epoch 6/50\n",
            "5/5 [==============================] - 0s 78ms/step - loss: 0.1213 - accuracy: 0.9385 - val_loss: 0.2787 - val_accuracy: 0.9333\n",
            "Epoch 7/50\n",
            "5/5 [==============================] - 0s 82ms/step - loss: 0.1662 - accuracy: 0.9231 - val_loss: 0.1854 - val_accuracy: 0.9333\n",
            "Epoch 8/50\n",
            "5/5 [==============================] - 0s 75ms/step - loss: 0.1039 - accuracy: 0.9615 - val_loss: 1.0146 - val_accuracy: 0.3333\n",
            "Epoch 9/50\n",
            "5/5 [==============================] - 0s 75ms/step - loss: 0.2870 - accuracy: 0.8462 - val_loss: 0.3434 - val_accuracy: 0.9333\n",
            "Epoch 10/50\n",
            "5/5 [==============================] - 0s 84ms/step - loss: 0.2069 - accuracy: 0.9462 - val_loss: 0.1985 - val_accuracy: 0.9333\n",
            "Epoch 11/50\n",
            "5/5 [==============================] - 0s 77ms/step - loss: 0.0833 - accuracy: 0.9615 - val_loss: 0.2144 - val_accuracy: 0.9333\n",
            "Epoch 12/50\n",
            "5/5 [==============================] - 0s 86ms/step - loss: 0.0690 - accuracy: 0.9846 - val_loss: 0.1682 - val_accuracy: 0.9333\n",
            "Epoch 13/50\n",
            "5/5 [==============================] - 0s 74ms/step - loss: 0.0518 - accuracy: 0.9923 - val_loss: 0.1763 - val_accuracy: 0.9333\n",
            "Epoch 14/50\n",
            "5/5 [==============================] - 0s 74ms/step - loss: 0.0467 - accuracy: 0.9923 - val_loss: 0.1784 - val_accuracy: 0.9333\n",
            "Epoch 15/50\n",
            "5/5 [==============================] - 0s 79ms/step - loss: 0.0353 - accuracy: 1.0000 - val_loss: 0.2110 - val_accuracy: 0.9333\n",
            "Epoch 16/50\n",
            "5/5 [==============================] - 0s 75ms/step - loss: 0.0419 - accuracy: 0.9923 - val_loss: 0.5815 - val_accuracy: 0.9333\n",
            "Epoch 17/50\n",
            "5/5 [==============================] - 0s 89ms/step - loss: 0.1818 - accuracy: 0.9692 - val_loss: 0.1774 - val_accuracy: 0.9333\n",
            "Epoch 18/50\n",
            "5/5 [==============================] - 0s 78ms/step - loss: 0.0312 - accuracy: 1.0000 - val_loss: 0.2520 - val_accuracy: 0.9333\n",
            "Epoch 19/50\n",
            "5/5 [==============================] - 0s 99ms/step - loss: 0.0371 - accuracy: 0.9923 - val_loss: 0.1417 - val_accuracy: 0.9333\n",
            "Epoch 20/50\n",
            "5/5 [==============================] - 1s 133ms/step - loss: 0.0256 - accuracy: 1.0000 - val_loss: 0.1667 - val_accuracy: 0.9333\n",
            "Epoch 21/50\n",
            "5/5 [==============================] - 1s 141ms/step - loss: 0.0165 - accuracy: 1.0000 - val_loss: 0.1371 - val_accuracy: 0.9333\n",
            "Epoch 22/50\n",
            "5/5 [==============================] - 1s 130ms/step - loss: 0.0126 - accuracy: 1.0000 - val_loss: 0.3024 - val_accuracy: 0.9333\n",
            "Epoch 23/50\n",
            "5/5 [==============================] - 1s 124ms/step - loss: 0.1140 - accuracy: 0.9615 - val_loss: 0.1685 - val_accuracy: 0.9333\n",
            "Epoch 24/50\n",
            "5/5 [==============================] - 1s 127ms/step - loss: 0.0398 - accuracy: 0.9923 - val_loss: 0.1404 - val_accuracy: 0.9333\n",
            "Epoch 25/50\n",
            "5/5 [==============================] - 1s 127ms/step - loss: 0.0135 - accuracy: 1.0000 - val_loss: 0.1525 - val_accuracy: 0.9333\n",
            "Epoch 26/50\n",
            "5/5 [==============================] - 1s 133ms/step - loss: 0.0120 - accuracy: 1.0000 - val_loss: 0.1464 - val_accuracy: 0.9333\n",
            "Epoch 27/50\n",
            "5/5 [==============================] - 1s 123ms/step - loss: 0.0151 - accuracy: 1.0000 - val_loss: 0.1335 - val_accuracy: 0.9333\n",
            "Epoch 28/50\n",
            "5/5 [==============================] - 1s 104ms/step - loss: 0.0068 - accuracy: 1.0000 - val_loss: 0.1670 - val_accuracy: 0.9333\n",
            "Epoch 29/50\n",
            "5/5 [==============================] - 0s 79ms/step - loss: 0.0059 - accuracy: 1.0000 - val_loss: 0.1269 - val_accuracy: 0.9333\n",
            "Epoch 30/50\n",
            "5/5 [==============================] - 0s 82ms/step - loss: 0.0053 - accuracy: 1.0000 - val_loss: 0.1393 - val_accuracy: 0.9333\n",
            "Epoch 31/50\n",
            "5/5 [==============================] - 0s 81ms/step - loss: 0.0068 - accuracy: 1.0000 - val_loss: 0.1411 - val_accuracy: 0.9333\n",
            "Epoch 32/50\n",
            "5/5 [==============================] - 0s 88ms/step - loss: 0.0028 - accuracy: 1.0000 - val_loss: 0.1462 - val_accuracy: 0.9333\n",
            "Epoch 33/50\n",
            "5/5 [==============================] - 0s 78ms/step - loss: 0.0024 - accuracy: 1.0000 - val_loss: 0.8913 - val_accuracy: 0.6000\n",
            "Epoch 34/50\n",
            "5/5 [==============================] - 0s 76ms/step - loss: 0.2261 - accuracy: 0.9385 - val_loss: 0.1197 - val_accuracy: 0.9333\n",
            "Epoch 35/50\n",
            "5/5 [==============================] - 0s 82ms/step - loss: 0.0072 - accuracy: 1.0000 - val_loss: 0.1419 - val_accuracy: 0.9333\n",
            "Epoch 36/50\n",
            "5/5 [==============================] - 0s 84ms/step - loss: 0.0055 - accuracy: 1.0000 - val_loss: 0.1503 - val_accuracy: 0.9333\n",
            "Epoch 37/50\n",
            "5/5 [==============================] - 0s 77ms/step - loss: 0.0046 - accuracy: 1.0000 - val_loss: 0.1596 - val_accuracy: 0.9333\n",
            "Epoch 38/50\n",
            "5/5 [==============================] - 0s 78ms/step - loss: 0.0040 - accuracy: 1.0000 - val_loss: 0.1538 - val_accuracy: 0.9333\n",
            "Epoch 39/50\n",
            "5/5 [==============================] - 0s 76ms/step - loss: 0.0036 - accuracy: 1.0000 - val_loss: 0.1621 - val_accuracy: 0.9333\n",
            "Epoch 40/50\n",
            "5/5 [==============================] - 0s 81ms/step - loss: 0.0029 - accuracy: 1.0000 - val_loss: 0.1584 - val_accuracy: 0.9333\n",
            "Epoch 41/50\n",
            "5/5 [==============================] - 0s 83ms/step - loss: 0.0027 - accuracy: 1.0000 - val_loss: 0.3465 - val_accuracy: 0.9333\n",
            "Epoch 42/50\n",
            "5/5 [==============================] - 0s 77ms/step - loss: 0.0673 - accuracy: 0.9846 - val_loss: 0.1903 - val_accuracy: 0.9333\n",
            "Epoch 43/50\n",
            "5/5 [==============================] - 0s 81ms/step - loss: 0.0035 - accuracy: 1.0000 - val_loss: 0.1677 - val_accuracy: 0.9333\n",
            "Epoch 44/50\n",
            "5/5 [==============================] - 0s 75ms/step - loss: 0.0029 - accuracy: 1.0000 - val_loss: 0.1623 - val_accuracy: 0.9333\n",
            "Epoch 45/50\n",
            "5/5 [==============================] - 0s 81ms/step - loss: 0.0025 - accuracy: 1.0000 - val_loss: 0.1518 - val_accuracy: 0.9333\n",
            "Epoch 46/50\n",
            "5/5 [==============================] - 0s 79ms/step - loss: 0.0022 - accuracy: 1.0000 - val_loss: 0.1423 - val_accuracy: 0.9333\n",
            "Epoch 47/50\n",
            "5/5 [==============================] - 0s 76ms/step - loss: 0.0016 - accuracy: 1.0000 - val_loss: 0.1340 - val_accuracy: 0.9333\n",
            "Epoch 48/50\n",
            "5/5 [==============================] - 0s 81ms/step - loss: 0.0014 - accuracy: 1.0000 - val_loss: 0.1347 - val_accuracy: 0.9333\n",
            "Epoch 49/50\n",
            "5/5 [==============================] - 0s 76ms/step - loss: 0.0014 - accuracy: 1.0000 - val_loss: 0.1228 - val_accuracy: 0.9333\n",
            "Epoch 50/50\n",
            "5/5 [==============================] - 0s 84ms/step - loss: 0.0010 - accuracy: 1.0000 - val_loss: 0.1288 - val_accuracy: 0.9333\n"
          ]
        }
      ],
      "source": [
        "model.compile(loss='categorical_crossentropy', optimizer=optimizers.RMSprop(learning_rate=0.001), metrics=['accuracy'])\n",
        "\n",
        "history = model.fit(X_train, y_train, batch_size=32, epochs=50, validation_split=0.1)"
      ]
    },
    {
      "cell_type": "code",
      "execution_count": null,
      "metadata": {
        "id": "z0K0__h1PCS2",
        "outputId": "56e54916-01bf-40df-ad79-b3f91e31c281",
        "colab": {
          "base_uri": "https://localhost:8080/",
          "height": 449
        }
      },
      "outputs": [
        {
          "output_type": "display_data",
          "data": {
            "text/plain": [
              "<Figure size 640x480 with 1 Axes>"
            ],
            "image/png": "[encoded data removed]"
          },
          "metadata": {}
        }
      ],
      "source": [
        "import matplotlib.pyplot as plt\n",
        "plt.plot(history.history['loss'])\n",
        "plt.plot(history.history['val_loss'])\n",
        "plt.xlabel('epoch')\n",
        "plt.ylabel('loss')\n",
        "plt.legend(['train', 'val'])\n",
        "plt.show()"
      ]
    },
    {
      "cell_type": "code",
      "execution_count": null,
      "metadata": {
        "id": "CCPHrJhwPCS2",
        "outputId": "f4d1e673-680c-4b2f-b981-f5a7074f68bf",
        "colab": {
          "base_uri": "https://localhost:8080/",
          "height": 449
        }
      },
      "outputs": [
        {
          "output_type": "display_data",
          "data": {
            "text/plain": [
              "<Figure size 640x480 with 1 Axes>"
            ],
            "image/png": "[encoded data removed]"
          },
          "metadata": {}
        }
      ],
      "source": [
        "plt.plot(history.history['accuracy'])\n",
        "plt.plot(history.history['val_accuracy'])\n",
        "plt.xlabel('epoch')\n",
        "plt.ylabel('accuracy')\n",
        "plt.legend(['train','val'])\n",
        "plt.show()"
      ]
    },
    {
      "cell_type": "code",
      "execution_count": null,
      "metadata": {
        "id": "19tsxPYzPCS2",
        "outputId": "d9207708-83f9-4b4d-998f-59ba6bb9432c",
        "colab": {
          "base_uri": "https://localhost:8080/"
        }
      },
      "outputs": [
        {
          "output_type": "stream",
          "name": "stdout",
          "text": [
            "2/2 [==============================] - 0s 12ms/step - loss: 0.5461 - accuracy: 0.8919\n",
            "\n",
            "Test loss: 0.54607093334198\n",
            "Test accuracy: 0.8918918967247009\n"
          ]
        }
      ],
      "source": [
        "score = model.evaluate(X_test, y_test)\n",
        "print(\"\\nTest loss:\", score[0])\n",
        "print('Test accuracy:', score[1])"
      ]
    },
    {
      "cell_type": "code",
      "execution_count": null,
      "metadata": {
        "id": "82GpO3CSPCS2"
      },
      "outputs": [],
      "source": []
    }
  ],
  "metadata": {
    "kernelspec": {
      "display_name": "Python 3 (ipykernel)",
      "language": "python",
      "name": "python3"
    },
    "language_info": {
      "codemirror_mode": {
        "name": "ipython",
        "version": 3
      },
      "file_extension": ".py",
      "mimetype": "text/x-python",
      "name": "python",
      "nbconvert_exporter": "python",
      "pygments_lexer": "ipython3",
      "version": "3.8.5"
    },
    "colab": {
      "provenance": []
    }
  },
  "nbformat": 4,
  "nbformat_minor": 0
}