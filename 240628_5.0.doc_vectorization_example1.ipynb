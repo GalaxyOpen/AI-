{
  "cells": [
    {
      "cell_type": "code",
      "execution_count": null,
      "metadata": {
        "id": "aoPyEwz2aRvJ"
      },
      "outputs": [],
      "source": [
        "import numpy as np\n",
        "import pandas as pd\n",
        "from sklearn.feature_extraction.text import CountVectorizer # frequency based DTM\n",
        "from sklearn.feature_extraction.text import TfidfVectorizer # tf-idf based DTM"
      ]
    },
    {
      "cell_type": "code",
      "execution_count": null,
      "metadata": {
        "id": "GGBwuqH6aRvK"
      },
      "outputs": [],
      "source": [
        "TEXT = ['banana apple apple eggplant',\n",
        "        'orange carrot banana eggplant',\n",
        "        'apple carrot banana banana',\n",
        "        'orange banana grape'\n",
        "]\n",
        "\n",
        "TXT = \"banana apple apple eggplant orange carrot banana eggplant apple carrot banana banana orange banana grape\"\n"
      ]
    },
    {
      "cell_type": "markdown",
      "metadata": {
        "id": "ZZY6OWyKaRvK"
      },
      "source": [
        "# CountVectorizer 이용하기"
      ]
    },
    {
      "cell_type": "code",
      "execution_count": null,
      "metadata": {
        "id": "olr48ANAaRvL"
      },
      "outputs": [],
      "source": [
        "# tf_vectorizer = CountVectorizer(min_df=1, ngram_range=(1,1))\n",
        "tf_vectorizer = CountVectorizer(min_df=1, ngram_range=(1,2))  # 최수 빈도수 정의 # 그램 정의(유니그램(단일 단어)만 고려)\n",
        "tf_features = tf_vectorizer.fit_transform(TEXT)"
      ]
    },
    {
      "cell_type": "code",
      "source": [
        "# n 그램 이해\n",
        "import nltk\n",
        "from nltk import ngrams\n",
        "\n",
        "def getNgramWord(N,txt):\n",
        "    txt = txt.split()\n",
        "    ngrams = [txt[i:i+N] for i in range(len(txt)-N+1)]\n",
        "    return ngrams\n",
        "\n",
        "print(\"1-gram : \" + str(getNgramWord(1, TXT))) # unigram\n",
        "print(\"2-gram : \" + str(getNgramWord(2, TXT))) # bigram\n",
        "print(\"3-gram : \" + str(getNgramWord(3, TXT))) # trigram"
      ],
      "metadata": {
        "colab": {
          "base_uri": "https://localhost:8080/"
        },
        "id": "fbkhz9fT4h_K",
        "outputId": "25523447-75d8-444a-fb3e-1ba106792799"
      },
      "execution_count": null,
      "outputs": [
        {
          "output_type": "stream",
          "name": "stdout",
          "text": [
            "1-gram : [['banana'], ['apple'], ['apple'], ['eggplant'], ['orange'], ['carrot'], ['banana'], ['eggplant'], ['apple'], ['carrot'], ['banana'], ['banana'], ['orange'], ['banana'], ['grape']]\n",
            "2-gram : [['banana', 'apple'], ['apple', 'apple'], ['apple', 'eggplant'], ['eggplant', 'orange'], ['orange', 'carrot'], ['carrot', 'banana'], ['banana', 'eggplant'], ['eggplant', 'apple'], ['apple', 'carrot'], ['carrot', 'banana'], ['banana', 'banana'], ['banana', 'orange'], ['orange', 'banana'], ['banana', 'grape']]\n",
            "3-gram : [['banana', 'apple', 'apple'], ['apple', 'apple', 'eggplant'], ['apple', 'eggplant', 'orange'], ['eggplant', 'orange', 'carrot'], ['orange', 'carrot', 'banana'], ['carrot', 'banana', 'eggplant'], ['banana', 'eggplant', 'apple'], ['eggplant', 'apple', 'carrot'], ['apple', 'carrot', 'banana'], ['carrot', 'banana', 'banana'], ['banana', 'banana', 'orange'], ['banana', 'orange', 'banana'], ['orange', 'banana', 'grape']]\n"
          ]
        }
      ]
    },
    {
      "cell_type": "code",
      "execution_count": null,
      "metadata": {
        "colab": {
          "base_uri": "https://localhost:8080/"
        },
        "id": "xJTVbj5caRvL",
        "outputId": "798d4ddd-6446-4321-9c52-58a9e1506277"
      },
      "outputs": [
        {
          "output_type": "execute_result",
          "data": {
            "text/plain": [
              "<4x16 sparse matrix of type '<class 'numpy.int64'>'\n",
              "\twith 24 stored elements in Compressed Sparse Row format>"
            ]
          },
          "metadata": {},
          "execution_count": 38
        }
      ],
      "source": [
        "tf_features"
      ]
    },
    {
      "cell_type": "code",
      "execution_count": null,
      "metadata": {
        "colab": {
          "base_uri": "https://localhost:8080/"
        },
        "id": "qtOKbfjtaRvL",
        "outputId": "7e22d438-bb20-439c-a3cd-56e0fbed2648"
      },
      "outputs": [
        {
          "output_type": "execute_result",
          "data": {
            "text/plain": [
              "array([[2, 1, 0, 1, 1, 1, 0, 0, 0, 0, 0, 1, 0, 0, 0, 0],\n",
              "       [0, 0, 0, 0, 1, 0, 0, 1, 0, 1, 1, 1, 0, 1, 0, 1],\n",
              "       [1, 0, 1, 0, 2, 0, 1, 0, 0, 1, 1, 0, 0, 0, 0, 0],\n",
              "       [0, 0, 0, 0, 1, 0, 0, 0, 1, 0, 0, 0, 1, 1, 1, 0]])"
            ]
          },
          "metadata": {},
          "execution_count": 39
        }
      ],
      "source": [
        "features = np.array(tf_features.todense())\n",
        "features"
      ]
    },
    {
      "cell_type": "code",
      "execution_count": null,
      "metadata": {
        "colab": {
          "base_uri": "https://localhost:8080/"
        },
        "id": "8Zht6jFSaRvL",
        "outputId": "52cb9a56-84b3-4905-ab8e-5d5b37a62a15"
      },
      "outputs": [
        {
          "output_type": "execute_result",
          "data": {
            "text/plain": [
              "array([[2, 1, 0, 1, 1, 1, 0, 0, 0, 0, 0, 1, 0, 0, 0, 0],\n",
              "       [0, 0, 0, 0, 1, 0, 0, 1, 0, 1, 1, 1, 0, 1, 0, 1],\n",
              "       [1, 0, 1, 0, 2, 0, 1, 0, 0, 1, 1, 0, 0, 0, 0, 0],\n",
              "       [0, 0, 0, 0, 1, 0, 0, 0, 1, 0, 0, 0, 1, 1, 1, 0]])"
            ]
          },
          "metadata": {},
          "execution_count": 32
        }
      ],
      "source": [
        "features"
      ]
    },
    {
      "cell_type": "code",
      "execution_count": null,
      "metadata": {
        "colab": {
          "base_uri": "https://localhost:8080/"
        },
        "id": "0dz561GCaRvL",
        "outputId": "3dddf6ad-d9ff-499a-ae8d-66b6da7f4425"
      },
      "outputs": [
        {
          "output_type": "execute_result",
          "data": {
            "text/plain": [
              "array([2, 1, 0, 1, 1, 1, 0, 0, 0, 0, 0, 1, 0, 0, 0, 0])"
            ]
          },
          "metadata": {},
          "execution_count": 33
        }
      ],
      "source": [
        "features[0]"
      ]
    },
    {
      "cell_type": "code",
      "execution_count": null,
      "metadata": {
        "colab": {
          "base_uri": "https://localhost:8080/"
        },
        "id": "z94OwugjaRvL",
        "outputId": "3ed78f0f-8ce2-4083-e073-378c156ddeb3"
      },
      "outputs": [
        {
          "output_type": "execute_result",
          "data": {
            "text/plain": [
              "array([0, 0, 0, 0, 1, 0, 0, 1, 0, 1, 1, 1, 0, 1, 0, 1])"
            ]
          },
          "metadata": {},
          "execution_count": 34
        }
      ],
      "source": [
        "features[1]"
      ]
    },
    {
      "cell_type": "code",
      "execution_count": null,
      "metadata": {
        "id": "wbS8LyG3aRvM"
      },
      "outputs": [],
      "source": []
    },
    {
      "cell_type": "code",
      "execution_count": null,
      "metadata": {
        "colab": {
          "base_uri": "https://localhost:8080/"
        },
        "id": "SaPpr9IhaRvM",
        "outputId": "646f0ca9-9a63-4af4-f177-3d302ae4367d"
      },
      "outputs": [
        {
          "output_type": "execute_result",
          "data": {
            "text/plain": [
              "3.4641016151377544"
            ]
          },
          "metadata": {},
          "execution_count": 35
        }
      ],
      "source": [
        "np.linalg.norm(features[1]-features[0])"
      ]
    },
    {
      "cell_type": "code",
      "execution_count": null,
      "metadata": {
        "colab": {
          "base_uri": "https://localhost:8080/"
        },
        "id": "FAEoKmvlaRvM",
        "outputId": "b01c1813-e06a-480c-affd-3b315d9de5d4"
      },
      "outputs": [
        {
          "output_type": "execute_result",
          "data": {
            "text/plain": [
              "2.8284271247461903"
            ]
          },
          "metadata": {},
          "execution_count": 36
        }
      ],
      "source": [
        "np.linalg.norm(features[1]-features[2])"
      ]
    },
    {
      "cell_type": "code",
      "execution_count": null,
      "metadata": {
        "colab": {
          "base_uri": "https://localhost:8080/"
        },
        "id": "lURA8F-MaRvM",
        "outputId": "730382e1-d80e-4f8f-b47d-f669c44ac3ef"
      },
      "outputs": [
        {
          "output_type": "execute_result",
          "data": {
            "text/plain": [
              "array(['apple', 'apple apple', 'apple carrot', 'apple eggplant', 'banana',\n",
              "       'banana apple', 'banana banana', 'banana eggplant', 'banana grape',\n",
              "       'carrot', 'carrot banana', 'eggplant', 'grape', 'orange',\n",
              "       'orange banana', 'orange carrot'], dtype=object)"
            ]
          },
          "metadata": {},
          "execution_count": 37
        }
      ],
      "source": [
        "# from sklearn.feature_extraction.text import CountVectorizer\n",
        "feature_names = tf_vectorizer.get_feature_names_out()\n",
        "feature_names"
      ]
    },
    {
      "cell_type": "code",
      "execution_count": null,
      "metadata": {
        "colab": {
          "base_uri": "https://localhost:8080/"
        },
        "id": "mUXpR2MAaRvM",
        "outputId": "3622c21c-94e8-44c7-c25c-b34746d15ad3"
      },
      "outputs": [
        {
          "output_type": "stream",
          "name": "stdout",
          "text": [
            "   apple  banana  carrot  eggplant  grape  orange\n",
            "0      2       1       0         1      0       0\n",
            "1      0       1       1         1      0       1\n",
            "2      1       2       1         0      0       0\n",
            "3      0       1       0         0      1       1\n"
          ]
        }
      ],
      "source": [
        "import pandas as pd\n",
        "df = pd.DataFrame(data=features, columns=feature_names)\n",
        "print(df)"
      ]
    },
    {
      "cell_type": "markdown",
      "metadata": {
        "id": "EVLG2-o3aRvM"
      },
      "source": [
        "# TfidfVectorizer 이용하기"
      ]
    },
    {
      "cell_type": "code",
      "execution_count": null,
      "metadata": {
        "id": "PE2pk5odaRvM"
      },
      "outputs": [],
      "source": [
        "tfidf_vectorizer = TfidfVectorizer(min_df=1, ngram_range=(1,1))\n",
        "tfidf_features = tfidf_vectorizer.fit_transform(TEXT)"
      ]
    },
    {
      "cell_type": "code",
      "execution_count": null,
      "metadata": {
        "id": "qQBba-p5aRvM",
        "outputId": "2473b7fb-73e8-41ca-98f7-4fa6263ef846"
      },
      "outputs": [
        {
          "data": {
            "text/plain": [
              "array([[0.85764287, 0.28383251, 0.        , 0.42882143, 0.        ,\n",
              "        0.        ],\n",
              "       [0.        , 0.35696573, 0.53931298, 0.53931298, 0.        ,\n",
              "        0.53931298],\n",
              "       [0.51623315, 0.68337886, 0.51623315, 0.        , 0.        ,\n",
              "        0.        ],\n",
              "       [0.        , 0.37919167, 0.        , 0.        , 0.72664149,\n",
              "        0.5728925 ]])"
            ]
          },
          "execution_count": 7,
          "metadata": {},
          "output_type": "execute_result"
        }
      ],
      "source": [
        "tfidf_features = np.array(tfidf_features.todense())\n",
        "tfidf_features"
      ]
    },
    {
      "cell_type": "code",
      "execution_count": null,
      "metadata": {
        "id": "MTGWIz1BaRvN",
        "outputId": "99484a82-baf9-4f51-8dfe-d5dddf0ee030"
      },
      "outputs": [
        {
          "data": {
            "text/plain": [
              "array([0.85764287, 0.28383251, 0.        , 0.42882143, 0.        ,\n",
              "       0.        ])"
            ]
          },
          "execution_count": 8,
          "metadata": {},
          "output_type": "execute_result"
        }
      ],
      "source": [
        "tfidf_features[0]"
      ]
    },
    {
      "cell_type": "code",
      "execution_count": null,
      "metadata": {
        "id": "Evqh7hW6aRvN"
      },
      "outputs": [],
      "source": []
    }
  ],
  "metadata": {
    "kernelspec": {
      "display_name": "Python 3",
      "language": "python",
      "name": "python3"
    },
    "language_info": {
      "codemirror_mode": {
        "name": "ipython",
        "version": 3
      },
      "file_extension": ".py",
      "mimetype": "text/x-python",
      "name": "python",
      "nbconvert_exporter": "python",
      "pygments_lexer": "ipython3",
      "version": "3.8.5"
    },
    "colab": {
      "provenance": []
    }
  },
  "nbformat": 4,
  "nbformat_minor": 0
}