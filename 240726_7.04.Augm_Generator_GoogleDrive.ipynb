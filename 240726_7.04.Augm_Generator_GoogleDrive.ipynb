{
  "cells": [
    {
      "cell_type": "code",
      "execution_count": null,
      "metadata": {
        "id": "DCkdqUgB8iXk"
      },
      "outputs": [],
      "source": [
        "import os\n",
        "import numpy as np\n",
        "from tensorflow.keras.preprocessing.image import ImageDataGenerator, load_img, img_to_array, array_to_img\n",
        "import matplotlib.pyplot as plt"
      ]
    },
    {
      "cell_type": "code",
      "execution_count": null,
      "metadata": {
        "id": "t4_GVNBD9BEY"
      },
      "outputs": [],
      "source": [
        "# 데이터 증강을 위한 설정\n",
        "datagen = ImageDataGenerator(\n",
        "    rotation_range=30,\n",
        "    width_shift_range=0.1,\n",
        "    height_shift_range=0.1,\n",
        "    zoom_range=0.1,\n",
        "    horizontal_flip=True,\n",
        "    fill_mode='nearest'\n",
        ")\n"
      ]
    },
    {
      "cell_type": "code",
      "execution_count": null,
      "metadata": {
        "id": "d-AdjtDu-g6L"
      },
      "outputs": [],
      "source": [
        "# # 데이터 증강, 저장 함수\n",
        "def load_and_augment_images(folder_path, save_to_folder=None, target_size=(128, 128), num_augmented_images=5):\n",
        "    filenames = [f for f in os.listdir(folder_path) if os.path.isfile(os.path.join(folder_path, f))] # Filter out directories\n",
        "    for filename in filenames:\n",
        "        img_path = os.path.join(folder_path, filename)\n",
        "        img = load_img(img_path, target_size=target_size)\n",
        "        x = img_to_array(img)  # Convert image to array\n",
        "        x = x.reshape((1,) + x.shape)  # Reshape image\n",
        "\n",
        "        i = 0\n",
        "        for batch in datagen.flow(x, batch_size=1, save_to_dir=save_to_folder, save_prefix='aug_', save_format='jpeg'):\n",
        "            plt.figure(i)\n",
        "            # plt.imshow(array_to_img(batch[0]))\n",
        "            # plt.show()\n",
        "            i += 1\n",
        "            if i >= num_augmented_images:\n",
        "                break  # Stop after generating a certain number of images"
      ]
    },
    {
      "cell_type": "code",
      "execution_count": null,
      "metadata": {
        "colab": {
          "base_uri": "https://localhost:8080/"
        },
        "id": "DSaisRqD9OhW",
        "outputId": "65d67e63-3486-4c23-ab3d-f4ce81ccd66f"
      },
      "outputs": [
        {
          "name": "stdout",
          "output_type": "stream",
          "text": [
            "Mounted at /content/drive\n"
          ]
        }
      ],
      "source": [
        "# 구글 드라이브 마운트\n",
        "from google.colab import drive\n",
        "drive.mount('/content/drive')"
      ]
    },
    {
      "cell_type": "code",
      "execution_count": null,
      "metadata": {
        "colab": {
          "base_uri": "https://localhost:8080/",
          "height": 109
        },
        "id": "CUdQBQz589Ps",
        "outputId": "0de703ad-424a-460a-ea9d-d8fa16da46ce"
      },
      "outputs": [
        {
          "data": {
            "text/plain": [
              "<Figure size 640x480 with 0 Axes>"
            ]
          },
          "metadata": {},
          "output_type": "display_data"
        },
        {
          "data": {
            "text/plain": [
              "<Figure size 640x480 with 0 Axes>"
            ]
          },
          "metadata": {},
          "output_type": "display_data"
        },
        {
          "data": {
            "text/plain": [
              "<Figure size 640x480 with 0 Axes>"
            ]
          },
          "metadata": {},
          "output_type": "display_data"
        },
        {
          "data": {
            "text/plain": [
              "<Figure size 640x480 with 0 Axes>"
            ]
          },
          "metadata": {},
          "output_type": "display_data"
        },
        {
          "data": {
            "text/plain": [
              "<Figure size 640x480 with 0 Axes>"
            ]
          },
          "metadata": {},
          "output_type": "display_data"
        }
      ],
      "source": [
        "# Example usage\n",
        "folder_path = '/content/drive/MyDrive/CNN/m.s_val/s/'\n",
        "save_to_folder = '/content/drive/MyDrive/CNN/m.s_val/m.s_val_s_aug/' \n",
        "load_and_augment_images(folder_path, save_to_folder)"
      ]
    }
  ],
  "metadata": {
    "colab": {
      "provenance": []
    },
    "kernelspec": {
      "display_name": "Python 3",
      "name": "python3"
    },
    "language_info": {
      "name": "python"
    }
  },
  "nbformat": 4,
  "nbformat_minor": 0
}
