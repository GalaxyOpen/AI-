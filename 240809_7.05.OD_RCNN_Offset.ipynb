{
  "nbformat": 4,
  "nbformat_minor": 0,
  "metadata": {
    "colab": {
      "provenance": []
    },
    "kernelspec": {
      "name": "python3",
      "display_name": "Python 3"
    },
    "language_info": {
      "name": "python"
    }
  },
  "cells": [
    {
      "cell_type": "code",
      "source": [
        "import numpy as np"
      ],
      "metadata": {
        "id": "QovjflR8G_NF"
      },
      "execution_count": null,
      "outputs": []
    },
    {
      "cell_type": "code",
      "source": [
        "def calculate_offsets(pred_box, gt_box):\n",
        "    px, py, pw, ph = pred_box\n",
        "    gx, gy, gw, gh = gt_box\n",
        "\n",
        "    dx = (gx - px) / pw\n",
        "    dy = (gy - py) / ph\n",
        "    dw = np.log(gw / pw)\n",
        "    dh = np.log(gh / ph)\n",
        "\n",
        "    return np.array([dx, dy, dw, dh])\n",
        "\n",
        "def apply_offsets(pred_box, offsets):\n",
        "    px, py, pw, ph = pred_box\n",
        "    dx, dy, dw, dh = offsets\n",
        "\n",
        "    gx = px + dx * pw\n",
        "    gy = py + dy * ph\n",
        "    gw = pw * np.exp(dw)\n",
        "    gh = ph * np.exp(dh)\n",
        "\n",
        "    return np.array([gx, gy, gw, gh])"
      ],
      "metadata": {
        "id": "jNHDt5FPHF1v"
      },
      "execution_count": null,
      "outputs": []
    },
    {
      "cell_type": "code",
      "source": [
        "# exam 예측 박스와 실제 박스 좌표 (x_center, y_center, width, height)\n",
        "pred_box = [100, 100, 50, 50]\n",
        "gt_box = [110, 120, 60, 80]\n",
        "\n",
        "# 오프셋 계산\n",
        "offsets = calculate_offsets(pred_box, gt_box)\n",
        "print(\"Calculated Offsets:\", offsets)\n"
      ],
      "metadata": {
        "id": "Jx1o-W9pHL4R"
      },
      "execution_count": null,
      "outputs": []
    },
    {
      "cell_type": "code",
      "execution_count": null,
      "metadata": {
        "colab": {
          "base_uri": "https://localhost:8080/"
        },
        "id": "RTYRnXYRG2CE",
        "outputId": "12c9b055-c6a1-4c24-b068-c6698d633abc"
      },
      "outputs": [
        {
          "output_type": "stream",
          "name": "stdout",
          "text": [
            "Calculated Offsets: [0.2        0.4        0.18232156 0.47000363]\n",
            "Restored Bounding Box: [110. 120.  60.  80.]\n"
          ]
        }
      ],
      "source": [
        "\n",
        "# 오프셋을 이용해 실제 바운딩 박스 복원\n",
        "restored_box = apply_offsets(pred_box, offsets)\n",
        "print(\"Restored Bounding Box:\", restored_box)\n"
      ]
    }
  ]
}