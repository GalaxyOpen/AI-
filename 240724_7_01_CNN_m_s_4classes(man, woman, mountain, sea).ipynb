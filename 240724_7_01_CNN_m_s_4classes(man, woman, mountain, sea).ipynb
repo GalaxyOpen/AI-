{
  "cells": [
    {
      "cell_type": "markdown",
      "source": [
        "<b>이미지 라벨링</b><br>\n",
        "파일명에 라벨 포함<br>\n",
        "파일명에서 클래스 정보 추출 <br>\n",
        "산과 바다 구분"
      ],
      "metadata": {
        "id": "Ho3BQDs0LUZa"
      }
    },
    {
      "cell_type": "code",
      "execution_count": 1,
      "metadata": {
        "id": "aixXOiopPCS0"
      },
      "outputs": [],
      "source": [
        "import os\n",
        "import tensorflow as tf\n",
        "from tensorflow.keras import datasets, layers, models, optimizers"
      ]
    },
    {
      "cell_type": "code",
      "execution_count": 2,
      "metadata": {
        "id": "Pr7myloePCS1"
      },
      "outputs": [],
      "source": [
        "import math\n",
        "import numpy as np\n",
        "from glob import glob\n",
        "from tensorflow.keras.preprocessing import image\n",
        "import matplotlib.pyplot as plt"
      ]
    },
    {
      "cell_type": "code",
      "execution_count": 23,
      "metadata": {
        "id": "PAVRlotePCS1"
      },
      "outputs": [],
      "source": [
        "IMG_CHANNELS = 3\n",
        "IMG_ROWS = 64\n",
        "IMG_COLS = 64\n",
        "CLASSES = 4  # 산, 바다, 남자, 여자"
      ]
    },
    {
      "cell_type": "code",
      "source": [
        "from google.colab import drive\n",
        "drive.mount('/content/drive')"
      ],
      "metadata": {
        "id": "SjX-8yfc045U",
        "colab": {
          "base_uri": "https://localhost:8080/"
        },
        "outputId": "134fa2d1-5d3d-4aff-9e6c-6feec6789776"
      },
      "execution_count": 4,
      "outputs": [
        {
          "output_type": "stream",
          "name": "stdout",
          "text": [
            "Mounted at /content/drive\n"
          ]
        }
      ]
    },
    {
      "cell_type": "code",
      "source": [
        "# 파일 경로에 대한 glob 패턴을 수정하세요.\n",
        "# 폴더로 정리되어있는데, 분류가 폴더형태로 되어있다고 보면 됨.\n",
        "mountain_files = glob('/content/drive/MyDrive/m_산/*jpg')\n",
        "sea_files = glob('/content/drive/MyDrive/s_바다/*jpg')\n",
        "man_files = glob('/content/drive/MyDrive/man/*jpg')\n",
        "woman_files = glob('/content/drive/MyDrive/woman/*jpg')\n",
        "\n",
        "# 이미지와 라벨을 불러오는 함수 정의\n",
        "def load_images_and_labels(files, label):\n",
        "    images = []\n",
        "    labels = []\n",
        "    for p in files:\n",
        "        try:\n",
        "            img = image.load_img(p, target_size=(IMG_ROWS, IMG_COLS))\n",
        "            images.append(img)\n",
        "            labels.append(label)\n",
        "        except OSError as e:\n",
        "            print(f\"Skipping file {p} due to error: {e}\")\n",
        "    return images, labels\n",
        "\n",
        "# 산과 바다 이미지 및 라벨 불러오기\n",
        "mountain_images, mountain_labels = load_images_and_labels(mountain_files, 0)  # 산을 0으로 라벨링\n",
        "sea_images, sea_labels = load_images_and_labels(sea_files, 1)  # 바다를 1로 라벨링\n",
        "man_images, man_labels = load_images_and_labels(man_files, 2)\n",
        "woman_images, woman_labels = load_images_and_labels(woman_files, 3)\n",
        "\n",
        "# 이미지와 라벨 병합\n",
        "images = mountain_images + sea_images + man_images + woman_images\n",
        "y = mountain_labels + sea_labels + man_labels + woman_labels"
      ],
      "metadata": {
        "colab": {
          "base_uri": "https://localhost:8080/"
        },
        "id": "aCK-HTJlsWfy",
        "outputId": "47d80540-0d63-46bb-9341-f6984ecda647"
      },
      "execution_count": 26,
      "outputs": [
        {
          "output_type": "stream",
          "name": "stderr",
          "text": [
            "/usr/local/lib/python3.10/dist-packages/PIL/Image.py:3167: DecompressionBombWarning: Image size (109542160 pixels) exceeds limit of 89478485 pixels, could be decompression bomb DOS attack.\n",
            "  warnings.warn(\n"
          ]
        },
        {
          "output_type": "stream",
          "name": "stdout",
          "text": [
            "Skipping file /content/drive/MyDrive/man/ma_33.jpg due to error: broken data stream when reading image file\n"
          ]
        }
      ]
    },
    {
      "cell_type": "code",
      "execution_count": 27,
      "metadata": {
        "id": "nB0Tuk0aPCS1"
      },
      "outputs": [],
      "source": [
        "#define the convnet\n",
        "def build(input_shape, classes):\n",
        "    model = models.Sequential()\n",
        "    model.add(layers.Convolution2D(32, (3, 3), activation='relu',\n",
        "                        input_shape=input_shape))\n",
        "    model.add(layers.MaxPooling2D(pool_size=(2, 2)))\n",
        "    model.add(layers.Dropout(0.25))\n",
        "\n",
        "    model.add(layers.Flatten())\n",
        "    model.add(layers.Dense(32, activation='relu'))\n",
        "    model.add(layers.Dense(classes, activation='softmax'))\n",
        "    return model"
      ]
    },
    {
      "cell_type": "code",
      "source": [
        "# 이미지 벡터화\n",
        "image_vector = np.asarray([image.img_to_array(img) for img in images])"
      ],
      "metadata": {
        "id": "dHmdkEJns_UQ"
      },
      "execution_count": 28,
      "outputs": []
    },
    {
      "cell_type": "code",
      "source": [
        "image_vector[0]"
      ],
      "metadata": {
        "id": "ejXdFVJU7xuu",
        "colab": {
          "base_uri": "https://localhost:8080/"
        },
        "collapsed": true,
        "outputId": "362a1441-ccfb-48be-be98-51a2d372b65a"
      },
      "execution_count": 29,
      "outputs": [
        {
          "output_type": "execute_result",
          "data": {
            "text/plain": [
              "array([[[254., 254., 254.],\n",
              "        [  0.,   0.,   0.],\n",
              "        [ 95.,  95.,  95.],\n",
              "        ...,\n",
              "        [133., 133., 133.],\n",
              "        [  1.,   1.,   1.],\n",
              "        [ 70.,  70.,  70.]],\n",
              "\n",
              "       [[255., 255., 255.],\n",
              "        [ 21.,  21.,  21.],\n",
              "        [148., 148., 148.],\n",
              "        ...,\n",
              "        [ 42.,  42.,  42.],\n",
              "        [ 26.,  26.,  26.],\n",
              "        [ 18.,  18.,  18.]],\n",
              "\n",
              "       [[179., 179., 179.],\n",
              "        [108., 108., 108.],\n",
              "        [251., 251., 251.],\n",
              "        ...,\n",
              "        [ 62.,  62.,  62.],\n",
              "        [ 59.,  59.,  59.],\n",
              "        [ 76.,  76.,  76.]],\n",
              "\n",
              "       ...,\n",
              "\n",
              "       [[ 17.,  17.,  17.],\n",
              "        [149., 149., 149.],\n",
              "        [ 14.,  14.,  14.],\n",
              "        ...,\n",
              "        [201., 201., 201.],\n",
              "        [161., 161., 161.],\n",
              "        [153., 153., 153.]],\n",
              "\n",
              "       [[  9.,   9.,   9.],\n",
              "        [ 69.,  69.,  69.],\n",
              "        [ 14.,  14.,  14.],\n",
              "        ...,\n",
              "        [151., 151., 151.],\n",
              "        [147., 147., 147.],\n",
              "        [126., 126., 126.]],\n",
              "\n",
              "       [[  1.,   1.,   1.],\n",
              "        [ 32.,  32.,  32.],\n",
              "        [  6.,   6.,   6.],\n",
              "        ...,\n",
              "        [ 29.,  29.,  29.],\n",
              "        [183., 183., 183.],\n",
              "        [199., 199., 199.]]], dtype=float32)"
            ]
          },
          "metadata": {},
          "execution_count": 29
        }
      ]
    },
    {
      "cell_type": "code",
      "execution_count": 30,
      "metadata": {
        "colab": {
          "base_uri": "https://localhost:8080/"
        },
        "id": "MhFaL9MxPCS1",
        "outputId": "6faff141-e16c-4492-e234-7da67548a4cd"
      },
      "outputs": [
        {
          "output_type": "execute_result",
          "data": {
            "text/plain": [
              "(510, 64, 64, 3)"
            ]
          },
          "metadata": {},
          "execution_count": 30
        }
      ],
      "source": [
        "image_vector.shape"
      ]
    },
    {
      "cell_type": "code",
      "execution_count": 31,
      "metadata": {
        "colab": {
          "base_uri": "https://localhost:8080/"
        },
        "id": "M_QZ6YIyPCS1",
        "outputId": "22ffd8d0-5c7e-49a9-8c39-7e563407ae66"
      },
      "outputs": [
        {
          "output_type": "execute_result",
          "data": {
            "text/plain": [
              "(64, 64, 3)"
            ]
          },
          "metadata": {},
          "execution_count": 31
        }
      ],
      "source": [
        "image_vector[0].shape"
      ]
    },
    {
      "cell_type": "code",
      "execution_count": 32,
      "metadata": {
        "colab": {
          "base_uri": "https://localhost:8080/",
          "height": 450
        },
        "id": "gPuyuxFXPCS1",
        "outputId": "1e8b4b21-b91d-412c-f8bb-55e442300f3e"
      },
      "outputs": [
        {
          "output_type": "execute_result",
          "data": {
            "text/plain": [
              "<matplotlib.image.AxesImage at 0x7ba23709fa30>"
            ]
          },
          "metadata": {},
          "execution_count": 32
        },
        {
          "output_type": "display_data",
          "data": {
            "text/plain": [
              "<Figure size 640x480 with 1 Axes>"
            ],
            "image/png": "[encoded data removed]"
          },
          "metadata": {}
        }
      ],
      "source": [
        "plt.imshow(image_vector[0]/255)"
      ]
    },
    {
      "cell_type": "code",
      "execution_count": null,
      "metadata": {
        "id": "285CtWvoPCS1"
      },
      "outputs": [],
      "source": [
        "# y=[1] * 1000 + [0] * 1000"
      ]
    },
    {
      "cell_type": "code",
      "execution_count": 12,
      "metadata": {
        "collapsed": true,
        "id": "LWz26A4LPCS1",
        "colab": {
          "base_uri": "https://localhost:8080/"
        },
        "outputId": "a9c3e9a2-13e6-4e89-fa2a-9c0ebeed1024"
      },
      "outputs": [
        {
          "output_type": "execute_result",
          "data": {
            "text/plain": [
              "[0,\n",
              " 0,\n",
              " 0,\n",
              " 0,\n",
              " 0,\n",
              " 0,\n",
              " 0,\n",
              " 0,\n",
              " 0,\n",
              " 0,\n",
              " 0,\n",
              " 0,\n",
              " 0,\n",
              " 0,\n",
              " 0,\n",
              " 0,\n",
              " 0,\n",
              " 0,\n",
              " 0,\n",
              " 0,\n",
              " 0,\n",
              " 0,\n",
              " 0,\n",
              " 0,\n",
              " 0,\n",
              " 0,\n",
              " 0,\n",
              " 0,\n",
              " 0,\n",
              " 0,\n",
              " 0,\n",
              " 0,\n",
              " 0,\n",
              " 0,\n",
              " 0,\n",
              " 0,\n",
              " 0,\n",
              " 0,\n",
              " 0,\n",
              " 0,\n",
              " 0,\n",
              " 0,\n",
              " 0,\n",
              " 0,\n",
              " 0,\n",
              " 0,\n",
              " 0,\n",
              " 0,\n",
              " 0,\n",
              " 0,\n",
              " 0,\n",
              " 0,\n",
              " 0,\n",
              " 0,\n",
              " 0,\n",
              " 0,\n",
              " 0,\n",
              " 0,\n",
              " 0,\n",
              " 0,\n",
              " 0,\n",
              " 0,\n",
              " 0,\n",
              " 0,\n",
              " 0,\n",
              " 0,\n",
              " 0,\n",
              " 0,\n",
              " 0,\n",
              " 0,\n",
              " 0,\n",
              " 0,\n",
              " 0,\n",
              " 0,\n",
              " 0,\n",
              " 0,\n",
              " 0,\n",
              " 0,\n",
              " 0,\n",
              " 0,\n",
              " 0,\n",
              " 0,\n",
              " 0,\n",
              " 0,\n",
              " 0,\n",
              " 0,\n",
              " 0,\n",
              " 0,\n",
              " 0,\n",
              " 0,\n",
              " 0,\n",
              " 0,\n",
              " 0,\n",
              " 0,\n",
              " 0,\n",
              " 0,\n",
              " 0,\n",
              " 0,\n",
              " 0,\n",
              " 0,\n",
              " 0,\n",
              " 0,\n",
              " 0,\n",
              " 0,\n",
              " 0]"
            ]
          },
          "metadata": {},
          "execution_count": 12
        }
      ],
      "source": [
        "y"
      ]
    },
    {
      "cell_type": "code",
      "execution_count": 33,
      "metadata": {
        "id": "kMWxOoP_PCS2"
      },
      "outputs": [],
      "source": [
        "from sklearn.model_selection import train_test_split\n",
        "X_train, X_test, y_train, y_test = train_test_split(image_vector, y, test_size=0.20, random_state=0)"
      ]
    },
    {
      "cell_type": "code",
      "execution_count": 34,
      "metadata": {
        "colab": {
          "base_uri": "https://localhost:8080/"
        },
        "id": "DLA6A7UWPCS2",
        "outputId": "dd9cabcb-4c26-46c1-9dcd-7b011afa1822"
      },
      "outputs": [
        {
          "output_type": "execute_result",
          "data": {
            "text/plain": [
              "(408, 64, 64, 3)"
            ]
          },
          "metadata": {},
          "execution_count": 34
        }
      ],
      "source": [
        "X_train.shape"
      ]
    },
    {
      "cell_type": "code",
      "execution_count": 36,
      "metadata": {
        "id": "iKa3tBY2PCS2"
      },
      "outputs": [],
      "source": [
        "X_train, X_test = X_train / 255, X_test / 255\n",
        "# convert to categorical\n",
        "# convert class vectors to binary class matrices\n",
        "y_train = tf.keras.utils.to_categorical(y_train, 4)\n",
        "y_test = tf.keras.utils.to_categorical(y_test, 4)"
      ]
    },
    {
      "cell_type": "code",
      "execution_count": 17,
      "metadata": {
        "id": "G_ajx3RSPCS2",
        "outputId": "20bd16ec-8d48-409e-fe2b-82769e89aa7f",
        "colab": {
          "base_uri": "https://localhost:8080/"
        }
      },
      "outputs": [
        {
          "output_type": "execute_result",
          "data": {
            "text/plain": [
              "array([1., 0.], dtype=float32)"
            ]
          },
          "metadata": {},
          "execution_count": 17
        }
      ],
      "source": [
        "y_train[83]"
      ]
    },
    {
      "cell_type": "code",
      "execution_count": 37,
      "metadata": {
        "id": "1qcQGKAAPCS2",
        "outputId": "79ef7c6a-e430-4c9d-84a5-301dd8c9dbec",
        "colab": {
          "base_uri": "https://localhost:8080/"
        }
      },
      "outputs": [
        {
          "output_type": "stream",
          "name": "stdout",
          "text": [
            "Model: \"sequential_1\"\n",
            "_________________________________________________________________\n",
            " Layer (type)                Output Shape              Param #   \n",
            "=================================================================\n",
            " conv2d_1 (Conv2D)           (None, 62, 62, 32)        896       \n",
            "                                                                 \n",
            " max_pooling2d_1 (MaxPoolin  (None, 31, 31, 32)        0         \n",
            " g2D)                                                            \n",
            "                                                                 \n",
            " dropout_1 (Dropout)         (None, 31, 31, 32)        0         \n",
            "                                                                 \n",
            " flatten_1 (Flatten)         (None, 30752)             0         \n",
            "                                                                 \n",
            " dense_2 (Dense)             (None, 32)                984096    \n",
            "                                                                 \n",
            " dense_3 (Dense)             (None, 4)                 132       \n",
            "                                                                 \n",
            "=================================================================\n",
            "Total params: 985124 (3.76 MB)\n",
            "Trainable params: 985124 (3.76 MB)\n",
            "Non-trainable params: 0 (0.00 Byte)\n",
            "_________________________________________________________________\n"
          ]
        }
      ],
      "source": [
        "model=build((IMG_ROWS, IMG_COLS, IMG_CHANNELS), CLASSES)\n",
        "model.summary()"
      ]
    },
    {
      "cell_type": "code",
      "execution_count": 39,
      "metadata": {
        "id": "YnH7hmgxPCS2",
        "outputId": "40f10767-62f4-4d6a-86e1-61ccbb510458",
        "colab": {
          "base_uri": "https://localhost:8080/"
        }
      },
      "outputs": [
        {
          "output_type": "stream",
          "name": "stdout",
          "text": [
            "Epoch 1/50\n",
            "3/3 [==============================] - 5s 939ms/step - loss: 1.3262 - accuracy: 0.3270 - val_loss: 1.3345 - val_accuracy: 0.2927\n",
            "Epoch 2/50\n",
            "3/3 [==============================] - 2s 541ms/step - loss: 1.2986 - accuracy: 0.3161 - val_loss: 1.3254 - val_accuracy: 0.2927\n",
            "Epoch 3/50\n",
            "3/3 [==============================] - 2s 576ms/step - loss: 1.2870 - accuracy: 0.3542 - val_loss: 1.3224 - val_accuracy: 0.3659\n",
            "Epoch 4/50\n",
            "3/3 [==============================] - 1s 450ms/step - loss: 1.2844 - accuracy: 0.3569 - val_loss: 1.3200 - val_accuracy: 0.3659\n",
            "Epoch 5/50\n",
            "3/3 [==============================] - 1s 350ms/step - loss: 1.2861 - accuracy: 0.3678 - val_loss: 1.3239 - val_accuracy: 0.3659\n",
            "Epoch 6/50\n",
            "3/3 [==============================] - 1s 362ms/step - loss: 1.2841 - accuracy: 0.3678 - val_loss: 1.3305 - val_accuracy: 0.3659\n",
            "Epoch 7/50\n",
            "3/3 [==============================] - 1s 550ms/step - loss: 1.2836 - accuracy: 0.3542 - val_loss: 1.3215 - val_accuracy: 0.3659\n",
            "Epoch 8/50\n",
            "3/3 [==============================] - 2s 586ms/step - loss: 1.2916 - accuracy: 0.3678 - val_loss: 1.3392 - val_accuracy: 0.3659\n",
            "Epoch 9/50\n",
            "3/3 [==============================] - 2s 581ms/step - loss: 1.2899 - accuracy: 0.3188 - val_loss: 1.3220 - val_accuracy: 0.3659\n",
            "Epoch 10/50\n",
            "3/3 [==============================] - 1s 355ms/step - loss: 1.2922 - accuracy: 0.3978 - val_loss: 1.3257 - val_accuracy: 0.3659\n",
            "Epoch 11/50\n",
            "3/3 [==============================] - 1s 339ms/step - loss: 1.2865 - accuracy: 0.3379 - val_loss: 1.3239 - val_accuracy: 0.3659\n",
            "Epoch 12/50\n",
            "3/3 [==============================] - 1s 343ms/step - loss: 1.2842 - accuracy: 0.4114 - val_loss: 1.3291 - val_accuracy: 0.3659\n",
            "Epoch 13/50\n",
            "3/3 [==============================] - 1s 343ms/step - loss: 1.2793 - accuracy: 0.3678 - val_loss: 1.3196 - val_accuracy: 0.3659\n",
            "Epoch 14/50\n",
            "3/3 [==============================] - 1s 350ms/step - loss: 1.2800 - accuracy: 0.3678 - val_loss: 1.3265 - val_accuracy: 0.3659\n",
            "Epoch 15/50\n",
            "3/3 [==============================] - 1s 335ms/step - loss: 1.2811 - accuracy: 0.3488 - val_loss: 1.3203 - val_accuracy: 0.3659\n",
            "Epoch 16/50\n",
            "3/3 [==============================] - 1s 363ms/step - loss: 1.2773 - accuracy: 0.3678 - val_loss: 1.3235 - val_accuracy: 0.3659\n",
            "Epoch 17/50\n",
            "3/3 [==============================] - 1s 324ms/step - loss: 1.2824 - accuracy: 0.3188 - val_loss: 1.3159 - val_accuracy: 0.3659\n",
            "Epoch 18/50\n",
            "3/3 [==============================] - 1s 348ms/step - loss: 1.2809 - accuracy: 0.3678 - val_loss: 1.3176 - val_accuracy: 0.3659\n",
            "Epoch 19/50\n",
            "3/3 [==============================] - 1s 337ms/step - loss: 1.2782 - accuracy: 0.4033 - val_loss: 1.3263 - val_accuracy: 0.3659\n",
            "Epoch 20/50\n",
            "3/3 [==============================] - 2s 574ms/step - loss: 1.2846 - accuracy: 0.3678 - val_loss: 1.3191 - val_accuracy: 0.3659\n",
            "Epoch 21/50\n",
            "3/3 [==============================] - 2s 556ms/step - loss: 1.2747 - accuracy: 0.3678 - val_loss: 1.3246 - val_accuracy: 0.3659\n",
            "Epoch 22/50\n",
            "3/3 [==============================] - 2s 620ms/step - loss: 1.2819 - accuracy: 0.3460 - val_loss: 1.3246 - val_accuracy: 0.3659\n",
            "Epoch 23/50\n",
            "3/3 [==============================] - 1s 357ms/step - loss: 1.2790 - accuracy: 0.3678 - val_loss: 1.3170 - val_accuracy: 0.3659\n",
            "Epoch 24/50\n",
            "3/3 [==============================] - 1s 319ms/step - loss: 1.2819 - accuracy: 0.3678 - val_loss: 1.3150 - val_accuracy: 0.3659\n",
            "Epoch 25/50\n",
            "3/3 [==============================] - 1s 343ms/step - loss: 1.2773 - accuracy: 0.3733 - val_loss: 1.3168 - val_accuracy: 0.4878\n",
            "Epoch 26/50\n",
            "3/3 [==============================] - 1s 336ms/step - loss: 1.2754 - accuracy: 0.5014 - val_loss: 1.3166 - val_accuracy: 0.3659\n",
            "Epoch 27/50\n",
            "3/3 [==============================] - 1s 331ms/step - loss: 1.2704 - accuracy: 0.3678 - val_loss: 1.3223 - val_accuracy: 0.3659\n",
            "Epoch 28/50\n",
            "3/3 [==============================] - 1s 344ms/step - loss: 1.2706 - accuracy: 0.3678 - val_loss: 1.3126 - val_accuracy: 0.3902\n",
            "Epoch 29/50\n",
            "3/3 [==============================] - 1s 340ms/step - loss: 1.2722 - accuracy: 0.3869 - val_loss: 1.3141 - val_accuracy: 0.4390\n",
            "Epoch 30/50\n",
            "3/3 [==============================] - 1s 354ms/step - loss: 1.2717 - accuracy: 0.4087 - val_loss: 1.3153 - val_accuracy: 0.2927\n",
            "Epoch 31/50\n",
            "3/3 [==============================] - 1s 328ms/step - loss: 1.2719 - accuracy: 0.3760 - val_loss: 1.3109 - val_accuracy: 0.3659\n",
            "Epoch 32/50\n",
            "3/3 [==============================] - 1s 340ms/step - loss: 1.2687 - accuracy: 0.3896 - val_loss: 1.3153 - val_accuracy: 0.3902\n",
            "Epoch 33/50\n",
            "3/3 [==============================] - 2s 579ms/step - loss: 1.2716 - accuracy: 0.3515 - val_loss: 1.3086 - val_accuracy: 0.3659\n",
            "Epoch 34/50\n",
            "3/3 [==============================] - 2s 586ms/step - loss: 1.2752 - accuracy: 0.3924 - val_loss: 1.3052 - val_accuracy: 0.4146\n",
            "Epoch 35/50\n",
            "3/3 [==============================] - 2s 598ms/step - loss: 1.2670 - accuracy: 0.3924 - val_loss: 1.3061 - val_accuracy: 0.4634\n",
            "Epoch 36/50\n",
            "3/3 [==============================] - 1s 402ms/step - loss: 1.2647 - accuracy: 0.4005 - val_loss: 1.3085 - val_accuracy: 0.4634\n",
            "Epoch 37/50\n",
            "3/3 [==============================] - 1s 354ms/step - loss: 1.2641 - accuracy: 0.4305 - val_loss: 1.3039 - val_accuracy: 0.3659\n",
            "Epoch 38/50\n",
            "3/3 [==============================] - 1s 353ms/step - loss: 1.2602 - accuracy: 0.3815 - val_loss: 1.3048 - val_accuracy: 0.4390\n",
            "Epoch 39/50\n",
            "3/3 [==============================] - 1s 341ms/step - loss: 1.2572 - accuracy: 0.4741 - val_loss: 1.3025 - val_accuracy: 0.3902\n",
            "Epoch 40/50\n",
            "3/3 [==============================] - 1s 323ms/step - loss: 1.2555 - accuracy: 0.4169 - val_loss: 1.3115 - val_accuracy: 0.3659\n",
            "Epoch 41/50\n",
            "3/3 [==============================] - 1s 343ms/step - loss: 1.2530 - accuracy: 0.4196 - val_loss: 1.2988 - val_accuracy: 0.4146\n",
            "Epoch 42/50\n",
            "3/3 [==============================] - 1s 335ms/step - loss: 1.2506 - accuracy: 0.4387 - val_loss: 1.2941 - val_accuracy: 0.4390\n",
            "Epoch 43/50\n",
            "3/3 [==============================] - 1s 337ms/step - loss: 1.2496 - accuracy: 0.4523 - val_loss: 1.2926 - val_accuracy: 0.4390\n",
            "Epoch 44/50\n",
            "3/3 [==============================] - 1s 339ms/step - loss: 1.2473 - accuracy: 0.4741 - val_loss: 1.3047 - val_accuracy: 0.3902\n",
            "Epoch 45/50\n",
            "3/3 [==============================] - 1s 335ms/step - loss: 1.2455 - accuracy: 0.4659 - val_loss: 1.2903 - val_accuracy: 0.4878\n",
            "Epoch 46/50\n",
            "3/3 [==============================] - 1s 539ms/step - loss: 1.2486 - accuracy: 0.4768 - val_loss: 1.2907 - val_accuracy: 0.4390\n",
            "Epoch 47/50\n",
            "3/3 [==============================] - 2s 572ms/step - loss: 1.2410 - accuracy: 0.4714 - val_loss: 1.2885 - val_accuracy: 0.4634\n",
            "Epoch 48/50\n",
            "3/3 [==============================] - 2s 571ms/step - loss: 1.2337 - accuracy: 0.5014 - val_loss: 1.2823 - val_accuracy: 0.4878\n",
            "Epoch 49/50\n",
            "3/3 [==============================] - 1s 439ms/step - loss: 1.2329 - accuracy: 0.4741 - val_loss: 1.2860 - val_accuracy: 0.4390\n",
            "Epoch 50/50\n",
            "3/3 [==============================] - 1s 331ms/step - loss: 1.2392 - accuracy: 0.4578 - val_loss: 1.2798 - val_accuracy: 0.4634\n"
          ]
        }
      ],
      "source": [
        "model.compile(loss='categorical_crossentropy', optimizer=optimizers.RMSprop(learning_rate=0.001), metrics=['accuracy'])\n",
        "\n",
        "history = model.fit(X_train, y_train, batch_size=128, epochs=50, validation_split=0.1)"
      ]
    },
    {
      "cell_type": "code",
      "execution_count": 40,
      "metadata": {
        "id": "z0K0__h1PCS2",
        "outputId": "5cc12808-f332-42a0-8223-62def96519fd",
        "colab": {
          "base_uri": "https://localhost:8080/",
          "height": 449
        }
      },
      "outputs": [
        {
          "output_type": "display_data",
          "data": {
            "text/plain": [
              "<Figure size 640x480 with 1 Axes>"
            ],
            "image/png": "[encoded data removed]"
          },
          "metadata": {}
        }
      ],
      "source": [
        "import matplotlib.pyplot as plt\n",
        "plt.plot(history.history['loss'])\n",
        "plt.plot(history.history['val_loss'])\n",
        "plt.xlabel('epoch')\n",
        "plt.ylabel('loss')\n",
        "plt.legend(['train', 'val'])\n",
        "plt.show()"
      ]
    },
    {
      "cell_type": "code",
      "execution_count": 41,
      "metadata": {
        "id": "CCPHrJhwPCS2",
        "outputId": "a506c57c-8d77-401f-b1fc-19e8ddc2ad60",
        "colab": {
          "base_uri": "https://localhost:8080/",
          "height": 449
        }
      },
      "outputs": [
        {
          "output_type": "display_data",
          "data": {
            "text/plain": [
              "<Figure size 640x480 with 1 Axes>"
            ],
            "image/png": "[encoded data removed]"
          },
          "metadata": {}
        }
      ],
      "source": [
        "plt.plot(history.history['accuracy'])\n",
        "plt.plot(history.history['val_accuracy'])\n",
        "plt.xlabel('epoch')\n",
        "plt.ylabel('accuracy')\n",
        "plt.legend(['train','val'])\n",
        "plt.show()"
      ]
    },
    {
      "cell_type": "code",
      "execution_count": 42,
      "metadata": {
        "id": "19tsxPYzPCS2",
        "outputId": "544c9e78-4292-44f9-f841-ede89f5f3450",
        "colab": {
          "base_uri": "https://localhost:8080/"
        }
      },
      "outputs": [
        {
          "output_type": "stream",
          "name": "stdout",
          "text": [
            "4/4 [==============================] - 0s 17ms/step - loss: 1.2037 - accuracy: 0.5098\n",
            "\n",
            "Test loss: 1.203709602355957\n",
            "Test accuracy: 0.5098039507865906\n"
          ]
        }
      ],
      "source": [
        "score = model.evaluate(X_test, y_test)\n",
        "print(\"\\nTest loss:\", score[0])\n",
        "print('Test accuracy:', score[1])"
      ]
    },
    {
      "cell_type": "code",
      "execution_count": null,
      "metadata": {
        "id": "82GpO3CSPCS2"
      },
      "outputs": [],
      "source": []
    }
  ],
  "metadata": {
    "kernelspec": {
      "display_name": "Python 3 (ipykernel)",
      "language": "python",
      "name": "python3"
    },
    "language_info": {
      "codemirror_mode": {
        "name": "ipython",
        "version": 3
      },
      "file_extension": ".py",
      "mimetype": "text/x-python",
      "name": "python",
      "nbconvert_exporter": "python",
      "pygments_lexer": "ipython3",
      "version": "3.8.5"
    },
    "colab": {
      "provenance": []
    }
  },
  "nbformat": 4,
  "nbformat_minor": 0
}