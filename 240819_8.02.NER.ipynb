{
  "nbformat": 4,
  "nbformat_minor": 0,
  "metadata": {
    "colab": {
      "provenance": []
    },
    "kernelspec": {
      "name": "python3",
      "display_name": "Python 3"
    },
    "language_info": {
      "name": "python"
    }
  },
  "cells": [
    {
      "cell_type": "code",
      "source": [
        "# !pip install transformers\n"
      ],
      "metadata": {
        "id": "I2jcdujk8fFm"
      },
      "execution_count": null,
      "outputs": []
    },
    {
      "cell_type": "code",
      "source": [
        "from transformers import pipeline\n"
      ],
      "metadata": {
        "id": "GvsnDsFD8j10"
      },
      "execution_count": null,
      "outputs": []
    },
    {
      "cell_type": "code",
      "source": [
        "# NER 파이프라인을 설정.\n",
        "# 사전 학습된 'dbmdz/bert-large-cased-finetuned-conll03-english' 모델 로드\n",
        "ner = pipeline(\"ner\", model=\"dbmdz/bert-large-cased-finetuned-conll03-english\", grouped_entities=True)"
      ],
      "metadata": {
        "id": "yxvFqBIi8riP"
      },
      "execution_count": null,
      "outputs": []
    },
    {
      "cell_type": "code",
      "source": [
        "# NER 분석 텍스트.\n",
        "text = \"Apple is looking at buying U.K. startup for $1 billion. Steve Jobs was the CEO of Apple.\""
      ],
      "metadata": {
        "id": "mb83P_O38v0m"
      },
      "execution_count": null,
      "outputs": []
    },
    {
      "cell_type": "code",
      "source": [
        "# NER 작업 수행\n",
        "entities = ner(text)\n"
      ],
      "metadata": {
        "id": "726h3GBB8xLq"
      },
      "execution_count": null,
      "outputs": []
    },
    {
      "cell_type": "code",
      "execution_count": null,
      "metadata": {
        "colab": {
          "base_uri": "https://localhost:8080/"
        },
        "id": "qxxUBUnZ8WBP",
        "outputId": "65e76c06-b572-45bd-a633-2fb1919485bf"
      },
      "outputs": [
        {
          "output_type": "stream",
          "name": "stdout",
          "text": [
            "Entity: Apple, Label: ORG, Score: 0.9991\n",
            "Entity: U, Label: LOC, Score: 0.9996\n",
            "Entity: K, Label: LOC, Score: 0.9984\n",
            "Entity: Steve Jobs, Label: PER, Score: 0.9975\n",
            "Entity: Apple, Label: ORG, Score: 0.9984\n"
          ]
        }
      ],
      "source": [
        "# 결과 출력\n",
        "for entity in entities:\n",
        "    print(f\"Entity: {entity['word']}, Label: {entity['entity_group']}, Score: {entity['score']:.4f}\")\n"
      ]
    }
  ]
}