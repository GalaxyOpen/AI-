{
 "cells": [
  {
   "cell_type": "markdown",
   "id": "98527dae",
   "metadata": {},
   "source": [
    "# 0. 라이브러리 및 데이터 불러오기\n"
   ]
  },
  {
   "cell_type": "code",
   "execution_count": 1,
   "id": "30e65db3",
   "metadata": {},
   "outputs": [],
   "source": [
    "import numpy as np\n",
    "import pandas as pd\n",
    "import seaborn as sns\n",
    "\n",
    "import matplotlib as mpl\n",
    "import matplotlib.pyplot as plt\n",
    "import matplotlib_inline.backend_inline\n",
    "\n",
    "import sklearn\n",
    "from sklearn.model_selection import train_test_split\n",
    "from sklearn.preprocessing import MinMaxScaler\n",
    "from sklearn.ensemble import RandomForestClassifier\n",
    "from sklearn import metrics\n",
    "from sklearn.datasets import load_breast_cancer\n",
    "from sklearn.datasets import load_digits\n",
    "\n",
    "import tensorflow\n",
    "from tensorflow.keras.utils import to_categorical\n",
    "from tensorflow.keras.models import Sequential, load_model\n",
    "from tensorflow.keras.layers import Dense\n",
    "\n",
    "import random"
   ]
  },
  {
   "cell_type": "code",
   "execution_count": 2,
   "id": "d54b1e49",
   "metadata": {},
   "outputs": [
    {
     "name": "stdout",
     "output_type": "stream",
     "text": [
      "library version check\n",
      "numpy:  1.23.5\n",
      "pandas:  1.5.1\n",
      "seaborn:  0.12.1\n",
      "matplotlib:  3.6.2\n",
      "sklearn:  1.1.3\n",
      "tensorflow:  2.10.0\n"
     ]
    }
   ],
   "source": [
    "print(\"library version check\")\n",
    "print(\"numpy: \", np.__version__)\n",
    "print(\"pandas: \", pd.__version__)\n",
    "print(\"seaborn: \", sns.__version__)\n",
    "print(\"matplotlib: \", mpl.__version__)\n",
    "print(\"sklearn: \", sklearn.__version__)\n",
    "print(\"tensorflow: \", tensorflow.__version__)"
   ]
  },
  {
   "cell_type": "code",
   "execution_count": 3,
   "id": "ed31c0bb",
   "metadata": {},
   "outputs": [],
   "source": [
    "matplotlib_inline.backend_inline.set_matplotlib_formats(\"png2x\")\n",
    "mpl.style.use(\"default\")\n",
    "mpl.rcParams.update({\"figure.constrained_layout.use\": True})\n",
    "\n",
    "sns.set_context(\"paper\") \n",
    "sns.set_palette(\"Set2\") \n",
    "sns.set_style(\"whitegrid\") \n",
    "\n",
    "plt.rc(\"font\", family = \"Malgun Gothic\")\n",
    "plt.rcParams[\"axes.unicode_minus\"] = False"
   ]
  },
  {
   "cell_type": "markdown",
   "id": "d8c24732",
   "metadata": {},
   "source": [
    "# 1. breast_cancer: 이진분류"
   ]
  },
  {
   "cell_type": "code",
   "execution_count": 4,
   "id": "74e1df00",
   "metadata": {},
   "outputs": [],
   "source": [
    "cancer = load_breast_cancer()"
   ]
  },
  {
   "cell_type": "markdown",
   "id": "d2870c60",
   "metadata": {},
   "source": [
    "## 1.1 데이터 전처리"
   ]
  },
  {
   "cell_type": "code",
   "execution_count": 5,
   "id": "23b7b1b1",
   "metadata": {},
   "outputs": [],
   "source": [
    "#딥러닝 모델 만들 때는 데이터프레임으로는 fit할 수 없음\n",
    "x_data = cancer[\"data\"]\n",
    "y_data = cancer[\"target\"]"
   ]
  },
  {
   "cell_type": "code",
   "execution_count": 6,
   "id": "09efa817",
   "metadata": {},
   "outputs": [],
   "source": [
    "x_train, x_test, y_train, y_test = train_test_split(x_data, \n",
    "                                                    y_data, \n",
    "                                                    test_size = 0.20,\n",
    "                                                    random_state = 42,\n",
    "                                                    stratify = y_data)"
   ]
  },
  {
   "cell_type": "code",
   "execution_count": 7,
   "id": "5b2a6073",
   "metadata": {},
   "outputs": [],
   "source": [
    "minmax = MinMaxScaler()\n",
    "x_train_scaled = minmax.fit_transform(x_train)\n",
    "x_test_scaled = minmax.transform(x_test)"
   ]
  },
  {
   "cell_type": "code",
   "execution_count": 8,
   "id": "142d2c5b",
   "metadata": {},
   "outputs": [
    {
     "name": "stdout",
     "output_type": "stream",
     "text": [
      "x_train:  (455, 30)\n",
      "y_train:  (455,)\n",
      "x_test:  (114, 30)\n",
      "y_test:  (114,)\n"
     ]
    }
   ],
   "source": [
    "print(\"x_train: \", x_train.shape)\n",
    "print(\"y_train: \", y_train.shape)\n",
    "print(\"x_test: \", x_test.shape)\n",
    "print(\"y_test: \", y_test.shape)"
   ]
  },
  {
   "cell_type": "markdown",
   "id": "b0f630f5",
   "metadata": {},
   "source": [
    "## 1.2 RFC"
   ]
  },
  {
   "cell_type": "markdown",
   "id": "3f4ac463",
   "metadata": {},
   "source": [
    "RandomForestClassifier\n",
    "* n_estimators= 300\n",
    "* oob_score=True\n",
    "* max_depth = None\n",
    "* max_features = \"sqrt\"\n",
    "* min_samples_leaf = 5\n",
    "* min_samples_split = 4\n",
    "* random_state=209\n",
    "\n",
    "The accuracy of the RFC is 0.9561"
   ]
  },
  {
   "cell_type": "markdown",
   "id": "c5657a79",
   "metadata": {},
   "source": [
    "## 1.3 단층 신경망\n",
    "\n",
    "* breast cancer 데이터는 악성과 양성 종양을 맞추는 이진분류 \n",
    "* 이진 분류의 경우 출력층의 노드수와 활성함수는?"
   ]
  },
  {
   "cell_type": "markdown",
   "id": "54320fc1",
   "metadata": {},
   "source": [
    "**초기 가중치 문제**\n",
    "* 가중치 초기화 방법을 따로 설정해 주지 않으면 일정 구간 내에서 랜덤하게 찍는 random_uniform으로 정해짐\n",
    "* 이 방식은 오차 역전파(back propagation) 과정에서 미분한 gradient가 지나치게 커지거나(exploding gradient) 소실되는(vanishing gradient) 문제가 발생할 수 있음\n",
    "* 따라서, 어떻게 가중치를 초기화할 것인가에 대한 지속적인 연구가 진행되고 있음\n",
    "\n",
    "* lecun_uniform, lecun_normal: 98년도에 얀 르쿤(CNN 제안)이 제기한 방법\n",
    "* glorot_uniform, glorot_normal\n",
    "* he_uniform, he_normal: ResNet으로도 유명한 마이크로소프트(현재는 Facebook)의 Kaiming He가 2015년에 제안"
   ]
  },
  {
   "cell_type": "code",
   "execution_count": 9,
   "id": "76e46431",
   "metadata": {},
   "outputs": [],
   "source": [
    "random.seed(42)\n",
    "# 입력노드 수 = feature 수\n",
    "input_node = 30\n",
    "# 출력노드 수\n",
    "output_node = 1\n",
    "\n",
    "#모델\n",
    "model_cancer = Sequential()\n",
    "model_cancer.add(Dense(output_node, \n",
    "                       # kernel_initializer='zeros',       # 'he_normal'\n",
    "                       activation = \"sigmoid\",\n",
    "                       input_shape = (input_node,)\n",
    "                      ))"
   ]
  },
  {
   "cell_type": "code",
   "execution_count": 10,
   "id": "02214df5",
   "metadata": {},
   "outputs": [
    {
     "name": "stdout",
     "output_type": "stream",
     "text": [
      "Model: \"sequential\"\n",
      "_________________________________________________________________\n",
      " Layer (type)                Output Shape              Param #   \n",
      "=================================================================\n",
      " dense (Dense)               (None, 1)                 31        \n",
      "                                                                 \n",
      "=================================================================\n",
      "Total params: 31\n",
      "Trainable params: 31\n",
      "Non-trainable params: 0\n",
      "_________________________________________________________________\n"
     ]
    }
   ],
   "source": [
    "model_cancer.summary()"
   ]
  },
  {
   "cell_type": "code",
   "execution_count": 11,
   "id": "86366183",
   "metadata": {},
   "outputs": [
    {
     "data": {
      "text/plain": [
       "[array([[ 0.3151644 ],\n",
       "        [ 0.143094  ],\n",
       "        [-0.12431794],\n",
       "        [ 0.39593804],\n",
       "        [-0.37125674],\n",
       "        [ 0.13403457],\n",
       "        [ 0.41398472],\n",
       "        [-0.29219836],\n",
       "        [ 0.02093178],\n",
       "        [ 0.11505312],\n",
       "        [-0.3639034 ],\n",
       "        [-0.04719913],\n",
       "        [ 0.41005498],\n",
       "        [-0.02609637],\n",
       "        [ 0.00259247],\n",
       "        [ 0.23375493],\n",
       "        [-0.42337322],\n",
       "        [-0.27066872],\n",
       "        [ 0.01253092],\n",
       "        [-0.3814954 ],\n",
       "        [-0.40681818],\n",
       "        [ 0.30616975],\n",
       "        [ 0.36552787],\n",
       "        [-0.20893623],\n",
       "        [ 0.31634587],\n",
       "        [-0.3277787 ],\n",
       "        [-0.03318444],\n",
       "        [ 0.05518788],\n",
       "        [ 0.05868104],\n",
       "        [-0.2638222 ]], dtype=float32),\n",
       " array([0.], dtype=float32)]"
      ]
     },
     "execution_count": 11,
     "metadata": {},
     "output_type": "execute_result"
    }
   ],
   "source": [
    "initial_weight = model_cancer.get_weights()\n",
    "initial_weight"
   ]
  },
  {
   "cell_type": "code",
   "execution_count": 12,
   "id": "cef44494",
   "metadata": {},
   "outputs": [
    {
     "data": {
      "text/plain": [
       "(30, 1)"
      ]
     },
     "execution_count": 12,
     "metadata": {},
     "output_type": "execute_result"
    }
   ],
   "source": [
    "initial_weight[0].shape"
   ]
  },
  {
   "cell_type": "code",
   "execution_count": 13,
   "id": "550c5e8c",
   "metadata": {},
   "outputs": [],
   "source": [
    "# 이진 분류에서 loss function은? \n",
    "\n",
    "model_cancer.compile(loss='binary_crossentropy',\n",
    "                     optimizer='adam',\n",
    "                     metrics = ['accuracy'])"
   ]
  },
  {
   "cell_type": "markdown",
   "id": "5f893012",
   "metadata": {},
   "source": [
    "### 학습\n",
    "\n",
    "* validation data: 검증 데이터. 학습 중 모델 평가를 위해 분리해 놓는 데이터\n",
    "* batch size: 학습에 들어가는 샘플 수 \n",
    "* epochs: 모든 학습 데이터를 학습하는 횟수\n",
    "\n",
    "\n",
    "* 예를들어, 1000개의 샘플을 학습 데이터로 가지고 있다고 하자.\n",
    "    * validation split을 0.2로 주면 20%의 데이터인 200개를 모델이 잘 학습하고 있는지 평가하는 데이터로 사용. 따라서, 남은 800개 데이터로 학습 진행\n",
    "    * bach size가 100이면 100개의 샘플이 들어가서 학습하고 가중치가 갱신되므로 800개의 학습 데이터를 한 번 학습하는 동안 가중치는 8번 갱신. 이것이 epoch = 1\n",
    "    * epochs = 5이면 1000개의 학습 데이터가 5번 학습된다는 의미. \n",
    "    * 따라서 총 가중치 갱신은 8$\\times$5 = 40  "
   ]
  },
  {
   "cell_type": "code",
   "execution_count": 14,
   "id": "cccf5645",
   "metadata": {},
   "outputs": [
    {
     "data": {
      "text/plain": [
       "(455, 30)"
      ]
     },
     "execution_count": 14,
     "metadata": {},
     "output_type": "execute_result"
    }
   ],
   "source": [
    "x_train.shape"
   ]
  },
  {
   "cell_type": "code",
   "execution_count": 15,
   "id": "65c7aeba",
   "metadata": {},
   "outputs": [
    {
     "data": {
      "text/plain": [
       "364.0"
      ]
     },
     "execution_count": 15,
     "metadata": {},
     "output_type": "execute_result"
    }
   ],
   "source": [
    "455*0.8"
   ]
  },
  {
   "cell_type": "code",
   "execution_count": 16,
   "id": "8175e2f0",
   "metadata": {
    "scrolled": true
   },
   "outputs": [
    {
     "name": "stdout",
     "output_type": "stream",
     "text": [
      "Epoch 1/10\n",
      "37/37 [==============================] - 1s 14ms/step - loss: 0.6919 - accuracy: 0.5907 - val_loss: 0.6892 - val_accuracy: 0.5495\n",
      "Epoch 2/10\n",
      "37/37 [==============================] - 0s 4ms/step - loss: 0.6775 - accuracy: 0.6346 - val_loss: 0.6746 - val_accuracy: 0.5934\n",
      "Epoch 3/10\n",
      "37/37 [==============================] - 0s 3ms/step - loss: 0.6643 - accuracy: 0.6923 - val_loss: 0.6603 - val_accuracy: 0.6813\n",
      "Epoch 4/10\n",
      "37/37 [==============================] - 0s 3ms/step - loss: 0.6520 - accuracy: 0.7802 - val_loss: 0.6472 - val_accuracy: 0.7802\n",
      "Epoch 5/10\n",
      "37/37 [==============================] - 0s 4ms/step - loss: 0.6399 - accuracy: 0.7747 - val_loss: 0.6357 - val_accuracy: 0.8132\n",
      "Epoch 6/10\n",
      "37/37 [==============================] - 0s 4ms/step - loss: 0.6282 - accuracy: 0.8242 - val_loss: 0.6232 - val_accuracy: 0.8022\n",
      "Epoch 7/10\n",
      "37/37 [==============================] - 0s 4ms/step - loss: 0.6173 - accuracy: 0.8379 - val_loss: 0.6126 - val_accuracy: 0.8352\n",
      "Epoch 8/10\n",
      "37/37 [==============================] - 0s 4ms/step - loss: 0.6073 - accuracy: 0.8269 - val_loss: 0.6028 - val_accuracy: 0.8242\n",
      "Epoch 9/10\n",
      "37/37 [==============================] - 0s 4ms/step - loss: 0.5968 - accuracy: 0.8544 - val_loss: 0.5916 - val_accuracy: 0.8462\n",
      "Epoch 10/10\n",
      "37/37 [==============================] - 0s 4ms/step - loss: 0.5872 - accuracy: 0.8599 - val_loss: 0.5825 - val_accuracy: 0.8681\n"
     ]
    }
   ],
   "source": [
    "model_cancer_hist = model_cancer.fit(x_train_scaled, \n",
    "                                     y_train,\n",
    "                                     epochs=10, \n",
    "                                     batch_size=10, \n",
    "                                     validation_split=0.2,\n",
    "                                     # verbose = 1\n",
    "                                    )"
   ]
  },
  {
   "cell_type": "code",
   "execution_count": 17,
   "id": "51ddefd2",
   "metadata": {},
   "outputs": [
    {
     "data": {
      "text/plain": [
       "[array([[ 0.2221076 ],\n",
       "        [ 0.17643502],\n",
       "        [-0.23034571],\n",
       "        [ 0.22391333],\n",
       "        [-0.26825154],\n",
       "        [ 0.01412139],\n",
       "        [ 0.17925666],\n",
       "        [-0.53172874],\n",
       "        [ 0.13136375],\n",
       "        [ 0.3221901 ],\n",
       "        [-0.5499824 ],\n",
       "        [ 0.1414348 ],\n",
       "        [ 0.2232331 ],\n",
       "        [-0.25948402],\n",
       "        [ 0.21893977],\n",
       "        [ 0.24208526],\n",
       "        [-0.42616963],\n",
       "        [-0.24575648],\n",
       "        [ 0.19247904],\n",
       "        [-0.2415572 ],\n",
       "        [-0.56101334],\n",
       "        [ 0.32497886],\n",
       "        [ 0.20120117],\n",
       "        [-0.42416918],\n",
       "        [ 0.41233018],\n",
       "        [-0.47624496],\n",
       "        [-0.23375681],\n",
       "        [-0.12255041],\n",
       "        [ 0.10021961],\n",
       "        [-0.21298514]], dtype=float32),\n",
       " array([0.22607377], dtype=float32)]"
      ]
     },
     "execution_count": 17,
     "metadata": {},
     "output_type": "execute_result"
    }
   ],
   "source": [
    "# 학습이 종료된 후 가중치 \n",
    "model_cancer.get_weights()"
   ]
  },
  {
   "cell_type": "markdown",
   "id": "cd2058dc",
   "metadata": {},
   "source": [
    "### 학습과정 시각화"
   ]
  },
  {
   "cell_type": "code",
   "execution_count": 18,
   "id": "b355aa77",
   "metadata": {},
   "outputs": [
    {
     "data": {
      "text/plain": [
       "{'loss': [0.6918935775756836,\n",
       "  0.6775472164154053,\n",
       "  0.6643074154853821,\n",
       "  0.6520078182220459,\n",
       "  0.6399050951004028,\n",
       "  0.6282222270965576,\n",
       "  0.6172781586647034,\n",
       "  0.6073235273361206,\n",
       "  0.5967891216278076,\n",
       "  0.5871664881706238],\n",
       " 'accuracy': [0.5906593203544617,\n",
       "  0.6346153616905212,\n",
       "  0.692307710647583,\n",
       "  0.7802197933197021,\n",
       "  0.7747252583503723,\n",
       "  0.8241758346557617,\n",
       "  0.8379120826721191,\n",
       "  0.8269230723381042,\n",
       "  0.8543956279754639,\n",
       "  0.8598901033401489],\n",
       " 'val_loss': [0.6891738772392273,\n",
       "  0.6746337413787842,\n",
       "  0.6603226065635681,\n",
       "  0.6471824049949646,\n",
       "  0.6357425451278687,\n",
       "  0.6231945753097534,\n",
       "  0.6125611066818237,\n",
       "  0.6028236150741577,\n",
       "  0.5916316509246826,\n",
       "  0.5824947953224182],\n",
       " 'val_accuracy': [0.5494505763053894,\n",
       "  0.593406617641449,\n",
       "  0.6813187003135681,\n",
       "  0.7802197933197021,\n",
       "  0.8131868243217468,\n",
       "  0.8021978139877319,\n",
       "  0.8351648449897766,\n",
       "  0.8241758346557617,\n",
       "  0.8461538553237915,\n",
       "  0.8681318759918213]}"
      ]
     },
     "execution_count": 18,
     "metadata": {},
     "output_type": "execute_result"
    }
   ],
   "source": [
    "model_cancer_hist.history"
   ]
  },
  {
   "cell_type": "code",
   "execution_count": 19,
   "id": "4d3c62da",
   "metadata": {},
   "outputs": [
    {
     "data": {
      "image/png": "[encoded data removed]",
      "text/plain": [
       "<Figure size 800x300 with 2 Axes>"
      ]
     },
     "metadata": {
      "image/png": {
       "height": 311,
       "width": 811
      }
     },
     "output_type": "display_data"
    }
   ],
   "source": [
    "fig, (ax_loss, ax_acc) = plt.subplots(1, 2, figsize = (8,3))\n",
    "\n",
    "ax_loss.plot(model_cancer_hist.history[\"loss\"], label=\"train_loss\")\n",
    "ax_loss.plot(model_cancer_hist.history[\"val_loss\"], label=\"val_loss\")\n",
    "ax_loss.set(xlabel = \"epoch\", ylabel = \"loss\")\n",
    "ax_loss.legend()\n",
    "\n",
    "ax_acc.plot(model_cancer_hist.history[\"accuracy\"], label=\"train_acc\")\n",
    "ax_acc.plot(model_cancer_hist.history[\"val_accuracy\"], label=\"val_acc\")\n",
    "ax_acc.set(xlabel = \"epoch\", ylabel = \"accuracy\")\n",
    "ax_acc.legend();"
   ]
  },
  {
   "cell_type": "markdown",
   "id": "5bd2b97f",
   "metadata": {},
   "source": [
    "### 모델 평가"
   ]
  },
  {
   "cell_type": "code",
   "execution_count": 20,
   "id": "61204bc0",
   "metadata": {},
   "outputs": [
    {
     "name": "stdout",
     "output_type": "stream",
     "text": [
      "4/4 [==============================] - 0s 2ms/step\n"
     ]
    },
    {
     "data": {
      "text/plain": [
       "array([[0.40635827],\n",
       "       [0.59076595],\n",
       "       [0.55353796],\n",
       "       [0.5275033 ],\n",
       "       [0.35008216],\n",
       "       [0.55124485],\n",
       "       [0.5828784 ],\n",
       "       [0.45173416],\n",
       "       [0.4513891 ],\n",
       "       [0.37220213],\n",
       "       [0.55766785],\n",
       "       [0.5091134 ],\n",
       "       [0.5381723 ],\n",
       "       [0.4489074 ],\n",
       "       [0.52163184],\n",
       "       [0.545432  ],\n",
       "       [0.54952854],\n",
       "       [0.60360426],\n",
       "       [0.54564756],\n",
       "       [0.53803706],\n",
       "       [0.49215153],\n",
       "       [0.5428824 ],\n",
       "       [0.64368284],\n",
       "       [0.5729277 ],\n",
       "       [0.63596904],\n",
       "       [0.5008907 ],\n",
       "       [0.39950007],\n",
       "       [0.6142824 ],\n",
       "       [0.5774002 ],\n",
       "       [0.591734  ],\n",
       "       [0.4365087 ],\n",
       "       [0.55153745],\n",
       "       [0.62196   ],\n",
       "       [0.49023697],\n",
       "       [0.4581047 ],\n",
       "       [0.5889146 ],\n",
       "       [0.62219244],\n",
       "       [0.53469855],\n",
       "       [0.5449066 ],\n",
       "       [0.4422182 ],\n",
       "       [0.588241  ],\n",
       "       [0.55500114],\n",
       "       [0.5772192 ],\n",
       "       [0.3841716 ],\n",
       "       [0.5268702 ],\n",
       "       [0.4934642 ],\n",
       "       [0.6400969 ],\n",
       "       [0.6161321 ],\n",
       "       [0.50311816],\n",
       "       [0.45007956],\n",
       "       [0.50768924],\n",
       "       [0.56292844],\n",
       "       [0.5873896 ],\n",
       "       [0.48768866],\n",
       "       [0.5864093 ],\n",
       "       [0.58144915],\n",
       "       [0.57780266],\n",
       "       [0.4717443 ],\n",
       "       [0.39495817],\n",
       "       [0.5826123 ],\n",
       "       [0.57232195],\n",
       "       [0.629219  ],\n",
       "       [0.5517613 ],\n",
       "       [0.5807962 ],\n",
       "       [0.36377394],\n",
       "       [0.54616886],\n",
       "       [0.52299345],\n",
       "       [0.5463115 ],\n",
       "       [0.52350986],\n",
       "       [0.5141065 ],\n",
       "       [0.63157046],\n",
       "       [0.59097534],\n",
       "       [0.60665834],\n",
       "       [0.39292017],\n",
       "       [0.49094158],\n",
       "       [0.43566188],\n",
       "       [0.4939176 ],\n",
       "       [0.53285813],\n",
       "       [0.563824  ],\n",
       "       [0.5337593 ],\n",
       "       [0.5440374 ],\n",
       "       [0.6096165 ],\n",
       "       [0.4090226 ],\n",
       "       [0.5712767 ],\n",
       "       [0.49987382],\n",
       "       [0.55251235],\n",
       "       [0.53916854],\n",
       "       [0.66461265],\n",
       "       [0.5633741 ],\n",
       "       [0.5516564 ],\n",
       "       [0.50547504],\n",
       "       [0.5577565 ],\n",
       "       [0.38944975],\n",
       "       [0.44467175],\n",
       "       [0.48118436],\n",
       "       [0.5601887 ],\n",
       "       [0.42000368],\n",
       "       [0.56145644],\n",
       "       [0.5381409 ],\n",
       "       [0.5419972 ],\n",
       "       [0.44881186],\n",
       "       [0.41100207],\n",
       "       [0.48048973],\n",
       "       [0.6063066 ],\n",
       "       [0.3024182 ],\n",
       "       [0.1958344 ],\n",
       "       [0.5909352 ],\n",
       "       [0.44224536],\n",
       "       [0.55002064],\n",
       "       [0.43690327],\n",
       "       [0.47781718],\n",
       "       [0.43362182],\n",
       "       [0.55012757],\n",
       "       [0.5644117 ]], dtype=float32)"
      ]
     },
     "execution_count": 20,
     "metadata": {},
     "output_type": "execute_result"
    }
   ],
   "source": [
    "model_cancer.predict(x_test_scaled)"
   ]
  },
  {
   "cell_type": "code",
   "execution_count": 21,
   "id": "5faa31fa",
   "metadata": {},
   "outputs": [
    {
     "name": "stdout",
     "output_type": "stream",
     "text": [
      "4/4 [==============================] - 0s 2ms/step\n"
     ]
    },
    {
     "data": {
      "text/plain": [
       "(114, 1)"
      ]
     },
     "execution_count": 21,
     "metadata": {},
     "output_type": "execute_result"
    }
   ],
   "source": [
    "model_cancer.predict(x_test_scaled).shape"
   ]
  },
  {
   "cell_type": "code",
   "execution_count": 22,
   "id": "cf1d73c2",
   "metadata": {},
   "outputs": [
    {
     "name": "stdout",
     "output_type": "stream",
     "text": [
      "4/4 [==============================] - 0s 2ms/step\n"
     ]
    },
    {
     "data": {
      "text/plain": [
       "array([0.40635827, 0.59076595, 0.55353796, 0.5275033 , 0.35008216,\n",
       "       0.55124485, 0.5828784 , 0.45173416, 0.4513891 , 0.37220213,\n",
       "       0.55766785, 0.5091134 , 0.5381723 , 0.4489074 , 0.52163184,\n",
       "       0.545432  , 0.54952854, 0.60360426, 0.54564756, 0.53803706,\n",
       "       0.49215153, 0.5428824 , 0.64368284, 0.5729277 , 0.63596904,\n",
       "       0.5008907 , 0.39950007, 0.6142824 , 0.5774002 , 0.591734  ,\n",
       "       0.4365087 , 0.55153745, 0.62196   , 0.49023697, 0.4581047 ,\n",
       "       0.5889146 , 0.62219244, 0.53469855, 0.5449066 , 0.4422182 ,\n",
       "       0.588241  , 0.55500114, 0.5772192 , 0.3841716 , 0.5268702 ,\n",
       "       0.4934642 , 0.6400969 , 0.6161321 , 0.50311816, 0.45007956,\n",
       "       0.50768924, 0.56292844, 0.5873896 , 0.48768866, 0.5864093 ,\n",
       "       0.58144915, 0.57780266, 0.4717443 , 0.39495817, 0.5826123 ,\n",
       "       0.57232195, 0.629219  , 0.5517613 , 0.5807962 , 0.36377394,\n",
       "       0.54616886, 0.52299345, 0.5463115 , 0.52350986, 0.5141065 ,\n",
       "       0.63157046, 0.59097534, 0.60665834, 0.39292017, 0.49094158,\n",
       "       0.43566188, 0.4939176 , 0.53285813, 0.563824  , 0.5337593 ,\n",
       "       0.5440374 , 0.6096165 , 0.4090226 , 0.5712767 , 0.49987382,\n",
       "       0.55251235, 0.53916854, 0.66461265, 0.5633741 , 0.5516564 ,\n",
       "       0.50547504, 0.5577565 , 0.38944975, 0.44467175, 0.48118436,\n",
       "       0.5601887 , 0.42000368, 0.56145644, 0.5381409 , 0.5419972 ,\n",
       "       0.44881186, 0.41100207, 0.48048973, 0.6063066 , 0.3024182 ,\n",
       "       0.1958344 , 0.5909352 , 0.44224536, 0.55002064, 0.43690327,\n",
       "       0.47781718, 0.43362182, 0.55012757, 0.5644117 ], dtype=float32)"
      ]
     },
     "execution_count": 22,
     "metadata": {},
     "output_type": "execute_result"
    }
   ],
   "source": [
    "model_cancer.predict(x_test_scaled).flatten()"
   ]
  },
  {
   "cell_type": "code",
   "execution_count": 23,
   "id": "31c65c78",
   "metadata": {},
   "outputs": [
    {
     "name": "stdout",
     "output_type": "stream",
     "text": [
      "4/4 [==============================] - 0s 3ms/step\n"
     ]
    },
    {
     "data": {
      "text/plain": [
       "array([False,  True,  True,  True, False,  True,  True, False, False,\n",
       "       False,  True,  True,  True, False,  True,  True,  True,  True,\n",
       "        True,  True, False,  True,  True,  True,  True,  True, False,\n",
       "        True,  True,  True, False,  True,  True, False, False,  True,\n",
       "        True,  True,  True, False,  True,  True,  True, False,  True,\n",
       "       False,  True,  True,  True, False,  True,  True,  True, False,\n",
       "        True,  True,  True, False, False,  True,  True,  True,  True,\n",
       "        True, False,  True,  True,  True,  True,  True,  True,  True,\n",
       "        True, False, False, False, False,  True,  True,  True,  True,\n",
       "        True, False,  True, False,  True,  True,  True,  True,  True,\n",
       "        True,  True, False, False, False,  True, False,  True,  True,\n",
       "        True, False, False, False,  True, False, False,  True, False,\n",
       "        True, False, False, False,  True,  True])"
      ]
     },
     "execution_count": 23,
     "metadata": {},
     "output_type": "execute_result"
    }
   ],
   "source": [
    "pred_cancer = model_cancer.predict(x_test_scaled).flatten() >= 0.5\n",
    "pred_cancer"
   ]
  },
  {
   "cell_type": "code",
   "execution_count": 24,
   "id": "79c0690b",
   "metadata": {},
   "outputs": [
    {
     "data": {
      "text/plain": [
       "array([0, 1, 0, 1, 0, 1, 1, 0, 0, 0, 1, 0, 1, 0, 0, 1, 1, 1, 1, 1, 0, 0,\n",
       "       1, 1, 1, 1, 0, 1, 1, 1, 1, 1, 1, 1, 0, 0, 1, 1, 1, 0, 1, 1, 1, 0,\n",
       "       0, 1, 1, 1, 1, 0, 1, 1, 1, 0, 1, 1, 1, 0, 0, 1, 1, 1, 1, 1, 0, 0,\n",
       "       1, 1, 1, 1, 1, 1, 1, 0, 0, 0, 0, 1, 1, 1, 1, 1, 0, 1, 0, 1, 1, 1,\n",
       "       1, 1, 1, 1, 0, 0, 0, 1, 0, 1, 0, 1, 0, 0, 0, 1, 0, 0, 1, 0, 1, 0,\n",
       "       1, 0, 1, 1])"
      ]
     },
     "execution_count": 24,
     "metadata": {},
     "output_type": "execute_result"
    }
   ],
   "source": [
    "y_test"
   ]
  },
  {
   "cell_type": "code",
   "execution_count": 25,
   "id": "99e49c09",
   "metadata": {},
   "outputs": [
    {
     "data": {
      "text/plain": [
       "0.8947368421052632"
      ]
     },
     "execution_count": 25,
     "metadata": {},
     "output_type": "execute_result"
    }
   ],
   "source": [
    "metrics.accuracy_score(pred_cancer, y_test)"
   ]
  },
  {
   "cell_type": "markdown",
   "id": "c17f1a3d",
   "metadata": {},
   "source": [
    "# 2. Digits: 다중분류"
   ]
  },
  {
   "cell_type": "code",
   "execution_count": 26,
   "id": "bc4481d6",
   "metadata": {},
   "outputs": [
    {
     "data": {
      "text/plain": [
       "{'data': array([[ 0.,  0.,  5., ...,  0.,  0.,  0.],\n",
       "        [ 0.,  0.,  0., ..., 10.,  0.,  0.],\n",
       "        [ 0.,  0.,  0., ..., 16.,  9.,  0.],\n",
       "        ...,\n",
       "        [ 0.,  0.,  1., ...,  6.,  0.,  0.],\n",
       "        [ 0.,  0.,  2., ..., 12.,  0.,  0.],\n",
       "        [ 0.,  0., 10., ..., 12.,  1.,  0.]]),\n",
       " 'target': array([0, 1, 2, ..., 8, 9, 8]),\n",
       " 'frame': None,\n",
       " 'feature_names': ['pixel_0_0',\n",
       "  'pixel_0_1',\n",
       "  'pixel_0_2',\n",
       "  'pixel_0_3',\n",
       "  'pixel_0_4',\n",
       "  'pixel_0_5',\n",
       "  'pixel_0_6',\n",
       "  'pixel_0_7',\n",
       "  'pixel_1_0',\n",
       "  'pixel_1_1',\n",
       "  'pixel_1_2',\n",
       "  'pixel_1_3',\n",
       "  'pixel_1_4',\n",
       "  'pixel_1_5',\n",
       "  'pixel_1_6',\n",
       "  'pixel_1_7',\n",
       "  'pixel_2_0',\n",
       "  'pixel_2_1',\n",
       "  'pixel_2_2',\n",
       "  'pixel_2_3',\n",
       "  'pixel_2_4',\n",
       "  'pixel_2_5',\n",
       "  'pixel_2_6',\n",
       "  'pixel_2_7',\n",
       "  'pixel_3_0',\n",
       "  'pixel_3_1',\n",
       "  'pixel_3_2',\n",
       "  'pixel_3_3',\n",
       "  'pixel_3_4',\n",
       "  'pixel_3_5',\n",
       "  'pixel_3_6',\n",
       "  'pixel_3_7',\n",
       "  'pixel_4_0',\n",
       "  'pixel_4_1',\n",
       "  'pixel_4_2',\n",
       "  'pixel_4_3',\n",
       "  'pixel_4_4',\n",
       "  'pixel_4_5',\n",
       "  'pixel_4_6',\n",
       "  'pixel_4_7',\n",
       "  'pixel_5_0',\n",
       "  'pixel_5_1',\n",
       "  'pixel_5_2',\n",
       "  'pixel_5_3',\n",
       "  'pixel_5_4',\n",
       "  'pixel_5_5',\n",
       "  'pixel_5_6',\n",
       "  'pixel_5_7',\n",
       "  'pixel_6_0',\n",
       "  'pixel_6_1',\n",
       "  'pixel_6_2',\n",
       "  'pixel_6_3',\n",
       "  'pixel_6_4',\n",
       "  'pixel_6_5',\n",
       "  'pixel_6_6',\n",
       "  'pixel_6_7',\n",
       "  'pixel_7_0',\n",
       "  'pixel_7_1',\n",
       "  'pixel_7_2',\n",
       "  'pixel_7_3',\n",
       "  'pixel_7_4',\n",
       "  'pixel_7_5',\n",
       "  'pixel_7_6',\n",
       "  'pixel_7_7'],\n",
       " 'target_names': array([0, 1, 2, 3, 4, 5, 6, 7, 8, 9]),\n",
       " 'images': array([[[ 0.,  0.,  5., ...,  1.,  0.,  0.],\n",
       "         [ 0.,  0., 13., ..., 15.,  5.,  0.],\n",
       "         [ 0.,  3., 15., ..., 11.,  8.,  0.],\n",
       "         ...,\n",
       "         [ 0.,  4., 11., ..., 12.,  7.,  0.],\n",
       "         [ 0.,  2., 14., ..., 12.,  0.,  0.],\n",
       "         [ 0.,  0.,  6., ...,  0.,  0.,  0.]],\n",
       " \n",
       "        [[ 0.,  0.,  0., ...,  5.,  0.,  0.],\n",
       "         [ 0.,  0.,  0., ...,  9.,  0.,  0.],\n",
       "         [ 0.,  0.,  3., ...,  6.,  0.,  0.],\n",
       "         ...,\n",
       "         [ 0.,  0.,  1., ...,  6.,  0.,  0.],\n",
       "         [ 0.,  0.,  1., ...,  6.,  0.,  0.],\n",
       "         [ 0.,  0.,  0., ..., 10.,  0.,  0.]],\n",
       " \n",
       "        [[ 0.,  0.,  0., ..., 12.,  0.,  0.],\n",
       "         [ 0.,  0.,  3., ..., 14.,  0.,  0.],\n",
       "         [ 0.,  0.,  8., ..., 16.,  0.,  0.],\n",
       "         ...,\n",
       "         [ 0.,  9., 16., ...,  0.,  0.,  0.],\n",
       "         [ 0.,  3., 13., ..., 11.,  5.,  0.],\n",
       "         [ 0.,  0.,  0., ..., 16.,  9.,  0.]],\n",
       " \n",
       "        ...,\n",
       " \n",
       "        [[ 0.,  0.,  1., ...,  1.,  0.,  0.],\n",
       "         [ 0.,  0., 13., ...,  2.,  1.,  0.],\n",
       "         [ 0.,  0., 16., ..., 16.,  5.,  0.],\n",
       "         ...,\n",
       "         [ 0.,  0., 16., ..., 15.,  0.,  0.],\n",
       "         [ 0.,  0., 15., ..., 16.,  0.,  0.],\n",
       "         [ 0.,  0.,  2., ...,  6.,  0.,  0.]],\n",
       " \n",
       "        [[ 0.,  0.,  2., ...,  0.,  0.,  0.],\n",
       "         [ 0.,  0., 14., ..., 15.,  1.,  0.],\n",
       "         [ 0.,  4., 16., ..., 16.,  7.,  0.],\n",
       "         ...,\n",
       "         [ 0.,  0.,  0., ..., 16.,  2.,  0.],\n",
       "         [ 0.,  0.,  4., ..., 16.,  2.,  0.],\n",
       "         [ 0.,  0.,  5., ..., 12.,  0.,  0.]],\n",
       " \n",
       "        [[ 0.,  0., 10., ...,  1.,  0.,  0.],\n",
       "         [ 0.,  2., 16., ...,  1.,  0.,  0.],\n",
       "         [ 0.,  0., 15., ..., 15.,  0.,  0.],\n",
       "         ...,\n",
       "         [ 0.,  4., 16., ..., 16.,  6.,  0.],\n",
       "         [ 0.,  8., 16., ..., 16.,  8.,  0.],\n",
       "         [ 0.,  1.,  8., ..., 12.,  1.,  0.]]]),\n",
       " 'DESCR': \".. _digits_dataset:\\n\\nOptical recognition of handwritten digits dataset\\n--------------------------------------------------\\n\\n**Data Set Characteristics:**\\n\\n    :Number of Instances: 1797\\n    :Number of Attributes: 64\\n    :Attribute Information: 8x8 image of integer pixels in the range 0..16.\\n    :Missing Attribute Values: None\\n    :Creator: E. Alpaydin (alpaydin '@' boun.edu.tr)\\n    :Date: July; 1998\\n\\nThis is a copy of the test set of the UCI ML hand-written digits datasets\\nhttps://archive.ics.uci.edu/ml/datasets/Optical+Recognition+of+Handwritten+Digits\\n\\nThe data set contains images of hand-written digits: 10 classes where\\neach class refers to a digit.\\n\\nPreprocessing programs made available by NIST were used to extract\\nnormalized bitmaps of handwritten digits from a preprinted form. From a\\ntotal of 43 people, 30 contributed to the training set and different 13\\nto the test set. 32x32 bitmaps are divided into nonoverlapping blocks of\\n4x4 and the number of on pixels are counted in each block. This generates\\nan input matrix of 8x8 where each element is an integer in the range\\n0..16. This reduces dimensionality and gives invariance to small\\ndistortions.\\n\\nFor info on NIST preprocessing routines, see M. D. Garris, J. L. Blue, G.\\nT. Candela, D. L. Dimmick, J. Geist, P. J. Grother, S. A. Janet, and C.\\nL. Wilson, NIST Form-Based Handprint Recognition System, NISTIR 5469,\\n1994.\\n\\n.. topic:: References\\n\\n  - C. Kaynak (1995) Methods of Combining Multiple Classifiers and Their\\n    Applications to Handwritten Digit Recognition, MSc Thesis, Institute of\\n    Graduate Studies in Science and Engineering, Bogazici University.\\n  - E. Alpaydin, C. Kaynak (1998) Cascading Classifiers, Kybernetika.\\n  - Ken Tang and Ponnuthurai N. Suganthan and Xi Yao and A. Kai Qin.\\n    Linear dimensionalityreduction using relevance weighted LDA. School of\\n    Electrical and Electronic Engineering Nanyang Technological University.\\n    2005.\\n  - Claudio Gentile. A New Approximate Maximal Margin Classification\\n    Algorithm. NIPS. 2000.\\n\"}"
      ]
     },
     "execution_count": 26,
     "metadata": {},
     "output_type": "execute_result"
    }
   ],
   "source": [
    "digits = load_digits()\n",
    "digits"
   ]
  },
  {
   "cell_type": "code",
   "execution_count": 27,
   "id": "ab804afc",
   "metadata": {},
   "outputs": [
    {
     "data": {
      "text/plain": [
       "dict_keys(['data', 'target', 'frame', 'feature_names', 'target_names', 'images', 'DESCR'])"
      ]
     },
     "execution_count": 27,
     "metadata": {},
     "output_type": "execute_result"
    }
   ],
   "source": [
    "digits.keys()"
   ]
  },
  {
   "cell_type": "code",
   "execution_count": 28,
   "id": "9329459e",
   "metadata": {},
   "outputs": [
    {
     "data": {
      "text/plain": [
       "(1797, 8, 8)"
      ]
     },
     "execution_count": 28,
     "metadata": {},
     "output_type": "execute_result"
    }
   ],
   "source": [
    "digits[\"images\"].shape"
   ]
  },
  {
   "cell_type": "code",
   "execution_count": 29,
   "id": "dbdaf097",
   "metadata": {},
   "outputs": [
    {
     "name": "stdout",
     "output_type": "stream",
     "text": [
      "index:  209 image의 숫자:  0\n"
     ]
    },
    {
     "data": {
      "image/png": "[encoded data removed]",
      "text/plain": [
       "<Figure size 640x480 with 1 Axes>"
      ]
     },
     "metadata": {
      "image/png": {
       "height": 491,
       "width": 485
      }
     },
     "output_type": "display_data"
    }
   ],
   "source": [
    "i = 209\n",
    "plt.imshow(digits[\"images\"][i])\n",
    "print(\"index: \", i, \"image의 숫자: \", digits[\"target\"][i]);"
   ]
  },
  {
   "cell_type": "code",
   "execution_count": 30,
   "id": "43ee5e9e",
   "metadata": {},
   "outputs": [],
   "source": [
    "x_data = digits[\"images\"]\n",
    "y_data = digits[\"target\"]"
   ]
  },
  {
   "cell_type": "code",
   "execution_count": 31,
   "id": "2ee40422",
   "metadata": {},
   "outputs": [
    {
     "data": {
      "text/plain": [
       "(array([0, 1, 2, 3, 4, 5, 6, 7, 8, 9]),\n",
       " array([178, 182, 177, 183, 181, 182, 181, 179, 174, 180], dtype=int64))"
      ]
     },
     "execution_count": 31,
     "metadata": {},
     "output_type": "execute_result"
    }
   ],
   "source": [
    "np.unique(y_data, return_counts=True)"
   ]
  },
  {
   "cell_type": "code",
   "execution_count": 32,
   "id": "dee064cd",
   "metadata": {},
   "outputs": [],
   "source": [
    "x_train, x_test, y_train, y_test = train_test_split(x_data, \n",
    "                                                    y_data, \n",
    "                                                    test_size = 0.20,\n",
    "                                                    random_state = 42,\n",
    "                                                    stratify = y_data)"
   ]
  },
  {
   "cell_type": "code",
   "execution_count": 33,
   "id": "3ef413aa",
   "metadata": {},
   "outputs": [
    {
     "name": "stdout",
     "output_type": "stream",
     "text": [
      "x_train:  (1437, 8, 8)\n",
      "y_train:  (1437,)\n",
      "x_test:  (360, 8, 8)\n",
      "y_test:  (360,)\n"
     ]
    }
   ],
   "source": [
    "print(\"x_train: \", x_train.shape)\n",
    "print(\"y_train: \", y_train.shape)\n",
    "print(\"x_test: \", x_test.shape)\n",
    "print(\"y_test: \", y_test.shape)"
   ]
  },
  {
   "cell_type": "code",
   "execution_count": 34,
   "id": "095efc29",
   "metadata": {},
   "outputs": [
    {
     "name": "stdout",
     "output_type": "stream",
     "text": [
      "0.0 16.0\n"
     ]
    }
   ],
   "source": [
    "print(x_train.min(), x_train.max())"
   ]
  },
  {
   "cell_type": "code",
   "execution_count": 35,
   "id": "76d06d0f",
   "metadata": {},
   "outputs": [],
   "source": [
    "x_train, x_test = x_train / x_train.max(), x_test / x_train.max()"
   ]
  },
  {
   "cell_type": "code",
   "execution_count": 36,
   "id": "5ec10d08",
   "metadata": {},
   "outputs": [],
   "source": [
    "# 데이터의 shape을 변경해 주자.\n",
    "x_train_re = np.reshape(x_train, (x_train.shape[0], 64))\n",
    "x_test_re = np.reshape(x_test, (x_test.shape[0], 64))"
   ]
  },
  {
   "cell_type": "code",
   "execution_count": 37,
   "id": "1aed92de",
   "metadata": {},
   "outputs": [
    {
     "data": {
      "text/plain": [
       "(1437, 64)"
      ]
     },
     "execution_count": 37,
     "metadata": {},
     "output_type": "execute_result"
    }
   ],
   "source": [
    "x_train_re.shape"
   ]
  },
  {
   "cell_type": "code",
   "execution_count": 38,
   "id": "8027f184",
   "metadata": {},
   "outputs": [
    {
     "data": {
      "text/plain": [
       "array([5, 0, 5, ..., 9, 7, 9])"
      ]
     },
     "execution_count": 38,
     "metadata": {},
     "output_type": "execute_result"
    }
   ],
   "source": [
    "y_train"
   ]
  },
  {
   "cell_type": "code",
   "execution_count": 39,
   "id": "66529864",
   "metadata": {},
   "outputs": [
    {
     "data": {
      "text/plain": [
       "array([[0., 0., 0., ..., 0., 0., 0.],\n",
       "       [1., 0., 0., ..., 0., 0., 0.],\n",
       "       [0., 0., 0., ..., 0., 0., 0.],\n",
       "       ...,\n",
       "       [0., 0., 0., ..., 0., 0., 1.],\n",
       "       [0., 0., 0., ..., 1., 0., 0.],\n",
       "       [0., 0., 0., ..., 0., 0., 1.]], dtype=float32)"
      ]
     },
     "execution_count": 39,
     "metadata": {},
     "output_type": "execute_result"
    }
   ],
   "source": [
    "# one-hot encoding으로 변경하자. \n",
    "y_train = to_categorical(y_train)\n",
    "y_train"
   ]
  },
  {
   "cell_type": "markdown",
   "id": "7b9f01a0",
   "metadata": {},
   "source": [
    "## 2.1 RFC"
   ]
  },
  {
   "cell_type": "code",
   "execution_count": 40,
   "id": "4756102c",
   "metadata": {},
   "outputs": [
    {
     "name": "stdout",
     "output_type": "stream",
     "text": [
      "x_train:  (1437, 64)\n",
      "y_train:  (1437, 10)\n",
      "x_test:  (360, 64)\n",
      "y_test:  (360,)\n"
     ]
    }
   ],
   "source": [
    "print(\"x_train: \", x_train_re.shape)\n",
    "print(\"y_train: \", y_train.shape)\n",
    "print(\"x_test: \", x_test_re.shape)\n",
    "print(\"y_test: \", y_test.shape)"
   ]
  },
  {
   "cell_type": "code",
   "execution_count": 41,
   "id": "0327075f",
   "metadata": {},
   "outputs": [
    {
     "data": {
      "text/html": [
       "<style>#sk-container-id-1 {color: black;background-color: white;}#sk-container-id-1 pre{padding: 0;}#sk-container-id-1 div.sk-toggleable {background-color: white;}#sk-container-id-1 label.sk-toggleable__label {cursor: pointer;display: block;width: 100%;margin-bottom: 0;padding: 0.3em;box-sizing: border-box;text-align: center;}#sk-container-id-1 label.sk-toggleable__label-arrow:before {content: \"▸\";float: left;margin-right: 0.25em;color: #696969;}#sk-container-id-1 label.sk-toggleable__label-arrow:hover:before {color: black;}#sk-container-id-1 div.sk-estimator:hover label.sk-toggleable__label-arrow:before {color: black;}#sk-container-id-1 div.sk-toggleable__content {max-height: 0;max-width: 0;overflow: hidden;text-align: left;background-color: #f0f8ff;}#sk-container-id-1 div.sk-toggleable__content pre {margin: 0.2em;color: black;border-radius: 0.25em;background-color: #f0f8ff;}#sk-container-id-1 input.sk-toggleable__control:checked~div.sk-toggleable__content {max-height: 200px;max-width: 100%;overflow: auto;}#sk-container-id-1 input.sk-toggleable__control:checked~label.sk-toggleable__label-arrow:before {content: \"▾\";}#sk-container-id-1 div.sk-estimator input.sk-toggleable__control:checked~label.sk-toggleable__label {background-color: #d4ebff;}#sk-container-id-1 div.sk-label input.sk-toggleable__control:checked~label.sk-toggleable__label {background-color: #d4ebff;}#sk-container-id-1 input.sk-hidden--visually {border: 0;clip: rect(1px 1px 1px 1px);clip: rect(1px, 1px, 1px, 1px);height: 1px;margin: -1px;overflow: hidden;padding: 0;position: absolute;width: 1px;}#sk-container-id-1 div.sk-estimator {font-family: monospace;background-color: #f0f8ff;border: 1px dotted black;border-radius: 0.25em;box-sizing: border-box;margin-bottom: 0.5em;}#sk-container-id-1 div.sk-estimator:hover {background-color: #d4ebff;}#sk-container-id-1 div.sk-parallel-item::after {content: \"\";width: 100%;border-bottom: 1px solid gray;flex-grow: 1;}#sk-container-id-1 div.sk-label:hover label.sk-toggleable__label {background-color: #d4ebff;}#sk-container-id-1 div.sk-serial::before {content: \"\";position: absolute;border-left: 1px solid gray;box-sizing: border-box;top: 0;bottom: 0;left: 50%;z-index: 0;}#sk-container-id-1 div.sk-serial {display: flex;flex-direction: column;align-items: center;background-color: white;padding-right: 0.2em;padding-left: 0.2em;position: relative;}#sk-container-id-1 div.sk-item {position: relative;z-index: 1;}#sk-container-id-1 div.sk-parallel {display: flex;align-items: stretch;justify-content: center;background-color: white;position: relative;}#sk-container-id-1 div.sk-item::before, #sk-container-id-1 div.sk-parallel-item::before {content: \"\";position: absolute;border-left: 1px solid gray;box-sizing: border-box;top: 0;bottom: 0;left: 50%;z-index: -1;}#sk-container-id-1 div.sk-parallel-item {display: flex;flex-direction: column;z-index: 1;position: relative;background-color: white;}#sk-container-id-1 div.sk-parallel-item:first-child::after {align-self: flex-end;width: 50%;}#sk-container-id-1 div.sk-parallel-item:last-child::after {align-self: flex-start;width: 50%;}#sk-container-id-1 div.sk-parallel-item:only-child::after {width: 0;}#sk-container-id-1 div.sk-dashed-wrapped {border: 1px dashed gray;margin: 0 0.4em 0.5em 0.4em;box-sizing: border-box;padding-bottom: 0.4em;background-color: white;}#sk-container-id-1 div.sk-label label {font-family: monospace;font-weight: bold;display: inline-block;line-height: 1.2em;}#sk-container-id-1 div.sk-label-container {text-align: center;}#sk-container-id-1 div.sk-container {/* jupyter's `normalize.less` sets `[hidden] { display: none; }` but bootstrap.min.css set `[hidden] { display: none !important; }` so we also need the `!important` here to be able to override the default hidden behavior on the sphinx rendered scikit-learn.org. See: https://github.com/scikit-learn/scikit-learn/issues/21755 */display: inline-block !important;position: relative;}#sk-container-id-1 div.sk-text-repr-fallback {display: none;}</style><div id=\"sk-container-id-1\" class=\"sk-top-container\"><div class=\"sk-text-repr-fallback\"><pre>RandomForestClassifier(oob_score=True, random_state=209)</pre><b>In a Jupyter environment, please rerun this cell to show the HTML representation or trust the notebook. <br />On GitHub, the HTML representation is unable to render, please try loading this page with nbviewer.org.</b></div><div class=\"sk-container\" hidden><div class=\"sk-item\"><div class=\"sk-estimator sk-toggleable\"><input class=\"sk-toggleable__control sk-hidden--visually\" id=\"sk-estimator-id-1\" type=\"checkbox\" checked><label for=\"sk-estimator-id-1\" class=\"sk-toggleable__label sk-toggleable__label-arrow\">RandomForestClassifier</label><div class=\"sk-toggleable__content\"><pre>RandomForestClassifier(oob_score=True, random_state=209)</pre></div></div></div></div></div>"
      ],
      "text/plain": [
       "RandomForestClassifier(oob_score=True, random_state=209)"
      ]
     },
     "execution_count": 41,
     "metadata": {},
     "output_type": "execute_result"
    }
   ],
   "source": [
    "rfc = RandomForestClassifier(oob_score=True, random_state=209) \n",
    "rfc.fit(x_train_re, y_train)"
   ]
  },
  {
   "cell_type": "code",
   "execution_count": 42,
   "id": "dfa70d60",
   "metadata": {},
   "outputs": [
    {
     "data": {
      "text/plain": [
       "array([[0., 0., 0., ..., 0., 0., 0.],\n",
       "       [0., 0., 1., ..., 0., 0., 0.],\n",
       "       [0., 0., 0., ..., 0., 1., 0.],\n",
       "       ...,\n",
       "       [1., 0., 0., ..., 0., 0., 0.],\n",
       "       [0., 0., 0., ..., 0., 0., 0.],\n",
       "       [0., 0., 0., ..., 0., 0., 0.]], dtype=float32)"
      ]
     },
     "execution_count": 42,
     "metadata": {},
     "output_type": "execute_result"
    }
   ],
   "source": [
    "rfc.predict(x_test_re)"
   ]
  },
  {
   "cell_type": "code",
   "execution_count": 43,
   "id": "d967530b",
   "metadata": {},
   "outputs": [
    {
     "data": {
      "text/plain": [
       "array([0., 0., 0., 0., 0., 1., 0., 0., 0., 0.], dtype=float32)"
      ]
     },
     "execution_count": 43,
     "metadata": {},
     "output_type": "execute_result"
    }
   ],
   "source": [
    "rfc.predict(x_test_re)[0]"
   ]
  },
  {
   "cell_type": "code",
   "execution_count": 44,
   "id": "a45ef09d",
   "metadata": {},
   "outputs": [
    {
     "data": {
      "text/plain": [
       "5"
      ]
     },
     "execution_count": 44,
     "metadata": {},
     "output_type": "execute_result"
    }
   ],
   "source": [
    "np.argmax(rfc.predict(x_test_re)[0])"
   ]
  },
  {
   "cell_type": "code",
   "execution_count": 45,
   "id": "d1f4d72f",
   "metadata": {},
   "outputs": [
    {
     "data": {
      "text/plain": [
       "0.8777777777777778"
      ]
     },
     "execution_count": 45,
     "metadata": {},
     "output_type": "execute_result"
    }
   ],
   "source": [
    "pred = [np.argmax(i) for i in rfc.predict(x_test_re)]\n",
    "metrics.accuracy_score(pred, y_test)"
   ]
  },
  {
   "cell_type": "markdown",
   "id": "ea5465c7",
   "metadata": {},
   "source": [
    "## 2.2 단층 신경망\n",
    "\n",
    "* digits 데이터는 0부터 9까지 클래스 10개인 다중 분류\n",
    "* 다중 분류의 경우 출력층의 노드수와 활성함수는?"
   ]
  },
  {
   "cell_type": "code",
   "execution_count": 46,
   "id": "feb1151a",
   "metadata": {},
   "outputs": [
    {
     "name": "stdout",
     "output_type": "stream",
     "text": [
      "x_train:  (1437, 8, 8)\n",
      "y_train:  (1437, 10)\n",
      "x_test:  (360, 8, 8)\n",
      "y_test:  (360,)\n"
     ]
    }
   ],
   "source": [
    "print(\"x_train: \", x_train.shape)\n",
    "print(\"y_train: \", y_train.shape)\n",
    "print(\"x_test: \", x_test.shape)\n",
    "print(\"y_test: \", y_test.shape)"
   ]
  },
  {
   "cell_type": "code",
   "execution_count": 47,
   "id": "6f8a1b63",
   "metadata": {},
   "outputs": [
    {
     "name": "stdout",
     "output_type": "stream",
     "text": [
      "x_train:  (1437, 64)\n",
      "y_train:  (1437, 10)\n",
      "x_test:  (360, 64)\n",
      "y_test:  (360,)\n"
     ]
    }
   ],
   "source": [
    "print(\"x_train: \", x_train_re.shape)\n",
    "print(\"y_train: \", y_train.shape)\n",
    "print(\"x_test: \", x_test_re.shape)\n",
    "print(\"y_test: \", y_test.shape)"
   ]
  },
  {
   "cell_type": "code",
   "execution_count": 48,
   "id": "098b9e86",
   "metadata": {},
   "outputs": [],
   "source": [
    "random.seed(209)\n",
    "# 입력노드 수 = feature 수\n",
    "input_node = 8*8\n",
    "# 출력노드 수\n",
    "output_node = 10\n",
    "\n",
    "#모델\n",
    "model_digit = Sequential()\n",
    "model_digit.add(Dense(output_node, \n",
    "                      activation = \"softmax\",\n",
    "                      input_shape = (input_node,)\n",
    "                     ))"
   ]
  },
  {
   "cell_type": "code",
   "execution_count": 49,
   "id": "f4528758",
   "metadata": {},
   "outputs": [
    {
     "name": "stdout",
     "output_type": "stream",
     "text": [
      "Model: \"sequential_1\"\n",
      "_________________________________________________________________\n",
      " Layer (type)                Output Shape              Param #   \n",
      "=================================================================\n",
      " dense_1 (Dense)             (None, 10)                650       \n",
      "                                                                 \n",
      "=================================================================\n",
      "Total params: 650\n",
      "Trainable params: 650\n",
      "Non-trainable params: 0\n",
      "_________________________________________________________________\n"
     ]
    }
   ],
   "source": [
    "model_digit.summary()"
   ]
  },
  {
   "cell_type": "code",
   "execution_count": 50,
   "id": "61880937",
   "metadata": {},
   "outputs": [],
   "source": [
    "model_digit.compile(loss='categorical_crossentropy',\n",
    "                     optimizer='adam',\n",
    "                     metrics = ['accuracy'])"
   ]
  },
  {
   "cell_type": "code",
   "execution_count": 51,
   "id": "f27fe54b",
   "metadata": {},
   "outputs": [
    {
     "data": {
      "text/plain": [
       "(1437, 8, 8)"
      ]
     },
     "execution_count": 51,
     "metadata": {},
     "output_type": "execute_result"
    }
   ],
   "source": [
    "x_train.shape"
   ]
  },
  {
   "cell_type": "code",
   "execution_count": 52,
   "id": "92161efd",
   "metadata": {},
   "outputs": [
    {
     "data": {
      "text/plain": [
       "(1437, 10)"
      ]
     },
     "execution_count": 52,
     "metadata": {},
     "output_type": "execute_result"
    }
   ],
   "source": [
    "y_train.shape"
   ]
  },
  {
   "cell_type": "code",
   "execution_count": 53,
   "id": "11555662",
   "metadata": {
    "scrolled": true
   },
   "outputs": [
    {
     "name": "stdout",
     "output_type": "stream",
     "text": [
      "Epoch 1/100\n",
      "115/115 [==============================] - 1s 5ms/step - loss: 2.1868 - accuracy: 0.2820 - val_loss: 1.9877 - val_accuracy: 0.3993\n",
      "Epoch 2/100\n",
      "115/115 [==============================] - 0s 3ms/step - loss: 1.7666 - accuracy: 0.5657 - val_loss: 1.6751 - val_accuracy: 0.6458\n",
      "Epoch 3/100\n",
      "115/115 [==============================] - 0s 3ms/step - loss: 1.4776 - accuracy: 0.7572 - val_loss: 1.4301 - val_accuracy: 0.7569\n",
      "Epoch 4/100\n",
      "115/115 [==============================] - 0s 3ms/step - loss: 1.2548 - accuracy: 0.8433 - val_loss: 1.2339 - val_accuracy: 0.8056\n",
      "Epoch 5/100\n",
      "115/115 [==============================] - 0s 4ms/step - loss: 1.0804 - accuracy: 0.8886 - val_loss: 1.0862 - val_accuracy: 0.8438\n",
      "Epoch 6/100\n",
      "115/115 [==============================] - 0s 3ms/step - loss: 0.9453 - accuracy: 0.8964 - val_loss: 0.9693 - val_accuracy: 0.8542\n",
      "Epoch 7/100\n",
      "115/115 [==============================] - 0s 3ms/step - loss: 0.8382 - accuracy: 0.9086 - val_loss: 0.8762 - val_accuracy: 0.8542\n",
      "Epoch 8/100\n",
      "115/115 [==============================] - 0s 3ms/step - loss: 0.7520 - accuracy: 0.9147 - val_loss: 0.7963 - val_accuracy: 0.8646\n",
      "Epoch 9/100\n",
      "115/115 [==============================] - 0s 3ms/step - loss: 0.6820 - accuracy: 0.9156 - val_loss: 0.7317 - val_accuracy: 0.8715\n",
      "Epoch 10/100\n",
      "115/115 [==============================] - 0s 3ms/step - loss: 0.6246 - accuracy: 0.9225 - val_loss: 0.6788 - val_accuracy: 0.8889\n",
      "Epoch 11/100\n",
      "115/115 [==============================] - 0s 3ms/step - loss: 0.5758 - accuracy: 0.9278 - val_loss: 0.6374 - val_accuracy: 0.8993\n",
      "Epoch 12/100\n",
      "115/115 [==============================] - 0s 3ms/step - loss: 0.5350 - accuracy: 0.9260 - val_loss: 0.5997 - val_accuracy: 0.8958\n",
      "Epoch 13/100\n",
      "115/115 [==============================] - 0s 3ms/step - loss: 0.4996 - accuracy: 0.9295 - val_loss: 0.5645 - val_accuracy: 0.9062\n",
      "Epoch 14/100\n",
      "115/115 [==============================] - 0s 3ms/step - loss: 0.4698 - accuracy: 0.9295 - val_loss: 0.5358 - val_accuracy: 0.9028\n",
      "Epoch 15/100\n",
      "115/115 [==============================] - 0s 3ms/step - loss: 0.4425 - accuracy: 0.9347 - val_loss: 0.5117 - val_accuracy: 0.9097\n",
      "Epoch 16/100\n",
      "115/115 [==============================] - 0s 3ms/step - loss: 0.4195 - accuracy: 0.9347 - val_loss: 0.4870 - val_accuracy: 0.9097\n",
      "Epoch 17/100\n",
      "115/115 [==============================] - 0s 3ms/step - loss: 0.3978 - accuracy: 0.9365 - val_loss: 0.4647 - val_accuracy: 0.9167\n",
      "Epoch 18/100\n",
      "115/115 [==============================] - 0s 3ms/step - loss: 0.3794 - accuracy: 0.9382 - val_loss: 0.4482 - val_accuracy: 0.9132\n",
      "Epoch 19/100\n",
      "115/115 [==============================] - 0s 3ms/step - loss: 0.3621 - accuracy: 0.9373 - val_loss: 0.4326 - val_accuracy: 0.9132\n",
      "Epoch 20/100\n",
      "115/115 [==============================] - 0s 3ms/step - loss: 0.3465 - accuracy: 0.9408 - val_loss: 0.4191 - val_accuracy: 0.9167\n",
      "Epoch 21/100\n",
      "115/115 [==============================] - 0s 3ms/step - loss: 0.3326 - accuracy: 0.9426 - val_loss: 0.4030 - val_accuracy: 0.9236\n",
      "Epoch 22/100\n",
      "115/115 [==============================] - 0s 3ms/step - loss: 0.3200 - accuracy: 0.9426 - val_loss: 0.3901 - val_accuracy: 0.9201\n",
      "Epoch 23/100\n",
      "115/115 [==============================] - 0s 2ms/step - loss: 0.3084 - accuracy: 0.9417 - val_loss: 0.3809 - val_accuracy: 0.9132\n",
      "Epoch 24/100\n",
      "115/115 [==============================] - 0s 2ms/step - loss: 0.2973 - accuracy: 0.9443 - val_loss: 0.3685 - val_accuracy: 0.9167\n",
      "Epoch 25/100\n",
      "115/115 [==============================] - 0s 3ms/step - loss: 0.2866 - accuracy: 0.9443 - val_loss: 0.3559 - val_accuracy: 0.9236\n",
      "Epoch 26/100\n",
      "115/115 [==============================] - 0s 3ms/step - loss: 0.2773 - accuracy: 0.9460 - val_loss: 0.3492 - val_accuracy: 0.9201\n",
      "Epoch 27/100\n",
      "115/115 [==============================] - 0s 3ms/step - loss: 0.2684 - accuracy: 0.9495 - val_loss: 0.3406 - val_accuracy: 0.9201\n",
      "Epoch 28/100\n",
      "115/115 [==============================] - 0s 2ms/step - loss: 0.2600 - accuracy: 0.9513 - val_loss: 0.3311 - val_accuracy: 0.9201\n",
      "Epoch 29/100\n",
      "115/115 [==============================] - 0s 3ms/step - loss: 0.2524 - accuracy: 0.9530 - val_loss: 0.3233 - val_accuracy: 0.9236\n",
      "Epoch 30/100\n",
      "115/115 [==============================] - 0s 3ms/step - loss: 0.2450 - accuracy: 0.9530 - val_loss: 0.3156 - val_accuracy: 0.9236\n",
      "Epoch 31/100\n",
      "115/115 [==============================] - 0s 3ms/step - loss: 0.2381 - accuracy: 0.9547 - val_loss: 0.3066 - val_accuracy: 0.9271\n",
      "Epoch 32/100\n",
      "115/115 [==============================] - 0s 3ms/step - loss: 0.2322 - accuracy: 0.9513 - val_loss: 0.3015 - val_accuracy: 0.9271\n",
      "Epoch 33/100\n",
      "115/115 [==============================] - 0s 3ms/step - loss: 0.2258 - accuracy: 0.9530 - val_loss: 0.2978 - val_accuracy: 0.9306\n",
      "Epoch 34/100\n",
      "115/115 [==============================] - 0s 3ms/step - loss: 0.2202 - accuracy: 0.9565 - val_loss: 0.2902 - val_accuracy: 0.9340\n",
      "Epoch 35/100\n",
      "115/115 [==============================] - 0s 3ms/step - loss: 0.2145 - accuracy: 0.9574 - val_loss: 0.2839 - val_accuracy: 0.9306\n",
      "Epoch 36/100\n",
      "115/115 [==============================] - 0s 3ms/step - loss: 0.2095 - accuracy: 0.9600 - val_loss: 0.2772 - val_accuracy: 0.9375\n",
      "Epoch 37/100\n",
      "115/115 [==============================] - 0s 3ms/step - loss: 0.2040 - accuracy: 0.9600 - val_loss: 0.2747 - val_accuracy: 0.9375\n",
      "Epoch 38/100\n",
      "115/115 [==============================] - 0s 3ms/step - loss: 0.1998 - accuracy: 0.9617 - val_loss: 0.2686 - val_accuracy: 0.9375\n",
      "Epoch 39/100\n",
      "115/115 [==============================] - 0s 3ms/step - loss: 0.1953 - accuracy: 0.9634 - val_loss: 0.2667 - val_accuracy: 0.9444\n",
      "Epoch 40/100\n",
      "115/115 [==============================] - 0s 3ms/step - loss: 0.1907 - accuracy: 0.9643 - val_loss: 0.2581 - val_accuracy: 0.9375\n",
      "Epoch 41/100\n",
      "115/115 [==============================] - 0s 3ms/step - loss: 0.1863 - accuracy: 0.9652 - val_loss: 0.2562 - val_accuracy: 0.9410\n",
      "Epoch 42/100\n",
      "115/115 [==============================] - 0s 3ms/step - loss: 0.1822 - accuracy: 0.9678 - val_loss: 0.2530 - val_accuracy: 0.9444\n",
      "Epoch 43/100\n",
      "115/115 [==============================] - 0s 3ms/step - loss: 0.1785 - accuracy: 0.9678 - val_loss: 0.2497 - val_accuracy: 0.9410\n",
      "Epoch 44/100\n",
      "115/115 [==============================] - 0s 3ms/step - loss: 0.1752 - accuracy: 0.9678 - val_loss: 0.2459 - val_accuracy: 0.9479\n",
      "Epoch 45/100\n",
      "115/115 [==============================] - 0s 3ms/step - loss: 0.1717 - accuracy: 0.9704 - val_loss: 0.2406 - val_accuracy: 0.9479\n",
      "Epoch 46/100\n",
      "115/115 [==============================] - 0s 3ms/step - loss: 0.1681 - accuracy: 0.9704 - val_loss: 0.2403 - val_accuracy: 0.9479\n",
      "Epoch 47/100\n",
      "115/115 [==============================] - 0s 3ms/step - loss: 0.1654 - accuracy: 0.9695 - val_loss: 0.2365 - val_accuracy: 0.9479\n",
      "Epoch 48/100\n",
      "115/115 [==============================] - 0s 3ms/step - loss: 0.1623 - accuracy: 0.9730 - val_loss: 0.2336 - val_accuracy: 0.9479\n",
      "Epoch 49/100\n",
      "115/115 [==============================] - 0s 3ms/step - loss: 0.1586 - accuracy: 0.9721 - val_loss: 0.2299 - val_accuracy: 0.9479\n",
      "Epoch 50/100\n",
      "115/115 [==============================] - 0s 3ms/step - loss: 0.1557 - accuracy: 0.9739 - val_loss: 0.2263 - val_accuracy: 0.9479\n",
      "Epoch 51/100\n",
      "115/115 [==============================] - 0s 3ms/step - loss: 0.1534 - accuracy: 0.9730 - val_loss: 0.2242 - val_accuracy: 0.9479\n",
      "Epoch 52/100\n",
      "115/115 [==============================] - 0s 3ms/step - loss: 0.1509 - accuracy: 0.9774 - val_loss: 0.2212 - val_accuracy: 0.9479\n",
      "Epoch 53/100\n",
      "115/115 [==============================] - 0s 3ms/step - loss: 0.1481 - accuracy: 0.9756 - val_loss: 0.2221 - val_accuracy: 0.9479\n",
      "Epoch 54/100\n",
      "115/115 [==============================] - 0s 3ms/step - loss: 0.1454 - accuracy: 0.9765 - val_loss: 0.2176 - val_accuracy: 0.9479\n",
      "Epoch 55/100\n",
      "115/115 [==============================] - 0s 3ms/step - loss: 0.1431 - accuracy: 0.9774 - val_loss: 0.2148 - val_accuracy: 0.9479\n",
      "Epoch 56/100\n",
      "115/115 [==============================] - 0s 3ms/step - loss: 0.1407 - accuracy: 0.9791 - val_loss: 0.2130 - val_accuracy: 0.9479\n",
      "Epoch 57/100\n",
      "115/115 [==============================] - 0s 3ms/step - loss: 0.1387 - accuracy: 0.9791 - val_loss: 0.2081 - val_accuracy: 0.9514\n"
     ]
    },
    {
     "name": "stdout",
     "output_type": "stream",
     "text": [
      "Epoch 58/100\n",
      "115/115 [==============================] - 0s 3ms/step - loss: 0.1364 - accuracy: 0.9791 - val_loss: 0.2075 - val_accuracy: 0.9479\n",
      "Epoch 59/100\n",
      "115/115 [==============================] - 0s 3ms/step - loss: 0.1340 - accuracy: 0.9800 - val_loss: 0.2052 - val_accuracy: 0.9514\n",
      "Epoch 60/100\n",
      "115/115 [==============================] - 0s 3ms/step - loss: 0.1318 - accuracy: 0.9809 - val_loss: 0.2036 - val_accuracy: 0.9479\n",
      "Epoch 61/100\n",
      "115/115 [==============================] - 0s 3ms/step - loss: 0.1300 - accuracy: 0.9809 - val_loss: 0.2021 - val_accuracy: 0.9514\n",
      "Epoch 62/100\n",
      "115/115 [==============================] - 0s 3ms/step - loss: 0.1280 - accuracy: 0.9809 - val_loss: 0.1988 - val_accuracy: 0.9549\n",
      "Epoch 63/100\n",
      "115/115 [==============================] - 0s 3ms/step - loss: 0.1263 - accuracy: 0.9817 - val_loss: 0.1984 - val_accuracy: 0.9514\n",
      "Epoch 64/100\n",
      "115/115 [==============================] - 0s 3ms/step - loss: 0.1244 - accuracy: 0.9817 - val_loss: 0.1974 - val_accuracy: 0.9549\n",
      "Epoch 65/100\n",
      "115/115 [==============================] - 0s 3ms/step - loss: 0.1229 - accuracy: 0.9826 - val_loss: 0.1965 - val_accuracy: 0.9583\n",
      "Epoch 66/100\n",
      "115/115 [==============================] - 0s 3ms/step - loss: 0.1209 - accuracy: 0.9817 - val_loss: 0.1949 - val_accuracy: 0.9583\n",
      "Epoch 67/100\n",
      "115/115 [==============================] - 0s 3ms/step - loss: 0.1192 - accuracy: 0.9826 - val_loss: 0.1918 - val_accuracy: 0.9583\n",
      "Epoch 68/100\n",
      "115/115 [==============================] - 0s 3ms/step - loss: 0.1176 - accuracy: 0.9826 - val_loss: 0.1924 - val_accuracy: 0.9583\n",
      "Epoch 69/100\n",
      "115/115 [==============================] - 0s 3ms/step - loss: 0.1160 - accuracy: 0.9843 - val_loss: 0.1901 - val_accuracy: 0.9583\n",
      "Epoch 70/100\n",
      "115/115 [==============================] - 0s 3ms/step - loss: 0.1143 - accuracy: 0.9843 - val_loss: 0.1856 - val_accuracy: 0.9618\n",
      "Epoch 71/100\n",
      "115/115 [==============================] - 0s 3ms/step - loss: 0.1127 - accuracy: 0.9843 - val_loss: 0.1872 - val_accuracy: 0.9583\n",
      "Epoch 72/100\n",
      "115/115 [==============================] - 0s 3ms/step - loss: 0.1116 - accuracy: 0.9843 - val_loss: 0.1857 - val_accuracy: 0.9583\n",
      "Epoch 73/100\n",
      "115/115 [==============================] - 0s 3ms/step - loss: 0.1101 - accuracy: 0.9843 - val_loss: 0.1832 - val_accuracy: 0.9549\n",
      "Epoch 74/100\n",
      "115/115 [==============================] - 0s 3ms/step - loss: 0.1086 - accuracy: 0.9852 - val_loss: 0.1823 - val_accuracy: 0.9583\n",
      "Epoch 75/100\n",
      "115/115 [==============================] - 0s 3ms/step - loss: 0.1072 - accuracy: 0.9852 - val_loss: 0.1809 - val_accuracy: 0.9549\n",
      "Epoch 76/100\n",
      "115/115 [==============================] - 0s 3ms/step - loss: 0.1060 - accuracy: 0.9843 - val_loss: 0.1811 - val_accuracy: 0.9549\n",
      "Epoch 77/100\n",
      "115/115 [==============================] - 0s 3ms/step - loss: 0.1045 - accuracy: 0.9852 - val_loss: 0.1800 - val_accuracy: 0.9549\n",
      "Epoch 78/100\n",
      "115/115 [==============================] - 0s 3ms/step - loss: 0.1033 - accuracy: 0.9843 - val_loss: 0.1776 - val_accuracy: 0.9549\n",
      "Epoch 79/100\n",
      "115/115 [==============================] - 0s 3ms/step - loss: 0.1024 - accuracy: 0.9852 - val_loss: 0.1778 - val_accuracy: 0.9583\n",
      "Epoch 80/100\n",
      "115/115 [==============================] - 0s 3ms/step - loss: 0.1009 - accuracy: 0.9861 - val_loss: 0.1785 - val_accuracy: 0.9549\n",
      "Epoch 81/100\n",
      "115/115 [==============================] - 0s 3ms/step - loss: 0.0994 - accuracy: 0.9852 - val_loss: 0.1732 - val_accuracy: 0.9549\n",
      "Epoch 82/100\n",
      "115/115 [==============================] - 0s 3ms/step - loss: 0.0987 - accuracy: 0.9852 - val_loss: 0.1751 - val_accuracy: 0.9549\n",
      "Epoch 83/100\n",
      "115/115 [==============================] - 0s 3ms/step - loss: 0.0974 - accuracy: 0.9852 - val_loss: 0.1749 - val_accuracy: 0.9549\n",
      "Epoch 84/100\n",
      "115/115 [==============================] - 0s 3ms/step - loss: 0.0963 - accuracy: 0.9852 - val_loss: 0.1740 - val_accuracy: 0.9549\n",
      "Epoch 85/100\n",
      "115/115 [==============================] - 0s 3ms/step - loss: 0.0952 - accuracy: 0.9852 - val_loss: 0.1715 - val_accuracy: 0.9549\n",
      "Epoch 86/100\n",
      "115/115 [==============================] - 0s 3ms/step - loss: 0.0940 - accuracy: 0.9869 - val_loss: 0.1708 - val_accuracy: 0.9549\n",
      "Epoch 87/100\n",
      "115/115 [==============================] - 0s 2ms/step - loss: 0.0930 - accuracy: 0.9852 - val_loss: 0.1717 - val_accuracy: 0.9549\n",
      "Epoch 88/100\n",
      "115/115 [==============================] - 0s 2ms/step - loss: 0.0921 - accuracy: 0.9861 - val_loss: 0.1681 - val_accuracy: 0.9549\n",
      "Epoch 89/100\n",
      "115/115 [==============================] - 0s 3ms/step - loss: 0.0910 - accuracy: 0.9861 - val_loss: 0.1687 - val_accuracy: 0.9549\n",
      "Epoch 90/100\n",
      "115/115 [==============================] - 0s 3ms/step - loss: 0.0898 - accuracy: 0.9869 - val_loss: 0.1675 - val_accuracy: 0.9583\n",
      "Epoch 91/100\n",
      "115/115 [==============================] - 0s 3ms/step - loss: 0.0893 - accuracy: 0.9861 - val_loss: 0.1679 - val_accuracy: 0.9549\n",
      "Epoch 92/100\n",
      "115/115 [==============================] - 0s 2ms/step - loss: 0.0880 - accuracy: 0.9869 - val_loss: 0.1665 - val_accuracy: 0.9583\n",
      "Epoch 93/100\n",
      "115/115 [==============================] - 0s 3ms/step - loss: 0.0870 - accuracy: 0.9869 - val_loss: 0.1659 - val_accuracy: 0.9583\n",
      "Epoch 94/100\n",
      "115/115 [==============================] - 0s 3ms/step - loss: 0.0863 - accuracy: 0.9861 - val_loss: 0.1635 - val_accuracy: 0.9583\n",
      "Epoch 95/100\n",
      "115/115 [==============================] - 0s 3ms/step - loss: 0.0853 - accuracy: 0.9869 - val_loss: 0.1636 - val_accuracy: 0.9583\n",
      "Epoch 96/100\n",
      "115/115 [==============================] - 0s 3ms/step - loss: 0.0843 - accuracy: 0.9878 - val_loss: 0.1624 - val_accuracy: 0.9618\n",
      "Epoch 97/100\n",
      "115/115 [==============================] - 0s 3ms/step - loss: 0.0839 - accuracy: 0.9869 - val_loss: 0.1615 - val_accuracy: 0.9583\n",
      "Epoch 98/100\n",
      "115/115 [==============================] - 0s 2ms/step - loss: 0.0828 - accuracy: 0.9878 - val_loss: 0.1633 - val_accuracy: 0.9549\n",
      "Epoch 99/100\n",
      "115/115 [==============================] - 0s 3ms/step - loss: 0.0818 - accuracy: 0.9878 - val_loss: 0.1606 - val_accuracy: 0.9583\n",
      "Epoch 100/100\n",
      "115/115 [==============================] - 0s 3ms/step - loss: 0.0809 - accuracy: 0.9878 - val_loss: 0.1623 - val_accuracy: 0.9549\n"
     ]
    }
   ],
   "source": [
    "# fit을 위한 하이퍼 파라미터를 정하시오.\n",
    "model_digit_hist = model_digit.fit(x_train_re, \n",
    "                                   y_train,\n",
    "                                   epochs=100, \n",
    "                                   batch_size=10, \n",
    "                                   validation_split=0.2)"
   ]
  },
  {
   "cell_type": "code",
   "execution_count": 54,
   "id": "86ef839b",
   "metadata": {},
   "outputs": [
    {
     "data": {
      "image/png": "[encoded data removed]",
      "text/plain": [
       "<Figure size 800x300 with 2 Axes>"
      ]
     },
     "metadata": {
      "image/png": {
       "height": 311,
       "width": 811
      }
     },
     "output_type": "display_data"
    }
   ],
   "source": [
    "fig, (ax_loss, ax_acc) = plt.subplots(1, 2, figsize = (8,3))\n",
    "\n",
    "ax_loss.plot(model_digit_hist.history[\"loss\"], label=\"train_loss\")\n",
    "ax_loss.plot(model_digit_hist.history[\"val_loss\"], label=\"val_loss\")\n",
    "ax_loss.set(xlabel = \"epoch\",\n",
    "       ylabel = \"loss\")\n",
    "ax_loss.legend()\n",
    "\n",
    "ax_acc.plot(model_digit_hist.history[\"accuracy\"], label=\"train_acc\")\n",
    "ax_acc.plot(model_digit_hist.history[\"val_accuracy\"], label=\"val_acc\")\n",
    "ax_acc.set(xlabel = \"epoch\",\n",
    "       ylabel = \"accuracy\")\n",
    "ax_acc.legend();"
   ]
  },
  {
   "cell_type": "code",
   "execution_count": 55,
   "id": "1ae30fd1",
   "metadata": {},
   "outputs": [
    {
     "name": "stdout",
     "output_type": "stream",
     "text": [
      "12/12 [==============================] - 0s 1ms/step\n"
     ]
    },
    {
     "data": {
      "text/plain": [
       "array([[1.1479025e-04, 1.2692503e-05, 8.1900782e-07, ..., 3.3107656e-06,\n",
       "        7.8262569e-04, 8.3523735e-02],\n",
       "       [6.0216428e-07, 1.5576396e-04, 9.7795469e-01, ..., 8.4549754e-08,\n",
       "        3.8046904e-03, 1.0979282e-04],\n",
       "       [7.4816438e-05, 3.5798171e-01, 2.5808213e-03, ..., 7.0050140e-03,\n",
       "        5.3349155e-01, 1.5351798e-02],\n",
       "       ...,\n",
       "       [9.9958974e-01, 3.2384850e-08, 1.1133911e-07, ..., 1.4902843e-05,\n",
       "        1.4581712e-05, 6.0258684e-05],\n",
       "       [1.8728976e-07, 1.4596122e-03, 2.6408818e-03, ..., 2.7933347e-06,\n",
       "        4.9966881e-03, 1.7182613e-03],\n",
       "       [3.5446759e-05, 4.6221045e-04, 7.1169319e-09, ..., 5.4823846e-05,\n",
       "        1.2871901e-05, 5.1948383e-08]], dtype=float32)"
      ]
     },
     "execution_count": 55,
     "metadata": {},
     "output_type": "execute_result"
    }
   ],
   "source": [
    "model_digit.predict(x_test_re)"
   ]
  },
  {
   "cell_type": "code",
   "execution_count": 56,
   "id": "c18e67e2",
   "metadata": {},
   "outputs": [
    {
     "name": "stdout",
     "output_type": "stream",
     "text": [
      "12/12 [==============================] - 0s 2ms/step\n"
     ]
    },
    {
     "data": {
      "text/plain": [
       "array([1.1479025e-04, 1.2692503e-05, 8.1900782e-07, 9.0610542e-05,\n",
       "       7.3170195e-05, 9.1524535e-01, 1.5294969e-04, 3.3107656e-06,\n",
       "       7.8262569e-04, 8.3523735e-02], dtype=float32)"
      ]
     },
     "execution_count": 56,
     "metadata": {},
     "output_type": "execute_result"
    }
   ],
   "source": [
    "model_digit.predict(x_test_re)[0]"
   ]
  },
  {
   "cell_type": "code",
   "execution_count": 57,
   "id": "9d612398",
   "metadata": {},
   "outputs": [
    {
     "name": "stdout",
     "output_type": "stream",
     "text": [
      "12/12 [==============================] - 0s 2ms/step\n"
     ]
    },
    {
     "data": {
      "text/plain": [
       "5"
      ]
     },
     "execution_count": 57,
     "metadata": {},
     "output_type": "execute_result"
    }
   ],
   "source": [
    "np.argmax(model_digit.predict(x_test_re)[0])"
   ]
  },
  {
   "cell_type": "code",
   "execution_count": 58,
   "id": "791f5e8b",
   "metadata": {},
   "outputs": [
    {
     "name": "stdout",
     "output_type": "stream",
     "text": [
      "12/12 [==============================] - 0s 2ms/step\n"
     ]
    }
   ],
   "source": [
    "pred_digit = [np.argmax(i) for i in model_digit.predict(x_test_re)]"
   ]
  },
  {
   "cell_type": "code",
   "execution_count": 59,
   "id": "b068f610",
   "metadata": {},
   "outputs": [
    {
     "data": {
      "text/plain": [
       "0.9694444444444444"
      ]
     },
     "execution_count": 59,
     "metadata": {},
     "output_type": "execute_result"
    }
   ],
   "source": [
    "metrics.accuracy_score(pred_digit, y_test)"
   ]
  },
  {
   "cell_type": "markdown",
   "id": "b69f2485",
   "metadata": {},
   "source": [
    "# 저장"
   ]
  },
  {
   "cell_type": "code",
   "execution_count": 60,
   "id": "ce5c6503",
   "metadata": {},
   "outputs": [],
   "source": [
    "# model_digit.save(\"../model/digit_classifier.h5\")"
   ]
  },
  {
   "cell_type": "markdown",
   "id": "2e9f7dc1",
   "metadata": {},
   "source": [
    "# 불러오기"
   ]
  },
  {
   "cell_type": "code",
   "execution_count": 61,
   "id": "872477b3",
   "metadata": {},
   "outputs": [],
   "source": [
    "# model = load_model(\"../model/digit_classifier.h5\")"
   ]
  },
  {
   "cell_type": "code",
   "execution_count": 62,
   "id": "438fa42e",
   "metadata": {},
   "outputs": [
    {
     "name": "stdout",
     "output_type": "stream",
     "text": [
      "Model: \"sequential_1\"\n",
      "_________________________________________________________________\n",
      " Layer (type)                Output Shape              Param #   \n",
      "=================================================================\n",
      " dense_1 (Dense)             (None, 10)                650       \n",
      "                                                                 \n",
      "=================================================================\n",
      "Total params: 650\n",
      "Trainable params: 650\n",
      "Non-trainable params: 0\n",
      "_________________________________________________________________\n"
     ]
    }
   ],
   "source": [
    "# model.summary()"
   ]
  },
  {
   "cell_type": "code",
   "execution_count": null,
   "id": "a5fa4a30",
   "metadata": {},
   "outputs": [],
   "source": []
  }
 ],
 "metadata": {
  "hide_input": false,
  "kernelspec": {
   "display_name": "Python 3 (ipykernel)",
   "language": "python",
   "name": "python3"
  },
  "language_info": {
   "codemirror_mode": {
    "name": "ipython",
    "version": 3
   },
   "file_extension": ".py",
   "mimetype": "text/x-python",
   "name": "python",
   "nbconvert_exporter": "python",
   "pygments_lexer": "ipython3",
   "version": "3.8.15"
  },
  "toc": {
   "base_numbering": 1,
   "nav_menu": {},
   "number_sections": true,
   "sideBar": true,
   "skip_h1_title": false,
   "title_cell": "Table of Contents",
   "title_sidebar": "Contents",
   "toc_cell": false,
   "toc_position": {},
   "toc_section_display": true,
   "toc_window_display": false
  }
 },
 "nbformat": 4,
 "nbformat_minor": 5
}
