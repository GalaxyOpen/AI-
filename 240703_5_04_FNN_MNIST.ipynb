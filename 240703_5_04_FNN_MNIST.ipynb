{
  "cells": [
    {
      "cell_type": "markdown",
      "source": [
        "# 신경망 구조 <br>\n",
        "hidden layer 수 =1 <br>\n",
        "hidden layer의 node 수 = 512\n"
      ],
      "metadata": {
        "id": "3g_Wj9foTGFg"
      }
    },
    {
      "cell_type": "code",
      "execution_count": 1,
      "metadata": {
        "id": "gGhEWZF6LBjV"
      },
      "outputs": [],
      "source": [
        "import tensorflow as tf\n",
        "from tensorflow import keras"
      ]
    },
    {
      "cell_type": "code",
      "execution_count": 11,
      "metadata": {
        "id": "nSITn_BrLBjW",
        "colab": {
          "base_uri": "https://localhost:8080/"
        },
        "outputId": "75ae306b-a28d-44a7-ddf0-0f9f29994c8a"
      },
      "outputs": [
        {
          "output_type": "stream",
          "name": "stdout",
          "text": [
            "Downloading data from https://storage.googleapis.com/tensorflow/tf-keras-datasets/mnist.npz\n",
            "11490434/11490434 [==============================] - 1s 0us/step\n"
          ]
        }
      ],
      "source": [
        "(train_images, train_labels), (test_images, test_labels) = keras.datasets.mnist.load_data()"
      ]
    },
    {
      "cell_type": "code",
      "execution_count": 12,
      "metadata": {
        "colab": {
          "base_uri": "https://localhost:8080/"
        },
        "id": "WCnd7Z7cLBjW",
        "outputId": "111090c0-dc93-4a54-e7e6-3ce78aee4a7c"
      },
      "outputs": [
        {
          "output_type": "execute_result",
          "data": {
            "text/plain": [
              "(60000, 28, 28)"
            ]
          },
          "metadata": {},
          "execution_count": 12
        }
      ],
      "source": [
        "train_images.shape"
      ]
    },
    {
      "cell_type": "markdown",
      "metadata": {
        "id": "vsWnqeDlLBjW"
      },
      "source": [
        "60000:이미지 갯수, <br>\n",
        "28x28:이미지 Size (28x28개의 pixels로 구성)"
      ]
    },
    {
      "cell_type": "code",
      "execution_count": null,
      "metadata": {
        "scrolled": true,
        "colab": {
          "base_uri": "https://localhost:8080/",
          "height": 67
        },
        "id": "KaCguPqsLBjX",
        "outputId": "2d855f0e-75fb-46cd-9b25-399835772f4b"
      },
      "outputs": [
        {
          "output_type": "execute_result",
          "data": {
            "text/plain": [
              "array([[  0,   0,   0,   0,   0,   0,   0,   0,   0,   0,   0,   0,   0,\n",
              "          0,   0,   0,   0,   0,   0,   0,   0,   0,   0,   0,   0,   0,\n",
              "          0,   0],\n",
              "       [  0,   0,   0,   0,   0,   0,   0,   0,   0,   0,   0,   0,   0,\n",
              "          0,   0,   0,   0,   0,   0,   0,   0,   0,   0,   0,   0,   0,\n",
              "          0,   0],\n",
              "       [  0,   0,   0,   0,   0,   0,   0,   0,   0,   0,   0,   0,   0,\n",
              "          0,   0,   0,   0,   0,   0,   0,   0,   0,   0,   0,   0,   0,\n",
              "          0,   0],\n",
              "       [  0,   0,   0,   0,   0,   0,   0,   0,   0,   0,   0,   0,   0,\n",
              "          0,   0,   0,   0,   0,   0,   0,   0,   0,   0,   0,   0,   0,\n",
              "          0,   0],\n",
              "       [  0,   0,   0,   0,   0,   0,   0,   0,   0,   0,   0,   0,   0,\n",
              "          0,   0,   0,   0,   0,   0,   0,   0,   0,   0,   0,   0,   0,\n",
              "          0,   0],\n",
              "       [  0,   0,   0,   0,   0,   0,   0,   0,   0,   0,   0,   0,   3,\n",
              "         18,  18,  18, 126, 136, 175,  26, 166, 255, 247, 127,   0,   0,\n",
              "          0,   0],\n",
              "       [  0,   0,   0,   0,   0,   0,   0,   0,  30,  36,  94, 154, 170,\n",
              "        253, 253, 253, 253, 253, 225, 172, 253, 242, 195,  64,   0,   0,\n",
              "          0,   0],\n",
              "       [  0,   0,   0,   0,   0,   0,   0,  49, 238, 253, 253, 253, 253,\n",
              "        253, 253, 253, 253, 251,  93,  82,  82,  56,  39,   0,   0,   0,\n",
              "          0,   0],\n",
              "       [  0,   0,   0,   0,   0,   0,   0,  18, 219, 253, 253, 253, 253,\n",
              "        253, 198, 182, 247, 241,   0,   0,   0,   0,   0,   0,   0,   0,\n",
              "          0,   0],\n",
              "       [  0,   0,   0,   0,   0,   0,   0,   0,  80, 156, 107, 253, 253,\n",
              "        205,  11,   0,  43, 154,   0,   0,   0,   0,   0,   0,   0,   0,\n",
              "          0,   0],\n",
              "       [  0,   0,   0,   0,   0,   0,   0,   0,   0,  14,   1, 154, 253,\n",
              "         90,   0,   0,   0,   0,   0,   0,   0,   0,   0,   0,   0,   0,\n",
              "          0,   0],\n",
              "       [  0,   0,   0,   0,   0,   0,   0,   0,   0,   0,   0, 139, 253,\n",
              "        190,   2,   0,   0,   0,   0,   0,   0,   0,   0,   0,   0,   0,\n",
              "          0,   0],\n",
              "       [  0,   0,   0,   0,   0,   0,   0,   0,   0,   0,   0,  11, 190,\n",
              "        253,  70,   0,   0,   0,   0,   0,   0,   0,   0,   0,   0,   0,\n",
              "          0,   0],\n",
              "       [  0,   0,   0,   0,   0,   0,   0,   0,   0,   0,   0,   0,  35,\n",
              "        241, 225, 160, 108,   1,   0,   0,   0,   0,   0,   0,   0,   0,\n",
              "          0,   0],\n",
              "       [  0,   0,   0,   0,   0,   0,   0,   0,   0,   0,   0,   0,   0,\n",
              "         81, 240, 253, 253, 119,  25,   0,   0,   0,   0,   0,   0,   0,\n",
              "          0,   0],\n",
              "       [  0,   0,   0,   0,   0,   0,   0,   0,   0,   0,   0,   0,   0,\n",
              "          0,  45, 186, 253, 253, 150,  27,   0,   0,   0,   0,   0,   0,\n",
              "          0,   0],\n",
              "       [  0,   0,   0,   0,   0,   0,   0,   0,   0,   0,   0,   0,   0,\n",
              "          0,   0,  16,  93, 252, 253, 187,   0,   0,   0,   0,   0,   0,\n",
              "          0,   0],\n",
              "       [  0,   0,   0,   0,   0,   0,   0,   0,   0,   0,   0,   0,   0,\n",
              "          0,   0,   0,   0, 249, 253, 249,  64,   0,   0,   0,   0,   0,\n",
              "          0,   0],\n",
              "       [  0,   0,   0,   0,   0,   0,   0,   0,   0,   0,   0,   0,   0,\n",
              "          0,  46, 130, 183, 253, 253, 207,   2,   0,   0,   0,   0,   0,\n",
              "          0,   0],\n",
              "       [  0,   0,   0,   0,   0,   0,   0,   0,   0,   0,   0,   0,  39,\n",
              "        148, 229, 253, 253, 253, 250, 182,   0,   0,   0,   0,   0,   0,\n",
              "          0,   0],\n",
              "       [  0,   0,   0,   0,   0,   0,   0,   0,   0,   0,  24, 114, 221,\n",
              "        253, 253, 253, 253, 201,  78,   0,   0,   0,   0,   0,   0,   0,\n",
              "          0,   0],\n",
              "       [  0,   0,   0,   0,   0,   0,   0,   0,  23,  66, 213, 253, 253,\n",
              "        253, 253, 198,  81,   2,   0,   0,   0,   0,   0,   0,   0,   0,\n",
              "          0,   0],\n",
              "       [  0,   0,   0,   0,   0,   0,  18, 171, 219, 253, 253, 253, 253,\n",
              "        195,  80,   9,   0,   0,   0,   0,   0,   0,   0,   0,   0,   0,\n",
              "          0,   0],\n",
              "       [  0,   0,   0,   0,  55, 172, 226, 253, 253, 253, 253, 244, 133,\n",
              "         11,   0,   0,   0,   0,   0,   0,   0,   0,   0,   0,   0,   0,\n",
              "          0,   0],\n",
              "       [  0,   0,   0,   0, 136, 253, 253, 253, 212, 135, 132,  16,   0,\n",
              "          0,   0,   0,   0,   0,   0,   0,   0,   0,   0,   0,   0,   0,\n",
              "          0,   0],\n",
              "       [  0,   0,   0,   0,   0,   0,   0,   0,   0,   0,   0,   0,   0,\n",
              "          0,   0,   0,   0,   0,   0,   0,   0,   0,   0,   0,   0,   0,\n",
              "          0,   0],\n",
              "       [  0,   0,   0,   0,   0,   0,   0,   0,   0,   0,   0,   0,   0,\n",
              "          0,   0,   0,   0,   0,   0,   0,   0,   0,   0,   0,   0,   0,\n",
              "          0,   0],\n",
              "       [  0,   0,   0,   0,   0,   0,   0,   0,   0,   0,   0,   0,   0,\n",
              "          0,   0,   0,   0,   0,   0,   0,   0,   0,   0,   0,   0,   0,\n",
              "          0,   0]], dtype=uint8)"
            ],
            "text/html": [
              "<style>\n",
              "      .ndarray_repr .ndarray_raw_data {\n",
              "        display: none;\n",
              "      }\n",
              "      .ndarray_repr.show_array .ndarray_raw_data {\n",
              "        display: block;\n",
              "      }\n",
              "      .ndarray_repr.show_array .ndarray_image_preview {\n",
              "        display: none;\n",
              "      }\n",
              "      </style>\n",
              "      <div id=\"id-ff97d319-eb5d-4007-ab5f-8c0dee89b237\" class=\"ndarray_repr\"><pre>ndarray (28, 28) <button style=\"padding: 0 2px;\">show data</button></pre><img src=\"data:image/png;base64,iVBORw0KGgoAAAANSUhEUgAAABwAAAAcCAAAAABXZoBIAAABAElEQVR4nGNgGMyAWUhIqK5jvdSy/9/rGRgYGFhgEnJsVjYCwQwMDAxPJgV+vniQgYGBgREqZ7iXH8r6l/SV4dn7m8gmCt3++/fv37/Htn3/iMW+gDnZf/+e5WbQnoXNNXyMs/5GoQoxwVmf/n9kSGFiwAW49/11wynJoPzx4YIcRlyygR/+/i2XxCWru+vv32nSuGQFYv/83Y3b4p9/fzpAmSyoMnohpiwM1w5h06Q+5enfv39/bcMiJVF09+/fv39P+mFKiTtd/fv3799jgZiBJLT69t+/f/8eDuDEkDJf8+jv379/v7Ryo4qzMDAwMAQGMjBc3/y35wM2V1IfAABFF16Aa0wAOwAAAABJRU5ErkJggg==\" class=\"ndarray_image_preview\" /><pre class=\"ndarray_raw_data\">array([[  0,   0,   0,   0,   0,   0,   0,   0,   0,   0,   0,   0,   0,\n",
              "          0,   0,   0,   0,   0,   0,   0,   0,   0,   0,   0,   0,   0,\n",
              "          0,   0],\n",
              "       [  0,   0,   0,   0,   0,   0,   0,   0,   0,   0,   0,   0,   0,\n",
              "          0,   0,   0,   0,   0,   0,   0,   0,   0,   0,   0,   0,   0,\n",
              "          0,   0],\n",
              "       [  0,   0,   0,   0,   0,   0,   0,   0,   0,   0,   0,   0,   0,\n",
              "          0,   0,   0,   0,   0,   0,   0,   0,   0,   0,   0,   0,   0,\n",
              "          0,   0],\n",
              "       [  0,   0,   0,   0,   0,   0,   0,   0,   0,   0,   0,   0,   0,\n",
              "          0,   0,   0,   0,   0,   0,   0,   0,   0,   0,   0,   0,   0,\n",
              "          0,   0],\n",
              "       [  0,   0,   0,   0,   0,   0,   0,   0,   0,   0,   0,   0,   0,\n",
              "          0,   0,   0,   0,   0,   0,   0,   0,   0,   0,   0,   0,   0,\n",
              "          0,   0],\n",
              "       [  0,   0,   0,   0,   0,   0,   0,   0,   0,   0,   0,   0,   3,\n",
              "         18,  18,  18, 126, 136, 175,  26, 166, 255, 247, 127,   0,   0,\n",
              "          0,   0],\n",
              "       [  0,   0,   0,   0,   0,   0,   0,   0,  30,  36,  94, 154, 170,\n",
              "        253, 253, 253, 253, 253, 225, 172, 253, 242, 195,  64,   0,   0,\n",
              "          0,   0],\n",
              "       [  0,   0,   0,   0,   0,   0,   0,  49, 238, 253, 253, 253, 253,\n",
              "        253, 253, 253, 253, 251,  93,  82,  82,  56,  39,   0,   0,   0,\n",
              "          0,   0],\n",
              "       [  0,   0,   0,   0,   0,   0,   0,  18, 219, 253, 253, 253, 253,\n",
              "        253, 198, 182, 247, 241,   0,   0,   0,   0,   0,   0,   0,   0,\n",
              "          0,   0],\n",
              "       [  0,   0,   0,   0,   0,   0,   0,   0,  80, 156, 107, 253, 253,\n",
              "        205,  11,   0,  43, 154,   0,   0,   0,   0,   0,   0,   0,   0,\n",
              "          0,   0],\n",
              "       [  0,   0,   0,   0,   0,   0,   0,   0,   0,  14,   1, 154, 253,\n",
              "         90,   0,   0,   0,   0,   0,   0,   0,   0,   0,   0,   0,   0,\n",
              "          0,   0],\n",
              "       [  0,   0,   0,   0,   0,   0,   0,   0,   0,   0,   0, 139, 253,\n",
              "        190,   2,   0,   0,   0,   0,   0,   0,   0,   0,   0,   0,   0,\n",
              "          0,   0],\n",
              "       [  0,   0,   0,   0,   0,   0,   0,   0,   0,   0,   0,  11, 190,\n",
              "        253,  70,   0,   0,   0,   0,   0,   0,   0,   0,   0,   0,   0,\n",
              "          0,   0],\n",
              "       [  0,   0,   0,   0,   0,   0,   0,   0,   0,   0,   0,   0,  35,\n",
              "        241, 225, 160, 108,   1,   0,   0,   0,   0,   0,   0,   0,   0,\n",
              "          0,   0],\n",
              "       [  0,   0,   0,   0,   0,   0,   0,   0,   0,   0,   0,   0,   0,\n",
              "         81, 240, 253, 253, 119,  25,   0,   0,   0,   0,   0,   0,   0,\n",
              "          0,   0],\n",
              "       [  0,   0,   0,   0,   0,   0,   0,   0,   0,   0,   0,   0,   0,\n",
              "          0,  45, 186, 253, 253, 150,  27,   0,   0,   0,   0,   0,   0,\n",
              "          0,   0],\n",
              "       [  0,   0,   0,   0,   0,   0,   0,   0,   0,   0,   0,   0,   0,\n",
              "          0,   0,  16,  93, 252, 253, 187,   0,   0,   0,   0,   0,   0,\n",
              "          0,   0],\n",
              "       [  0,   0,   0,   0,   0,   0,   0,   0,   0,   0,   0,   0,   0,\n",
              "          0,   0,   0,   0, 249, 253, 249,  64,   0,   0,   0,   0,   0,\n",
              "          0,   0],\n",
              "       [  0,   0,   0,   0,   0,   0,   0,   0,   0,   0,   0,   0,   0,\n",
              "          0,  46, 130, 183, 253, 253, 207,   2,   0,   0,   0,   0,   0,\n",
              "          0,   0],\n",
              "       [  0,   0,   0,   0,   0,   0,   0,   0,   0,   0,   0,   0,  39,\n",
              "        148, 229, 253, 253, 253, 250, 182,   0,   0,   0,   0,   0,   0,\n",
              "          0,   0],\n",
              "       [  0,   0,   0,   0,   0,   0,   0,   0,   0,   0,  24, 114, 221,\n",
              "        253, 253, 253, 253, 201,  78,   0,   0,   0,   0,   0,   0,   0,\n",
              "          0,   0],\n",
              "       [  0,   0,   0,   0,   0,   0,   0,   0,  23,  66, 213, 253, 253,\n",
              "        253, 253, 198,  81,   2,   0,   0,   0,   0,   0,   0,   0,   0,\n",
              "          0,   0],\n",
              "       [  0,   0,   0,   0,   0,   0,  18, 171, 219, 253, 253, 253, 253,\n",
              "        195,  80,   9,   0,   0,   0,   0,   0,   0,   0,   0,   0,   0,\n",
              "          0,   0],\n",
              "       [  0,   0,   0,   0,  55, 172, 226, 253, 253, 253, 253, 244, 133,\n",
              "         11,   0,   0,   0,   0,   0,   0,   0,   0,   0,   0,   0,   0,\n",
              "          0,   0],\n",
              "       [  0,   0,   0,   0, 136, 253, 253, 253, 212, 135, 132,  16,   0,\n",
              "          0,   0,   0,   0,   0,   0,   0,   0,   0,   0,   0,   0,   0,\n",
              "          0,   0],\n",
              "       [  0,   0,   0,   0,   0,   0,   0,   0,   0,   0,   0,   0,   0,\n",
              "          0,   0,   0,   0,   0,   0,   0,   0,   0,   0,   0,   0,   0,\n",
              "          0,   0],\n",
              "       [  0,   0,   0,   0,   0,   0,   0,   0,   0,   0,   0,   0,   0,\n",
              "          0,   0,   0,   0,   0,   0,   0,   0,   0,   0,   0,   0,   0,\n",
              "          0,   0],\n",
              "       [  0,   0,   0,   0,   0,   0,   0,   0,   0,   0,   0,   0,   0,\n",
              "          0,   0,   0,   0,   0,   0,   0,   0,   0,   0,   0,   0,   0,\n",
              "          0,   0]], dtype=uint8)</pre></div><script>\n",
              "      (() => {\n",
              "      const titles = ['show data', 'hide data'];\n",
              "      let index = 0\n",
              "      document.querySelector('#id-ff97d319-eb5d-4007-ab5f-8c0dee89b237 button').onclick = (e) => {\n",
              "        document.querySelector('#id-ff97d319-eb5d-4007-ab5f-8c0dee89b237').classList.toggle('show_array');\n",
              "        index = (++index) % 2;\n",
              "        document.querySelector('#id-ff97d319-eb5d-4007-ab5f-8c0dee89b237 button').textContent = titles[index];\n",
              "        e.preventDefault();\n",
              "        e.stopPropagation();\n",
              "      }\n",
              "      })();\n",
              "    </script>"
            ]
          },
          "metadata": {},
          "execution_count": 71
        }
      ],
      "source": [
        "train_images[0] # 첫번째 이미지, 255 =  white"
      ]
    },
    {
      "cell_type": "code",
      "execution_count": 3,
      "metadata": {
        "id": "rRHaVY2WLBjX"
      },
      "outputs": [],
      "source": [
        "import matplotlib.pyplot as plt"
      ]
    },
    {
      "cell_type": "code",
      "execution_count": null,
      "metadata": {
        "colab": {
          "base_uri": "https://localhost:8080/",
          "height": 430
        },
        "id": "GSXPk76MLBjX",
        "outputId": "799c433d-c597-4cf9-8a5d-5921b68d15d8"
      },
      "outputs": [
        {
          "output_type": "display_data",
          "data": {
            "text/plain": [
              "<Figure size 640x480 with 1 Axes>"
            ],
            "image/png": "[encoded data removed]"
          },
          "metadata": {}
        }
      ],
      "source": [
        "plt.imshow(train_images[0], cmap='gray') # cmap='gray', vmin=0, vmax=255  낮은 값(0)을 어두운 색(검정색)으로, 높은 값(255)을 밝은 색(흰색)으로 매핑\n",
        "plt.show()"
      ]
    },
    {
      "cell_type": "code",
      "execution_count": null,
      "metadata": {
        "colab": {
          "base_uri": "https://localhost:8080/",
          "height": 430
        },
        "id": "zlGL7T0hLBjX",
        "outputId": "d8c2e3f3-c72d-4997-d016-72b344d5e56d"
      },
      "outputs": [
        {
          "output_type": "display_data",
          "data": {
            "text/plain": [
              "<Figure size 640x480 with 1 Axes>"
            ],
            "image/png": "[encoded data removed]"
          },
          "metadata": {}
        }
      ],
      "source": [
        "plt.imshow(train_images[0], cmap='gray_r') # cmap='gray_r', vmin=0, vmax=255  # r \"reverse\", 색상 맵의 색상 순서 반전\n",
        "plt.show()"
      ]
    },
    {
      "cell_type": "code",
      "execution_count": null,
      "metadata": {
        "colab": {
          "base_uri": "https://localhost:8080/"
        },
        "id": "cxvyWTQ4LBjX",
        "outputId": "29452375-60cc-450b-b1ce-38f3da058f6c"
      },
      "outputs": [
        {
          "output_type": "execute_result",
          "data": {
            "text/plain": [
              "0"
            ]
          },
          "metadata": {},
          "execution_count": 75
        }
      ],
      "source": [
        "train_labels[1]"
      ]
    },
    {
      "cell_type": "code",
      "execution_count": 4,
      "metadata": {
        "id": "_y54EHAwLBjY"
      },
      "outputs": [],
      "source": [
        "from tensorflow.keras import models\n",
        "from tensorflow.keras import layers"
      ]
    },
    {
      "cell_type": "code",
      "execution_count": 5,
      "metadata": {
        "id": "Mm7voFHELBjY"
      },
      "outputs": [],
      "source": [
        "model = models.Sequential()"
      ]
    },
    {
      "cell_type": "markdown",
      "metadata": {
        "id": "CpjB27w_LBjY"
      },
      "source": [
        "Sequential 클래스 생성자를 통해 객체(객체명 model) 생성 <br>\n",
        "이 기본 network안에 layer 추가"
      ]
    },
    {
      "cell_type": "code",
      "execution_count": 6,
      "metadata": {
        "id": "cCOzCGsiLBjY"
      },
      "outputs": [],
      "source": [
        "model.add(layers.Dense(512, activation = 'relu', input_shape=(28*28,)))\n",
        "# model.add(layers.Dense(512, activation = 'relu', input_shape=(28*28,)))"
      ]
    },
    {
      "cell_type": "markdown",
      "metadata": {
        "id": "qA8fHGy1LBjY"
      },
      "source": [
        "Hiddenlayer 생성 <br>\n",
        "512개의 노드 <br>\n",
        "relu 활성화 함수 <br>\n",
        "28x28개의 input <br>\n",
        "(input_shape <- 입력 node의 수)"
      ]
    },
    {
      "cell_type": "code",
      "execution_count": 7,
      "metadata": {
        "id": "aWwl75tHLBjY"
      },
      "outputs": [],
      "source": [
        "model.add(layers.Dense(10, activation = 'softmax'))"
      ]
    },
    {
      "cell_type": "markdown",
      "metadata": {
        "id": "Mik_jJ7xLBjY"
      },
      "source": [
        "Output layer <br>\n",
        "노드수: 10개( = class 수) <br>\n",
        "활성화함수: softmax"
      ]
    },
    {
      "cell_type": "code",
      "execution_count": 10,
      "metadata": {
        "colab": {
          "base_uri": "https://localhost:8080/"
        },
        "id": "wRxJbb9hLBjY",
        "outputId": "012b5f8d-b42b-493b-e963-c64b1d095eb1"
      },
      "outputs": [
        {
          "output_type": "stream",
          "name": "stdout",
          "text": [
            "Model: \"sequential\"\n",
            "_________________________________________________________________\n",
            " Layer (type)                Output Shape              Param #   \n",
            "=================================================================\n",
            " dense (Dense)               (None, 512)               401920    \n",
            "                                                                 \n",
            " dense_1 (Dense)             (None, 10)                5130      \n",
            "                                                                 \n",
            "=================================================================\n",
            "Total params: 407050 (1.55 MB)\n",
            "Trainable params: 407050 (1.55 MB)\n",
            "Non-trainable params: 0 (0.00 Byte)\n",
            "_________________________________________________________________\n"
          ]
        }
      ],
      "source": [
        "model.summary()\n",
        "# (512*28*28) + 512\n",
        "# 513 * 10\n",
        "################# FNN 네트워크를 그려보세요\n"
      ]
    },
    {
      "cell_type": "markdown",
      "metadata": {
        "id": "_XKjAPxBLBjY"
      },
      "source": [
        "input data의 형태를 3D array에서 2D array (즉, matrix) 형태로 변경"
      ]
    },
    {
      "cell_type": "code",
      "execution_count": 13,
      "metadata": {
        "id": "AcL1eoesLBjY"
      },
      "outputs": [],
      "source": [
        "train_images = train_images.reshape((60000, 28*28))\n",
        "test_images = test_images.reshape((10000, 28*28)) #### flatten"
      ]
    },
    {
      "cell_type": "code",
      "execution_count": null,
      "metadata": {
        "colab": {
          "base_uri": "https://localhost:8080/"
        },
        "id": "zY1Rcy_SLBjY",
        "outputId": "19a44ebf-69d4-4e67-9ae9-998d423ba952"
      },
      "outputs": [
        {
          "output_type": "execute_result",
          "data": {
            "text/plain": [
              "(60000, 784)"
            ]
          },
          "metadata": {},
          "execution_count": 66
        }
      ],
      "source": [
        "train_images.shape"
      ]
    },
    {
      "cell_type": "markdown",
      "metadata": {
        "id": "Jj6MMbLxLBjZ"
      },
      "source": [
        "Input scaling"
      ]
    },
    {
      "cell_type": "code",
      "execution_count": null,
      "metadata": {
        "id": "7UkKO3ZhLBjZ"
      },
      "outputs": [],
      "source": [
        "train_images = train_images.astype('float32')/255\n",
        "test_images = test_images.astype('float32')/255"
      ]
    },
    {
      "cell_type": "code",
      "source": [
        "train_labels[0]"
      ],
      "metadata": {
        "colab": {
          "base_uri": "https://localhost:8080/"
        },
        "id": "EC39IltvX2Ga",
        "outputId": "4f194c1a-6c9f-47df-dd67-d817d90db6a4"
      },
      "execution_count": null,
      "outputs": [
        {
          "output_type": "execute_result",
          "data": {
            "text/plain": [
              "5"
            ]
          },
          "metadata": {},
          "execution_count": 86
        }
      ]
    },
    {
      "cell_type": "markdown",
      "source": [
        "종속변수값 0~9"
      ],
      "metadata": {
        "id": "2gAfAINESpQ_"
      }
    },
    {
      "cell_type": "code",
      "execution_count": 17,
      "metadata": {
        "id": "CK9TT-eoLBjZ"
      },
      "outputs": [],
      "source": [
        "from tensorflow.keras.utils import to_categorical\n",
        "train_labels_one_hot = to_categorical(train_labels)\n",
        "test_labels_one_hot = to_categorical(test_labels)"
      ]
    },
    {
      "cell_type": "code",
      "source": [
        "train_labels_one_hot[0]"
      ],
      "metadata": {
        "colab": {
          "base_uri": "https://localhost:8080/"
        },
        "id": "yzI3zPrSYCEu",
        "outputId": "7e0976df-a7e8-4f7c-cc9d-da5409225ad0"
      },
      "execution_count": 18,
      "outputs": [
        {
          "output_type": "execute_result",
          "data": {
            "text/plain": [
              "array([0., 0., 0., 0., 0., 1., 0., 0., 0., 0.], dtype=float32)"
            ]
          },
          "metadata": {},
          "execution_count": 18
        }
      ]
    },
    {
      "cell_type": "code",
      "execution_count": 19,
      "metadata": {
        "colab": {
          "base_uri": "https://localhost:8080/"
        },
        "id": "uqS5WL4oLBjZ",
        "outputId": "4593064e-cbb5-42c1-ce1c-5e1cbbc5196d"
      },
      "outputs": [
        {
          "output_type": "execute_result",
          "data": {
            "text/plain": [
              "(10000,)"
            ]
          },
          "metadata": {},
          "execution_count": 19
        }
      ],
      "source": [
        "test_labels.shape"
      ]
    },
    {
      "cell_type": "markdown",
      "metadata": {
        "id": "R9kdlwlALBjZ"
      },
      "source": [
        "test 데이터에 있는 첫번째 이미지의 종속변수 값은 7 <br>\n",
        "이것이 one-hot vector로 변경 됨"
      ]
    },
    {
      "cell_type": "code",
      "execution_count": 20,
      "metadata": {
        "colab": {
          "base_uri": "https://localhost:8080/"
        },
        "id": "m8O6QeCpLBjZ",
        "outputId": "494c5925-e6a7-4160-e4d1-6ce7eb144e56"
      },
      "outputs": [
        {
          "output_type": "execute_result",
          "data": {
            "text/plain": [
              "7"
            ]
          },
          "metadata": {},
          "execution_count": 20
        }
      ],
      "source": [
        "test_labels[0]"
      ]
    },
    {
      "cell_type": "code",
      "execution_count": 21,
      "metadata": {
        "colab": {
          "base_uri": "https://localhost:8080/"
        },
        "id": "8tLEcoerLBjZ",
        "outputId": "da1f6b11-3878-4c69-acfe-cb8ca2ef167b"
      },
      "outputs": [
        {
          "output_type": "execute_result",
          "data": {
            "text/plain": [
              "(10000, 10)"
            ]
          },
          "metadata": {},
          "execution_count": 21
        }
      ],
      "source": [
        "test_labels_one_hot.shape"
      ]
    },
    {
      "cell_type": "code",
      "execution_count": 22,
      "metadata": {
        "id": "mj_xW3JaLBjZ",
        "colab": {
          "base_uri": "https://localhost:8080/"
        },
        "outputId": "f2a16fef-e366-47cc-be15-64bdff0d42ad"
      },
      "outputs": [
        {
          "output_type": "execute_result",
          "data": {
            "text/plain": [
              "array([0., 0., 0., 0., 0., 0., 0., 1., 0., 0.], dtype=float32)"
            ]
          },
          "metadata": {},
          "execution_count": 22
        }
      ],
      "source": [
        "test_labels_one_hot[0] # one-hot vector (7번째 값만이 1)"
      ]
    },
    {
      "cell_type": "markdown",
      "metadata": {
        "id": "SAFu4p-pLBjY"
      },
      "source": [
        "옵티마이져: rmsprop <br>\n",
        "비용함수: categorical_crossentropy"
      ]
    },
    {
      "cell_type": "code",
      "execution_count": 23,
      "metadata": {
        "id": "aQ0eNrlwLBjZ"
      },
      "outputs": [],
      "source": [
        "from tensorflow.keras import optimizers\n",
        "rmsprop = optimizers.RMSprop(learning_rate=0.001) # 기본적으로 lr값.. 0.001"
      ]
    },
    {
      "cell_type": "code",
      "execution_count": 25,
      "metadata": {
        "id": "33ebMNcpLBjZ"
      },
      "outputs": [],
      "source": [
        "model.compile(optimizer=rmsprop,\n",
        "               loss='categorical_crossentropy',   # cf binary_crossentropy\n",
        "               metrics=['accuracy'])\n",
        "# metrics => 모형의 성능을 무엇으로 평가할 것인지에 대한 것\n",
        "# 'accuracy' => 전체의 관측치 중에서 몇 개 관측치의 종속변수 값을 제대로 맞혔는지를 의미"
      ]
    },
    {
      "cell_type": "code",
      "execution_count": 26,
      "metadata": {
        "scrolled": true,
        "colab": {
          "base_uri": "https://localhost:8080/"
        },
        "id": "h_obNRCULBjZ",
        "outputId": "5afd05d7-6b0d-44a3-eb4a-1a54683d730b"
      },
      "outputs": [
        {
          "output_type": "stream",
          "name": "stdout",
          "text": [
            "Epoch 1/10\n",
            "469/469 [==============================] - 7s 12ms/step - loss: 6.0525 - accuracy: 0.8989\n",
            "Epoch 2/10\n",
            "469/469 [==============================] - 5s 11ms/step - loss: 0.7152 - accuracy: 0.9541\n",
            "Epoch 3/10\n",
            "469/469 [==============================] - 6s 14ms/step - loss: 0.4526 - accuracy: 0.9660\n",
            "Epoch 4/10\n",
            "469/469 [==============================] - 5s 11ms/step - loss: 0.3780 - accuracy: 0.9725\n",
            "Epoch 5/10\n",
            "469/469 [==============================] - 6s 13ms/step - loss: 0.2972 - accuracy: 0.9762\n",
            "Epoch 6/10\n",
            "469/469 [==============================] - 7s 14ms/step - loss: 0.2895 - accuracy: 0.9794\n",
            "Epoch 7/10\n",
            "469/469 [==============================] - 8s 16ms/step - loss: 0.2508 - accuracy: 0.9823\n",
            "Epoch 8/10\n",
            "469/469 [==============================] - 8s 17ms/step - loss: 0.2131 - accuracy: 0.9847\n",
            "Epoch 9/10\n",
            "469/469 [==============================] - 10s 21ms/step - loss: 0.1958 - accuracy: 0.9865\n",
            "Epoch 10/10\n",
            "469/469 [==============================] - 10s 22ms/step - loss: 0.2017 - accuracy: 0.9868\n"
          ]
        }
      ],
      "source": [
        "history = model.fit(train_images, train_labels_one_hot, epochs=10, batch_size=128)"
      ]
    },
    {
      "cell_type": "markdown",
      "metadata": {
        "id": "7HOGUaqwLBjZ"
      },
      "source": [
        "fit() 함수를 통해서 학습 <br>\n",
        "epochs: 전체의 학습 데이터의 사용 횟수 지정 <br>\n",
        "batch_size: 한번의 학습에 사용되는 data record 갯수 (weight를 업데이트)"
      ]
    },
    {
      "cell_type": "code",
      "execution_count": 27,
      "metadata": {
        "colab": {
          "base_uri": "https://localhost:8080/"
        },
        "id": "I_goGpfdLBjZ",
        "outputId": "2ed07a5a-0548-4fdd-a566-6bb36b8e2ec0"
      },
      "outputs": [
        {
          "output_type": "stream",
          "name": "stderr",
          "text": [
            "/usr/local/lib/python3.10/dist-packages/keras/src/engine/training.py:3103: UserWarning: You are saving your model as an HDF5 file via `model.save()`. This file format is considered legacy. We recommend using instead the native Keras format, e.g. `model.save('my_model.keras')`.\n",
            "  saving_api.save_model(\n"
          ]
        }
      ],
      "source": [
        "model.save('model1.h5')"
      ]
    },
    {
      "cell_type": "code",
      "execution_count": 28,
      "metadata": {
        "colab": {
          "base_uri": "https://localhost:8080/"
        },
        "id": "_88mpmW3LBjZ",
        "outputId": "76655297-c7d1-421b-8750-83cc018741e9"
      },
      "outputs": [
        {
          "output_type": "execute_result",
          "data": {
            "text/plain": [
              "(10000, 784)"
            ]
          },
          "metadata": {},
          "execution_count": 28
        }
      ],
      "source": [
        "test_images.shape"
      ]
    },
    {
      "cell_type": "code",
      "execution_count": 29,
      "metadata": {
        "colab": {
          "base_uri": "https://localhost:8080/"
        },
        "id": "wbUdePXgLBjZ",
        "outputId": "44662040-bc15-4c3f-95b1-4d7c37d2e81d"
      },
      "outputs": [
        {
          "output_type": "stream",
          "name": "stdout",
          "text": [
            "313/313 [==============================] - 2s 4ms/step - loss: 0.6710 - accuracy: 0.9722\n"
          ]
        },
        {
          "output_type": "execute_result",
          "data": {
            "text/plain": [
              "[0.6709599494934082, 0.9721999764442444]"
            ]
          },
          "metadata": {},
          "execution_count": 29
        }
      ],
      "source": [
        "model.evaluate(test_images, test_labels_one_hot)"
      ]
    },
    {
      "cell_type": "markdown",
      "metadata": {
        "id": "f0I7lMjtLBjZ"
      },
      "source": [
        "## 예측하기"
      ]
    },
    {
      "cell_type": "code",
      "execution_count": 30,
      "metadata": {
        "colab": {
          "base_uri": "https://localhost:8080/"
        },
        "id": "0u4uSFeELBja",
        "outputId": "d2703644-5b89-4e69-ee0b-990770408c07"
      },
      "outputs": [
        {
          "output_type": "stream",
          "name": "stdout",
          "text": [
            "1/1 [==============================] - 0s 97ms/step\n"
          ]
        },
        {
          "output_type": "execute_result",
          "data": {
            "text/plain": [
              "array([[0., 0., 0., 0., 0., 0., 0., 1., 0., 0.]], dtype=float32)"
            ]
          },
          "metadata": {},
          "execution_count": 30
        }
      ],
      "source": [
        "model.predict(test_images[0:1])"
      ]
    },
    {
      "cell_type": "code",
      "execution_count": 31,
      "metadata": {
        "colab": {
          "base_uri": "https://localhost:8080/"
        },
        "id": "8snmFzhjLBjd",
        "outputId": "c3117e71-8ca7-4f1a-9f73-44ef81fa3aca"
      },
      "outputs": [
        {
          "output_type": "stream",
          "name": "stdout",
          "text": [
            "1/1 [==============================] - 0s 26ms/step\n"
          ]
        },
        {
          "output_type": "execute_result",
          "data": {
            "text/plain": [
              "array([[0., 0., 0., 0., 0., 0., 0., 1., 0., 0.]], dtype=float32)"
            ]
          },
          "metadata": {},
          "execution_count": 31
        }
      ],
      "source": [
        "import numpy as np\n",
        "np.set_printoptions(suppress=True, precision=10)\n",
        "model.predict(test_images[0:1])"
      ]
    },
    {
      "cell_type": "code",
      "execution_count": 32,
      "metadata": {
        "colab": {
          "base_uri": "https://localhost:8080/"
        },
        "id": "SMrbgd2NLBjd",
        "outputId": "b404792d-4774-47a1-f301-8e0a268a3ea9"
      },
      "outputs": [
        {
          "output_type": "execute_result",
          "data": {
            "text/plain": [
              "7"
            ]
          },
          "metadata": {},
          "execution_count": 32
        }
      ],
      "source": [
        "test_labels[0]"
      ]
    },
    {
      "cell_type": "code",
      "execution_count": 33,
      "metadata": {
        "colab": {
          "base_uri": "https://localhost:8080/"
        },
        "id": "Ph5g3ycALBjd",
        "outputId": "995cdddb-844d-4e67-923c-962144df13aa"
      },
      "outputs": [
        {
          "output_type": "stream",
          "name": "stdout",
          "text": [
            "1/1 [==============================] - 0s 39ms/step\n"
          ]
        },
        {
          "output_type": "execute_result",
          "data": {
            "text/plain": [
              "7"
            ]
          },
          "metadata": {},
          "execution_count": 33
        }
      ],
      "source": [
        "labels = [0, 1, 2, 3, 4, 5, 6, 7, 8, 9]\n",
        "labels[np.argmax(model.predict(test_images[0:1]))]"
      ]
    },
    {
      "cell_type": "code",
      "execution_count": 34,
      "metadata": {
        "colab": {
          "base_uri": "https://localhost:8080/",
          "height": 430
        },
        "id": "IhCoKtA2LBjd",
        "outputId": "20586998-7278-4ea8-afb3-ae5a6dbcc904"
      },
      "outputs": [
        {
          "output_type": "display_data",
          "data": {
            "text/plain": [
              "<Figure size 640x480 with 1 Axes>"
            ],
            "image/png": "[encoded data removed]"
          },
          "metadata": {}
        }
      ],
      "source": [
        "plt.imshow(test_images[0].reshape(28, 28), cmap='gray')\n",
        "plt.show()"
      ]
    },
    {
      "cell_type": "markdown",
      "metadata": {
        "id": "gUKlwPt9LBjd"
      },
      "source": [
        "## Confusion matrix 확인하기"
      ]
    },
    {
      "cell_type": "code",
      "execution_count": 35,
      "metadata": {
        "colab": {
          "base_uri": "https://localhost:8080/"
        },
        "id": "BOjolUAdLBjd",
        "outputId": "a107b4ca-f6ec-4b78-e80f-26fa2cc6ff6b"
      },
      "outputs": [
        {
          "output_type": "stream",
          "name": "stdout",
          "text": [
            "313/313 [==============================] - 1s 3ms/step\n"
          ]
        }
      ],
      "source": [
        "y_preds_prob = model.predict(test_images)"
      ]
    },
    {
      "cell_type": "code",
      "execution_count": 36,
      "metadata": {
        "colab": {
          "base_uri": "https://localhost:8080/"
        },
        "id": "Tr8Uj7eILBjd",
        "outputId": "57e9044e-610f-4707-b7d8-104791ee122b"
      },
      "outputs": [
        {
          "output_type": "execute_result",
          "data": {
            "text/plain": [
              "(10000, 10)"
            ]
          },
          "metadata": {},
          "execution_count": 36
        }
      ],
      "source": [
        "y_preds_prob.shape"
      ]
    },
    {
      "cell_type": "code",
      "execution_count": 37,
      "metadata": {
        "id": "rUrx9Nv2LBjd"
      },
      "outputs": [],
      "source": [
        "y_preds = np.argmax(y_preds_prob, axis=1)"
      ]
    },
    {
      "cell_type": "code",
      "execution_count": 38,
      "metadata": {
        "colab": {
          "base_uri": "https://localhost:8080/"
        },
        "id": "HNAklbKOLBjd",
        "outputId": "9b1db912-10ae-4338-a21e-1945d8b93d09"
      },
      "outputs": [
        {
          "output_type": "execute_result",
          "data": {
            "text/plain": [
              "(10000,)"
            ]
          },
          "metadata": {},
          "execution_count": 38
        }
      ],
      "source": [
        "y_preds.shape"
      ]
    },
    {
      "cell_type": "code",
      "execution_count": 39,
      "metadata": {
        "colab": {
          "base_uri": "https://localhost:8080/"
        },
        "id": "gL3bELgSLBjd",
        "outputId": "a128e23d-c32f-424d-b8b3-64f81dcf9905"
      },
      "outputs": [
        {
          "output_type": "execute_result",
          "data": {
            "text/plain": [
              "array([7, 2, 1, 0, 4, 1, 4, 9, 5, 9])"
            ]
          },
          "metadata": {},
          "execution_count": 39
        }
      ],
      "source": [
        "y_preds[:10]"
      ]
    },
    {
      "cell_type": "code",
      "execution_count": 40,
      "metadata": {
        "id": "NIraK_tELBje"
      },
      "outputs": [],
      "source": [
        "from sklearn.metrics import classification_report, confusion_matrix"
      ]
    },
    {
      "cell_type": "code",
      "execution_count": 41,
      "metadata": {
        "colab": {
          "base_uri": "https://localhost:8080/"
        },
        "id": "mhpbHEWALBje",
        "outputId": "463a1bb2-71a6-4cf6-e3a7-2b3f47577358"
      },
      "outputs": [
        {
          "output_type": "execute_result",
          "data": {
            "text/plain": [
              "array([[ 970,    0,    4,    0,    0,    0,    3,    1,    2,    0],\n",
              "       [   0, 1125,    1,    3,    0,    0,    1,    0,    5,    0],\n",
              "       [   5,    0, 1008,    7,    2,    0,    0,    4,    6,    0],\n",
              "       [   0,    0,    6,  975,    0,    6,    0,    4,   10,    9],\n",
              "       [   0,    2,    5,    0,  960,    0,    1,    2,    2,   10],\n",
              "       [   3,    0,    1,    5,    2,  863,    2,    0,    8,    8],\n",
              "       [   8,    2,    3,    0,    4,    2,  935,    0,    4,    0],\n",
              "       [   3,    6,    9,    2,    5,    1,    0,  969,    7,   26],\n",
              "       [   7,    1,    5,    1,    4,    5,    1,    2,  942,    6],\n",
              "       [   3,    2,    1,    2,   11,    1,    0,    6,    8,  975]])"
            ]
          },
          "metadata": {},
          "execution_count": 41
        }
      ],
      "source": [
        "confusion_matrix(test_labels, y_preds)"
      ]
    },
    {
      "cell_type": "code",
      "execution_count": 42,
      "metadata": {
        "id": "Xv38_rwcLBje",
        "outputId": "ad615b6a-88bc-4cf2-d3ea-cf5c4e7fcc04",
        "colab": {
          "base_uri": "https://localhost:8080/"
        }
      },
      "outputs": [
        {
          "output_type": "stream",
          "name": "stdout",
          "text": [
            "              precision    recall  f1-score   support\n",
            "\n",
            "           0       0.97      0.99      0.98       980\n",
            "           1       0.99      0.99      0.99      1135\n",
            "           2       0.97      0.98      0.97      1032\n",
            "           3       0.98      0.97      0.97      1010\n",
            "           4       0.97      0.98      0.97       982\n",
            "           5       0.98      0.97      0.98       892\n",
            "           6       0.99      0.98      0.98       958\n",
            "           7       0.98      0.94      0.96      1028\n",
            "           8       0.95      0.97      0.96       974\n",
            "           9       0.94      0.97      0.95      1009\n",
            "\n",
            "    accuracy                           0.97     10000\n",
            "   macro avg       0.97      0.97      0.97     10000\n",
            "weighted avg       0.97      0.97      0.97     10000\n",
            "\n"
          ]
        }
      ],
      "source": [
        "print(classification_report(test_labels, y_preds))"
      ]
    },
    {
      "cell_type": "markdown",
      "metadata": {
        "id": "UKlpKGnrLBje"
      },
      "source": [
        "# 비용함수값 확인하기"
      ]
    },
    {
      "cell_type": "code",
      "execution_count": null,
      "metadata": {
        "id": "h0eQjE58LBje"
      },
      "outputs": [],
      "source": [
        "import matplotlib.pyplot as plt"
      ]
    },
    {
      "cell_type": "code",
      "execution_count": 43,
      "metadata": {
        "id": "kXjmVQNULBje",
        "outputId": "517bdf87-ce97-4394-8576-cf397a8f03cb",
        "colab": {
          "base_uri": "https://localhost:8080/",
          "height": 449
        }
      },
      "outputs": [
        {
          "output_type": "display_data",
          "data": {
            "text/plain": [
              "<Figure size 640x480 with 1 Axes>"
            ],
            "image/png": "[encoded data removed]"
          },
          "metadata": {}
        }
      ],
      "source": [
        "plt.plot(history.history['loss'])\n",
        "plt.xlabel('epoch')\n",
        "plt.ylabel('loss')\n",
        "plt.legend(['train'])\n",
        "plt.show()"
      ]
    },
    {
      "cell_type": "markdown",
      "metadata": {
        "id": "ENH6WJXVLBje"
      },
      "source": [
        "# Accuracy 확인하기"
      ]
    },
    {
      "cell_type": "code",
      "execution_count": 44,
      "metadata": {
        "id": "pRuSJPP3LBje",
        "outputId": "4a7d52ea-31a8-4661-a714-e70526cbd8ef",
        "colab": {
          "base_uri": "https://localhost:8080/",
          "height": 449
        }
      },
      "outputs": [
        {
          "output_type": "display_data",
          "data": {
            "text/plain": [
              "<Figure size 640x480 with 1 Axes>"
            ],
            "image/png": "[encoded data removed]"
          },
          "metadata": {}
        }
      ],
      "source": [
        "plt.plot(history.history['accuracy'])\n",
        "plt.xlabel('epoch')\n",
        "plt.ylabel('accuracy')\n",
        "plt.legend(['train'])\n",
        "plt.show()"
      ]
    },
    {
      "cell_type": "markdown",
      "metadata": {
        "id": "VcHzl8D5LBje"
      },
      "source": [
        "##  model 확장"
      ]
    },
    {
      "cell_type": "code",
      "execution_count": 45,
      "metadata": {
        "id": "uXM5Ehn8LBje"
      },
      "outputs": [],
      "source": [
        "model_ext = models.Sequential()\n",
        "model_ext.add(layers.Dense(512, activation = 'relu', input_shape=(28*28,)))\n",
        "model_ext.add(layers.Dense(128, activation = 'relu'))\n",
        "model_ext.add(layers.Dense(10, activation = 'softmax'))"
      ]
    },
    {
      "cell_type": "code",
      "execution_count": 46,
      "metadata": {
        "id": "NTbpu-t0LBje",
        "outputId": "66932355-a990-4ed6-8e58-e0b9aba68022",
        "colab": {
          "base_uri": "https://localhost:8080/"
        }
      },
      "outputs": [
        {
          "output_type": "stream",
          "name": "stdout",
          "text": [
            "Model: \"sequential_1\"\n",
            "_________________________________________________________________\n",
            " Layer (type)                Output Shape              Param #   \n",
            "=================================================================\n",
            " dense_2 (Dense)             (None, 512)               401920    \n",
            "                                                                 \n",
            " dense_3 (Dense)             (None, 128)               65664     \n",
            "                                                                 \n",
            " dense_4 (Dense)             (None, 10)                1290      \n",
            "                                                                 \n",
            "=================================================================\n",
            "Total params: 468874 (1.79 MB)\n",
            "Trainable params: 468874 (1.79 MB)\n",
            "Non-trainable params: 0 (0.00 Byte)\n",
            "_________________________________________________________________\n"
          ]
        }
      ],
      "source": [
        "model_ext.summary()"
      ]
    },
    {
      "cell_type": "code",
      "execution_count": 47,
      "metadata": {
        "id": "P0aW4YaHLBje",
        "colab": {
          "base_uri": "https://localhost:8080/"
        },
        "outputId": "c9a84541-6d50-4f0c-e214-7d542d1dc2c7"
      },
      "outputs": [
        {
          "output_type": "stream",
          "name": "stderr",
          "text": [
            "WARNING:absl:`lr` is deprecated in Keras optimizer, please use `learning_rate` or use the legacy optimizer, e.g.,tf.keras.optimizers.legacy.RMSprop.\n"
          ]
        }
      ],
      "source": [
        "rmsprop = optimizers.RMSprop(lr=0.001)\n",
        "model_ext.compile(optimizer=rmsprop,\n",
        "               loss='categorical_crossentropy',\n",
        "               metrics=['accuracy'])"
      ]
    },
    {
      "cell_type": "code",
      "execution_count": null,
      "metadata": {
        "id": "ercxO76dLBje",
        "outputId": "8d44e1a6-00ba-43b9-d796-88c950a59b36"
      },
      "outputs": [
        {
          "name": "stdout",
          "output_type": "stream",
          "text": [
            "Epoch 1/10\n",
            "469/469 [==============================] - 5s 10ms/step - loss: 0.2324 - accuracy: 0.9298\n",
            "Epoch 2/10\n",
            "469/469 [==============================] - 4s 10ms/step - loss: 0.0881 - accuracy: 0.9732\n",
            "Epoch 3/10\n",
            "469/469 [==============================] - 4s 9ms/step - loss: 0.0587 - accuracy: 0.9816\n",
            "Epoch 4/10\n",
            "469/469 [==============================] - 5s 10ms/step - loss: 0.0430 - accuracy: 0.9863\n",
            "Epoch 5/10\n",
            "469/469 [==============================] - 5s 10ms/step - loss: 0.0308 - accuracy: 0.9903\n",
            "Epoch 6/10\n",
            "469/469 [==============================] - 5s 10ms/step - loss: 0.0227 - accuracy: 0.9924\n",
            "Epoch 7/10\n",
            "469/469 [==============================] - 5s 10ms/step - loss: 0.0178 - accuracy: 0.9942\n",
            "Epoch 8/10\n",
            "469/469 [==============================] - 5s 10ms/step - loss: 0.0138 - accuracy: 0.9955 0s - loss:\n",
            "Epoch 9/10\n",
            "469/469 [==============================] - 4s 9ms/step - loss: 0.0116 - accuracy: 0.9961\n",
            "Epoch 10/10\n",
            "469/469 [==============================] - 5s 10ms/step - loss: 0.0105 - accuracy: 0.9966\n"
          ]
        },
        {
          "data": {
            "text/plain": [
              "<tensorflow.python.keras.callbacks.History at 0x18e185b8eb8>"
            ]
          },
          "execution_count": 29,
          "metadata": {},
          "output_type": "execute_result"
        }
      ],
      "source": [
        "model_ext.fit(train_images, train_labels_one_hot, epochs=10, batch_size=128)"
      ]
    },
    {
      "cell_type": "code",
      "execution_count": null,
      "metadata": {
        "id": "r5gO_uRTLBje",
        "outputId": "3e938db5-b76e-4b73-98fd-d65381ede740"
      },
      "outputs": [
        {
          "name": "stdout",
          "output_type": "stream",
          "text": [
            "313/313 [==============================] - 1s 2ms/step - loss: 0.0889 - accuracy: 0.9817\n"
          ]
        },
        {
          "data": {
            "text/plain": [
              "[0.08893968164920807, 0.9817000031471252]"
            ]
          },
          "execution_count": 30,
          "metadata": {},
          "output_type": "execute_result"
        }
      ],
      "source": [
        "model_ext.evaluate(test_images, test_labels_one_hot)"
      ]
    },
    {
      "cell_type": "code",
      "execution_count": null,
      "metadata": {
        "id": "9lHcqNdELBje"
      },
      "outputs": [],
      "source": []
    },
    {
      "cell_type": "markdown",
      "source": [
        "![image.png](data:image/png;base64,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)"
      ],
      "metadata": {
        "id": "4GRjVdeuPqQc"
      }
    },
    {
      "cell_type": "markdown",
      "source": [],
      "metadata": {
        "id": "LLThPmh8PqFj"
      }
    }
  ],
  "metadata": {
    "kernelspec": {
      "display_name": "Python 3 (ipykernel)",
      "language": "python",
      "name": "python3"
    },
    "language_info": {
      "codemirror_mode": {
        "name": "ipython",
        "version": 3
      },
      "file_extension": ".py",
      "mimetype": "text/x-python",
      "name": "python",
      "nbconvert_exporter": "python",
      "pygments_lexer": "ipython3",
      "version": "3.8.5"
    },
    "colab": {
      "provenance": []
    }
  },
  "nbformat": 4,
  "nbformat_minor": 0
}