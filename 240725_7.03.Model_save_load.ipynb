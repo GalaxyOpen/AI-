{
  "cells": [
    {
      "cell_type": "markdown",
      "metadata": {
        "id": "6zaAjGTUxw9s"
      },
      "source": [
        "**모델 저장과 재사용** \n",
        "\n",
        "책 제목(Title)을 활용하여 책 가격 예측 <--- 회귀 문제\n",
        "FNN\n"
      ]
    },
    {
      "cell_type": "code",
      "execution_count": null,
      "metadata": {
        "id": "8OdZYpk7r1oM"
      },
      "outputs": [],
      "source": [
        "# 한글 깨짐\n",
        "!sudo apt-get install -y fonts-nanum\n",
        "!sudo fc-cache -fv\n",
        "!rm ~/.cache/matplotlib -rf"
      ]
    },
    {
      "cell_type": "code",
      "execution_count": 2,
      "metadata": {
        "id": "sYb-osAIuhib"
      },
      "outputs": [],
      "source": [
        "import pandas as pd\n",
        "import numpy as np\n",
        "import matplotlib.pyplot as plt\n",
        "import seaborn as sns\n",
        "\n",
        "# 데이터 불러오기\n",
        "df_temp = pd.read_csv('/content/book.csv', encoding='euc-kr')\n",
        "# df_1 = pd.read_csv('./book.csv', encoding='euc-kr')\n",
        "\n",
        "# NaN 값과 빈 문자열 제거\n",
        "df_1 = df_temp.dropna(subset=['Title'])\n",
        "df_1 = df_1[df_1['Title'].str.strip() != '']\n",
        "\n",
        "# 한국어 타이틀 레코드만 가져옴\n",
        "df = df_1[df_1['Title'].str.contains('[가-힣]', regex=True)]\n",
        "\n",
        "# 상위 5개 행 확인\n",
        "# print(df.head())\n"
      ]
    },
    {
      "cell_type": "code",
      "execution_count": null,
      "metadata": {
        "colab": {
          "base_uri": "https://localhost:8080/"
        },
        "id": "LVpyAeIHYkDR",
        "outputId": "7e832c6f-9b1c-4c96-80c1-d0222c38560b"
      },
      "outputs": [
        {
          "name": "stdout",
          "output_type": "stream",
          "text": [
            "25082\n",
            "23448\n"
          ]
        }
      ],
      "source": [
        "print(len(df_1))\n",
        "print(len(df))"
      ]
    },
    {
      "cell_type": "code",
      "execution_count": null,
      "metadata": {
        "id": "HTs0UeaJYkDS",
        "outputId": "cdfe46de-ccd2-4e71-9ba5-77d61c6206ce"
      },
      "outputs": [
        {
          "name": "stdout",
          "output_type": "stream",
          "text": [
            "object\n"
          ]
        }
      ],
      "source": [
        "print(df['Price'].dtypes)"
      ]
    },
    {
      "cell_type": "code",
      "execution_count": 3,
      "metadata": {
        "colab": {
          "base_uri": "https://localhost:8080/"
        },
        "id": "BxU8ePm7YkDS",
        "outputId": "a2f731fd-a749-44b9-c0f2-712a3af46709"
      },
      "outputs": [
        {
          "name": "stderr",
          "output_type": "stream",
          "text": [
            "<ipython-input-3-1fae9875f656>:8: SettingWithCopyWarning: \n",
            "A value is trying to be set on a copy of a slice from a DataFrame.\n",
            "Try using .loc[row_indexer,col_indexer] = value instead\n",
            "\n",
            "See the caveats in the documentation: https://pandas.pydata.org/pandas-docs/stable/user_guide/indexing.html#returning-a-view-versus-a-copy\n",
            "  df['Price'] = pd.to_numeric(df['Price'].str.replace('[^\\d.]', ''), errors='coerce')\n",
            "<ipython-input-3-1fae9875f656>:11: SettingWithCopyWarning: \n",
            "A value is trying to be set on a copy of a slice from a DataFrame.\n",
            "Try using .loc[row_indexer,col_indexer] = value instead\n",
            "\n",
            "See the caveats in the documentation: https://pandas.pydata.org/pandas-docs/stable/user_guide/indexing.html#returning-a-view-versus-a-copy\n",
            "  df['Pdate'] = pd.to_datetime(df['Pdate'], format='%Y년 %m월 %d일', errors='coerce')\n"
          ]
        }
      ],
      "source": [
        "# 분석을 위해서 필수적으로 변환 해야 하는 컬럼\n",
        "\n",
        "# 변환 전 데이터 확인\n",
        "# print(df['Pdate'].head())\n",
        "# print(df['Price'].dtypes)\n",
        "\n",
        "# price  object => 수치형\n",
        "df['Price'] = pd.to_numeric(df['Price'].str.replace('[^\\d.]', ''), errors='coerce')\n",
        "\n",
        "# 'Pdate' 컬럼을 날짜 타입으로 변환 (한국어 날짜 형식에 맞춤)\n",
        "df['Pdate'] = pd.to_datetime(df['Pdate'], format='%Y년 %m월 %d일', errors='coerce')\n"
      ]
    },
    {
      "cell_type": "code",
      "execution_count": 4,
      "metadata": {
        "colab": {
          "base_uri": "https://localhost:8080/"
        },
        "id": "cXSHn0F-fG8Y",
        "outputId": "61df6b4c-c67c-4153-c794-f00779b7de45"
      },
      "outputs": [
        {
          "name": "stdout",
          "output_type": "stream",
          "text": [
            "float64\n"
          ]
        }
      ],
      "source": [
        "# 변환 후 데이터 타입 확인\n",
        "# print(df['Pdate'].head())\n",
        "print(df['Price'].dtypes)"
      ]
    },
    {
      "cell_type": "code",
      "execution_count": 5,
      "metadata": {
        "colab": {
          "base_uri": "https://localhost:8080/"
        },
        "id": "fOuMbeO6f1OP",
        "outputId": "32882b6a-8a2d-4151-a6c5-bab5ab4d5339"
      },
      "outputs": [
        {
          "name": "stderr",
          "output_type": "stream",
          "text": [
            "<ipython-input-5-9b67674be015>:2: SettingWithCopyWarning: \n",
            "A value is trying to be set on a copy of a slice from a DataFrame\n",
            "\n",
            "See the caveats in the documentation: https://pandas.pydata.org/pandas-docs/stable/user_guide/indexing.html#returning-a-view-versus-a-copy\n",
            "  df.dropna(subset=['Title', 'Price'], inplace=True)\n"
          ]
        }
      ],
      "source": [
        "# 결측치 제거 (제목과 가격이 있는 행만 유지)\n",
        "df.dropna(subset=['Title', 'Price'], inplace=True)\n"
      ]
    },
    {
      "cell_type": "code",
      "execution_count": null,
      "metadata": {
        "id": "-l3BHG_mnbGP"
      },
      "outputs": [],
      "source": []
    },
    {
      "cell_type": "code",
      "execution_count": 6,
      "metadata": {
        "id": "H23RZ44_tXJD"
      },
      "outputs": [],
      "source": [
        "##################################################################\n",
        "############## FNN\n",
        "##################################################################\n",
        "\n",
        "import pandas as pd\n",
        "from tensorflow.keras.models import Sequential\n",
        "from tensorflow.keras.layers import Dense, Embedding, Flatten\n",
        "from tensorflow.keras.preprocessing.text import Tokenizer\n",
        "from tensorflow.keras.preprocessing.sequence import pad_sequences\n",
        "from sklearn.model_selection import train_test_split\n",
        "\n"
      ]
    },
    {
      "cell_type": "code",
      "execution_count": 7,
      "metadata": {
        "id": "XmWlObL9f4oL"
      },
      "outputs": [],
      "source": [
        "# 데이터셋 분리: 입력과 타겟\n",
        "X = df['Title']\n",
        "y = df['Price'].astype(float)"
      ]
    },
    {
      "cell_type": "code",
      "execution_count": 8,
      "metadata": {
        "id": "Rk-r8GqVfRUt"
      },
      "outputs": [],
      "source": [
        "# 텍스트 토큰화 및 시퀀스 변환\n",
        "tokenizer = Tokenizer()\n",
        "tokenizer.fit_on_texts(X)\n",
        "X_seq = tokenizer.texts_to_sequences(X)\n"
      ]
    },
    {
      "cell_type": "code",
      "execution_count": 9,
      "metadata": {
        "id": "EkPqyrr0fdQ6"
      },
      "outputs": [],
      "source": [
        "# 패딩으로 시퀀스 길이 맞추기\n",
        "X_pad = pad_sequences(X_seq, maxlen=100)\n"
      ]
    },
    {
      "cell_type": "code",
      "execution_count": 10,
      "metadata": {
        "id": "arZLQaG9fbtS"
      },
      "outputs": [],
      "source": [
        "# 훈련 데이터와 테스트 데이터 분리\n",
        "X_train, X_test, y_train, y_test = train_test_split(X_pad, y, test_size=0.2, random_state=42)\n"
      ]
    },
    {
      "cell_type": "code",
      "execution_count": 11,
      "metadata": {
        "id": "BBvfae4mfZ_J"
      },
      "outputs": [],
      "source": [
        "# 모델 구축\n",
        "model_fnn = Sequential()\n",
        "model_fnn.add(Embedding(input_dim=len(tokenizer.word_index)+1, output_dim=128, input_length=100))\n",
        "model_fnn.add(Flatten())\n",
        "model_fnn.add(Dense(64, activation='relu'))\n",
        "model_fnn.add(Dense(1, activation='linear'))\n"
      ]
    },
    {
      "cell_type": "code",
      "execution_count": 16,
      "metadata": {
        "colab": {
          "base_uri": "https://localhost:8080/"
        },
        "id": "podG2Jkw-6OS",
        "outputId": "3f28ff07-5ca3-422b-fe51-e90cf8aba911"
      },
      "outputs": [
        {
          "name": "stdout",
          "output_type": "stream",
          "text": [
            "Model: \"sequential\"\n",
            "_________________________________________________________________\n",
            " Layer (type)                Output Shape              Param #   \n",
            "=================================================================\n",
            " embedding (Embedding)       (None, 100, 128)          116224    \n",
            "                                                                 \n",
            " flatten (Flatten)           (None, 12800)             0         \n",
            "                                                                 \n",
            " dense (Dense)               (None, 64)                819264    \n",
            "                                                                 \n",
            " dense_1 (Dense)             (None, 1)                 65        \n",
            "                                                                 \n",
            "=================================================================\n",
            "Total params: 935553 (3.57 MB)\n",
            "Trainable params: 935553 (3.57 MB)\n",
            "Non-trainable params: 0 (0.00 Byte)\n",
            "_________________________________________________________________\n"
          ]
        }
      ],
      "source": [
        "model_fnn.summary()"
      ]
    },
    {
      "cell_type": "code",
      "execution_count": 12,
      "metadata": {
        "id": "7XOGSaLhfY4A"
      },
      "outputs": [],
      "source": [
        "# 모델 컴파일\n",
        "model_fnn.compile(optimizer='adam', loss='mean_squared_error')\n"
      ]
    },
    {
      "cell_type": "code",
      "execution_count": 13,
      "metadata": {
        "colab": {
          "base_uri": "https://localhost:8080/"
        },
        "id": "o0dUMJXzfXt8",
        "outputId": "f18ef88f-dce6-4c96-f8a6-b38e66d3466b"
      },
      "outputs": [
        {
          "name": "stdout",
          "output_type": "stream",
          "text": [
            "Epoch 1/10\n",
            "11/11 [==============================] - 1s 39ms/step - loss: 446891.5938 - val_loss: 441361.6250\n",
            "Epoch 2/10\n",
            "11/11 [==============================] - 0s 26ms/step - loss: 417540.5000 - val_loss: 400610.7812\n",
            "Epoch 3/10\n",
            "11/11 [==============================] - 0s 25ms/step - loss: 365353.0938 - val_loss: 336108.4062\n",
            "Epoch 4/10\n",
            "11/11 [==============================] - 0s 25ms/step - loss: 291095.5000 - val_loss: 250336.7656\n",
            "Epoch 5/10\n",
            "11/11 [==============================] - 0s 26ms/step - loss: 203409.3281 - val_loss: 162612.6406\n",
            "Epoch 6/10\n",
            "11/11 [==============================] - 0s 23ms/step - loss: 127263.1328 - val_loss: 105476.0703\n",
            "Epoch 7/10\n",
            "11/11 [==============================] - 0s 23ms/step - loss: 93383.4922 - val_loss: 92823.3516\n",
            "Epoch 8/10\n",
            "11/11 [==============================] - 0s 24ms/step - loss: 90362.8438 - val_loss: 93462.9453\n",
            "Epoch 9/10\n",
            "11/11 [==============================] - 0s 23ms/step - loss: 89842.0625 - val_loss: 91394.4219\n",
            "Epoch 10/10\n",
            "11/11 [==============================] - 0s 29ms/step - loss: 87619.5625 - val_loss: 90564.0078\n"
          ]
        },
        {
          "data": {
            "text/plain": [
              "<keras.src.callbacks.History at 0x78ed843f7760>"
            ]
          },
          "execution_count": 13,
          "metadata": {},
          "output_type": "execute_result"
        }
      ],
      "source": [
        "# 모델 훈련\n",
        "model_fnn.fit(X_train, y_train, epochs=10, batch_size=32, validation_split=0.2)\n"
      ]
    },
    {
      "cell_type": "code",
      "execution_count": 14,
      "metadata": {
        "colab": {
          "base_uri": "https://localhost:8080/"
        },
        "id": "_HUlho5tw38Z",
        "outputId": "54db0740-053a-43d5-c4db-4a01578d5fdf"
      },
      "outputs": [
        {
          "name": "stdout",
          "output_type": "stream",
          "text": [
            "Test Loss: 73301.2890625\n",
            "4/4 [==============================] - 0s 5ms/step\n",
            "Mean Squared Error (MSE): 73301.28512980024\n",
            "Root Mean Squared Error (RMSE): 270.74210077082626\n",
            "Mean Absolute Error (MAE): 236.01592351740058\n",
            "R-squared (R²): 0.04946600708498583\n"
          ]
        }
      ],
      "source": [
        "# 예측 및 평가\n",
        "\n",
        "from sklearn.metrics import mean_squared_error, mean_absolute_error, r2_score\n",
        "import numpy as np\n",
        "\n",
        "# 모델 평가: Keras에서 반환하는 손실값\n",
        "loss = model_fnn.evaluate(X_test, y_test, verbose=0)\n",
        "print(f'Test Loss: {loss}')\n",
        "\n",
        "# 예측값 생성\n",
        "y_pred = model_fnn.predict(X_test).flatten()\n",
        "\n",
        "# MSE 계산\n",
        "mse = mean_squared_error(y_test, y_pred)\n",
        "print(f'Mean Squared Error (MSE): {mse}')\n",
        "\n",
        "# RMSE 계산\n",
        "rmse = np.sqrt(mse)\n",
        "print(f'Root Mean Squared Error (RMSE): {rmse}')\n",
        "\n",
        "# MAE 계산\n",
        "mae = mean_absolute_error(y_test, y_pred)\n",
        "print(f'Mean Absolute Error (MAE): {mae}')\n",
        "\n",
        "# R² 계산\n",
        "r2 = r2_score(y_test, y_pred)\n",
        "print(f'R-squared (R²): {r2}')"
      ]
    },
    {
      "cell_type": "code",
      "execution_count": 15,
      "metadata": {
        "colab": {
          "base_uri": "https://localhost:8080/"
        },
        "id": "ZWh4TPgXg4L8",
        "outputId": "2d90b623-7218-4743-d04f-04c75182e2b0"
      },
      "outputs": [
        {
          "name": "stderr",
          "output_type": "stream",
          "text": [
            "/usr/local/lib/python3.10/dist-packages/keras/src/engine/training.py:3103: UserWarning: You are saving your model as an HDF5 file via `model.save()`. This file format is considered legacy. We recommend using instead the native Keras format, e.g. `model.save('my_model.keras')`.\n",
            "  saving_api.save_model(\n"
          ]
        }
      ],
      "source": [
        "##############################  모델 저장\n",
        "model_fnn.save('model_fnn.h5')  # H5 파일 포맷으로 저장"
      ]
    },
    {
      "cell_type": "code",
      "execution_count": 23,
      "metadata": {
        "id": "qTobjuoyhC-L"
      },
      "outputs": [],
      "source": [
        "##############################  모델 불러오기\n",
        "from tensorflow.keras.models import load_model\n",
        "\n",
        "# 저장된 모델 파일 로드\n",
        "model_saved = load_model('model_fnn.h5')"
      ]
    },
    {
      "cell_type": "code",
      "execution_count": 24,
      "metadata": {
        "id": "727r7RcMg4I5"
      },
      "outputs": [],
      "source": [
        "### 불러온 모델을 통한 가격 예측\n",
        "titles = ['실용 여행', '인공지능 가이드 ']  # 새로운 책 제목 입력을 위한 리스트\n",
        "new_data = pd.DataFrame({'title': titles})\n"
      ]
    },
    {
      "cell_type": "code",
      "execution_count": 25,
      "metadata": {
        "id": "Jk-9d1AfjkSa"
      },
      "outputs": [],
      "source": [
        "# 텍스트 토큰화와 시퀀스 변환\n",
        "tokenizer = Tokenizer()\n",
        "tokenizer.fit_on_texts(new_data['title'])  # 'title' 열에 대해 fit_on_texts 실행\n",
        "newX_seq = tokenizer.texts_to_sequences(new_data['title'])  # 'title' 열에 대해 texts_to_sequences 실행\n"
      ]
    },
    {
      "cell_type": "code",
      "execution_count": 26,
      "metadata": {
        "id": "sfsA1u2qjEJK"
      },
      "outputs": [],
      "source": [
        "# 패딩으로 시퀀스 길이 맞추기\n",
        "newX_pad = pad_sequences(newX_seq, maxlen=100)"
      ]
    },
    {
      "cell_type": "code",
      "execution_count": 27,
      "metadata": {
        "colab": {
          "base_uri": "https://localhost:8080/"
        },
        "id": "IYxClrUOifH0",
        "outputId": "087ba742-a08c-43c3-807e-9bc6dd163c10"
      },
      "outputs": [
        {
          "name": "stdout",
          "output_type": "stream",
          "text": [
            "1/1 [==============================] - 0s 63ms/step\n"
          ]
        }
      ],
      "source": [
        "# 호출한 모델을 통한 책 예측\n",
        "predictions = model_saved.predict(newX_pad)\n",
        "\n",
        "# 예측된 책 가격을 출력.\n",
        "# print(predictions)"
      ]
    },
    {
      "cell_type": "code",
      "execution_count": 28,
      "metadata": {
        "colab": {
          "base_uri": "https://localhost:8080/"
        },
        "id": "RA1eCa_SjpR-",
        "outputId": "7feccfaa-afe4-4c73-ae95-1aa26af41b60"
      },
      "outputs": [
        {
          "name": "stdout",
          "output_type": "stream",
          "text": [
            "'실용 여행-' 예측 가격: 608.2285766601562\n",
            "'인공지능 가이드 -' 예측 가격: 607.5814819335938\n"
          ]
        }
      ],
      "source": [
        "# 책 제목과 예측값 출력\n",
        "for title, prediction in zip(titles, predictions):\n",
        "    print(f\"'{title}-' 예측 가격: {prediction[0]}\")"
      ]
    },
    {
      "cell_type": "code",
      "execution_count": null,
      "metadata": {
        "id": "oRVMHL53g4Ff"
      },
      "outputs": [],
      "source": []
    },
    {
      "cell_type": "code",
      "execution_count": 29,
      "metadata": {
        "colab": {
          "base_uri": "https://localhost:8080/"
        },
        "id": "Oqaeax-9PzYC",
        "outputId": "56779e29-0005-4f28-cca7-d7d5c1c40be7"
      },
      "outputs": [
        {
          "name": "stdout",
          "output_type": "stream",
          "text": [
            "model_weights/dense/dense/bias:0\n",
            "model_weights/dense/dense/kernel:0\n",
            "model_weights/dense_1/dense_1/bias:0\n",
            "model_weights/dense_1/dense_1/kernel:0\n",
            "model_weights/embedding/embedding/embeddings:0\n",
            "optimizer_weights/Adam/m/dense/bias:0\n",
            "optimizer_weights/Adam/m/dense/kernel:0\n",
            "optimizer_weights/Adam/m/dense_1/bias:0\n",
            "optimizer_weights/Adam/m/dense_1/kernel:0\n",
            "optimizer_weights/Adam/m/embedding/embeddings:0\n",
            "optimizer_weights/Adam/v/dense/bias:0\n",
            "optimizer_weights/Adam/v/dense/kernel:0\n",
            "optimizer_weights/Adam/v/dense_1/bias:0\n",
            "optimizer_weights/Adam/v/dense_1/kernel:0\n",
            "optimizer_weights/Adam/v/embedding/embeddings:0\n",
            "optimizer_weights/iteration:0\n"
          ]
        }
      ],
      "source": [
        "##################################\n",
        "############ .h5 파일 내용 확인하기\n",
        "##################################\n",
        "import h5py\n",
        "\n",
        "# .h5 파일 열기\n",
        "file = h5py.File('model_fnn.h5', 'r')\n",
        "\n",
        "# 파일 내의 모든 데이터셋과 그룹 확인\n",
        "def print_datasets(name, obj):\n",
        "    if isinstance(obj, h5py.Dataset):\n",
        "        print(name)\n",
        "\n",
        "file.visititems(print_datasets)\n",
        "\n",
        "# 파일 닫기\n",
        "file.close()\n"
      ]
    },
    {
      "cell_type": "code",
      "execution_count": 32,
      "metadata": {
        "colab": {
          "base_uri": "https://localhost:8080/"
        },
        "id": "eZR1mTQpPZB2",
        "outputId": "f4d5ae8f-fa93-4a0a-bead-236967819ab0"
      },
      "outputs": [
        {
          "name": "stdout",
          "output_type": "stream",
          "text": [
            "[[1.2167363e+07 1.0124040e+07 1.0213278e+07 ... 1.1470253e+07\n",
            "  1.0471375e+07 1.1936756e+07]\n",
            " [2.5651761e+02 3.0458826e+02 2.8525351e+02 ... 2.9280621e+02\n",
            "  3.1853583e+02 9.8456650e+01]\n",
            " [8.5085587e+01 7.9904930e+01 8.1240524e+01 ... 8.9840042e+01\n",
            "  8.5998825e+01 5.8294479e+01]\n",
            " ...\n",
            " [6.0301840e-01 4.7128120e-01 5.2602881e-01 ... 3.9549163e-01\n",
            "  5.9750903e-01 5.0909263e-01]\n",
            " [4.9830690e-01 1.0200892e-02 4.5349371e-01 ... 2.2970957e-01\n",
            "  2.5560352e-01 3.3510536e-01]\n",
            " [5.8587688e-01 4.5476824e-01 5.1224381e-01 ... 3.7415284e-01\n",
            "  5.8022040e-01 4.9296391e-01]]\n"
          ]
        }
      ],
      "source": [
        "############# 데이터 셋 내용 확인\n",
        "import h5py\n",
        "# .h5 파일 열기\n",
        "file = h5py.File('model_fnn.h5', 'r')\n",
        "\n",
        "# 데이터셋\n",
        "dataset = file['optimizer_weights/Adam/v/embedding/embeddings:0']\n",
        "\n",
        "# 데이터 읽기\n",
        "data = dataset[:]\n",
        "\n",
        "# 파일 닫기\n",
        "file.close()\n",
        "\n",
        "# 데이터 출력\n",
        "print(data)\n"
      ]
    },
    {
      "cell_type": "code",
      "execution_count": null,
      "metadata": {
        "id": "LVJB5Tk7PYmy"
      },
      "outputs": [],
      "source": []
    },
    {
      "cell_type": "code",
      "execution_count": null,
      "metadata": {
        "id": "oJrHes1ExVwA"
      },
      "outputs": [],
      "source": [
        "################ 추가 훈련"
      ]
    },
    {
      "cell_type": "code",
      "execution_count": null,
      "metadata": {
        "id": "fkwqxLNZg4CU"
      },
      "outputs": [],
      "source": [
        "## 모델 컴파일\n",
        "## cf) model_fnn.compile(optimizer='adam', loss='mean_squared_error')  # Adam 기본 학습률은 0.001\n",
        "from tensorflow.keras.optimizers import Adam\n",
        "optimizer = Adam(learning_rate=0.0001)\n",
        "model_saved.compile(optimizer=optimizer, loss='mean_squared_error', metrics=['mae'])"
      ]
    },
    {
      "cell_type": "code",
      "execution_count": null,
      "metadata": {
        "colab": {
          "base_uri": "https://localhost:8080/"
        },
        "id": "RvZ23abHg38W",
        "outputId": "3839d305-2937-4e04-f9be-7d365ba158c7"
      },
      "outputs": [
        {
          "name": "stdout",
          "output_type": "stream",
          "text": [
            "Epoch 1/20\n",
            "25/25 [==============================] - 2s 26ms/step - loss: 86749.1875 - mae: 257.9280 - val_loss: 94133.8438 - val_mae: 284.2683\n",
            "Epoch 2/20\n",
            "25/25 [==============================] - 0s 15ms/step - loss: 86429.1719 - mae: 257.3846 - val_loss: 93945.7812 - val_mae: 283.9628\n",
            "Epoch 3/20\n",
            "25/25 [==============================] - 0s 15ms/step - loss: 86322.4219 - mae: 257.1810 - val_loss: 93874.9531 - val_mae: 284.0719\n",
            "Epoch 4/20\n",
            "25/25 [==============================] - 0s 14ms/step - loss: 86013.6719 - mae: 256.6174 - val_loss: 93518.7109 - val_mae: 283.2335\n",
            "Epoch 5/20\n",
            "25/25 [==============================] - 0s 15ms/step - loss: 85833.5000 - mae: 256.2556 - val_loss: 93424.5078 - val_mae: 283.2747\n",
            "Epoch 6/20\n",
            "25/25 [==============================] - 0s 19ms/step - loss: 85602.8203 - mae: 255.8440 - val_loss: 93090.3281 - val_mae: 282.5102\n",
            "Epoch 7/20\n",
            "25/25 [==============================] - 1s 28ms/step - loss: 85384.4453 - mae: 255.4218 - val_loss: 93019.2578 - val_mae: 282.6554\n",
            "Epoch 8/20\n",
            "25/25 [==============================] - 1s 20ms/step - loss: 85174.5625 - mae: 254.9918 - val_loss: 92765.5938 - val_mae: 282.1963\n",
            "Epoch 9/20\n",
            "25/25 [==============================] - 1s 22ms/step - loss: 84930.9297 - mae: 254.5243 - val_loss: 92517.0938 - val_mae: 281.7444\n",
            "Epoch 10/20\n",
            "25/25 [==============================] - 1s 23ms/step - loss: 84702.8359 - mae: 254.0262 - val_loss: 92191.8750 - val_mae: 281.0376\n",
            "Epoch 11/20\n",
            "25/25 [==============================] - 1s 25ms/step - loss: 84556.3281 - mae: 253.6698 - val_loss: 91997.0312 - val_mae: 280.8164\n",
            "Epoch 12/20\n",
            "25/25 [==============================] - 1s 20ms/step - loss: 84233.7344 - mae: 253.1683 - val_loss: 91561.1797 - val_mae: 279.6944\n",
            "Epoch 13/20\n",
            "25/25 [==============================] - 0s 20ms/step - loss: 83942.2188 - mae: 252.5341 - val_loss: 91420.8203 - val_mae: 279.6922\n",
            "Epoch 14/20\n",
            "25/25 [==============================] - 1s 20ms/step - loss: 83673.5547 - mae: 252.0495 - val_loss: 91281.6797 - val_mae: 279.6736\n",
            "Epoch 15/20\n",
            "25/25 [==============================] - 1s 21ms/step - loss: 83415.5000 - mae: 251.5565 - val_loss: 91009.6953 - val_mae: 279.1960\n",
            "Epoch 16/20\n",
            "25/25 [==============================] - 0s 19ms/step - loss: 83298.9531 - mae: 251.3476 - val_loss: 90978.8203 - val_mae: 279.4961\n",
            "Epoch 17/20\n",
            "25/25 [==============================] - 0s 17ms/step - loss: 82918.1953 - mae: 250.5138 - val_loss: 90347.0703 - val_mae: 277.8116\n",
            "Epoch 18/20\n",
            "25/25 [==============================] - 0s 15ms/step - loss: 82615.0703 - mae: 250.0064 - val_loss: 90290.9375 - val_mae: 278.1324\n",
            "Epoch 19/20\n",
            "25/25 [==============================] - 0s 15ms/step - loss: 82326.4141 - mae: 249.3391 - val_loss: 89858.4922 - val_mae: 277.1188\n",
            "Epoch 20/20\n",
            "25/25 [==============================] - 0s 15ms/step - loss: 81982.6953 - mae: 248.7454 - val_loss: 89683.9688 - val_mae: 277.0428\n"
          ]
        },
        {
          "data": {
            "text/plain": [
              "<keras.src.callbacks.History at 0x7e19124c0cd0>"
            ]
          },
          "execution_count": 53,
          "metadata": {},
          "output_type": "execute_result"
        }
      ],
      "source": [
        "# 모델 재 훈련\n",
        "# cf )model_fnn.fit(X_train, y_train, epochs=10, batch_size=32, validation_split=0.2)\n",
        "model_saved.fit(X_train, y_train, epochs=20, batch_size=16, validation_split=0.1)\n"
      ]
    },
    {
      "cell_type": "code",
      "execution_count": null,
      "metadata": {
        "colab": {
          "base_uri": "https://localhost:8080/"
        },
        "id": "1Z8m01gWy8CM",
        "outputId": "c8db089e-9360-487c-f17f-297aac87671f"
      },
      "outputs": [
        {
          "name": "stdout",
          "output_type": "stream",
          "text": [
            "Test Loss: [69663.8125, 228.5245361328125]\n",
            "4/4 [==============================] - 0s 5ms/step\n",
            "Mean Squared Error (MSE): 69663.81255061417\n",
            "Root Mean Squared Error (RMSE): 263.9390318816339\n",
            "Mean Absolute Error (MAE): 228.52453946200285\n",
            "R-squared (R²): 0.09663491181414674\n"
          ]
        }
      ],
      "source": [
        "# 재 훈련된 모델 평가\n",
        "\n",
        "from sklearn.metrics import mean_squared_error, mean_absolute_error, r2_score\n",
        "import numpy as np\n",
        "\n",
        "# 모델 평가: Keras에서 반환하는 손실값\n",
        "loss = model_saved.evaluate(X_test, y_test, verbose=0)\n",
        "print(f'Test Loss: {loss}')\n",
        "\n",
        "# 예측값 생성\n",
        "y_pred = model_saved.predict(X_test).flatten()\n",
        "\n",
        "# MSE 계산\n",
        "mse = mean_squared_error(y_test, y_pred)\n",
        "print(f'Mean Squared Error (MSE): {mse}')\n",
        "\n",
        "# RMSE 계산\n",
        "rmse = np.sqrt(mse)\n",
        "print(f'Root Mean Squared Error (RMSE): {rmse}')\n",
        "\n",
        "# MAE 계산\n",
        "mae = mean_absolute_error(y_test, y_pred)\n",
        "print(f'Mean Absolute Error (MAE): {mae}')\n",
        "\n",
        "# R² 계산\n",
        "r2 = r2_score(y_test, y_pred)\n",
        "print(f'R-squared (R²): {r2}')"
      ]
    },
    {
      "cell_type": "markdown",
      "metadata": {
        "id": "KMSbqb6gzKWm"
      },
      "source": [
        "![image.png](data:image/png;base64,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)"
      ]
    },
    {
      "cell_type": "code",
      "execution_count": null,
      "metadata": {
        "id": "-CZactaM0xnC"
      },
      "outputs": [],
      "source": []
    },
    {
      "cell_type": "code",
      "execution_count": null,
      "metadata": {
        "id": "sOX2BY_D0xfq"
      },
      "outputs": [],
      "source": [
        "################# 구조 변경\n",
        "################# 주의 !!!!!!!!!!!!!!! 새로운 모델을 만드는 것...\n",
        "\n",
        "from tensorflow.keras.models import Model\n",
        "from tensorflow.keras.layers import Dense, Input\n",
        "\n",
        "# 기존 모델(model_saved)의 출력 호출\n",
        "e_output = model_saved.output\n",
        "\n",
        "# 새로운 층 추가\n",
        "new_dense_layer = Dense(128, activation='relu')(e_output)\n",
        "new_output_layer = Dense(1, activation='linear')(new_dense_layer)\n",
        "\n",
        "# 새로운 모델 생성\n",
        "new_model = Model(inputs=model_saved.input, outputs=new_output_layer)\n",
        "\n",
        "# 새로운 모델 컴파일\n",
        "new_model.compile(optimizer='adam', loss='mean_squared_error', metrics=['mae'])\n"
      ]
    }
  ],
  "metadata": {
    "colab": {
      "provenance": []
    },
    "kernelspec": {
      "display_name": "Python 3",
      "name": "python3"
    },
    "language_info": {
      "codemirror_mode": {
        "name": "ipython",
        "version": 3
      },
      "file_extension": ".py",
      "mimetype": "text/x-python",
      "name": "python",
      "nbconvert_exporter": "python",
      "pygments_lexer": "ipython3",
      "version": "3.11.5"
    }
  },
  "nbformat": 4,
  "nbformat_minor": 0
}
