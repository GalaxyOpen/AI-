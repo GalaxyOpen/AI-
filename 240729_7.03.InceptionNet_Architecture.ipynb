{
  "nbformat": 4,
  "nbformat_minor": 0,
  "metadata": {
    "colab": {
      "provenance": []
    },
    "kernelspec": {
      "name": "python3",
      "display_name": "Python 3"
    },
    "language_info": {
      "name": "python"
    }
  },
  "cells": [
    {
      "cell_type": "code",
      "source": [
        "from tensorflow.keras.layers import Conv2D, MaxPooling2D, Concatenate, Input\n",
        "from tensorflow.keras.models import Model"
      ],
      "metadata": {
        "id": "w5_k6iXdRvCg"
      },
      "execution_count": null,
      "outputs": []
    },
    {
      "cell_type": "code",
      "source": [
        "def inception_module(input_tensor, filters_1x1, filters_3x3, filters_5x5, filters_pool):\n",
        "    conv_1x1 = Conv2D(filters_1x1, (1, 1), padding='same', activation='relu')(input_tensor)\n",
        "    conv_3x3 = Conv2D(filters_3x3, (3, 3), padding='same', activation='relu')(input_tensor)\n",
        "    conv_5x5 = Conv2D(filters_5x5, (5, 5), padding='same', activation='relu')(input_tensor)\n",
        "    max_pool = MaxPooling2D((3, 3), strides=(1, 1), padding='same')(input_tensor)\n",
        "\n",
        "    output = Concatenate(axis=-1)([conv_1x1, conv_3x3, conv_5x5, max_pool])\n",
        "\n",
        "    return output"
      ],
      "metadata": {
        "id": "Og_AM-3ZSTCj"
      },
      "execution_count": null,
      "outputs": []
    },
    {
      "cell_type": "code",
      "execution_count": null,
      "metadata": {
        "colab": {
          "base_uri": "https://localhost:8080/"
        },
        "id": "zqDFa6L6RqyN",
        "outputId": "7d18df2c-175f-4732-fc52-0264b02b388e"
      },
      "outputs": [
        {
          "output_type": "stream",
          "name": "stdout",
          "text": [
            "Model: \"model\"\n",
            "__________________________________________________________________________________________________\n",
            " Layer (type)                Output Shape                 Param #   Connected to                  \n",
            "==================================================================================================\n",
            " input_1 (InputLayer)        [(None, 224, 224, 3)]        0         []                            \n",
            "                                                                                                  \n",
            " conv2d (Conv2D)             (None, 224, 224, 64)         256       ['input_1[0][0]']             \n",
            "                                                                                                  \n",
            " conv2d_1 (Conv2D)           (None, 224, 224, 128)        3584      ['input_1[0][0]']             \n",
            "                                                                                                  \n",
            " conv2d_2 (Conv2D)           (None, 224, 224, 32)         2432      ['input_1[0][0]']             \n",
            "                                                                                                  \n",
            " max_pooling2d (MaxPooling2  (None, 224, 224, 3)          0         ['input_1[0][0]']             \n",
            " D)                                                                                               \n",
            "                                                                                                  \n",
            " concatenate (Concatenate)   (None, 224, 224, 227)        0         ['conv2d[0][0]',              \n",
            "                                                                     'conv2d_1[0][0]',            \n",
            "                                                                     'conv2d_2[0][0]',            \n",
            "                                                                     'max_pooling2d[0][0]']       \n",
            "                                                                                                  \n",
            "==================================================================================================\n",
            "Total params: 6272 (24.50 KB)\n",
            "Trainable params: 6272 (24.50 KB)\n",
            "Non-trainable params: 0 (0.00 Byte)\n",
            "__________________________________________________________________________________________________\n"
          ]
        }
      ],
      "source": [
        "\n",
        "input_tensor = Input(shape=(224, 224, 3))\n",
        "output_tensor = inception_module(input_tensor, 64, 128, 32, 32)\n",
        "\n",
        "model = Model(inputs=input_tensor, outputs=output_tensor)\n",
        "model.summary()\n"
      ]
    }
  ]
}