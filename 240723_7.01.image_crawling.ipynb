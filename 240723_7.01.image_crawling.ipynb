{
  "nbformat": 4,
  "nbformat_minor": 0,
  "metadata": {
    "colab": {
      "provenance": []
    },
    "kernelspec": {
      "name": "python3",
      "display_name": "Python 3"
    },
    "language_info": {
      "name": "python"
    }
  },
  "cells": [
    {
      "cell_type": "code",
      "execution_count": null,
      "metadata": {
        "id": "dev9xZpR0m9e"
      },
      "outputs": [],
      "source": [
        "import requests\n",
        "from bs4 import BeautifulSoup\n"
      ]
    },
    {
      "cell_type": "code",
      "source": [
        "# 이미지 저장 디렉터리 생성\n",
        "import os\n",
        "os.makedirs('downloaded_images', exist_ok=True)\n"
      ],
      "metadata": {
        "id": "KZbQRh7M0u3n"
      },
      "execution_count": null,
      "outputs": []
    },
    {
      "cell_type": "code",
      "source": [
        "# 위키미디어 공용의 특정 카테고리 URL\n",
        "img_url = 'https://commons.wikimedia.org/wiki/Category:Mountains'\n",
        "# img_url = 'https://commons.wikimedia.org/wiki/Category:Bicycles'\n"
      ],
      "metadata": {
        "id": "oexY27Zu0u0d"
      },
      "execution_count": null,
      "outputs": []
    },
    {
      "cell_type": "code",
      "source": [
        "response = requests.get(img_url)\n",
        "soup = BeautifulSoup(response.text, 'html.parser')\n"
      ],
      "metadata": {
        "id": "ShbBLSFP0ux4"
      },
      "execution_count": null,
      "outputs": []
    },
    {
      "cell_type": "code",
      "source": [
        "########################################################################\n",
        "### Crawling & Labelling\n",
        "### 1. 폴더 구분"
      ],
      "metadata": {
        "id": "szKB7TMiZDDg"
      },
      "execution_count": null,
      "outputs": []
    },
    {
      "cell_type": "code",
      "source": [
        "#### 크롤링을 통한 이미지 수집\n",
        "# 다운로드된 이미지 수\n",
        "downloaded_images = 0\n",
        "\n",
        "for item in soup.find_all('div', class_='gallerytext'):\n",
        "    if downloaded_images >= 10:  # 다운로드 이미지 갯수한정\n",
        "        break\n",
        "\n",
        "    a_tag = item.find('a')\n",
        "    if a_tag:\n",
        "        img_page_url = 'https://commons.wikimedia.org' + a_tag.get('href')\n",
        "\n",
        "        img_page_response = requests.get(img_page_url)\n",
        "        img_page_soup = BeautifulSoup(img_page_response.text, 'html.parser')\n",
        "        img_tag = img_page_soup.find('div', class_='fullImageLink').find('a')\n",
        "        img_url = img_tag.get('href')\n",
        "        print(img_url)\n",
        "        # 파일 확장자 검사\n",
        "        if img_url.lower().endswith(('.png', '.jpg', '.jpeg', '.gif')):\n",
        "            try:\n",
        "                headers = {'User-Agent': 'Mozilla/5.0 (Windows NT 10.0; Win64; x64) AppleWebKit/537.36 (KHTML, like Gecko) Chrome/58.0.3029.110 Safari/537.3'}\n",
        "                  # (일부)웹 서버에서 User-Agent 헤더를 검사, 브라우저가 아닌 클라이언트의 요청 차단\n",
        "                  # requests.get() 함수에 웹 브라우저의 User-Agent 값을 포함하는 헤더를 추가하여 다운로드 시도\n",
        "                img_data = requests.get(img_url, headers=headers).content\n",
        "\n",
        "                # Colab 루트 디렉토리에 'downloaded_images' 폴더를 생성하고 이미지 저장\n",
        "                # filename = os.path.join('/content/downloaded_images', img_url.split('/')[-1])\n",
        "                filename = '/content/m/'+img_url.split('/')[-1]\n",
        "\n",
        "                with open(filename, 'wb') as f:\n",
        "                    f.write(img_data)\n",
        "                print(f'이미지가 저장되었습니다: {filename}')\n",
        "                downloaded_images += 1\n",
        "            except Exception as e:\n",
        "                print(f\"이미지 다운로드 중 오류 발생: {e}\")\n",
        "        else:\n",
        "            print(f'지원되지 않는 파일 형식: {img_url}')"
      ],
      "metadata": {
        "id": "DrhB7lrF0uu1",
        "colab": {
          "base_uri": "https://localhost:8080/"
        },
        "outputId": "738ec56e-9d0c-46f3-8daf-000e1d0e709f"
      },
      "execution_count": null,
      "outputs": [
        {
          "output_type": "stream",
          "name": "stdout",
          "text": [
            "https://upload.wikimedia.org/wikipedia/commons/b/b9/1_A_weeny_window.jpg\n",
            "이미지가 저장되었습니다: /content/m/1_A_weeny_window.jpg\n"
          ]
        }
      ]
    },
    {
      "cell_type": "markdown",
      "source": [],
      "metadata": {
        "id": "1lke-IZq8RjI"
      }
    },
    {
      "cell_type": "code",
      "source": [
        "########################################################################\n",
        "### Crawling & Labelling\n",
        "### 2. 파일명에 라벨 포함\n",
        "\n",
        "# filename = f'{category_prefix}_{downloaded_images+1}{file_extension}'"
      ],
      "metadata": {
        "id": "yrCUaqAF0ur5"
      },
      "execution_count": null,
      "outputs": []
    },
    {
      "cell_type": "code",
      "source": [
        "# 이미지 저장 함수\n",
        "def download_images1(url, category_prefix):\n",
        "    # 이미지를 저장할 디렉터리 생성\n",
        "    # os.makedirs('downloaded_images/s', exist_ok=True)\n",
        "\n",
        "    response = requests.get(url)\n",
        "    soup = BeautifulSoup(response.text, 'html.parser')\n",
        "\n",
        "    # 다운로드된 이미지 수\n",
        "    downloaded_images = 0\n",
        "\n",
        "    for item in soup.find_all('div', class_='gallerytext'):\n",
        "        if downloaded_images >= 5:\n",
        "            break\n",
        "\n",
        "        a_tag = item.find('a')\n",
        "        if a_tag:\n",
        "            img_page_url = 'https://commons.wikimedia.org' + a_tag.get('href')\n",
        "\n",
        "            img_page_response = requests.get(img_page_url)\n",
        "            img_page_soup = BeautifulSoup(img_page_response.text, 'html.parser')\n",
        "            img_tag = img_page_soup.find('div', class_='fullImageLink').find('a')\n",
        "            img_url = img_tag.get('href')\n",
        "            # print(img_url)\n",
        "\n",
        "            # 파일 확장자 검사 및 파일 이름 생성\n",
        "            # file_extension = os.path.splitext(img_url)[1]\n",
        "            file_extension = img_url.split('.')[-1]\n",
        "            # print(file_extension.lower())\n",
        "\n",
        "            filename = f'{category_prefix}_{downloaded_images+1}{file_extension}'\n",
        "            # filepath = os.path.join('downloaded_images/s', filename)\n",
        "            filepath = filename\n",
        "\n",
        "            if file_extension.lower() in ('png', 'jpg', 'jpeg', 'gif'):\n",
        "                try:\n",
        "                    headers = {'User-Agent': 'Mozilla/5.0 (Windows NT 10.0; Win64; x64) AppleWebKit/537.36 (KHTML, like Gecko) Chrome/58.0.3029.110 Safari/537.3'}\n",
        "                    img_data = requests.get(img_url, headers=headers).content\n",
        "                    with open(filepath, 'wb') as f:\n",
        "                        f.write(img_data)\n",
        "                    print(f'이미지가 저장되었습니다: {filepath}')\n",
        "                    downloaded_images += 1\n",
        "                except Exception as e:\n",
        "                    print(f\"이미지 다운로드 중 오류 발생: {e}\")\n",
        "            else:\n",
        "                print(f'지원되지 않는 파일 형식: {img_url}')"
      ],
      "metadata": {
        "id": "MKhZKcLn8EQ1"
      },
      "execution_count": null,
      "outputs": []
    },
    {
      "cell_type": "code",
      "source": [
        "url_m = 'https://commons.wikimedia.org/wiki/Category:Mountains'\n",
        "url_b = 'https://commons.wikimedia.org/wiki/Category:Automobiles'\n",
        "\n",
        "download_images1(url_m, 'm')  # 산 이미지에 'm' 접두사 추가\n",
        "download_images1(url_b, 'b')  # 자전거 이미지에 'b' 접두사 추가"
      ],
      "metadata": {
        "id": "1v1kvePS8IKb"
      },
      "execution_count": null,
      "outputs": []
    },
    {
      "cell_type": "code",
      "source": [
        "########################################################################\n",
        "### Crawling & Labelling\n",
        "### 3. 라벨 파일을 별도로 작업 -> index로 매칭\n",
        "\n",
        "# filename = f'{category_prefix}_{downloaded_images+1}{file_extension}'"
      ],
      "metadata": {
        "id": "MefRxmJxAMGk"
      },
      "execution_count": null,
      "outputs": []
    },
    {
      "cell_type": "code",
      "source": [
        "import requests\n",
        "from bs4 import BeautifulSoup\n",
        "import os\n",
        "import csv\n"
      ],
      "metadata": {
        "id": "3pup0id1AyQx"
      },
      "execution_count": null,
      "outputs": []
    },
    {
      "cell_type": "code",
      "source": [
        "# 이미지 저장 함수\n",
        "def download_images3(url, category_prefix):\n",
        "\n",
        "    # 클래스 정보가 포함된 CSV 파일 생성\n",
        "    with open('image_labels.b.csv', 'w', newline='', encoding='utf-8') as file:\n",
        "        writer = csv.writer(file)\n",
        "        writer.writerow(['image_name', 'class'])  # CSV 파일 헤더\n",
        "\n",
        "        response = requests.get(url)\n",
        "        soup = BeautifulSoup(response.text, 'html.parser')\n",
        "\n",
        "        # 다운로드된 이미지 수\n",
        "        downloaded_images = 0\n",
        "\n",
        "        for item in soup.find_all('div', class_='gallerytext'):\n",
        "            if downloaded_images >= 10:\n",
        "                break\n",
        "\n",
        "            a_tag = item.find('a')\n",
        "            if a_tag:\n",
        "                img_page_url = 'https://commons.wikimedia.org' + a_tag.get('href')\n",
        "                img_page_response = requests.get(img_page_url)\n",
        "                img_page_soup = BeautifulSoup(img_page_response.text, 'html.parser')\n",
        "                img_tag = img_page_soup.find('div', class_='fullImageLink').find('a')\n",
        "                img_url = img_tag.get('href')\n",
        "\n",
        "                # 파일 확장자 검사 및 파일 이름 생성\n",
        "                file_extension = img_url.split('.')[-1]\n",
        "                filename = f'{category_prefix}_{downloaded_images+1}{file_extension}'\n",
        "                # filepath = '/content/aaa/'+filename\n",
        "                filepath = filename\n",
        "\n",
        "                # HEAD 요청을 보내어 파일 사이즈 확인\n",
        "                head_response = requests.head(img_url)\n",
        "                size_bytes = int(head_response.headers.get('content-length', 0))\n",
        "\n",
        "                # 파일 사이즈가 max_size_bytes 이하인 경우에만 다운로드\n",
        "                max_size_bytes = 100000\n",
        "                if size_bytes <= max_size_bytes:\n",
        "                    if file_extension.lower() in ('jpg'): # ('.png', '.jpg', '.jpeg', '.gif'):\n",
        "                        try:\n",
        "                            headers = {\n",
        "                                'User-Agent': 'Mozilla/5.0 (Windows NT 10.0; Win64; x64) AppleWebKit/537.36 (KHTML, like Gecko) Chrome/58.0.3029.110 Safari/537.3'\n",
        "                            }\n",
        "                            print(size_bytes)\n",
        "                            img_data = requests.get(img_url, headers=headers).content\n",
        "                            with open(filepath, 'wb') as f:\n",
        "                                f.write(img_data)\n",
        "                            print(f'이미지가 저장되었습니다: {filepath}')\n",
        "                            downloaded_images += 1\n",
        "\n",
        "                            # 이미지 이름과 클래스 정보를 CSV 파일에 기록\n",
        "                            writer.writerow([filename, category_prefix])\n",
        "                        except Exception as e:\n",
        "                            print(f\"이미지 다운로드 중 오류 발생: {e}\")\n",
        "                    else:\n",
        "                        print(f'지원되지 않는 파일 형식: {img_url}')\n",
        "                else:\n",
        "                    print(f'파일이 너무 큽니다 (사이즈: {size_bytes} 바이트)')"
      ],
      "metadata": {
        "id": "uLy4KByKAMqa"
      },
      "execution_count": null,
      "outputs": []
    },
    {
      "cell_type": "code",
      "source": [
        "url_b = 'https://commons.wikimedia.org/wiki/Category:Bicycles'\n",
        "download_images3(url_b, 'b')  # 자전거 이미지에 'b' 접두사 추가\n"
      ],
      "metadata": {
        "colab": {
          "base_uri": "https://localhost:8080/"
        },
        "id": "pnWIk4PFAnNL",
        "outputId": "e6b77c7c-936d-4f51-f312-a550a22b3f1d"
      },
      "execution_count": null,
      "outputs": [
        {
          "output_type": "stream",
          "name": "stdout",
          "text": [
            "1905\n",
            "이미지가 저장되었습니다: b_1jpg\n",
            "1905\n",
            "이미지가 저장되었습니다: b_2jpg\n",
            "1905\n",
            "이미지가 저장되었습니다: b_3jpg\n",
            "1905\n",
            "이미지가 저장되었습니다: b_4jpg\n",
            "1905\n",
            "이미지가 저장되었습니다: b_5jpg\n",
            "1905\n",
            "이미지가 저장되었습니다: b_6jpg\n",
            "1905\n",
            "이미지가 저장되었습니다: b_7jpg\n",
            "1905\n",
            "이미지가 저장되었습니다: b_8jpg\n",
            "1905\n",
            "이미지가 저장되었습니다: b_9jpg\n",
            "1905\n",
            "이미지가 저장되었습니다: b_10jpg\n"
          ]
        }
      ]
    }
  ]
}