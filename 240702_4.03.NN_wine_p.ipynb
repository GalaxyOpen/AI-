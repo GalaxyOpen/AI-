{
  "cells": [
    {
      "cell_type": "markdown",
      "metadata": {
        "id": "fXiq6aP_v27l"
      },
      "source": [
        "wine 품질(quality) 예측"
      ]
    },
    {
      "cell_type": "code",
      "execution_count": null,
      "metadata": {
        "id": "PMzX-4FEu6IT"
      },
      "outputs": [],
      "source": [
        "import numpy as np\n",
        "import pandas as pd\n",
        "import plotly.express as px\n",
        "\n",
        "df_white = pd.read_csv('https://archive.ics.uci.edu/ml/machine-learning-databases\\/wine-quality/winequality-white.csv', sep=';')\n",
        "df_red = pd.read_csv('https://archive.ics.uci.edu/ml/machine-learning-databases\\/wine-quality/winequality-red.csv', sep=';')\n",
        "df_wine_predic = pd.concat([df_white, df_red])\n",
        "\n",
        "# px.histogram(df_wine_predic.quality)\n",
        "# df_wine_predic.head()"
      ]
    },
    {
      "cell_type": "code",
      "execution_count": null,
      "metadata": {
        "id": "IyqYVxrWvJM3"
      },
      "outputs": [],
      "source": [
        "import matplotlib.pyplot as plt\n",
        "import seaborn as sns\n",
        "\n",
        "# ax = sns.heatmap(df_wine_predic.corr(), annot=True, annot_kws={'size':6})\n",
        "# plt.show()"
      ]
    },
    {
      "cell_type": "code",
      "execution_count": null,
      "metadata": {
        "id": "kW2PXIf4vPE0"
      },
      "outputs": [],
      "source": [
        "from sklearn.model_selection import train_test_split\n",
        "\n",
        "df_wine_predic.columns = df_wine_predic.columns.str.replace(' ', '_')\n",
        "train, test = train_test_split(df_wine_predic, test_size=0.3, random_state=0,stratify=df_wine_predic['quality'])\n",
        "\n",
        "train_X = train[train.columns[:11]]\n",
        "train_Y = train[train.columns[11:]]\n",
        "test_X = test[test.columns[:11]]\n",
        "test_Y = test[test.columns[11:]]\n",
        "\n",
        "# train_Y"
      ]
    },
    {
      "cell_type": "code",
      "execution_count": 6,
      "metadata": {
        "id": "g8Z0xETxvFmo"
      },
      "outputs": [],
      "source": [
        "########### 인공 신경망 외에 다른 모델로 예측 모델링 진행해 보세요."
      ]
    },
    {
      "cell_type": "code",
      "execution_count": null,
      "metadata": {
        "id": "9vSM5QHWwrXF"
      },
      "outputs": [],
      "source": [
        "# 랜덤 포레스트\n",
        "from sklearn.ensemble import RandomForestClassifier\n",
        "\n",
        "model = RandomForestClassifier(n_estimators=100)\n",
        "model.fit(train_X, train_Y)\n",
        "pred_RF = model.predict(test_X)\n",
        "print('랜덤 포레스트 알고리즘 예측 정확도:', metrics.accuracy_score(pred_RF, test_Y))"
      ]
    },
    {
      "cell_type": "code",
      "execution_count": null,
      "metadata": {
        "id": "OThanAZazSBV"
      },
      "outputs": [],
      "source": []
    },
    {
      "cell_type": "code",
      "execution_count": null,
      "metadata": {
        "id": "ZlqwqkXqzSFL"
      },
      "outputs": [],
      "source": []
    },
    {
      "cell_type": "code",
      "execution_count": null,
      "metadata": {
        "id": "vpb464dWzSI0"
      },
      "outputs": [],
      "source": []
    },
    {
      "cell_type": "markdown",
      "metadata": {
        "id": "VZhQ7W-_w1M2"
      },
      "source": [
        "############ 인공 신경망<br><br>\n",
        "데이터 준비: 와인 데이터셋을 불러옴. 전처리 수행 <br>\n",
        "모델 정의: 다중 클래스 분류를 위한 인공 신경망 모델 정의<br>\n",
        "손실 함수와 최적화 알고리즘 선택: 다중 클래스 분류에 적합한 손실 함수와 최적화 알고리즘 선택 <br>\n",
        "모델 학습: 학습 데이터를 사용하여 모델 학습 <br>\n",
        "모델 평가: 테스트 데이터를 사용하여 모델 평가 <br>"
      ]
    },
    {
      "cell_type": "code",
      "execution_count": 15,
      "metadata": {
        "id": "CtwA8fpHw0aV"
      },
      "outputs": [],
      "source": [
        "import torch\n",
        "import torch.nn as nn\n",
        "import torch.optim as optim\n",
        "from sklearn.model_selection import train_test_split\n",
        "from sklearn.preprocessing import StandardScaler\n",
        "from torch.utils.data import DataLoader, TensorDataset\n",
        "\n",
        "# 데이터 준비\n",
        "X = df_wine_predic.drop('quality', axis=1).values\n",
        "y = df_wine_predic['quality'].values\n",
        "\n",
        "# 데이터 표준화\n",
        "scaler = StandardScaler()\n",
        "X_scaled = scaler.fit_transform(X)\n"
      ]
    },
    {
      "cell_type": "code",
      "execution_count": null,
      "metadata": {
        "id": "J1EVRjY4yZkA"
      },
      "outputs": [],
      "source": [
        "# 학습 데이터와 테스트 데이터 분리\n",
        "\n",
        "\n",
        "# PyTorch 텐서로 변환\n",
        "\n",
        "\n",
        "# DataLoader 생성\n"
      ]
    },
    {
      "cell_type": "code",
      "execution_count": null,
      "metadata": {
        "id": "-CVW5xOxyVn9"
      },
      "outputs": [],
      "source": [
        "# 모델 정의\n",
        "class WineQualityNet(nn.Module):\n",
        "    def __init__(self):\n",
        "\n",
        "\n",
        "    def forward(self, x):\n",
        "\n",
        "\n",
        "# 모델 인스턴스 생성\n",
        "\n",
        "\n",
        "# 손실 함수와 최적화 알고리즘 선택\n"
      ]
    },
    {
      "cell_type": "code",
      "execution_count": null,
      "metadata": {
        "id": "IpgSNxniycdh"
      },
      "outputs": [],
      "source": [
        "# 모델 학습\n",
        "for epoch in range(100):\n"
      ]
    },
    {
      "cell_type": "code",
      "execution_count": null,
      "metadata": {
        "id": "3yco8BcqyJqf"
      },
      "outputs": [],
      "source": [
        "# 모델 평가\n",
        "model.eval()  # 모델을 평가 모드로 설정\n",
        "\n"
      ]
    }
  ],
  "metadata": {
    "colab": {
      "provenance": []
    },
    "kernelspec": {
      "display_name": "Python 3",
      "name": "python3"
    },
    "language_info": {
      "name": "python"
    }
  },
  "nbformat": 4,
  "nbformat_minor": 0
}
